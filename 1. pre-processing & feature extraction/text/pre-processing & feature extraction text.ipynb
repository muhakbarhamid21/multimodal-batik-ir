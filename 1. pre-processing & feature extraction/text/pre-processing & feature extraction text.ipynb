{
 "cells": [
  {
   "cell_type": "markdown",
   "metadata": {},
   "source": [
    "# Import Library & Download Resource"
   ]
  },
  {
   "cell_type": "code",
   "execution_count": 83,
   "metadata": {},
   "outputs": [],
   "source": [
    "import pandas as pd\n",
    "import nltk\n",
    "import re\n",
    "import torch\n",
    "import torch.nn as nn\n",
    "import numpy as np\n",
    "import matplotlib.pyplot as plt\n",
    "import ast\n",
    "import seaborn as sns\n",
    "import plotly.express as px"
   ]
  },
  {
   "cell_type": "code",
   "execution_count": 2,
   "metadata": {},
   "outputs": [
    {
     "name": "stderr",
     "output_type": "stream",
     "text": [
      "[nltk_data] Downloading package punkt to\n",
      "[nltk_data]     /Users/muhakbarhamid21/nltk_data...\n",
      "[nltk_data]   Package punkt is already up-to-date!\n",
      "[nltk_data] Downloading package stopwords to\n",
      "[nltk_data]     /Users/muhakbarhamid21/nltk_data...\n",
      "[nltk_data]   Package stopwords is already up-to-date!\n",
      "[nltk_data] Downloading package wordnet to\n",
      "[nltk_data]     /Users/muhakbarhamid21/nltk_data...\n",
      "[nltk_data]   Package wordnet is already up-to-date!\n"
     ]
    },
    {
     "data": {
      "text/plain": [
       "True"
      ]
     },
     "execution_count": 2,
     "metadata": {},
     "output_type": "execute_result"
    }
   ],
   "source": [
    "nltk.download('punkt')\n",
    "nltk.download('stopwords')\n",
    "nltk.download('wordnet')"
   ]
  },
  {
   "cell_type": "code",
   "execution_count": 3,
   "metadata": {},
   "outputs": [],
   "source": [
    "from nltk.tokenize import word_tokenize\n",
    "from nltk.corpus import stopwords\n",
    "from nltk.stem import WordNetLemmatizer\n",
    "from transformers import AutoTokenizer, AutoModel\n",
    "from sklearn.decomposition import PCA"
   ]
  },
  {
   "cell_type": "markdown",
   "metadata": {},
   "source": [
    "# Import Dataset Text"
   ]
  },
  {
   "cell_type": "code",
   "execution_count": 4,
   "metadata": {},
   "outputs": [],
   "source": [
    "df = pd.read_csv('../../datasets/final-data/data_text_batik.csv')"
   ]
  },
  {
   "cell_type": "code",
   "execution_count": 5,
   "metadata": {},
   "outputs": [
    {
     "data": {
      "text/plain": [
       "'Batik Megamendung memiliki motif awan bergradasi dengan warna biru, putih, atau merah. Melambangkan kesejukan dan ketenangan, batik ini merupakan warisan budaya dari Cirebon, Jawa Barat.'"
      ]
     },
     "execution_count": 5,
     "metadata": {},
     "output_type": "execute_result"
    }
   ],
   "source": [
    "df.iloc[11]['Deskripsi']"
   ]
  },
  {
   "cell_type": "code",
   "execution_count": 6,
   "metadata": {},
   "outputs": [
    {
     "data": {
      "text/html": [
       "<div>\n",
       "<style scoped>\n",
       "    .dataframe tbody tr th:only-of-type {\n",
       "        vertical-align: middle;\n",
       "    }\n",
       "\n",
       "    .dataframe tbody tr th {\n",
       "        vertical-align: top;\n",
       "    }\n",
       "\n",
       "    .dataframe thead th {\n",
       "        text-align: right;\n",
       "    }\n",
       "</style>\n",
       "<table border=\"1\" class=\"dataframe\">\n",
       "  <thead>\n",
       "    <tr style=\"text-align: right;\">\n",
       "      <th></th>\n",
       "      <th>Nama</th>\n",
       "      <th>Deskripsi</th>\n",
       "      <th>Path Folder</th>\n",
       "      <th>Path Gambar</th>\n",
       "    </tr>\n",
       "  </thead>\n",
       "  <tbody>\n",
       "    <tr>\n",
       "      <th>0</th>\n",
       "      <td>Batik Bali</td>\n",
       "      <td>Batik Bali memiliki motif rumit yang terinspir...</td>\n",
       "      <td>batik-bali</td>\n",
       "      <td>batik-bali.jpg</td>\n",
       "    </tr>\n",
       "    <tr>\n",
       "      <th>1</th>\n",
       "      <td>Batik Betawi</td>\n",
       "      <td>Batik Betawi memiliki motif geometris sederhan...</td>\n",
       "      <td>batik-betawi</td>\n",
       "      <td>batik-betawi.jpg</td>\n",
       "    </tr>\n",
       "    <tr>\n",
       "      <th>2</th>\n",
       "      <td>Batik Celup</td>\n",
       "      <td>Batik Celup memiliki pola abstrak dengan grada...</td>\n",
       "      <td>batik-celup</td>\n",
       "      <td>batik-celup.jpg</td>\n",
       "    </tr>\n",
       "    <tr>\n",
       "      <th>3</th>\n",
       "      <td>Batik Cendrawasih</td>\n",
       "      <td>Batik Cendrawasih menampilkan motif burung cen...</td>\n",
       "      <td>batik-cendrawasih</td>\n",
       "      <td>batik-cendrawasih.jpg</td>\n",
       "    </tr>\n",
       "    <tr>\n",
       "      <th>4</th>\n",
       "      <td>Batik Ceplok</td>\n",
       "      <td>Batik Ceplok memiliki pola geometris berulang ...</td>\n",
       "      <td>batik-ceplok</td>\n",
       "      <td>batik-ceplok.jpg</td>\n",
       "    </tr>\n",
       "    <tr>\n",
       "      <th>5</th>\n",
       "      <td>Batik Ciamis</td>\n",
       "      <td>Batik Ciamis memiliki motif sederhana dengan p...</td>\n",
       "      <td>batik-ciamis</td>\n",
       "      <td>batik-ciamis.jpg</td>\n",
       "    </tr>\n",
       "    <tr>\n",
       "      <th>6</th>\n",
       "      <td>Batik Garutan</td>\n",
       "      <td>Batik Garutan memiliki motif bunga, daun, atau...</td>\n",
       "      <td>batik-garutan</td>\n",
       "      <td>batik-garutan.jpg</td>\n",
       "    </tr>\n",
       "    <tr>\n",
       "      <th>7</th>\n",
       "      <td>Batik Gentongan</td>\n",
       "      <td>Batik Gentongan memiliki motif bunga besar den...</td>\n",
       "      <td>batik-gentongan</td>\n",
       "      <td>batik-gentongan.jpg</td>\n",
       "    </tr>\n",
       "    <tr>\n",
       "      <th>8</th>\n",
       "      <td>Batik Kawung</td>\n",
       "      <td>Batik Kawung memiliki motif lingkaran geometri...</td>\n",
       "      <td>batik-kawung</td>\n",
       "      <td>batik-kawung.jpg</td>\n",
       "    </tr>\n",
       "    <tr>\n",
       "      <th>9</th>\n",
       "      <td>Batik Keraton</td>\n",
       "      <td>Batik Keraton memiliki motif klasik seperti Pa...</td>\n",
       "      <td>batik-keraton</td>\n",
       "      <td>batik-keraton.jpg</td>\n",
       "    </tr>\n",
       "    <tr>\n",
       "      <th>10</th>\n",
       "      <td>Batik Lasem</td>\n",
       "      <td>Batik Lasem didominasi warna merah cerah khas ...</td>\n",
       "      <td>batik-lasem</td>\n",
       "      <td>batik-lasem.jpg</td>\n",
       "    </tr>\n",
       "    <tr>\n",
       "      <th>11</th>\n",
       "      <td>Batik Megamendung</td>\n",
       "      <td>Batik Megamendung memiliki motif awan bergrada...</td>\n",
       "      <td>batik-megamendung</td>\n",
       "      <td>batik-megamendung.jpg</td>\n",
       "    </tr>\n",
       "    <tr>\n",
       "      <th>12</th>\n",
       "      <td>Batik Parang</td>\n",
       "      <td>Batik Parang memiliki motif garis melengkung m...</td>\n",
       "      <td>batik-parang</td>\n",
       "      <td>batik-parang.jpg</td>\n",
       "    </tr>\n",
       "    <tr>\n",
       "      <th>13</th>\n",
       "      <td>Batik Pekalongan</td>\n",
       "      <td>Batik Pekalongan memiliki pola flora dan fauna...</td>\n",
       "      <td>batik-pekalongan</td>\n",
       "      <td>batik-pekalongan.jpg</td>\n",
       "    </tr>\n",
       "    <tr>\n",
       "      <th>14</th>\n",
       "      <td>Batik Priangan</td>\n",
       "      <td>Batik Priangan memiliki pola bunga kecil dan d...</td>\n",
       "      <td>batik-priangan</td>\n",
       "      <td>batik-priangan.jpg</td>\n",
       "    </tr>\n",
       "    <tr>\n",
       "      <th>15</th>\n",
       "      <td>Batik Sekar</td>\n",
       "      <td>Batik Sekar memiliki pola bunga yang indah dan...</td>\n",
       "      <td>batik-sekar</td>\n",
       "      <td>batik-sekar.jpg</td>\n",
       "    </tr>\n",
       "    <tr>\n",
       "      <th>16</th>\n",
       "      <td>Batik Sidoluhur</td>\n",
       "      <td>Batik Sidoluhur memiliki motif klasik dengan p...</td>\n",
       "      <td>batik-sidoluhur</td>\n",
       "      <td>batik-sidoluhur.jpg</td>\n",
       "    </tr>\n",
       "    <tr>\n",
       "      <th>17</th>\n",
       "      <td>Batik Sidomukti</td>\n",
       "      <td>Batik Sidomukti memiliki pola bunga dan geomet...</td>\n",
       "      <td>batik-sidomukti</td>\n",
       "      <td>batik-sidomukti.jpg</td>\n",
       "    </tr>\n",
       "    <tr>\n",
       "      <th>18</th>\n",
       "      <td>Batik Sogan</td>\n",
       "      <td>Batik Sogan memiliki pola klasik dengan warna ...</td>\n",
       "      <td>batik-sogan</td>\n",
       "      <td>batik-sogan.jpg</td>\n",
       "    </tr>\n",
       "    <tr>\n",
       "      <th>19</th>\n",
       "      <td>Batik Tambal</td>\n",
       "      <td>Batik Tambal memiliki pola tambalan kecil-keci...</td>\n",
       "      <td>batik-tambal</td>\n",
       "      <td>batik-tambal.jpg</td>\n",
       "    </tr>\n",
       "  </tbody>\n",
       "</table>\n",
       "</div>"
      ],
      "text/plain": [
       "                 Nama                                          Deskripsi  \\\n",
       "0          Batik Bali  Batik Bali memiliki motif rumit yang terinspir...   \n",
       "1        Batik Betawi  Batik Betawi memiliki motif geometris sederhan...   \n",
       "2         Batik Celup  Batik Celup memiliki pola abstrak dengan grada...   \n",
       "3   Batik Cendrawasih  Batik Cendrawasih menampilkan motif burung cen...   \n",
       "4        Batik Ceplok  Batik Ceplok memiliki pola geometris berulang ...   \n",
       "5        Batik Ciamis  Batik Ciamis memiliki motif sederhana dengan p...   \n",
       "6       Batik Garutan  Batik Garutan memiliki motif bunga, daun, atau...   \n",
       "7     Batik Gentongan  Batik Gentongan memiliki motif bunga besar den...   \n",
       "8        Batik Kawung  Batik Kawung memiliki motif lingkaran geometri...   \n",
       "9       Batik Keraton  Batik Keraton memiliki motif klasik seperti Pa...   \n",
       "10        Batik Lasem  Batik Lasem didominasi warna merah cerah khas ...   \n",
       "11  Batik Megamendung  Batik Megamendung memiliki motif awan bergrada...   \n",
       "12       Batik Parang  Batik Parang memiliki motif garis melengkung m...   \n",
       "13   Batik Pekalongan  Batik Pekalongan memiliki pola flora dan fauna...   \n",
       "14     Batik Priangan  Batik Priangan memiliki pola bunga kecil dan d...   \n",
       "15        Batik Sekar  Batik Sekar memiliki pola bunga yang indah dan...   \n",
       "16    Batik Sidoluhur  Batik Sidoluhur memiliki motif klasik dengan p...   \n",
       "17    Batik Sidomukti  Batik Sidomukti memiliki pola bunga dan geomet...   \n",
       "18        Batik Sogan  Batik Sogan memiliki pola klasik dengan warna ...   \n",
       "19       Batik Tambal  Batik Tambal memiliki pola tambalan kecil-keci...   \n",
       "\n",
       "          Path Folder            Path Gambar  \n",
       "0          batik-bali         batik-bali.jpg  \n",
       "1        batik-betawi       batik-betawi.jpg  \n",
       "2         batik-celup        batik-celup.jpg  \n",
       "3   batik-cendrawasih  batik-cendrawasih.jpg  \n",
       "4        batik-ceplok       batik-ceplok.jpg  \n",
       "5        batik-ciamis       batik-ciamis.jpg  \n",
       "6       batik-garutan      batik-garutan.jpg  \n",
       "7     batik-gentongan    batik-gentongan.jpg  \n",
       "8        batik-kawung       batik-kawung.jpg  \n",
       "9       batik-keraton      batik-keraton.jpg  \n",
       "10        batik-lasem        batik-lasem.jpg  \n",
       "11  batik-megamendung  batik-megamendung.jpg  \n",
       "12       batik-parang       batik-parang.jpg  \n",
       "13   batik-pekalongan   batik-pekalongan.jpg  \n",
       "14     batik-priangan     batik-priangan.jpg  \n",
       "15        batik-sekar        batik-sekar.jpg  \n",
       "16    batik-sidoluhur    batik-sidoluhur.jpg  \n",
       "17    batik-sidomukti    batik-sidomukti.jpg  \n",
       "18        batik-sogan        batik-sogan.jpg  \n",
       "19       batik-tambal       batik-tambal.jpg  "
      ]
     },
     "execution_count": 6,
     "metadata": {},
     "output_type": "execute_result"
    }
   ],
   "source": [
    "df"
   ]
  },
  {
   "cell_type": "markdown",
   "metadata": {},
   "source": [
    "# Pre-processing"
   ]
  },
  {
   "cell_type": "markdown",
   "metadata": {},
   "source": [
    "## Case Folding"
   ]
  },
  {
   "cell_type": "code",
   "execution_count": 7,
   "metadata": {},
   "outputs": [],
   "source": [
    "df['Deskripsi_casefolding'] = df['Deskripsi'].str.lower()"
   ]
  },
  {
   "cell_type": "code",
   "execution_count": 8,
   "metadata": {},
   "outputs": [
    {
     "data": {
      "text/plain": [
       "'batik megamendung memiliki motif awan bergradasi dengan warna biru, putih, atau merah. melambangkan kesejukan dan ketenangan, batik ini merupakan warisan budaya dari cirebon, jawa barat.'"
      ]
     },
     "execution_count": 8,
     "metadata": {},
     "output_type": "execute_result"
    }
   ],
   "source": [
    "df.iloc[11]['Deskripsi_casefolding']"
   ]
  },
  {
   "cell_type": "code",
   "execution_count": 9,
   "metadata": {},
   "outputs": [
    {
     "data": {
      "text/html": [
       "<div>\n",
       "<style scoped>\n",
       "    .dataframe tbody tr th:only-of-type {\n",
       "        vertical-align: middle;\n",
       "    }\n",
       "\n",
       "    .dataframe tbody tr th {\n",
       "        vertical-align: top;\n",
       "    }\n",
       "\n",
       "    .dataframe thead th {\n",
       "        text-align: right;\n",
       "    }\n",
       "</style>\n",
       "<table border=\"1\" class=\"dataframe\">\n",
       "  <thead>\n",
       "    <tr style=\"text-align: right;\">\n",
       "      <th></th>\n",
       "      <th>Nama</th>\n",
       "      <th>Deskripsi</th>\n",
       "      <th>Path Folder</th>\n",
       "      <th>Path Gambar</th>\n",
       "      <th>Deskripsi_casefolding</th>\n",
       "    </tr>\n",
       "  </thead>\n",
       "  <tbody>\n",
       "    <tr>\n",
       "      <th>0</th>\n",
       "      <td>Batik Bali</td>\n",
       "      <td>Batik Bali memiliki motif rumit yang terinspir...</td>\n",
       "      <td>batik-bali</td>\n",
       "      <td>batik-bali.jpg</td>\n",
       "      <td>batik bali memiliki motif rumit yang terinspir...</td>\n",
       "    </tr>\n",
       "    <tr>\n",
       "      <th>1</th>\n",
       "      <td>Batik Betawi</td>\n",
       "      <td>Batik Betawi memiliki motif geometris sederhan...</td>\n",
       "      <td>batik-betawi</td>\n",
       "      <td>batik-betawi.jpg</td>\n",
       "      <td>batik betawi memiliki motif geometris sederhan...</td>\n",
       "    </tr>\n",
       "    <tr>\n",
       "      <th>2</th>\n",
       "      <td>Batik Celup</td>\n",
       "      <td>Batik Celup memiliki pola abstrak dengan grada...</td>\n",
       "      <td>batik-celup</td>\n",
       "      <td>batik-celup.jpg</td>\n",
       "      <td>batik celup memiliki pola abstrak dengan grada...</td>\n",
       "    </tr>\n",
       "    <tr>\n",
       "      <th>3</th>\n",
       "      <td>Batik Cendrawasih</td>\n",
       "      <td>Batik Cendrawasih menampilkan motif burung cen...</td>\n",
       "      <td>batik-cendrawasih</td>\n",
       "      <td>batik-cendrawasih.jpg</td>\n",
       "      <td>batik cendrawasih menampilkan motif burung cen...</td>\n",
       "    </tr>\n",
       "    <tr>\n",
       "      <th>4</th>\n",
       "      <td>Batik Ceplok</td>\n",
       "      <td>Batik Ceplok memiliki pola geometris berulang ...</td>\n",
       "      <td>batik-ceplok</td>\n",
       "      <td>batik-ceplok.jpg</td>\n",
       "      <td>batik ceplok memiliki pola geometris berulang ...</td>\n",
       "    </tr>\n",
       "    <tr>\n",
       "      <th>5</th>\n",
       "      <td>Batik Ciamis</td>\n",
       "      <td>Batik Ciamis memiliki motif sederhana dengan p...</td>\n",
       "      <td>batik-ciamis</td>\n",
       "      <td>batik-ciamis.jpg</td>\n",
       "      <td>batik ciamis memiliki motif sederhana dengan p...</td>\n",
       "    </tr>\n",
       "    <tr>\n",
       "      <th>6</th>\n",
       "      <td>Batik Garutan</td>\n",
       "      <td>Batik Garutan memiliki motif bunga, daun, atau...</td>\n",
       "      <td>batik-garutan</td>\n",
       "      <td>batik-garutan.jpg</td>\n",
       "      <td>batik garutan memiliki motif bunga, daun, atau...</td>\n",
       "    </tr>\n",
       "    <tr>\n",
       "      <th>7</th>\n",
       "      <td>Batik Gentongan</td>\n",
       "      <td>Batik Gentongan memiliki motif bunga besar den...</td>\n",
       "      <td>batik-gentongan</td>\n",
       "      <td>batik-gentongan.jpg</td>\n",
       "      <td>batik gentongan memiliki motif bunga besar den...</td>\n",
       "    </tr>\n",
       "    <tr>\n",
       "      <th>8</th>\n",
       "      <td>Batik Kawung</td>\n",
       "      <td>Batik Kawung memiliki motif lingkaran geometri...</td>\n",
       "      <td>batik-kawung</td>\n",
       "      <td>batik-kawung.jpg</td>\n",
       "      <td>batik kawung memiliki motif lingkaran geometri...</td>\n",
       "    </tr>\n",
       "    <tr>\n",
       "      <th>9</th>\n",
       "      <td>Batik Keraton</td>\n",
       "      <td>Batik Keraton memiliki motif klasik seperti Pa...</td>\n",
       "      <td>batik-keraton</td>\n",
       "      <td>batik-keraton.jpg</td>\n",
       "      <td>batik keraton memiliki motif klasik seperti pa...</td>\n",
       "    </tr>\n",
       "    <tr>\n",
       "      <th>10</th>\n",
       "      <td>Batik Lasem</td>\n",
       "      <td>Batik Lasem didominasi warna merah cerah khas ...</td>\n",
       "      <td>batik-lasem</td>\n",
       "      <td>batik-lasem.jpg</td>\n",
       "      <td>batik lasem didominasi warna merah cerah khas ...</td>\n",
       "    </tr>\n",
       "    <tr>\n",
       "      <th>11</th>\n",
       "      <td>Batik Megamendung</td>\n",
       "      <td>Batik Megamendung memiliki motif awan bergrada...</td>\n",
       "      <td>batik-megamendung</td>\n",
       "      <td>batik-megamendung.jpg</td>\n",
       "      <td>batik megamendung memiliki motif awan bergrada...</td>\n",
       "    </tr>\n",
       "    <tr>\n",
       "      <th>12</th>\n",
       "      <td>Batik Parang</td>\n",
       "      <td>Batik Parang memiliki motif garis melengkung m...</td>\n",
       "      <td>batik-parang</td>\n",
       "      <td>batik-parang.jpg</td>\n",
       "      <td>batik parang memiliki motif garis melengkung m...</td>\n",
       "    </tr>\n",
       "    <tr>\n",
       "      <th>13</th>\n",
       "      <td>Batik Pekalongan</td>\n",
       "      <td>Batik Pekalongan memiliki pola flora dan fauna...</td>\n",
       "      <td>batik-pekalongan</td>\n",
       "      <td>batik-pekalongan.jpg</td>\n",
       "      <td>batik pekalongan memiliki pola flora dan fauna...</td>\n",
       "    </tr>\n",
       "    <tr>\n",
       "      <th>14</th>\n",
       "      <td>Batik Priangan</td>\n",
       "      <td>Batik Priangan memiliki pola bunga kecil dan d...</td>\n",
       "      <td>batik-priangan</td>\n",
       "      <td>batik-priangan.jpg</td>\n",
       "      <td>batik priangan memiliki pola bunga kecil dan d...</td>\n",
       "    </tr>\n",
       "    <tr>\n",
       "      <th>15</th>\n",
       "      <td>Batik Sekar</td>\n",
       "      <td>Batik Sekar memiliki pola bunga yang indah dan...</td>\n",
       "      <td>batik-sekar</td>\n",
       "      <td>batik-sekar.jpg</td>\n",
       "      <td>batik sekar memiliki pola bunga yang indah dan...</td>\n",
       "    </tr>\n",
       "    <tr>\n",
       "      <th>16</th>\n",
       "      <td>Batik Sidoluhur</td>\n",
       "      <td>Batik Sidoluhur memiliki motif klasik dengan p...</td>\n",
       "      <td>batik-sidoluhur</td>\n",
       "      <td>batik-sidoluhur.jpg</td>\n",
       "      <td>batik sidoluhur memiliki motif klasik dengan p...</td>\n",
       "    </tr>\n",
       "    <tr>\n",
       "      <th>17</th>\n",
       "      <td>Batik Sidomukti</td>\n",
       "      <td>Batik Sidomukti memiliki pola bunga dan geomet...</td>\n",
       "      <td>batik-sidomukti</td>\n",
       "      <td>batik-sidomukti.jpg</td>\n",
       "      <td>batik sidomukti memiliki pola bunga dan geomet...</td>\n",
       "    </tr>\n",
       "    <tr>\n",
       "      <th>18</th>\n",
       "      <td>Batik Sogan</td>\n",
       "      <td>Batik Sogan memiliki pola klasik dengan warna ...</td>\n",
       "      <td>batik-sogan</td>\n",
       "      <td>batik-sogan.jpg</td>\n",
       "      <td>batik sogan memiliki pola klasik dengan warna ...</td>\n",
       "    </tr>\n",
       "    <tr>\n",
       "      <th>19</th>\n",
       "      <td>Batik Tambal</td>\n",
       "      <td>Batik Tambal memiliki pola tambalan kecil-keci...</td>\n",
       "      <td>batik-tambal</td>\n",
       "      <td>batik-tambal.jpg</td>\n",
       "      <td>batik tambal memiliki pola tambalan kecil-keci...</td>\n",
       "    </tr>\n",
       "  </tbody>\n",
       "</table>\n",
       "</div>"
      ],
      "text/plain": [
       "                 Nama                                          Deskripsi  \\\n",
       "0          Batik Bali  Batik Bali memiliki motif rumit yang terinspir...   \n",
       "1        Batik Betawi  Batik Betawi memiliki motif geometris sederhan...   \n",
       "2         Batik Celup  Batik Celup memiliki pola abstrak dengan grada...   \n",
       "3   Batik Cendrawasih  Batik Cendrawasih menampilkan motif burung cen...   \n",
       "4        Batik Ceplok  Batik Ceplok memiliki pola geometris berulang ...   \n",
       "5        Batik Ciamis  Batik Ciamis memiliki motif sederhana dengan p...   \n",
       "6       Batik Garutan  Batik Garutan memiliki motif bunga, daun, atau...   \n",
       "7     Batik Gentongan  Batik Gentongan memiliki motif bunga besar den...   \n",
       "8        Batik Kawung  Batik Kawung memiliki motif lingkaran geometri...   \n",
       "9       Batik Keraton  Batik Keraton memiliki motif klasik seperti Pa...   \n",
       "10        Batik Lasem  Batik Lasem didominasi warna merah cerah khas ...   \n",
       "11  Batik Megamendung  Batik Megamendung memiliki motif awan bergrada...   \n",
       "12       Batik Parang  Batik Parang memiliki motif garis melengkung m...   \n",
       "13   Batik Pekalongan  Batik Pekalongan memiliki pola flora dan fauna...   \n",
       "14     Batik Priangan  Batik Priangan memiliki pola bunga kecil dan d...   \n",
       "15        Batik Sekar  Batik Sekar memiliki pola bunga yang indah dan...   \n",
       "16    Batik Sidoluhur  Batik Sidoluhur memiliki motif klasik dengan p...   \n",
       "17    Batik Sidomukti  Batik Sidomukti memiliki pola bunga dan geomet...   \n",
       "18        Batik Sogan  Batik Sogan memiliki pola klasik dengan warna ...   \n",
       "19       Batik Tambal  Batik Tambal memiliki pola tambalan kecil-keci...   \n",
       "\n",
       "          Path Folder            Path Gambar  \\\n",
       "0          batik-bali         batik-bali.jpg   \n",
       "1        batik-betawi       batik-betawi.jpg   \n",
       "2         batik-celup        batik-celup.jpg   \n",
       "3   batik-cendrawasih  batik-cendrawasih.jpg   \n",
       "4        batik-ceplok       batik-ceplok.jpg   \n",
       "5        batik-ciamis       batik-ciamis.jpg   \n",
       "6       batik-garutan      batik-garutan.jpg   \n",
       "7     batik-gentongan    batik-gentongan.jpg   \n",
       "8        batik-kawung       batik-kawung.jpg   \n",
       "9       batik-keraton      batik-keraton.jpg   \n",
       "10        batik-lasem        batik-lasem.jpg   \n",
       "11  batik-megamendung  batik-megamendung.jpg   \n",
       "12       batik-parang       batik-parang.jpg   \n",
       "13   batik-pekalongan   batik-pekalongan.jpg   \n",
       "14     batik-priangan     batik-priangan.jpg   \n",
       "15        batik-sekar        batik-sekar.jpg   \n",
       "16    batik-sidoluhur    batik-sidoluhur.jpg   \n",
       "17    batik-sidomukti    batik-sidomukti.jpg   \n",
       "18        batik-sogan        batik-sogan.jpg   \n",
       "19       batik-tambal       batik-tambal.jpg   \n",
       "\n",
       "                                Deskripsi_casefolding  \n",
       "0   batik bali memiliki motif rumit yang terinspir...  \n",
       "1   batik betawi memiliki motif geometris sederhan...  \n",
       "2   batik celup memiliki pola abstrak dengan grada...  \n",
       "3   batik cendrawasih menampilkan motif burung cen...  \n",
       "4   batik ceplok memiliki pola geometris berulang ...  \n",
       "5   batik ciamis memiliki motif sederhana dengan p...  \n",
       "6   batik garutan memiliki motif bunga, daun, atau...  \n",
       "7   batik gentongan memiliki motif bunga besar den...  \n",
       "8   batik kawung memiliki motif lingkaran geometri...  \n",
       "9   batik keraton memiliki motif klasik seperti pa...  \n",
       "10  batik lasem didominasi warna merah cerah khas ...  \n",
       "11  batik megamendung memiliki motif awan bergrada...  \n",
       "12  batik parang memiliki motif garis melengkung m...  \n",
       "13  batik pekalongan memiliki pola flora dan fauna...  \n",
       "14  batik priangan memiliki pola bunga kecil dan d...  \n",
       "15  batik sekar memiliki pola bunga yang indah dan...  \n",
       "16  batik sidoluhur memiliki motif klasik dengan p...  \n",
       "17  batik sidomukti memiliki pola bunga dan geomet...  \n",
       "18  batik sogan memiliki pola klasik dengan warna ...  \n",
       "19  batik tambal memiliki pola tambalan kecil-keci...  "
      ]
     },
     "execution_count": 9,
     "metadata": {},
     "output_type": "execute_result"
    }
   ],
   "source": [
    "df"
   ]
  },
  {
   "cell_type": "markdown",
   "metadata": {},
   "source": [
    "## Text Cleaning\n",
    "\n",
    "Removes all non-letter characters (a-z) and spaces."
   ]
  },
  {
   "cell_type": "code",
   "execution_count": 10,
   "metadata": {},
   "outputs": [],
   "source": [
    "df['Deskripsi_clean'] = df['Deskripsi_casefolding'].apply(\n",
    "    lambda text: re.sub(r'[^a-z\\s]', '', text)\n",
    ")"
   ]
  },
  {
   "cell_type": "code",
   "execution_count": 11,
   "metadata": {},
   "outputs": [
    {
     "data": {
      "text/plain": [
       "'batik megamendung memiliki motif awan bergradasi dengan warna biru putih atau merah melambangkan kesejukan dan ketenangan batik ini merupakan warisan budaya dari cirebon jawa barat'"
      ]
     },
     "execution_count": 11,
     "metadata": {},
     "output_type": "execute_result"
    }
   ],
   "source": [
    "df.iloc[11]['Deskripsi_clean']"
   ]
  },
  {
   "cell_type": "code",
   "execution_count": 12,
   "metadata": {},
   "outputs": [
    {
     "data": {
      "text/html": [
       "<div>\n",
       "<style scoped>\n",
       "    .dataframe tbody tr th:only-of-type {\n",
       "        vertical-align: middle;\n",
       "    }\n",
       "\n",
       "    .dataframe tbody tr th {\n",
       "        vertical-align: top;\n",
       "    }\n",
       "\n",
       "    .dataframe thead th {\n",
       "        text-align: right;\n",
       "    }\n",
       "</style>\n",
       "<table border=\"1\" class=\"dataframe\">\n",
       "  <thead>\n",
       "    <tr style=\"text-align: right;\">\n",
       "      <th></th>\n",
       "      <th>Nama</th>\n",
       "      <th>Deskripsi</th>\n",
       "      <th>Path Folder</th>\n",
       "      <th>Path Gambar</th>\n",
       "      <th>Deskripsi_casefolding</th>\n",
       "      <th>Deskripsi_clean</th>\n",
       "    </tr>\n",
       "  </thead>\n",
       "  <tbody>\n",
       "    <tr>\n",
       "      <th>0</th>\n",
       "      <td>Batik Bali</td>\n",
       "      <td>Batik Bali memiliki motif rumit yang terinspir...</td>\n",
       "      <td>batik-bali</td>\n",
       "      <td>batik-bali.jpg</td>\n",
       "      <td>batik bali memiliki motif rumit yang terinspir...</td>\n",
       "      <td>batik bali memiliki motif rumit yang terinspir...</td>\n",
       "    </tr>\n",
       "    <tr>\n",
       "      <th>1</th>\n",
       "      <td>Batik Betawi</td>\n",
       "      <td>Batik Betawi memiliki motif geometris sederhan...</td>\n",
       "      <td>batik-betawi</td>\n",
       "      <td>batik-betawi.jpg</td>\n",
       "      <td>batik betawi memiliki motif geometris sederhan...</td>\n",
       "      <td>batik betawi memiliki motif geometris sederhan...</td>\n",
       "    </tr>\n",
       "    <tr>\n",
       "      <th>2</th>\n",
       "      <td>Batik Celup</td>\n",
       "      <td>Batik Celup memiliki pola abstrak dengan grada...</td>\n",
       "      <td>batik-celup</td>\n",
       "      <td>batik-celup.jpg</td>\n",
       "      <td>batik celup memiliki pola abstrak dengan grada...</td>\n",
       "      <td>batik celup memiliki pola abstrak dengan grada...</td>\n",
       "    </tr>\n",
       "    <tr>\n",
       "      <th>3</th>\n",
       "      <td>Batik Cendrawasih</td>\n",
       "      <td>Batik Cendrawasih menampilkan motif burung cen...</td>\n",
       "      <td>batik-cendrawasih</td>\n",
       "      <td>batik-cendrawasih.jpg</td>\n",
       "      <td>batik cendrawasih menampilkan motif burung cen...</td>\n",
       "      <td>batik cendrawasih menampilkan motif burung cen...</td>\n",
       "    </tr>\n",
       "    <tr>\n",
       "      <th>4</th>\n",
       "      <td>Batik Ceplok</td>\n",
       "      <td>Batik Ceplok memiliki pola geometris berulang ...</td>\n",
       "      <td>batik-ceplok</td>\n",
       "      <td>batik-ceplok.jpg</td>\n",
       "      <td>batik ceplok memiliki pola geometris berulang ...</td>\n",
       "      <td>batik ceplok memiliki pola geometris berulang ...</td>\n",
       "    </tr>\n",
       "    <tr>\n",
       "      <th>5</th>\n",
       "      <td>Batik Ciamis</td>\n",
       "      <td>Batik Ciamis memiliki motif sederhana dengan p...</td>\n",
       "      <td>batik-ciamis</td>\n",
       "      <td>batik-ciamis.jpg</td>\n",
       "      <td>batik ciamis memiliki motif sederhana dengan p...</td>\n",
       "      <td>batik ciamis memiliki motif sederhana dengan p...</td>\n",
       "    </tr>\n",
       "    <tr>\n",
       "      <th>6</th>\n",
       "      <td>Batik Garutan</td>\n",
       "      <td>Batik Garutan memiliki motif bunga, daun, atau...</td>\n",
       "      <td>batik-garutan</td>\n",
       "      <td>batik-garutan.jpg</td>\n",
       "      <td>batik garutan memiliki motif bunga, daun, atau...</td>\n",
       "      <td>batik garutan memiliki motif bunga daun atau b...</td>\n",
       "    </tr>\n",
       "    <tr>\n",
       "      <th>7</th>\n",
       "      <td>Batik Gentongan</td>\n",
       "      <td>Batik Gentongan memiliki motif bunga besar den...</td>\n",
       "      <td>batik-gentongan</td>\n",
       "      <td>batik-gentongan.jpg</td>\n",
       "      <td>batik gentongan memiliki motif bunga besar den...</td>\n",
       "      <td>batik gentongan memiliki motif bunga besar den...</td>\n",
       "    </tr>\n",
       "    <tr>\n",
       "      <th>8</th>\n",
       "      <td>Batik Kawung</td>\n",
       "      <td>Batik Kawung memiliki motif lingkaran geometri...</td>\n",
       "      <td>batik-kawung</td>\n",
       "      <td>batik-kawung.jpg</td>\n",
       "      <td>batik kawung memiliki motif lingkaran geometri...</td>\n",
       "      <td>batik kawung memiliki motif lingkaran geometri...</td>\n",
       "    </tr>\n",
       "    <tr>\n",
       "      <th>9</th>\n",
       "      <td>Batik Keraton</td>\n",
       "      <td>Batik Keraton memiliki motif klasik seperti Pa...</td>\n",
       "      <td>batik-keraton</td>\n",
       "      <td>batik-keraton.jpg</td>\n",
       "      <td>batik keraton memiliki motif klasik seperti pa...</td>\n",
       "      <td>batik keraton memiliki motif klasik seperti pa...</td>\n",
       "    </tr>\n",
       "    <tr>\n",
       "      <th>10</th>\n",
       "      <td>Batik Lasem</td>\n",
       "      <td>Batik Lasem didominasi warna merah cerah khas ...</td>\n",
       "      <td>batik-lasem</td>\n",
       "      <td>batik-lasem.jpg</td>\n",
       "      <td>batik lasem didominasi warna merah cerah khas ...</td>\n",
       "      <td>batik lasem didominasi warna merah cerah khas ...</td>\n",
       "    </tr>\n",
       "    <tr>\n",
       "      <th>11</th>\n",
       "      <td>Batik Megamendung</td>\n",
       "      <td>Batik Megamendung memiliki motif awan bergrada...</td>\n",
       "      <td>batik-megamendung</td>\n",
       "      <td>batik-megamendung.jpg</td>\n",
       "      <td>batik megamendung memiliki motif awan bergrada...</td>\n",
       "      <td>batik megamendung memiliki motif awan bergrada...</td>\n",
       "    </tr>\n",
       "    <tr>\n",
       "      <th>12</th>\n",
       "      <td>Batik Parang</td>\n",
       "      <td>Batik Parang memiliki motif garis melengkung m...</td>\n",
       "      <td>batik-parang</td>\n",
       "      <td>batik-parang.jpg</td>\n",
       "      <td>batik parang memiliki motif garis melengkung m...</td>\n",
       "      <td>batik parang memiliki motif garis melengkung m...</td>\n",
       "    </tr>\n",
       "    <tr>\n",
       "      <th>13</th>\n",
       "      <td>Batik Pekalongan</td>\n",
       "      <td>Batik Pekalongan memiliki pola flora dan fauna...</td>\n",
       "      <td>batik-pekalongan</td>\n",
       "      <td>batik-pekalongan.jpg</td>\n",
       "      <td>batik pekalongan memiliki pola flora dan fauna...</td>\n",
       "      <td>batik pekalongan memiliki pola flora dan fauna...</td>\n",
       "    </tr>\n",
       "    <tr>\n",
       "      <th>14</th>\n",
       "      <td>Batik Priangan</td>\n",
       "      <td>Batik Priangan memiliki pola bunga kecil dan d...</td>\n",
       "      <td>batik-priangan</td>\n",
       "      <td>batik-priangan.jpg</td>\n",
       "      <td>batik priangan memiliki pola bunga kecil dan d...</td>\n",
       "      <td>batik priangan memiliki pola bunga kecil dan d...</td>\n",
       "    </tr>\n",
       "    <tr>\n",
       "      <th>15</th>\n",
       "      <td>Batik Sekar</td>\n",
       "      <td>Batik Sekar memiliki pola bunga yang indah dan...</td>\n",
       "      <td>batik-sekar</td>\n",
       "      <td>batik-sekar.jpg</td>\n",
       "      <td>batik sekar memiliki pola bunga yang indah dan...</td>\n",
       "      <td>batik sekar memiliki pola bunga yang indah dan...</td>\n",
       "    </tr>\n",
       "    <tr>\n",
       "      <th>16</th>\n",
       "      <td>Batik Sidoluhur</td>\n",
       "      <td>Batik Sidoluhur memiliki motif klasik dengan p...</td>\n",
       "      <td>batik-sidoluhur</td>\n",
       "      <td>batik-sidoluhur.jpg</td>\n",
       "      <td>batik sidoluhur memiliki motif klasik dengan p...</td>\n",
       "      <td>batik sidoluhur memiliki motif klasik dengan p...</td>\n",
       "    </tr>\n",
       "    <tr>\n",
       "      <th>17</th>\n",
       "      <td>Batik Sidomukti</td>\n",
       "      <td>Batik Sidomukti memiliki pola bunga dan geomet...</td>\n",
       "      <td>batik-sidomukti</td>\n",
       "      <td>batik-sidomukti.jpg</td>\n",
       "      <td>batik sidomukti memiliki pola bunga dan geomet...</td>\n",
       "      <td>batik sidomukti memiliki pola bunga dan geomet...</td>\n",
       "    </tr>\n",
       "    <tr>\n",
       "      <th>18</th>\n",
       "      <td>Batik Sogan</td>\n",
       "      <td>Batik Sogan memiliki pola klasik dengan warna ...</td>\n",
       "      <td>batik-sogan</td>\n",
       "      <td>batik-sogan.jpg</td>\n",
       "      <td>batik sogan memiliki pola klasik dengan warna ...</td>\n",
       "      <td>batik sogan memiliki pola klasik dengan warna ...</td>\n",
       "    </tr>\n",
       "    <tr>\n",
       "      <th>19</th>\n",
       "      <td>Batik Tambal</td>\n",
       "      <td>Batik Tambal memiliki pola tambalan kecil-keci...</td>\n",
       "      <td>batik-tambal</td>\n",
       "      <td>batik-tambal.jpg</td>\n",
       "      <td>batik tambal memiliki pola tambalan kecil-keci...</td>\n",
       "      <td>batik tambal memiliki pola tambalan kecilkecil...</td>\n",
       "    </tr>\n",
       "  </tbody>\n",
       "</table>\n",
       "</div>"
      ],
      "text/plain": [
       "                 Nama                                          Deskripsi  \\\n",
       "0          Batik Bali  Batik Bali memiliki motif rumit yang terinspir...   \n",
       "1        Batik Betawi  Batik Betawi memiliki motif geometris sederhan...   \n",
       "2         Batik Celup  Batik Celup memiliki pola abstrak dengan grada...   \n",
       "3   Batik Cendrawasih  Batik Cendrawasih menampilkan motif burung cen...   \n",
       "4        Batik Ceplok  Batik Ceplok memiliki pola geometris berulang ...   \n",
       "5        Batik Ciamis  Batik Ciamis memiliki motif sederhana dengan p...   \n",
       "6       Batik Garutan  Batik Garutan memiliki motif bunga, daun, atau...   \n",
       "7     Batik Gentongan  Batik Gentongan memiliki motif bunga besar den...   \n",
       "8        Batik Kawung  Batik Kawung memiliki motif lingkaran geometri...   \n",
       "9       Batik Keraton  Batik Keraton memiliki motif klasik seperti Pa...   \n",
       "10        Batik Lasem  Batik Lasem didominasi warna merah cerah khas ...   \n",
       "11  Batik Megamendung  Batik Megamendung memiliki motif awan bergrada...   \n",
       "12       Batik Parang  Batik Parang memiliki motif garis melengkung m...   \n",
       "13   Batik Pekalongan  Batik Pekalongan memiliki pola flora dan fauna...   \n",
       "14     Batik Priangan  Batik Priangan memiliki pola bunga kecil dan d...   \n",
       "15        Batik Sekar  Batik Sekar memiliki pola bunga yang indah dan...   \n",
       "16    Batik Sidoluhur  Batik Sidoluhur memiliki motif klasik dengan p...   \n",
       "17    Batik Sidomukti  Batik Sidomukti memiliki pola bunga dan geomet...   \n",
       "18        Batik Sogan  Batik Sogan memiliki pola klasik dengan warna ...   \n",
       "19       Batik Tambal  Batik Tambal memiliki pola tambalan kecil-keci...   \n",
       "\n",
       "          Path Folder            Path Gambar  \\\n",
       "0          batik-bali         batik-bali.jpg   \n",
       "1        batik-betawi       batik-betawi.jpg   \n",
       "2         batik-celup        batik-celup.jpg   \n",
       "3   batik-cendrawasih  batik-cendrawasih.jpg   \n",
       "4        batik-ceplok       batik-ceplok.jpg   \n",
       "5        batik-ciamis       batik-ciamis.jpg   \n",
       "6       batik-garutan      batik-garutan.jpg   \n",
       "7     batik-gentongan    batik-gentongan.jpg   \n",
       "8        batik-kawung       batik-kawung.jpg   \n",
       "9       batik-keraton      batik-keraton.jpg   \n",
       "10        batik-lasem        batik-lasem.jpg   \n",
       "11  batik-megamendung  batik-megamendung.jpg   \n",
       "12       batik-parang       batik-parang.jpg   \n",
       "13   batik-pekalongan   batik-pekalongan.jpg   \n",
       "14     batik-priangan     batik-priangan.jpg   \n",
       "15        batik-sekar        batik-sekar.jpg   \n",
       "16    batik-sidoluhur    batik-sidoluhur.jpg   \n",
       "17    batik-sidomukti    batik-sidomukti.jpg   \n",
       "18        batik-sogan        batik-sogan.jpg   \n",
       "19       batik-tambal       batik-tambal.jpg   \n",
       "\n",
       "                                Deskripsi_casefolding  \\\n",
       "0   batik bali memiliki motif rumit yang terinspir...   \n",
       "1   batik betawi memiliki motif geometris sederhan...   \n",
       "2   batik celup memiliki pola abstrak dengan grada...   \n",
       "3   batik cendrawasih menampilkan motif burung cen...   \n",
       "4   batik ceplok memiliki pola geometris berulang ...   \n",
       "5   batik ciamis memiliki motif sederhana dengan p...   \n",
       "6   batik garutan memiliki motif bunga, daun, atau...   \n",
       "7   batik gentongan memiliki motif bunga besar den...   \n",
       "8   batik kawung memiliki motif lingkaran geometri...   \n",
       "9   batik keraton memiliki motif klasik seperti pa...   \n",
       "10  batik lasem didominasi warna merah cerah khas ...   \n",
       "11  batik megamendung memiliki motif awan bergrada...   \n",
       "12  batik parang memiliki motif garis melengkung m...   \n",
       "13  batik pekalongan memiliki pola flora dan fauna...   \n",
       "14  batik priangan memiliki pola bunga kecil dan d...   \n",
       "15  batik sekar memiliki pola bunga yang indah dan...   \n",
       "16  batik sidoluhur memiliki motif klasik dengan p...   \n",
       "17  batik sidomukti memiliki pola bunga dan geomet...   \n",
       "18  batik sogan memiliki pola klasik dengan warna ...   \n",
       "19  batik tambal memiliki pola tambalan kecil-keci...   \n",
       "\n",
       "                                      Deskripsi_clean  \n",
       "0   batik bali memiliki motif rumit yang terinspir...  \n",
       "1   batik betawi memiliki motif geometris sederhan...  \n",
       "2   batik celup memiliki pola abstrak dengan grada...  \n",
       "3   batik cendrawasih menampilkan motif burung cen...  \n",
       "4   batik ceplok memiliki pola geometris berulang ...  \n",
       "5   batik ciamis memiliki motif sederhana dengan p...  \n",
       "6   batik garutan memiliki motif bunga daun atau b...  \n",
       "7   batik gentongan memiliki motif bunga besar den...  \n",
       "8   batik kawung memiliki motif lingkaran geometri...  \n",
       "9   batik keraton memiliki motif klasik seperti pa...  \n",
       "10  batik lasem didominasi warna merah cerah khas ...  \n",
       "11  batik megamendung memiliki motif awan bergrada...  \n",
       "12  batik parang memiliki motif garis melengkung m...  \n",
       "13  batik pekalongan memiliki pola flora dan fauna...  \n",
       "14  batik priangan memiliki pola bunga kecil dan d...  \n",
       "15  batik sekar memiliki pola bunga yang indah dan...  \n",
       "16  batik sidoluhur memiliki motif klasik dengan p...  \n",
       "17  batik sidomukti memiliki pola bunga dan geomet...  \n",
       "18  batik sogan memiliki pola klasik dengan warna ...  \n",
       "19  batik tambal memiliki pola tambalan kecilkecil...  "
      ]
     },
     "execution_count": 12,
     "metadata": {},
     "output_type": "execute_result"
    }
   ],
   "source": [
    "df"
   ]
  },
  {
   "cell_type": "markdown",
   "metadata": {},
   "source": [
    "## Tokenization"
   ]
  },
  {
   "cell_type": "code",
   "execution_count": 15,
   "metadata": {},
   "outputs": [],
   "source": [
    "df['tokenized'] = df['Deskripsi_clean'].apply(lambda text: text.split())"
   ]
  },
  {
   "cell_type": "code",
   "execution_count": 16,
   "metadata": {},
   "outputs": [
    {
     "data": {
      "text/plain": [
       "['batik',\n",
       " 'megamendung',\n",
       " 'memiliki',\n",
       " 'motif',\n",
       " 'awan',\n",
       " 'bergradasi',\n",
       " 'dengan',\n",
       " 'warna',\n",
       " 'biru',\n",
       " 'putih',\n",
       " 'atau',\n",
       " 'merah',\n",
       " 'melambangkan',\n",
       " 'kesejukan',\n",
       " 'dan',\n",
       " 'ketenangan',\n",
       " 'batik',\n",
       " 'ini',\n",
       " 'merupakan',\n",
       " 'warisan',\n",
       " 'budaya',\n",
       " 'dari',\n",
       " 'cirebon',\n",
       " 'jawa',\n",
       " 'barat']"
      ]
     },
     "execution_count": 16,
     "metadata": {},
     "output_type": "execute_result"
    }
   ],
   "source": [
    "df.iloc[11]['tokenized']"
   ]
  },
  {
   "cell_type": "code",
   "execution_count": 17,
   "metadata": {},
   "outputs": [
    {
     "data": {
      "text/html": [
       "<div>\n",
       "<style scoped>\n",
       "    .dataframe tbody tr th:only-of-type {\n",
       "        vertical-align: middle;\n",
       "    }\n",
       "\n",
       "    .dataframe tbody tr th {\n",
       "        vertical-align: top;\n",
       "    }\n",
       "\n",
       "    .dataframe thead th {\n",
       "        text-align: right;\n",
       "    }\n",
       "</style>\n",
       "<table border=\"1\" class=\"dataframe\">\n",
       "  <thead>\n",
       "    <tr style=\"text-align: right;\">\n",
       "      <th></th>\n",
       "      <th>Nama</th>\n",
       "      <th>Deskripsi</th>\n",
       "      <th>Path Folder</th>\n",
       "      <th>Path Gambar</th>\n",
       "      <th>Deskripsi_casefolding</th>\n",
       "      <th>Deskripsi_clean</th>\n",
       "      <th>tokenized</th>\n",
       "    </tr>\n",
       "  </thead>\n",
       "  <tbody>\n",
       "    <tr>\n",
       "      <th>0</th>\n",
       "      <td>Batik Bali</td>\n",
       "      <td>Batik Bali memiliki motif rumit yang terinspir...</td>\n",
       "      <td>batik-bali</td>\n",
       "      <td>batik-bali.jpg</td>\n",
       "      <td>batik bali memiliki motif rumit yang terinspir...</td>\n",
       "      <td>batik bali memiliki motif rumit yang terinspir...</td>\n",
       "      <td>[batik, bali, memiliki, motif, rumit, yang, te...</td>\n",
       "    </tr>\n",
       "    <tr>\n",
       "      <th>1</th>\n",
       "      <td>Batik Betawi</td>\n",
       "      <td>Batik Betawi memiliki motif geometris sederhan...</td>\n",
       "      <td>batik-betawi</td>\n",
       "      <td>batik-betawi.jpg</td>\n",
       "      <td>batik betawi memiliki motif geometris sederhan...</td>\n",
       "      <td>batik betawi memiliki motif geometris sederhan...</td>\n",
       "      <td>[batik, betawi, memiliki, motif, geometris, se...</td>\n",
       "    </tr>\n",
       "    <tr>\n",
       "      <th>2</th>\n",
       "      <td>Batik Celup</td>\n",
       "      <td>Batik Celup memiliki pola abstrak dengan grada...</td>\n",
       "      <td>batik-celup</td>\n",
       "      <td>batik-celup.jpg</td>\n",
       "      <td>batik celup memiliki pola abstrak dengan grada...</td>\n",
       "      <td>batik celup memiliki pola abstrak dengan grada...</td>\n",
       "      <td>[batik, celup, memiliki, pola, abstrak, dengan...</td>\n",
       "    </tr>\n",
       "    <tr>\n",
       "      <th>3</th>\n",
       "      <td>Batik Cendrawasih</td>\n",
       "      <td>Batik Cendrawasih menampilkan motif burung cen...</td>\n",
       "      <td>batik-cendrawasih</td>\n",
       "      <td>batik-cendrawasih.jpg</td>\n",
       "      <td>batik cendrawasih menampilkan motif burung cen...</td>\n",
       "      <td>batik cendrawasih menampilkan motif burung cen...</td>\n",
       "      <td>[batik, cendrawasih, menampilkan, motif, burun...</td>\n",
       "    </tr>\n",
       "    <tr>\n",
       "      <th>4</th>\n",
       "      <td>Batik Ceplok</td>\n",
       "      <td>Batik Ceplok memiliki pola geometris berulang ...</td>\n",
       "      <td>batik-ceplok</td>\n",
       "      <td>batik-ceplok.jpg</td>\n",
       "      <td>batik ceplok memiliki pola geometris berulang ...</td>\n",
       "      <td>batik ceplok memiliki pola geometris berulang ...</td>\n",
       "      <td>[batik, ceplok, memiliki, pola, geometris, ber...</td>\n",
       "    </tr>\n",
       "    <tr>\n",
       "      <th>5</th>\n",
       "      <td>Batik Ciamis</td>\n",
       "      <td>Batik Ciamis memiliki motif sederhana dengan p...</td>\n",
       "      <td>batik-ciamis</td>\n",
       "      <td>batik-ciamis.jpg</td>\n",
       "      <td>batik ciamis memiliki motif sederhana dengan p...</td>\n",
       "      <td>batik ciamis memiliki motif sederhana dengan p...</td>\n",
       "      <td>[batik, ciamis, memiliki, motif, sederhana, de...</td>\n",
       "    </tr>\n",
       "    <tr>\n",
       "      <th>6</th>\n",
       "      <td>Batik Garutan</td>\n",
       "      <td>Batik Garutan memiliki motif bunga, daun, atau...</td>\n",
       "      <td>batik-garutan</td>\n",
       "      <td>batik-garutan.jpg</td>\n",
       "      <td>batik garutan memiliki motif bunga, daun, atau...</td>\n",
       "      <td>batik garutan memiliki motif bunga daun atau b...</td>\n",
       "      <td>[batik, garutan, memiliki, motif, bunga, daun,...</td>\n",
       "    </tr>\n",
       "    <tr>\n",
       "      <th>7</th>\n",
       "      <td>Batik Gentongan</td>\n",
       "      <td>Batik Gentongan memiliki motif bunga besar den...</td>\n",
       "      <td>batik-gentongan</td>\n",
       "      <td>batik-gentongan.jpg</td>\n",
       "      <td>batik gentongan memiliki motif bunga besar den...</td>\n",
       "      <td>batik gentongan memiliki motif bunga besar den...</td>\n",
       "      <td>[batik, gentongan, memiliki, motif, bunga, bes...</td>\n",
       "    </tr>\n",
       "    <tr>\n",
       "      <th>8</th>\n",
       "      <td>Batik Kawung</td>\n",
       "      <td>Batik Kawung memiliki motif lingkaran geometri...</td>\n",
       "      <td>batik-kawung</td>\n",
       "      <td>batik-kawung.jpg</td>\n",
       "      <td>batik kawung memiliki motif lingkaran geometri...</td>\n",
       "      <td>batik kawung memiliki motif lingkaran geometri...</td>\n",
       "      <td>[batik, kawung, memiliki, motif, lingkaran, ge...</td>\n",
       "    </tr>\n",
       "    <tr>\n",
       "      <th>9</th>\n",
       "      <td>Batik Keraton</td>\n",
       "      <td>Batik Keraton memiliki motif klasik seperti Pa...</td>\n",
       "      <td>batik-keraton</td>\n",
       "      <td>batik-keraton.jpg</td>\n",
       "      <td>batik keraton memiliki motif klasik seperti pa...</td>\n",
       "      <td>batik keraton memiliki motif klasik seperti pa...</td>\n",
       "      <td>[batik, keraton, memiliki, motif, klasik, sepe...</td>\n",
       "    </tr>\n",
       "    <tr>\n",
       "      <th>10</th>\n",
       "      <td>Batik Lasem</td>\n",
       "      <td>Batik Lasem didominasi warna merah cerah khas ...</td>\n",
       "      <td>batik-lasem</td>\n",
       "      <td>batik-lasem.jpg</td>\n",
       "      <td>batik lasem didominasi warna merah cerah khas ...</td>\n",
       "      <td>batik lasem didominasi warna merah cerah khas ...</td>\n",
       "      <td>[batik, lasem, didominasi, warna, merah, cerah...</td>\n",
       "    </tr>\n",
       "    <tr>\n",
       "      <th>11</th>\n",
       "      <td>Batik Megamendung</td>\n",
       "      <td>Batik Megamendung memiliki motif awan bergrada...</td>\n",
       "      <td>batik-megamendung</td>\n",
       "      <td>batik-megamendung.jpg</td>\n",
       "      <td>batik megamendung memiliki motif awan bergrada...</td>\n",
       "      <td>batik megamendung memiliki motif awan bergrada...</td>\n",
       "      <td>[batik, megamendung, memiliki, motif, awan, be...</td>\n",
       "    </tr>\n",
       "    <tr>\n",
       "      <th>12</th>\n",
       "      <td>Batik Parang</td>\n",
       "      <td>Batik Parang memiliki motif garis melengkung m...</td>\n",
       "      <td>batik-parang</td>\n",
       "      <td>batik-parang.jpg</td>\n",
       "      <td>batik parang memiliki motif garis melengkung m...</td>\n",
       "      <td>batik parang memiliki motif garis melengkung m...</td>\n",
       "      <td>[batik, parang, memiliki, motif, garis, meleng...</td>\n",
       "    </tr>\n",
       "    <tr>\n",
       "      <th>13</th>\n",
       "      <td>Batik Pekalongan</td>\n",
       "      <td>Batik Pekalongan memiliki pola flora dan fauna...</td>\n",
       "      <td>batik-pekalongan</td>\n",
       "      <td>batik-pekalongan.jpg</td>\n",
       "      <td>batik pekalongan memiliki pola flora dan fauna...</td>\n",
       "      <td>batik pekalongan memiliki pola flora dan fauna...</td>\n",
       "      <td>[batik, pekalongan, memiliki, pola, flora, dan...</td>\n",
       "    </tr>\n",
       "    <tr>\n",
       "      <th>14</th>\n",
       "      <td>Batik Priangan</td>\n",
       "      <td>Batik Priangan memiliki pola bunga kecil dan d...</td>\n",
       "      <td>batik-priangan</td>\n",
       "      <td>batik-priangan.jpg</td>\n",
       "      <td>batik priangan memiliki pola bunga kecil dan d...</td>\n",
       "      <td>batik priangan memiliki pola bunga kecil dan d...</td>\n",
       "      <td>[batik, priangan, memiliki, pola, bunga, kecil...</td>\n",
       "    </tr>\n",
       "    <tr>\n",
       "      <th>15</th>\n",
       "      <td>Batik Sekar</td>\n",
       "      <td>Batik Sekar memiliki pola bunga yang indah dan...</td>\n",
       "      <td>batik-sekar</td>\n",
       "      <td>batik-sekar.jpg</td>\n",
       "      <td>batik sekar memiliki pola bunga yang indah dan...</td>\n",
       "      <td>batik sekar memiliki pola bunga yang indah dan...</td>\n",
       "      <td>[batik, sekar, memiliki, pola, bunga, yang, in...</td>\n",
       "    </tr>\n",
       "    <tr>\n",
       "      <th>16</th>\n",
       "      <td>Batik Sidoluhur</td>\n",
       "      <td>Batik Sidoluhur memiliki motif klasik dengan p...</td>\n",
       "      <td>batik-sidoluhur</td>\n",
       "      <td>batik-sidoluhur.jpg</td>\n",
       "      <td>batik sidoluhur memiliki motif klasik dengan p...</td>\n",
       "      <td>batik sidoluhur memiliki motif klasik dengan p...</td>\n",
       "      <td>[batik, sidoluhur, memiliki, motif, klasik, de...</td>\n",
       "    </tr>\n",
       "    <tr>\n",
       "      <th>17</th>\n",
       "      <td>Batik Sidomukti</td>\n",
       "      <td>Batik Sidomukti memiliki pola bunga dan geomet...</td>\n",
       "      <td>batik-sidomukti</td>\n",
       "      <td>batik-sidomukti.jpg</td>\n",
       "      <td>batik sidomukti memiliki pola bunga dan geomet...</td>\n",
       "      <td>batik sidomukti memiliki pola bunga dan geomet...</td>\n",
       "      <td>[batik, sidomukti, memiliki, pola, bunga, dan,...</td>\n",
       "    </tr>\n",
       "    <tr>\n",
       "      <th>18</th>\n",
       "      <td>Batik Sogan</td>\n",
       "      <td>Batik Sogan memiliki pola klasik dengan warna ...</td>\n",
       "      <td>batik-sogan</td>\n",
       "      <td>batik-sogan.jpg</td>\n",
       "      <td>batik sogan memiliki pola klasik dengan warna ...</td>\n",
       "      <td>batik sogan memiliki pola klasik dengan warna ...</td>\n",
       "      <td>[batik, sogan, memiliki, pola, klasik, dengan,...</td>\n",
       "    </tr>\n",
       "    <tr>\n",
       "      <th>19</th>\n",
       "      <td>Batik Tambal</td>\n",
       "      <td>Batik Tambal memiliki pola tambalan kecil-keci...</td>\n",
       "      <td>batik-tambal</td>\n",
       "      <td>batik-tambal.jpg</td>\n",
       "      <td>batik tambal memiliki pola tambalan kecil-keci...</td>\n",
       "      <td>batik tambal memiliki pola tambalan kecilkecil...</td>\n",
       "      <td>[batik, tambal, memiliki, pola, tambalan, keci...</td>\n",
       "    </tr>\n",
       "  </tbody>\n",
       "</table>\n",
       "</div>"
      ],
      "text/plain": [
       "                 Nama                                          Deskripsi  \\\n",
       "0          Batik Bali  Batik Bali memiliki motif rumit yang terinspir...   \n",
       "1        Batik Betawi  Batik Betawi memiliki motif geometris sederhan...   \n",
       "2         Batik Celup  Batik Celup memiliki pola abstrak dengan grada...   \n",
       "3   Batik Cendrawasih  Batik Cendrawasih menampilkan motif burung cen...   \n",
       "4        Batik Ceplok  Batik Ceplok memiliki pola geometris berulang ...   \n",
       "5        Batik Ciamis  Batik Ciamis memiliki motif sederhana dengan p...   \n",
       "6       Batik Garutan  Batik Garutan memiliki motif bunga, daun, atau...   \n",
       "7     Batik Gentongan  Batik Gentongan memiliki motif bunga besar den...   \n",
       "8        Batik Kawung  Batik Kawung memiliki motif lingkaran geometri...   \n",
       "9       Batik Keraton  Batik Keraton memiliki motif klasik seperti Pa...   \n",
       "10        Batik Lasem  Batik Lasem didominasi warna merah cerah khas ...   \n",
       "11  Batik Megamendung  Batik Megamendung memiliki motif awan bergrada...   \n",
       "12       Batik Parang  Batik Parang memiliki motif garis melengkung m...   \n",
       "13   Batik Pekalongan  Batik Pekalongan memiliki pola flora dan fauna...   \n",
       "14     Batik Priangan  Batik Priangan memiliki pola bunga kecil dan d...   \n",
       "15        Batik Sekar  Batik Sekar memiliki pola bunga yang indah dan...   \n",
       "16    Batik Sidoluhur  Batik Sidoluhur memiliki motif klasik dengan p...   \n",
       "17    Batik Sidomukti  Batik Sidomukti memiliki pola bunga dan geomet...   \n",
       "18        Batik Sogan  Batik Sogan memiliki pola klasik dengan warna ...   \n",
       "19       Batik Tambal  Batik Tambal memiliki pola tambalan kecil-keci...   \n",
       "\n",
       "          Path Folder            Path Gambar  \\\n",
       "0          batik-bali         batik-bali.jpg   \n",
       "1        batik-betawi       batik-betawi.jpg   \n",
       "2         batik-celup        batik-celup.jpg   \n",
       "3   batik-cendrawasih  batik-cendrawasih.jpg   \n",
       "4        batik-ceplok       batik-ceplok.jpg   \n",
       "5        batik-ciamis       batik-ciamis.jpg   \n",
       "6       batik-garutan      batik-garutan.jpg   \n",
       "7     batik-gentongan    batik-gentongan.jpg   \n",
       "8        batik-kawung       batik-kawung.jpg   \n",
       "9       batik-keraton      batik-keraton.jpg   \n",
       "10        batik-lasem        batik-lasem.jpg   \n",
       "11  batik-megamendung  batik-megamendung.jpg   \n",
       "12       batik-parang       batik-parang.jpg   \n",
       "13   batik-pekalongan   batik-pekalongan.jpg   \n",
       "14     batik-priangan     batik-priangan.jpg   \n",
       "15        batik-sekar        batik-sekar.jpg   \n",
       "16    batik-sidoluhur    batik-sidoluhur.jpg   \n",
       "17    batik-sidomukti    batik-sidomukti.jpg   \n",
       "18        batik-sogan        batik-sogan.jpg   \n",
       "19       batik-tambal       batik-tambal.jpg   \n",
       "\n",
       "                                Deskripsi_casefolding  \\\n",
       "0   batik bali memiliki motif rumit yang terinspir...   \n",
       "1   batik betawi memiliki motif geometris sederhan...   \n",
       "2   batik celup memiliki pola abstrak dengan grada...   \n",
       "3   batik cendrawasih menampilkan motif burung cen...   \n",
       "4   batik ceplok memiliki pola geometris berulang ...   \n",
       "5   batik ciamis memiliki motif sederhana dengan p...   \n",
       "6   batik garutan memiliki motif bunga, daun, atau...   \n",
       "7   batik gentongan memiliki motif bunga besar den...   \n",
       "8   batik kawung memiliki motif lingkaran geometri...   \n",
       "9   batik keraton memiliki motif klasik seperti pa...   \n",
       "10  batik lasem didominasi warna merah cerah khas ...   \n",
       "11  batik megamendung memiliki motif awan bergrada...   \n",
       "12  batik parang memiliki motif garis melengkung m...   \n",
       "13  batik pekalongan memiliki pola flora dan fauna...   \n",
       "14  batik priangan memiliki pola bunga kecil dan d...   \n",
       "15  batik sekar memiliki pola bunga yang indah dan...   \n",
       "16  batik sidoluhur memiliki motif klasik dengan p...   \n",
       "17  batik sidomukti memiliki pola bunga dan geomet...   \n",
       "18  batik sogan memiliki pola klasik dengan warna ...   \n",
       "19  batik tambal memiliki pola tambalan kecil-keci...   \n",
       "\n",
       "                                      Deskripsi_clean  \\\n",
       "0   batik bali memiliki motif rumit yang terinspir...   \n",
       "1   batik betawi memiliki motif geometris sederhan...   \n",
       "2   batik celup memiliki pola abstrak dengan grada...   \n",
       "3   batik cendrawasih menampilkan motif burung cen...   \n",
       "4   batik ceplok memiliki pola geometris berulang ...   \n",
       "5   batik ciamis memiliki motif sederhana dengan p...   \n",
       "6   batik garutan memiliki motif bunga daun atau b...   \n",
       "7   batik gentongan memiliki motif bunga besar den...   \n",
       "8   batik kawung memiliki motif lingkaran geometri...   \n",
       "9   batik keraton memiliki motif klasik seperti pa...   \n",
       "10  batik lasem didominasi warna merah cerah khas ...   \n",
       "11  batik megamendung memiliki motif awan bergrada...   \n",
       "12  batik parang memiliki motif garis melengkung m...   \n",
       "13  batik pekalongan memiliki pola flora dan fauna...   \n",
       "14  batik priangan memiliki pola bunga kecil dan d...   \n",
       "15  batik sekar memiliki pola bunga yang indah dan...   \n",
       "16  batik sidoluhur memiliki motif klasik dengan p...   \n",
       "17  batik sidomukti memiliki pola bunga dan geomet...   \n",
       "18  batik sogan memiliki pola klasik dengan warna ...   \n",
       "19  batik tambal memiliki pola tambalan kecilkecil...   \n",
       "\n",
       "                                            tokenized  \n",
       "0   [batik, bali, memiliki, motif, rumit, yang, te...  \n",
       "1   [batik, betawi, memiliki, motif, geometris, se...  \n",
       "2   [batik, celup, memiliki, pola, abstrak, dengan...  \n",
       "3   [batik, cendrawasih, menampilkan, motif, burun...  \n",
       "4   [batik, ceplok, memiliki, pola, geometris, ber...  \n",
       "5   [batik, ciamis, memiliki, motif, sederhana, de...  \n",
       "6   [batik, garutan, memiliki, motif, bunga, daun,...  \n",
       "7   [batik, gentongan, memiliki, motif, bunga, bes...  \n",
       "8   [batik, kawung, memiliki, motif, lingkaran, ge...  \n",
       "9   [batik, keraton, memiliki, motif, klasik, sepe...  \n",
       "10  [batik, lasem, didominasi, warna, merah, cerah...  \n",
       "11  [batik, megamendung, memiliki, motif, awan, be...  \n",
       "12  [batik, parang, memiliki, motif, garis, meleng...  \n",
       "13  [batik, pekalongan, memiliki, pola, flora, dan...  \n",
       "14  [batik, priangan, memiliki, pola, bunga, kecil...  \n",
       "15  [batik, sekar, memiliki, pola, bunga, yang, in...  \n",
       "16  [batik, sidoluhur, memiliki, motif, klasik, de...  \n",
       "17  [batik, sidomukti, memiliki, pola, bunga, dan,...  \n",
       "18  [batik, sogan, memiliki, pola, klasik, dengan,...  \n",
       "19  [batik, tambal, memiliki, pola, tambalan, keci...  "
      ]
     },
     "execution_count": 17,
     "metadata": {},
     "output_type": "execute_result"
    }
   ],
   "source": [
    "df"
   ]
  },
  {
   "cell_type": "markdown",
   "metadata": {},
   "source": [
    "## Stop Word Removal"
   ]
  },
  {
   "cell_type": "code",
   "execution_count": 18,
   "metadata": {},
   "outputs": [],
   "source": [
    "stop_words = set(stopwords.words('indonesian'))"
   ]
  },
  {
   "cell_type": "code",
   "execution_count": 19,
   "metadata": {},
   "outputs": [],
   "source": [
    "df['stop_removed'] = df['tokenized'].apply(lambda tokens: [token for token in tokens if token.lower() not in stop_words])"
   ]
  },
  {
   "cell_type": "code",
   "execution_count": 20,
   "metadata": {},
   "outputs": [
    {
     "data": {
      "text/plain": [
       "['batik',\n",
       " 'megamendung',\n",
       " 'memiliki',\n",
       " 'motif',\n",
       " 'awan',\n",
       " 'bergradasi',\n",
       " 'warna',\n",
       " 'biru',\n",
       " 'putih',\n",
       " 'merah',\n",
       " 'melambangkan',\n",
       " 'kesejukan',\n",
       " 'ketenangan',\n",
       " 'batik',\n",
       " 'warisan',\n",
       " 'budaya',\n",
       " 'cirebon',\n",
       " 'jawa',\n",
       " 'barat']"
      ]
     },
     "execution_count": 20,
     "metadata": {},
     "output_type": "execute_result"
    }
   ],
   "source": [
    "df.iloc[11]['stop_removed']"
   ]
  },
  {
   "cell_type": "code",
   "execution_count": 21,
   "metadata": {},
   "outputs": [
    {
     "data": {
      "text/html": [
       "<div>\n",
       "<style scoped>\n",
       "    .dataframe tbody tr th:only-of-type {\n",
       "        vertical-align: middle;\n",
       "    }\n",
       "\n",
       "    .dataframe tbody tr th {\n",
       "        vertical-align: top;\n",
       "    }\n",
       "\n",
       "    .dataframe thead th {\n",
       "        text-align: right;\n",
       "    }\n",
       "</style>\n",
       "<table border=\"1\" class=\"dataframe\">\n",
       "  <thead>\n",
       "    <tr style=\"text-align: right;\">\n",
       "      <th></th>\n",
       "      <th>Nama</th>\n",
       "      <th>Deskripsi</th>\n",
       "      <th>Path Folder</th>\n",
       "      <th>Path Gambar</th>\n",
       "      <th>Deskripsi_casefolding</th>\n",
       "      <th>Deskripsi_clean</th>\n",
       "      <th>tokenized</th>\n",
       "      <th>stop_removed</th>\n",
       "    </tr>\n",
       "  </thead>\n",
       "  <tbody>\n",
       "    <tr>\n",
       "      <th>0</th>\n",
       "      <td>Batik Bali</td>\n",
       "      <td>Batik Bali memiliki motif rumit yang terinspir...</td>\n",
       "      <td>batik-bali</td>\n",
       "      <td>batik-bali.jpg</td>\n",
       "      <td>batik bali memiliki motif rumit yang terinspir...</td>\n",
       "      <td>batik bali memiliki motif rumit yang terinspir...</td>\n",
       "      <td>[batik, bali, memiliki, motif, rumit, yang, te...</td>\n",
       "      <td>[batik, bali, memiliki, motif, rumit, terinspi...</td>\n",
       "    </tr>\n",
       "    <tr>\n",
       "      <th>1</th>\n",
       "      <td>Batik Betawi</td>\n",
       "      <td>Batik Betawi memiliki motif geometris sederhan...</td>\n",
       "      <td>batik-betawi</td>\n",
       "      <td>batik-betawi.jpg</td>\n",
       "      <td>batik betawi memiliki motif geometris sederhan...</td>\n",
       "      <td>batik betawi memiliki motif geometris sederhan...</td>\n",
       "      <td>[batik, betawi, memiliki, motif, geometris, se...</td>\n",
       "      <td>[batik, betawi, memiliki, motif, geometris, se...</td>\n",
       "    </tr>\n",
       "    <tr>\n",
       "      <th>2</th>\n",
       "      <td>Batik Celup</td>\n",
       "      <td>Batik Celup memiliki pola abstrak dengan grada...</td>\n",
       "      <td>batik-celup</td>\n",
       "      <td>batik-celup.jpg</td>\n",
       "      <td>batik celup memiliki pola abstrak dengan grada...</td>\n",
       "      <td>batik celup memiliki pola abstrak dengan grada...</td>\n",
       "      <td>[batik, celup, memiliki, pola, abstrak, dengan...</td>\n",
       "      <td>[batik, celup, memiliki, pola, abstrak, gradas...</td>\n",
       "    </tr>\n",
       "    <tr>\n",
       "      <th>3</th>\n",
       "      <td>Batik Cendrawasih</td>\n",
       "      <td>Batik Cendrawasih menampilkan motif burung cen...</td>\n",
       "      <td>batik-cendrawasih</td>\n",
       "      <td>batik-cendrawasih.jpg</td>\n",
       "      <td>batik cendrawasih menampilkan motif burung cen...</td>\n",
       "      <td>batik cendrawasih menampilkan motif burung cen...</td>\n",
       "      <td>[batik, cendrawasih, menampilkan, motif, burun...</td>\n",
       "      <td>[batik, cendrawasih, menampilkan, motif, burun...</td>\n",
       "    </tr>\n",
       "    <tr>\n",
       "      <th>4</th>\n",
       "      <td>Batik Ceplok</td>\n",
       "      <td>Batik Ceplok memiliki pola geometris berulang ...</td>\n",
       "      <td>batik-ceplok</td>\n",
       "      <td>batik-ceplok.jpg</td>\n",
       "      <td>batik ceplok memiliki pola geometris berulang ...</td>\n",
       "      <td>batik ceplok memiliki pola geometris berulang ...</td>\n",
       "      <td>[batik, ceplok, memiliki, pola, geometris, ber...</td>\n",
       "      <td>[batik, ceplok, memiliki, pola, geometris, ber...</td>\n",
       "    </tr>\n",
       "    <tr>\n",
       "      <th>5</th>\n",
       "      <td>Batik Ciamis</td>\n",
       "      <td>Batik Ciamis memiliki motif sederhana dengan p...</td>\n",
       "      <td>batik-ciamis</td>\n",
       "      <td>batik-ciamis.jpg</td>\n",
       "      <td>batik ciamis memiliki motif sederhana dengan p...</td>\n",
       "      <td>batik ciamis memiliki motif sederhana dengan p...</td>\n",
       "      <td>[batik, ciamis, memiliki, motif, sederhana, de...</td>\n",
       "      <td>[batik, ciamis, memiliki, motif, sederhana, po...</td>\n",
       "    </tr>\n",
       "    <tr>\n",
       "      <th>6</th>\n",
       "      <td>Batik Garutan</td>\n",
       "      <td>Batik Garutan memiliki motif bunga, daun, atau...</td>\n",
       "      <td>batik-garutan</td>\n",
       "      <td>batik-garutan.jpg</td>\n",
       "      <td>batik garutan memiliki motif bunga, daun, atau...</td>\n",
       "      <td>batik garutan memiliki motif bunga daun atau b...</td>\n",
       "      <td>[batik, garutan, memiliki, motif, bunga, daun,...</td>\n",
       "      <td>[batik, garutan, memiliki, motif, bunga, daun,...</td>\n",
       "    </tr>\n",
       "    <tr>\n",
       "      <th>7</th>\n",
       "      <td>Batik Gentongan</td>\n",
       "      <td>Batik Gentongan memiliki motif bunga besar den...</td>\n",
       "      <td>batik-gentongan</td>\n",
       "      <td>batik-gentongan.jpg</td>\n",
       "      <td>batik gentongan memiliki motif bunga besar den...</td>\n",
       "      <td>batik gentongan memiliki motif bunga besar den...</td>\n",
       "      <td>[batik, gentongan, memiliki, motif, bunga, bes...</td>\n",
       "      <td>[batik, gentongan, memiliki, motif, bunga, war...</td>\n",
       "    </tr>\n",
       "    <tr>\n",
       "      <th>8</th>\n",
       "      <td>Batik Kawung</td>\n",
       "      <td>Batik Kawung memiliki motif lingkaran geometri...</td>\n",
       "      <td>batik-kawung</td>\n",
       "      <td>batik-kawung.jpg</td>\n",
       "      <td>batik kawung memiliki motif lingkaran geometri...</td>\n",
       "      <td>batik kawung memiliki motif lingkaran geometri...</td>\n",
       "      <td>[batik, kawung, memiliki, motif, lingkaran, ge...</td>\n",
       "      <td>[batik, kawung, memiliki, motif, lingkaran, ge...</td>\n",
       "    </tr>\n",
       "    <tr>\n",
       "      <th>9</th>\n",
       "      <td>Batik Keraton</td>\n",
       "      <td>Batik Keraton memiliki motif klasik seperti Pa...</td>\n",
       "      <td>batik-keraton</td>\n",
       "      <td>batik-keraton.jpg</td>\n",
       "      <td>batik keraton memiliki motif klasik seperti pa...</td>\n",
       "      <td>batik keraton memiliki motif klasik seperti pa...</td>\n",
       "      <td>[batik, keraton, memiliki, motif, klasik, sepe...</td>\n",
       "      <td>[batik, keraton, memiliki, motif, klasik, para...</td>\n",
       "    </tr>\n",
       "    <tr>\n",
       "      <th>10</th>\n",
       "      <td>Batik Lasem</td>\n",
       "      <td>Batik Lasem didominasi warna merah cerah khas ...</td>\n",
       "      <td>batik-lasem</td>\n",
       "      <td>batik-lasem.jpg</td>\n",
       "      <td>batik lasem didominasi warna merah cerah khas ...</td>\n",
       "      <td>batik lasem didominasi warna merah cerah khas ...</td>\n",
       "      <td>[batik, lasem, didominasi, warna, merah, cerah...</td>\n",
       "      <td>[batik, lasem, didominasi, warna, merah, cerah...</td>\n",
       "    </tr>\n",
       "    <tr>\n",
       "      <th>11</th>\n",
       "      <td>Batik Megamendung</td>\n",
       "      <td>Batik Megamendung memiliki motif awan bergrada...</td>\n",
       "      <td>batik-megamendung</td>\n",
       "      <td>batik-megamendung.jpg</td>\n",
       "      <td>batik megamendung memiliki motif awan bergrada...</td>\n",
       "      <td>batik megamendung memiliki motif awan bergrada...</td>\n",
       "      <td>[batik, megamendung, memiliki, motif, awan, be...</td>\n",
       "      <td>[batik, megamendung, memiliki, motif, awan, be...</td>\n",
       "    </tr>\n",
       "    <tr>\n",
       "      <th>12</th>\n",
       "      <td>Batik Parang</td>\n",
       "      <td>Batik Parang memiliki motif garis melengkung m...</td>\n",
       "      <td>batik-parang</td>\n",
       "      <td>batik-parang.jpg</td>\n",
       "      <td>batik parang memiliki motif garis melengkung m...</td>\n",
       "      <td>batik parang memiliki motif garis melengkung m...</td>\n",
       "      <td>[batik, parang, memiliki, motif, garis, meleng...</td>\n",
       "      <td>[batik, parang, memiliki, motif, garis, meleng...</td>\n",
       "    </tr>\n",
       "    <tr>\n",
       "      <th>13</th>\n",
       "      <td>Batik Pekalongan</td>\n",
       "      <td>Batik Pekalongan memiliki pola flora dan fauna...</td>\n",
       "      <td>batik-pekalongan</td>\n",
       "      <td>batik-pekalongan.jpg</td>\n",
       "      <td>batik pekalongan memiliki pola flora dan fauna...</td>\n",
       "      <td>batik pekalongan memiliki pola flora dan fauna...</td>\n",
       "      <td>[batik, pekalongan, memiliki, pola, flora, dan...</td>\n",
       "      <td>[batik, pekalongan, memiliki, pola, flora, fau...</td>\n",
       "    </tr>\n",
       "    <tr>\n",
       "      <th>14</th>\n",
       "      <td>Batik Priangan</td>\n",
       "      <td>Batik Priangan memiliki pola bunga kecil dan d...</td>\n",
       "      <td>batik-priangan</td>\n",
       "      <td>batik-priangan.jpg</td>\n",
       "      <td>batik priangan memiliki pola bunga kecil dan d...</td>\n",
       "      <td>batik priangan memiliki pola bunga kecil dan d...</td>\n",
       "      <td>[batik, priangan, memiliki, pola, bunga, kecil...</td>\n",
       "      <td>[batik, priangan, memiliki, pola, bunga, dedau...</td>\n",
       "    </tr>\n",
       "    <tr>\n",
       "      <th>15</th>\n",
       "      <td>Batik Sekar</td>\n",
       "      <td>Batik Sekar memiliki pola bunga yang indah dan...</td>\n",
       "      <td>batik-sekar</td>\n",
       "      <td>batik-sekar.jpg</td>\n",
       "      <td>batik sekar memiliki pola bunga yang indah dan...</td>\n",
       "      <td>batik sekar memiliki pola bunga yang indah dan...</td>\n",
       "      <td>[batik, sekar, memiliki, pola, bunga, yang, in...</td>\n",
       "      <td>[batik, sekar, memiliki, pola, bunga, indah, e...</td>\n",
       "    </tr>\n",
       "    <tr>\n",
       "      <th>16</th>\n",
       "      <td>Batik Sidoluhur</td>\n",
       "      <td>Batik Sidoluhur memiliki motif klasik dengan p...</td>\n",
       "      <td>batik-sidoluhur</td>\n",
       "      <td>batik-sidoluhur.jpg</td>\n",
       "      <td>batik sidoluhur memiliki motif klasik dengan p...</td>\n",
       "      <td>batik sidoluhur memiliki motif klasik dengan p...</td>\n",
       "      <td>[batik, sidoluhur, memiliki, motif, klasik, de...</td>\n",
       "      <td>[batik, sidoluhur, memiliki, motif, klasik, po...</td>\n",
       "    </tr>\n",
       "    <tr>\n",
       "      <th>17</th>\n",
       "      <td>Batik Sidomukti</td>\n",
       "      <td>Batik Sidomukti memiliki pola bunga dan geomet...</td>\n",
       "      <td>batik-sidomukti</td>\n",
       "      <td>batik-sidomukti.jpg</td>\n",
       "      <td>batik sidomukti memiliki pola bunga dan geomet...</td>\n",
       "      <td>batik sidomukti memiliki pola bunga dan geomet...</td>\n",
       "      <td>[batik, sidomukti, memiliki, pola, bunga, dan,...</td>\n",
       "      <td>[batik, sidomukti, memiliki, pola, bunga, geom...</td>\n",
       "    </tr>\n",
       "    <tr>\n",
       "      <th>18</th>\n",
       "      <td>Batik Sogan</td>\n",
       "      <td>Batik Sogan memiliki pola klasik dengan warna ...</td>\n",
       "      <td>batik-sogan</td>\n",
       "      <td>batik-sogan.jpg</td>\n",
       "      <td>batik sogan memiliki pola klasik dengan warna ...</td>\n",
       "      <td>batik sogan memiliki pola klasik dengan warna ...</td>\n",
       "      <td>[batik, sogan, memiliki, pola, klasik, dengan,...</td>\n",
       "      <td>[batik, sogan, memiliki, pola, klasik, warna, ...</td>\n",
       "    </tr>\n",
       "    <tr>\n",
       "      <th>19</th>\n",
       "      <td>Batik Tambal</td>\n",
       "      <td>Batik Tambal memiliki pola tambalan kecil-keci...</td>\n",
       "      <td>batik-tambal</td>\n",
       "      <td>batik-tambal.jpg</td>\n",
       "      <td>batik tambal memiliki pola tambalan kecil-keci...</td>\n",
       "      <td>batik tambal memiliki pola tambalan kecilkecil...</td>\n",
       "      <td>[batik, tambal, memiliki, pola, tambalan, keci...</td>\n",
       "      <td>[batik, tambal, memiliki, pola, tambalan, keci...</td>\n",
       "    </tr>\n",
       "  </tbody>\n",
       "</table>\n",
       "</div>"
      ],
      "text/plain": [
       "                 Nama                                          Deskripsi  \\\n",
       "0          Batik Bali  Batik Bali memiliki motif rumit yang terinspir...   \n",
       "1        Batik Betawi  Batik Betawi memiliki motif geometris sederhan...   \n",
       "2         Batik Celup  Batik Celup memiliki pola abstrak dengan grada...   \n",
       "3   Batik Cendrawasih  Batik Cendrawasih menampilkan motif burung cen...   \n",
       "4        Batik Ceplok  Batik Ceplok memiliki pola geometris berulang ...   \n",
       "5        Batik Ciamis  Batik Ciamis memiliki motif sederhana dengan p...   \n",
       "6       Batik Garutan  Batik Garutan memiliki motif bunga, daun, atau...   \n",
       "7     Batik Gentongan  Batik Gentongan memiliki motif bunga besar den...   \n",
       "8        Batik Kawung  Batik Kawung memiliki motif lingkaran geometri...   \n",
       "9       Batik Keraton  Batik Keraton memiliki motif klasik seperti Pa...   \n",
       "10        Batik Lasem  Batik Lasem didominasi warna merah cerah khas ...   \n",
       "11  Batik Megamendung  Batik Megamendung memiliki motif awan bergrada...   \n",
       "12       Batik Parang  Batik Parang memiliki motif garis melengkung m...   \n",
       "13   Batik Pekalongan  Batik Pekalongan memiliki pola flora dan fauna...   \n",
       "14     Batik Priangan  Batik Priangan memiliki pola bunga kecil dan d...   \n",
       "15        Batik Sekar  Batik Sekar memiliki pola bunga yang indah dan...   \n",
       "16    Batik Sidoluhur  Batik Sidoluhur memiliki motif klasik dengan p...   \n",
       "17    Batik Sidomukti  Batik Sidomukti memiliki pola bunga dan geomet...   \n",
       "18        Batik Sogan  Batik Sogan memiliki pola klasik dengan warna ...   \n",
       "19       Batik Tambal  Batik Tambal memiliki pola tambalan kecil-keci...   \n",
       "\n",
       "          Path Folder            Path Gambar  \\\n",
       "0          batik-bali         batik-bali.jpg   \n",
       "1        batik-betawi       batik-betawi.jpg   \n",
       "2         batik-celup        batik-celup.jpg   \n",
       "3   batik-cendrawasih  batik-cendrawasih.jpg   \n",
       "4        batik-ceplok       batik-ceplok.jpg   \n",
       "5        batik-ciamis       batik-ciamis.jpg   \n",
       "6       batik-garutan      batik-garutan.jpg   \n",
       "7     batik-gentongan    batik-gentongan.jpg   \n",
       "8        batik-kawung       batik-kawung.jpg   \n",
       "9       batik-keraton      batik-keraton.jpg   \n",
       "10        batik-lasem        batik-lasem.jpg   \n",
       "11  batik-megamendung  batik-megamendung.jpg   \n",
       "12       batik-parang       batik-parang.jpg   \n",
       "13   batik-pekalongan   batik-pekalongan.jpg   \n",
       "14     batik-priangan     batik-priangan.jpg   \n",
       "15        batik-sekar        batik-sekar.jpg   \n",
       "16    batik-sidoluhur    batik-sidoluhur.jpg   \n",
       "17    batik-sidomukti    batik-sidomukti.jpg   \n",
       "18        batik-sogan        batik-sogan.jpg   \n",
       "19       batik-tambal       batik-tambal.jpg   \n",
       "\n",
       "                                Deskripsi_casefolding  \\\n",
       "0   batik bali memiliki motif rumit yang terinspir...   \n",
       "1   batik betawi memiliki motif geometris sederhan...   \n",
       "2   batik celup memiliki pola abstrak dengan grada...   \n",
       "3   batik cendrawasih menampilkan motif burung cen...   \n",
       "4   batik ceplok memiliki pola geometris berulang ...   \n",
       "5   batik ciamis memiliki motif sederhana dengan p...   \n",
       "6   batik garutan memiliki motif bunga, daun, atau...   \n",
       "7   batik gentongan memiliki motif bunga besar den...   \n",
       "8   batik kawung memiliki motif lingkaran geometri...   \n",
       "9   batik keraton memiliki motif klasik seperti pa...   \n",
       "10  batik lasem didominasi warna merah cerah khas ...   \n",
       "11  batik megamendung memiliki motif awan bergrada...   \n",
       "12  batik parang memiliki motif garis melengkung m...   \n",
       "13  batik pekalongan memiliki pola flora dan fauna...   \n",
       "14  batik priangan memiliki pola bunga kecil dan d...   \n",
       "15  batik sekar memiliki pola bunga yang indah dan...   \n",
       "16  batik sidoluhur memiliki motif klasik dengan p...   \n",
       "17  batik sidomukti memiliki pola bunga dan geomet...   \n",
       "18  batik sogan memiliki pola klasik dengan warna ...   \n",
       "19  batik tambal memiliki pola tambalan kecil-keci...   \n",
       "\n",
       "                                      Deskripsi_clean  \\\n",
       "0   batik bali memiliki motif rumit yang terinspir...   \n",
       "1   batik betawi memiliki motif geometris sederhan...   \n",
       "2   batik celup memiliki pola abstrak dengan grada...   \n",
       "3   batik cendrawasih menampilkan motif burung cen...   \n",
       "4   batik ceplok memiliki pola geometris berulang ...   \n",
       "5   batik ciamis memiliki motif sederhana dengan p...   \n",
       "6   batik garutan memiliki motif bunga daun atau b...   \n",
       "7   batik gentongan memiliki motif bunga besar den...   \n",
       "8   batik kawung memiliki motif lingkaran geometri...   \n",
       "9   batik keraton memiliki motif klasik seperti pa...   \n",
       "10  batik lasem didominasi warna merah cerah khas ...   \n",
       "11  batik megamendung memiliki motif awan bergrada...   \n",
       "12  batik parang memiliki motif garis melengkung m...   \n",
       "13  batik pekalongan memiliki pola flora dan fauna...   \n",
       "14  batik priangan memiliki pola bunga kecil dan d...   \n",
       "15  batik sekar memiliki pola bunga yang indah dan...   \n",
       "16  batik sidoluhur memiliki motif klasik dengan p...   \n",
       "17  batik sidomukti memiliki pola bunga dan geomet...   \n",
       "18  batik sogan memiliki pola klasik dengan warna ...   \n",
       "19  batik tambal memiliki pola tambalan kecilkecil...   \n",
       "\n",
       "                                            tokenized  \\\n",
       "0   [batik, bali, memiliki, motif, rumit, yang, te...   \n",
       "1   [batik, betawi, memiliki, motif, geometris, se...   \n",
       "2   [batik, celup, memiliki, pola, abstrak, dengan...   \n",
       "3   [batik, cendrawasih, menampilkan, motif, burun...   \n",
       "4   [batik, ceplok, memiliki, pola, geometris, ber...   \n",
       "5   [batik, ciamis, memiliki, motif, sederhana, de...   \n",
       "6   [batik, garutan, memiliki, motif, bunga, daun,...   \n",
       "7   [batik, gentongan, memiliki, motif, bunga, bes...   \n",
       "8   [batik, kawung, memiliki, motif, lingkaran, ge...   \n",
       "9   [batik, keraton, memiliki, motif, klasik, sepe...   \n",
       "10  [batik, lasem, didominasi, warna, merah, cerah...   \n",
       "11  [batik, megamendung, memiliki, motif, awan, be...   \n",
       "12  [batik, parang, memiliki, motif, garis, meleng...   \n",
       "13  [batik, pekalongan, memiliki, pola, flora, dan...   \n",
       "14  [batik, priangan, memiliki, pola, bunga, kecil...   \n",
       "15  [batik, sekar, memiliki, pola, bunga, yang, in...   \n",
       "16  [batik, sidoluhur, memiliki, motif, klasik, de...   \n",
       "17  [batik, sidomukti, memiliki, pola, bunga, dan,...   \n",
       "18  [batik, sogan, memiliki, pola, klasik, dengan,...   \n",
       "19  [batik, tambal, memiliki, pola, tambalan, keci...   \n",
       "\n",
       "                                         stop_removed  \n",
       "0   [batik, bali, memiliki, motif, rumit, terinspi...  \n",
       "1   [batik, betawi, memiliki, motif, geometris, se...  \n",
       "2   [batik, celup, memiliki, pola, abstrak, gradas...  \n",
       "3   [batik, cendrawasih, menampilkan, motif, burun...  \n",
       "4   [batik, ceplok, memiliki, pola, geometris, ber...  \n",
       "5   [batik, ciamis, memiliki, motif, sederhana, po...  \n",
       "6   [batik, garutan, memiliki, motif, bunga, daun,...  \n",
       "7   [batik, gentongan, memiliki, motif, bunga, war...  \n",
       "8   [batik, kawung, memiliki, motif, lingkaran, ge...  \n",
       "9   [batik, keraton, memiliki, motif, klasik, para...  \n",
       "10  [batik, lasem, didominasi, warna, merah, cerah...  \n",
       "11  [batik, megamendung, memiliki, motif, awan, be...  \n",
       "12  [batik, parang, memiliki, motif, garis, meleng...  \n",
       "13  [batik, pekalongan, memiliki, pola, flora, fau...  \n",
       "14  [batik, priangan, memiliki, pola, bunga, dedau...  \n",
       "15  [batik, sekar, memiliki, pola, bunga, indah, e...  \n",
       "16  [batik, sidoluhur, memiliki, motif, klasik, po...  \n",
       "17  [batik, sidomukti, memiliki, pola, bunga, geom...  \n",
       "18  [batik, sogan, memiliki, pola, klasik, warna, ...  \n",
       "19  [batik, tambal, memiliki, pola, tambalan, keci...  "
      ]
     },
     "execution_count": 21,
     "metadata": {},
     "output_type": "execute_result"
    }
   ],
   "source": [
    "df"
   ]
  },
  {
   "cell_type": "markdown",
   "metadata": {},
   "source": [
    "## Lemmatization"
   ]
  },
  {
   "cell_type": "code",
   "execution_count": 22,
   "metadata": {},
   "outputs": [],
   "source": [
    "lemmatizer = WordNetLemmatizer()"
   ]
  },
  {
   "cell_type": "code",
   "execution_count": 23,
   "metadata": {},
   "outputs": [],
   "source": [
    "df['lemmatized'] = df['stop_removed'].apply(lambda tokens: [lemmatizer.lemmatize(token) for token in tokens])"
   ]
  },
  {
   "cell_type": "code",
   "execution_count": 24,
   "metadata": {},
   "outputs": [
    {
     "data": {
      "text/plain": [
       "['batik',\n",
       " 'megamendung',\n",
       " 'memiliki',\n",
       " 'motif',\n",
       " 'awan',\n",
       " 'bergradasi',\n",
       " 'warna',\n",
       " 'biru',\n",
       " 'putih',\n",
       " 'merah',\n",
       " 'melambangkan',\n",
       " 'kesejukan',\n",
       " 'ketenangan',\n",
       " 'batik',\n",
       " 'warisan',\n",
       " 'budaya',\n",
       " 'cirebon',\n",
       " 'jawa',\n",
       " 'barat']"
      ]
     },
     "execution_count": 24,
     "metadata": {},
     "output_type": "execute_result"
    }
   ],
   "source": [
    "df.iloc[11]['lemmatized']"
   ]
  },
  {
   "cell_type": "code",
   "execution_count": 25,
   "metadata": {},
   "outputs": [
    {
     "data": {
      "text/html": [
       "<div>\n",
       "<style scoped>\n",
       "    .dataframe tbody tr th:only-of-type {\n",
       "        vertical-align: middle;\n",
       "    }\n",
       "\n",
       "    .dataframe tbody tr th {\n",
       "        vertical-align: top;\n",
       "    }\n",
       "\n",
       "    .dataframe thead th {\n",
       "        text-align: right;\n",
       "    }\n",
       "</style>\n",
       "<table border=\"1\" class=\"dataframe\">\n",
       "  <thead>\n",
       "    <tr style=\"text-align: right;\">\n",
       "      <th></th>\n",
       "      <th>Nama</th>\n",
       "      <th>Deskripsi</th>\n",
       "      <th>Path Folder</th>\n",
       "      <th>Path Gambar</th>\n",
       "      <th>Deskripsi_casefolding</th>\n",
       "      <th>Deskripsi_clean</th>\n",
       "      <th>tokenized</th>\n",
       "      <th>stop_removed</th>\n",
       "      <th>lemmatized</th>\n",
       "    </tr>\n",
       "  </thead>\n",
       "  <tbody>\n",
       "    <tr>\n",
       "      <th>0</th>\n",
       "      <td>Batik Bali</td>\n",
       "      <td>Batik Bali memiliki motif rumit yang terinspir...</td>\n",
       "      <td>batik-bali</td>\n",
       "      <td>batik-bali.jpg</td>\n",
       "      <td>batik bali memiliki motif rumit yang terinspir...</td>\n",
       "      <td>batik bali memiliki motif rumit yang terinspir...</td>\n",
       "      <td>[batik, bali, memiliki, motif, rumit, yang, te...</td>\n",
       "      <td>[batik, bali, memiliki, motif, rumit, terinspi...</td>\n",
       "      <td>[batik, bali, memiliki, motif, rumit, terinspi...</td>\n",
       "    </tr>\n",
       "    <tr>\n",
       "      <th>1</th>\n",
       "      <td>Batik Betawi</td>\n",
       "      <td>Batik Betawi memiliki motif geometris sederhan...</td>\n",
       "      <td>batik-betawi</td>\n",
       "      <td>batik-betawi.jpg</td>\n",
       "      <td>batik betawi memiliki motif geometris sederhan...</td>\n",
       "      <td>batik betawi memiliki motif geometris sederhan...</td>\n",
       "      <td>[batik, betawi, memiliki, motif, geometris, se...</td>\n",
       "      <td>[batik, betawi, memiliki, motif, geometris, se...</td>\n",
       "      <td>[batik, betawi, memiliki, motif, geometris, se...</td>\n",
       "    </tr>\n",
       "    <tr>\n",
       "      <th>2</th>\n",
       "      <td>Batik Celup</td>\n",
       "      <td>Batik Celup memiliki pola abstrak dengan grada...</td>\n",
       "      <td>batik-celup</td>\n",
       "      <td>batik-celup.jpg</td>\n",
       "      <td>batik celup memiliki pola abstrak dengan grada...</td>\n",
       "      <td>batik celup memiliki pola abstrak dengan grada...</td>\n",
       "      <td>[batik, celup, memiliki, pola, abstrak, dengan...</td>\n",
       "      <td>[batik, celup, memiliki, pola, abstrak, gradas...</td>\n",
       "      <td>[batik, celup, memiliki, pola, abstrak, gradas...</td>\n",
       "    </tr>\n",
       "    <tr>\n",
       "      <th>3</th>\n",
       "      <td>Batik Cendrawasih</td>\n",
       "      <td>Batik Cendrawasih menampilkan motif burung cen...</td>\n",
       "      <td>batik-cendrawasih</td>\n",
       "      <td>batik-cendrawasih.jpg</td>\n",
       "      <td>batik cendrawasih menampilkan motif burung cen...</td>\n",
       "      <td>batik cendrawasih menampilkan motif burung cen...</td>\n",
       "      <td>[batik, cendrawasih, menampilkan, motif, burun...</td>\n",
       "      <td>[batik, cendrawasih, menampilkan, motif, burun...</td>\n",
       "      <td>[batik, cendrawasih, menampilkan, motif, burun...</td>\n",
       "    </tr>\n",
       "    <tr>\n",
       "      <th>4</th>\n",
       "      <td>Batik Ceplok</td>\n",
       "      <td>Batik Ceplok memiliki pola geometris berulang ...</td>\n",
       "      <td>batik-ceplok</td>\n",
       "      <td>batik-ceplok.jpg</td>\n",
       "      <td>batik ceplok memiliki pola geometris berulang ...</td>\n",
       "      <td>batik ceplok memiliki pola geometris berulang ...</td>\n",
       "      <td>[batik, ceplok, memiliki, pola, geometris, ber...</td>\n",
       "      <td>[batik, ceplok, memiliki, pola, geometris, ber...</td>\n",
       "      <td>[batik, ceplok, memiliki, pola, geometris, ber...</td>\n",
       "    </tr>\n",
       "    <tr>\n",
       "      <th>5</th>\n",
       "      <td>Batik Ciamis</td>\n",
       "      <td>Batik Ciamis memiliki motif sederhana dengan p...</td>\n",
       "      <td>batik-ciamis</td>\n",
       "      <td>batik-ciamis.jpg</td>\n",
       "      <td>batik ciamis memiliki motif sederhana dengan p...</td>\n",
       "      <td>batik ciamis memiliki motif sederhana dengan p...</td>\n",
       "      <td>[batik, ciamis, memiliki, motif, sederhana, de...</td>\n",
       "      <td>[batik, ciamis, memiliki, motif, sederhana, po...</td>\n",
       "      <td>[batik, ciamis, memiliki, motif, sederhana, po...</td>\n",
       "    </tr>\n",
       "    <tr>\n",
       "      <th>6</th>\n",
       "      <td>Batik Garutan</td>\n",
       "      <td>Batik Garutan memiliki motif bunga, daun, atau...</td>\n",
       "      <td>batik-garutan</td>\n",
       "      <td>batik-garutan.jpg</td>\n",
       "      <td>batik garutan memiliki motif bunga, daun, atau...</td>\n",
       "      <td>batik garutan memiliki motif bunga daun atau b...</td>\n",
       "      <td>[batik, garutan, memiliki, motif, bunga, daun,...</td>\n",
       "      <td>[batik, garutan, memiliki, motif, bunga, daun,...</td>\n",
       "      <td>[batik, garutan, memiliki, motif, bunga, daun,...</td>\n",
       "    </tr>\n",
       "    <tr>\n",
       "      <th>7</th>\n",
       "      <td>Batik Gentongan</td>\n",
       "      <td>Batik Gentongan memiliki motif bunga besar den...</td>\n",
       "      <td>batik-gentongan</td>\n",
       "      <td>batik-gentongan.jpg</td>\n",
       "      <td>batik gentongan memiliki motif bunga besar den...</td>\n",
       "      <td>batik gentongan memiliki motif bunga besar den...</td>\n",
       "      <td>[batik, gentongan, memiliki, motif, bunga, bes...</td>\n",
       "      <td>[batik, gentongan, memiliki, motif, bunga, war...</td>\n",
       "      <td>[batik, gentongan, memiliki, motif, bunga, war...</td>\n",
       "    </tr>\n",
       "    <tr>\n",
       "      <th>8</th>\n",
       "      <td>Batik Kawung</td>\n",
       "      <td>Batik Kawung memiliki motif lingkaran geometri...</td>\n",
       "      <td>batik-kawung</td>\n",
       "      <td>batik-kawung.jpg</td>\n",
       "      <td>batik kawung memiliki motif lingkaran geometri...</td>\n",
       "      <td>batik kawung memiliki motif lingkaran geometri...</td>\n",
       "      <td>[batik, kawung, memiliki, motif, lingkaran, ge...</td>\n",
       "      <td>[batik, kawung, memiliki, motif, lingkaran, ge...</td>\n",
       "      <td>[batik, kawung, memiliki, motif, lingkaran, ge...</td>\n",
       "    </tr>\n",
       "    <tr>\n",
       "      <th>9</th>\n",
       "      <td>Batik Keraton</td>\n",
       "      <td>Batik Keraton memiliki motif klasik seperti Pa...</td>\n",
       "      <td>batik-keraton</td>\n",
       "      <td>batik-keraton.jpg</td>\n",
       "      <td>batik keraton memiliki motif klasik seperti pa...</td>\n",
       "      <td>batik keraton memiliki motif klasik seperti pa...</td>\n",
       "      <td>[batik, keraton, memiliki, motif, klasik, sepe...</td>\n",
       "      <td>[batik, keraton, memiliki, motif, klasik, para...</td>\n",
       "      <td>[batik, keraton, memiliki, motif, klasik, para...</td>\n",
       "    </tr>\n",
       "    <tr>\n",
       "      <th>10</th>\n",
       "      <td>Batik Lasem</td>\n",
       "      <td>Batik Lasem didominasi warna merah cerah khas ...</td>\n",
       "      <td>batik-lasem</td>\n",
       "      <td>batik-lasem.jpg</td>\n",
       "      <td>batik lasem didominasi warna merah cerah khas ...</td>\n",
       "      <td>batik lasem didominasi warna merah cerah khas ...</td>\n",
       "      <td>[batik, lasem, didominasi, warna, merah, cerah...</td>\n",
       "      <td>[batik, lasem, didominasi, warna, merah, cerah...</td>\n",
       "      <td>[batik, lasem, didominasi, warna, merah, cerah...</td>\n",
       "    </tr>\n",
       "    <tr>\n",
       "      <th>11</th>\n",
       "      <td>Batik Megamendung</td>\n",
       "      <td>Batik Megamendung memiliki motif awan bergrada...</td>\n",
       "      <td>batik-megamendung</td>\n",
       "      <td>batik-megamendung.jpg</td>\n",
       "      <td>batik megamendung memiliki motif awan bergrada...</td>\n",
       "      <td>batik megamendung memiliki motif awan bergrada...</td>\n",
       "      <td>[batik, megamendung, memiliki, motif, awan, be...</td>\n",
       "      <td>[batik, megamendung, memiliki, motif, awan, be...</td>\n",
       "      <td>[batik, megamendung, memiliki, motif, awan, be...</td>\n",
       "    </tr>\n",
       "    <tr>\n",
       "      <th>12</th>\n",
       "      <td>Batik Parang</td>\n",
       "      <td>Batik Parang memiliki motif garis melengkung m...</td>\n",
       "      <td>batik-parang</td>\n",
       "      <td>batik-parang.jpg</td>\n",
       "      <td>batik parang memiliki motif garis melengkung m...</td>\n",
       "      <td>batik parang memiliki motif garis melengkung m...</td>\n",
       "      <td>[batik, parang, memiliki, motif, garis, meleng...</td>\n",
       "      <td>[batik, parang, memiliki, motif, garis, meleng...</td>\n",
       "      <td>[batik, parang, memiliki, motif, gari, melengk...</td>\n",
       "    </tr>\n",
       "    <tr>\n",
       "      <th>13</th>\n",
       "      <td>Batik Pekalongan</td>\n",
       "      <td>Batik Pekalongan memiliki pola flora dan fauna...</td>\n",
       "      <td>batik-pekalongan</td>\n",
       "      <td>batik-pekalongan.jpg</td>\n",
       "      <td>batik pekalongan memiliki pola flora dan fauna...</td>\n",
       "      <td>batik pekalongan memiliki pola flora dan fauna...</td>\n",
       "      <td>[batik, pekalongan, memiliki, pola, flora, dan...</td>\n",
       "      <td>[batik, pekalongan, memiliki, pola, flora, fau...</td>\n",
       "      <td>[batik, pekalongan, memiliki, pola, flora, fau...</td>\n",
       "    </tr>\n",
       "    <tr>\n",
       "      <th>14</th>\n",
       "      <td>Batik Priangan</td>\n",
       "      <td>Batik Priangan memiliki pola bunga kecil dan d...</td>\n",
       "      <td>batik-priangan</td>\n",
       "      <td>batik-priangan.jpg</td>\n",
       "      <td>batik priangan memiliki pola bunga kecil dan d...</td>\n",
       "      <td>batik priangan memiliki pola bunga kecil dan d...</td>\n",
       "      <td>[batik, priangan, memiliki, pola, bunga, kecil...</td>\n",
       "      <td>[batik, priangan, memiliki, pola, bunga, dedau...</td>\n",
       "      <td>[batik, priangan, memiliki, pola, bunga, dedau...</td>\n",
       "    </tr>\n",
       "    <tr>\n",
       "      <th>15</th>\n",
       "      <td>Batik Sekar</td>\n",
       "      <td>Batik Sekar memiliki pola bunga yang indah dan...</td>\n",
       "      <td>batik-sekar</td>\n",
       "      <td>batik-sekar.jpg</td>\n",
       "      <td>batik sekar memiliki pola bunga yang indah dan...</td>\n",
       "      <td>batik sekar memiliki pola bunga yang indah dan...</td>\n",
       "      <td>[batik, sekar, memiliki, pola, bunga, yang, in...</td>\n",
       "      <td>[batik, sekar, memiliki, pola, bunga, indah, e...</td>\n",
       "      <td>[batik, sekar, memiliki, pola, bunga, indah, e...</td>\n",
       "    </tr>\n",
       "    <tr>\n",
       "      <th>16</th>\n",
       "      <td>Batik Sidoluhur</td>\n",
       "      <td>Batik Sidoluhur memiliki motif klasik dengan p...</td>\n",
       "      <td>batik-sidoluhur</td>\n",
       "      <td>batik-sidoluhur.jpg</td>\n",
       "      <td>batik sidoluhur memiliki motif klasik dengan p...</td>\n",
       "      <td>batik sidoluhur memiliki motif klasik dengan p...</td>\n",
       "      <td>[batik, sidoluhur, memiliki, motif, klasik, de...</td>\n",
       "      <td>[batik, sidoluhur, memiliki, motif, klasik, po...</td>\n",
       "      <td>[batik, sidoluhur, memiliki, motif, klasik, po...</td>\n",
       "    </tr>\n",
       "    <tr>\n",
       "      <th>17</th>\n",
       "      <td>Batik Sidomukti</td>\n",
       "      <td>Batik Sidomukti memiliki pola bunga dan geomet...</td>\n",
       "      <td>batik-sidomukti</td>\n",
       "      <td>batik-sidomukti.jpg</td>\n",
       "      <td>batik sidomukti memiliki pola bunga dan geomet...</td>\n",
       "      <td>batik sidomukti memiliki pola bunga dan geomet...</td>\n",
       "      <td>[batik, sidomukti, memiliki, pola, bunga, dan,...</td>\n",
       "      <td>[batik, sidomukti, memiliki, pola, bunga, geom...</td>\n",
       "      <td>[batik, sidomukti, memiliki, pola, bunga, geom...</td>\n",
       "    </tr>\n",
       "    <tr>\n",
       "      <th>18</th>\n",
       "      <td>Batik Sogan</td>\n",
       "      <td>Batik Sogan memiliki pola klasik dengan warna ...</td>\n",
       "      <td>batik-sogan</td>\n",
       "      <td>batik-sogan.jpg</td>\n",
       "      <td>batik sogan memiliki pola klasik dengan warna ...</td>\n",
       "      <td>batik sogan memiliki pola klasik dengan warna ...</td>\n",
       "      <td>[batik, sogan, memiliki, pola, klasik, dengan,...</td>\n",
       "      <td>[batik, sogan, memiliki, pola, klasik, warna, ...</td>\n",
       "      <td>[batik, sogan, memiliki, pola, klasik, warna, ...</td>\n",
       "    </tr>\n",
       "    <tr>\n",
       "      <th>19</th>\n",
       "      <td>Batik Tambal</td>\n",
       "      <td>Batik Tambal memiliki pola tambalan kecil-keci...</td>\n",
       "      <td>batik-tambal</td>\n",
       "      <td>batik-tambal.jpg</td>\n",
       "      <td>batik tambal memiliki pola tambalan kecil-keci...</td>\n",
       "      <td>batik tambal memiliki pola tambalan kecilkecil...</td>\n",
       "      <td>[batik, tambal, memiliki, pola, tambalan, keci...</td>\n",
       "      <td>[batik, tambal, memiliki, pola, tambalan, keci...</td>\n",
       "      <td>[batik, tambal, memiliki, pola, tambalan, keci...</td>\n",
       "    </tr>\n",
       "  </tbody>\n",
       "</table>\n",
       "</div>"
      ],
      "text/plain": [
       "                 Nama                                          Deskripsi  \\\n",
       "0          Batik Bali  Batik Bali memiliki motif rumit yang terinspir...   \n",
       "1        Batik Betawi  Batik Betawi memiliki motif geometris sederhan...   \n",
       "2         Batik Celup  Batik Celup memiliki pola abstrak dengan grada...   \n",
       "3   Batik Cendrawasih  Batik Cendrawasih menampilkan motif burung cen...   \n",
       "4        Batik Ceplok  Batik Ceplok memiliki pola geometris berulang ...   \n",
       "5        Batik Ciamis  Batik Ciamis memiliki motif sederhana dengan p...   \n",
       "6       Batik Garutan  Batik Garutan memiliki motif bunga, daun, atau...   \n",
       "7     Batik Gentongan  Batik Gentongan memiliki motif bunga besar den...   \n",
       "8        Batik Kawung  Batik Kawung memiliki motif lingkaran geometri...   \n",
       "9       Batik Keraton  Batik Keraton memiliki motif klasik seperti Pa...   \n",
       "10        Batik Lasem  Batik Lasem didominasi warna merah cerah khas ...   \n",
       "11  Batik Megamendung  Batik Megamendung memiliki motif awan bergrada...   \n",
       "12       Batik Parang  Batik Parang memiliki motif garis melengkung m...   \n",
       "13   Batik Pekalongan  Batik Pekalongan memiliki pola flora dan fauna...   \n",
       "14     Batik Priangan  Batik Priangan memiliki pola bunga kecil dan d...   \n",
       "15        Batik Sekar  Batik Sekar memiliki pola bunga yang indah dan...   \n",
       "16    Batik Sidoluhur  Batik Sidoluhur memiliki motif klasik dengan p...   \n",
       "17    Batik Sidomukti  Batik Sidomukti memiliki pola bunga dan geomet...   \n",
       "18        Batik Sogan  Batik Sogan memiliki pola klasik dengan warna ...   \n",
       "19       Batik Tambal  Batik Tambal memiliki pola tambalan kecil-keci...   \n",
       "\n",
       "          Path Folder            Path Gambar  \\\n",
       "0          batik-bali         batik-bali.jpg   \n",
       "1        batik-betawi       batik-betawi.jpg   \n",
       "2         batik-celup        batik-celup.jpg   \n",
       "3   batik-cendrawasih  batik-cendrawasih.jpg   \n",
       "4        batik-ceplok       batik-ceplok.jpg   \n",
       "5        batik-ciamis       batik-ciamis.jpg   \n",
       "6       batik-garutan      batik-garutan.jpg   \n",
       "7     batik-gentongan    batik-gentongan.jpg   \n",
       "8        batik-kawung       batik-kawung.jpg   \n",
       "9       batik-keraton      batik-keraton.jpg   \n",
       "10        batik-lasem        batik-lasem.jpg   \n",
       "11  batik-megamendung  batik-megamendung.jpg   \n",
       "12       batik-parang       batik-parang.jpg   \n",
       "13   batik-pekalongan   batik-pekalongan.jpg   \n",
       "14     batik-priangan     batik-priangan.jpg   \n",
       "15        batik-sekar        batik-sekar.jpg   \n",
       "16    batik-sidoluhur    batik-sidoluhur.jpg   \n",
       "17    batik-sidomukti    batik-sidomukti.jpg   \n",
       "18        batik-sogan        batik-sogan.jpg   \n",
       "19       batik-tambal       batik-tambal.jpg   \n",
       "\n",
       "                                Deskripsi_casefolding  \\\n",
       "0   batik bali memiliki motif rumit yang terinspir...   \n",
       "1   batik betawi memiliki motif geometris sederhan...   \n",
       "2   batik celup memiliki pola abstrak dengan grada...   \n",
       "3   batik cendrawasih menampilkan motif burung cen...   \n",
       "4   batik ceplok memiliki pola geometris berulang ...   \n",
       "5   batik ciamis memiliki motif sederhana dengan p...   \n",
       "6   batik garutan memiliki motif bunga, daun, atau...   \n",
       "7   batik gentongan memiliki motif bunga besar den...   \n",
       "8   batik kawung memiliki motif lingkaran geometri...   \n",
       "9   batik keraton memiliki motif klasik seperti pa...   \n",
       "10  batik lasem didominasi warna merah cerah khas ...   \n",
       "11  batik megamendung memiliki motif awan bergrada...   \n",
       "12  batik parang memiliki motif garis melengkung m...   \n",
       "13  batik pekalongan memiliki pola flora dan fauna...   \n",
       "14  batik priangan memiliki pola bunga kecil dan d...   \n",
       "15  batik sekar memiliki pola bunga yang indah dan...   \n",
       "16  batik sidoluhur memiliki motif klasik dengan p...   \n",
       "17  batik sidomukti memiliki pola bunga dan geomet...   \n",
       "18  batik sogan memiliki pola klasik dengan warna ...   \n",
       "19  batik tambal memiliki pola tambalan kecil-keci...   \n",
       "\n",
       "                                      Deskripsi_clean  \\\n",
       "0   batik bali memiliki motif rumit yang terinspir...   \n",
       "1   batik betawi memiliki motif geometris sederhan...   \n",
       "2   batik celup memiliki pola abstrak dengan grada...   \n",
       "3   batik cendrawasih menampilkan motif burung cen...   \n",
       "4   batik ceplok memiliki pola geometris berulang ...   \n",
       "5   batik ciamis memiliki motif sederhana dengan p...   \n",
       "6   batik garutan memiliki motif bunga daun atau b...   \n",
       "7   batik gentongan memiliki motif bunga besar den...   \n",
       "8   batik kawung memiliki motif lingkaran geometri...   \n",
       "9   batik keraton memiliki motif klasik seperti pa...   \n",
       "10  batik lasem didominasi warna merah cerah khas ...   \n",
       "11  batik megamendung memiliki motif awan bergrada...   \n",
       "12  batik parang memiliki motif garis melengkung m...   \n",
       "13  batik pekalongan memiliki pola flora dan fauna...   \n",
       "14  batik priangan memiliki pola bunga kecil dan d...   \n",
       "15  batik sekar memiliki pola bunga yang indah dan...   \n",
       "16  batik sidoluhur memiliki motif klasik dengan p...   \n",
       "17  batik sidomukti memiliki pola bunga dan geomet...   \n",
       "18  batik sogan memiliki pola klasik dengan warna ...   \n",
       "19  batik tambal memiliki pola tambalan kecilkecil...   \n",
       "\n",
       "                                            tokenized  \\\n",
       "0   [batik, bali, memiliki, motif, rumit, yang, te...   \n",
       "1   [batik, betawi, memiliki, motif, geometris, se...   \n",
       "2   [batik, celup, memiliki, pola, abstrak, dengan...   \n",
       "3   [batik, cendrawasih, menampilkan, motif, burun...   \n",
       "4   [batik, ceplok, memiliki, pola, geometris, ber...   \n",
       "5   [batik, ciamis, memiliki, motif, sederhana, de...   \n",
       "6   [batik, garutan, memiliki, motif, bunga, daun,...   \n",
       "7   [batik, gentongan, memiliki, motif, bunga, bes...   \n",
       "8   [batik, kawung, memiliki, motif, lingkaran, ge...   \n",
       "9   [batik, keraton, memiliki, motif, klasik, sepe...   \n",
       "10  [batik, lasem, didominasi, warna, merah, cerah...   \n",
       "11  [batik, megamendung, memiliki, motif, awan, be...   \n",
       "12  [batik, parang, memiliki, motif, garis, meleng...   \n",
       "13  [batik, pekalongan, memiliki, pola, flora, dan...   \n",
       "14  [batik, priangan, memiliki, pola, bunga, kecil...   \n",
       "15  [batik, sekar, memiliki, pola, bunga, yang, in...   \n",
       "16  [batik, sidoluhur, memiliki, motif, klasik, de...   \n",
       "17  [batik, sidomukti, memiliki, pola, bunga, dan,...   \n",
       "18  [batik, sogan, memiliki, pola, klasik, dengan,...   \n",
       "19  [batik, tambal, memiliki, pola, tambalan, keci...   \n",
       "\n",
       "                                         stop_removed  \\\n",
       "0   [batik, bali, memiliki, motif, rumit, terinspi...   \n",
       "1   [batik, betawi, memiliki, motif, geometris, se...   \n",
       "2   [batik, celup, memiliki, pola, abstrak, gradas...   \n",
       "3   [batik, cendrawasih, menampilkan, motif, burun...   \n",
       "4   [batik, ceplok, memiliki, pola, geometris, ber...   \n",
       "5   [batik, ciamis, memiliki, motif, sederhana, po...   \n",
       "6   [batik, garutan, memiliki, motif, bunga, daun,...   \n",
       "7   [batik, gentongan, memiliki, motif, bunga, war...   \n",
       "8   [batik, kawung, memiliki, motif, lingkaran, ge...   \n",
       "9   [batik, keraton, memiliki, motif, klasik, para...   \n",
       "10  [batik, lasem, didominasi, warna, merah, cerah...   \n",
       "11  [batik, megamendung, memiliki, motif, awan, be...   \n",
       "12  [batik, parang, memiliki, motif, garis, meleng...   \n",
       "13  [batik, pekalongan, memiliki, pola, flora, fau...   \n",
       "14  [batik, priangan, memiliki, pola, bunga, dedau...   \n",
       "15  [batik, sekar, memiliki, pola, bunga, indah, e...   \n",
       "16  [batik, sidoluhur, memiliki, motif, klasik, po...   \n",
       "17  [batik, sidomukti, memiliki, pola, bunga, geom...   \n",
       "18  [batik, sogan, memiliki, pola, klasik, warna, ...   \n",
       "19  [batik, tambal, memiliki, pola, tambalan, keci...   \n",
       "\n",
       "                                           lemmatized  \n",
       "0   [batik, bali, memiliki, motif, rumit, terinspi...  \n",
       "1   [batik, betawi, memiliki, motif, geometris, se...  \n",
       "2   [batik, celup, memiliki, pola, abstrak, gradas...  \n",
       "3   [batik, cendrawasih, menampilkan, motif, burun...  \n",
       "4   [batik, ceplok, memiliki, pola, geometris, ber...  \n",
       "5   [batik, ciamis, memiliki, motif, sederhana, po...  \n",
       "6   [batik, garutan, memiliki, motif, bunga, daun,...  \n",
       "7   [batik, gentongan, memiliki, motif, bunga, war...  \n",
       "8   [batik, kawung, memiliki, motif, lingkaran, ge...  \n",
       "9   [batik, keraton, memiliki, motif, klasik, para...  \n",
       "10  [batik, lasem, didominasi, warna, merah, cerah...  \n",
       "11  [batik, megamendung, memiliki, motif, awan, be...  \n",
       "12  [batik, parang, memiliki, motif, gari, melengk...  \n",
       "13  [batik, pekalongan, memiliki, pola, flora, fau...  \n",
       "14  [batik, priangan, memiliki, pola, bunga, dedau...  \n",
       "15  [batik, sekar, memiliki, pola, bunga, indah, e...  \n",
       "16  [batik, sidoluhur, memiliki, motif, klasik, po...  \n",
       "17  [batik, sidomukti, memiliki, pola, bunga, geom...  \n",
       "18  [batik, sogan, memiliki, pola, klasik, warna, ...  \n",
       "19  [batik, tambal, memiliki, pola, tambalan, keci...  "
      ]
     },
     "execution_count": 25,
     "metadata": {},
     "output_type": "execute_result"
    }
   ],
   "source": [
    "df"
   ]
  },
  {
   "cell_type": "markdown",
   "metadata": {},
   "source": [
    "## Detokenization"
   ]
  },
  {
   "cell_type": "code",
   "execution_count": 26,
   "metadata": {},
   "outputs": [],
   "source": [
    "df['preprocessing'] = df['lemmatized'].apply(lambda tokens: ' '.join(tokens))\n"
   ]
  },
  {
   "cell_type": "code",
   "execution_count": 27,
   "metadata": {},
   "outputs": [
    {
     "data": {
      "text/plain": [
       "'batik megamendung memiliki motif awan bergradasi warna biru putih merah melambangkan kesejukan ketenangan batik warisan budaya cirebon jawa barat'"
      ]
     },
     "execution_count": 27,
     "metadata": {},
     "output_type": "execute_result"
    }
   ],
   "source": [
    "df.iloc[11]['preprocessing']"
   ]
  },
  {
   "cell_type": "code",
   "execution_count": 28,
   "metadata": {},
   "outputs": [
    {
     "data": {
      "text/html": [
       "<div>\n",
       "<style scoped>\n",
       "    .dataframe tbody tr th:only-of-type {\n",
       "        vertical-align: middle;\n",
       "    }\n",
       "\n",
       "    .dataframe tbody tr th {\n",
       "        vertical-align: top;\n",
       "    }\n",
       "\n",
       "    .dataframe thead th {\n",
       "        text-align: right;\n",
       "    }\n",
       "</style>\n",
       "<table border=\"1\" class=\"dataframe\">\n",
       "  <thead>\n",
       "    <tr style=\"text-align: right;\">\n",
       "      <th></th>\n",
       "      <th>Nama</th>\n",
       "      <th>Deskripsi</th>\n",
       "      <th>Path Folder</th>\n",
       "      <th>Path Gambar</th>\n",
       "      <th>Deskripsi_casefolding</th>\n",
       "      <th>Deskripsi_clean</th>\n",
       "      <th>tokenized</th>\n",
       "      <th>stop_removed</th>\n",
       "      <th>lemmatized</th>\n",
       "      <th>preprocessing</th>\n",
       "    </tr>\n",
       "  </thead>\n",
       "  <tbody>\n",
       "    <tr>\n",
       "      <th>0</th>\n",
       "      <td>Batik Bali</td>\n",
       "      <td>Batik Bali memiliki motif rumit yang terinspir...</td>\n",
       "      <td>batik-bali</td>\n",
       "      <td>batik-bali.jpg</td>\n",
       "      <td>batik bali memiliki motif rumit yang terinspir...</td>\n",
       "      <td>batik bali memiliki motif rumit yang terinspir...</td>\n",
       "      <td>[batik, bali, memiliki, motif, rumit, yang, te...</td>\n",
       "      <td>[batik, bali, memiliki, motif, rumit, terinspi...</td>\n",
       "      <td>[batik, bali, memiliki, motif, rumit, terinspi...</td>\n",
       "      <td>batik bali memiliki motif rumit terinspirasi b...</td>\n",
       "    </tr>\n",
       "    <tr>\n",
       "      <th>1</th>\n",
       "      <td>Batik Betawi</td>\n",
       "      <td>Batik Betawi memiliki motif geometris sederhan...</td>\n",
       "      <td>batik-betawi</td>\n",
       "      <td>batik-betawi.jpg</td>\n",
       "      <td>batik betawi memiliki motif geometris sederhan...</td>\n",
       "      <td>batik betawi memiliki motif geometris sederhan...</td>\n",
       "      <td>[batik, betawi, memiliki, motif, geometris, se...</td>\n",
       "      <td>[batik, betawi, memiliki, motif, geometris, se...</td>\n",
       "      <td>[batik, betawi, memiliki, motif, geometris, se...</td>\n",
       "      <td>batik betawi memiliki motif geometris sederhan...</td>\n",
       "    </tr>\n",
       "    <tr>\n",
       "      <th>2</th>\n",
       "      <td>Batik Celup</td>\n",
       "      <td>Batik Celup memiliki pola abstrak dengan grada...</td>\n",
       "      <td>batik-celup</td>\n",
       "      <td>batik-celup.jpg</td>\n",
       "      <td>batik celup memiliki pola abstrak dengan grada...</td>\n",
       "      <td>batik celup memiliki pola abstrak dengan grada...</td>\n",
       "      <td>[batik, celup, memiliki, pola, abstrak, dengan...</td>\n",
       "      <td>[batik, celup, memiliki, pola, abstrak, gradas...</td>\n",
       "      <td>[batik, celup, memiliki, pola, abstrak, gradas...</td>\n",
       "      <td>batik celup memiliki pola abstrak gradasi warn...</td>\n",
       "    </tr>\n",
       "    <tr>\n",
       "      <th>3</th>\n",
       "      <td>Batik Cendrawasih</td>\n",
       "      <td>Batik Cendrawasih menampilkan motif burung cen...</td>\n",
       "      <td>batik-cendrawasih</td>\n",
       "      <td>batik-cendrawasih.jpg</td>\n",
       "      <td>batik cendrawasih menampilkan motif burung cen...</td>\n",
       "      <td>batik cendrawasih menampilkan motif burung cen...</td>\n",
       "      <td>[batik, cendrawasih, menampilkan, motif, burun...</td>\n",
       "      <td>[batik, cendrawasih, menampilkan, motif, burun...</td>\n",
       "      <td>[batik, cendrawasih, menampilkan, motif, burun...</td>\n",
       "      <td>batik cendrawasih menampilkan motif burung cen...</td>\n",
       "    </tr>\n",
       "    <tr>\n",
       "      <th>4</th>\n",
       "      <td>Batik Ceplok</td>\n",
       "      <td>Batik Ceplok memiliki pola geometris berulang ...</td>\n",
       "      <td>batik-ceplok</td>\n",
       "      <td>batik-ceplok.jpg</td>\n",
       "      <td>batik ceplok memiliki pola geometris berulang ...</td>\n",
       "      <td>batik ceplok memiliki pola geometris berulang ...</td>\n",
       "      <td>[batik, ceplok, memiliki, pola, geometris, ber...</td>\n",
       "      <td>[batik, ceplok, memiliki, pola, geometris, ber...</td>\n",
       "      <td>[batik, ceplok, memiliki, pola, geometris, ber...</td>\n",
       "      <td>batik ceplok memiliki pola geometris berulang ...</td>\n",
       "    </tr>\n",
       "    <tr>\n",
       "      <th>5</th>\n",
       "      <td>Batik Ciamis</td>\n",
       "      <td>Batik Ciamis memiliki motif sederhana dengan p...</td>\n",
       "      <td>batik-ciamis</td>\n",
       "      <td>batik-ciamis.jpg</td>\n",
       "      <td>batik ciamis memiliki motif sederhana dengan p...</td>\n",
       "      <td>batik ciamis memiliki motif sederhana dengan p...</td>\n",
       "      <td>[batik, ciamis, memiliki, motif, sederhana, de...</td>\n",
       "      <td>[batik, ciamis, memiliki, motif, sederhana, po...</td>\n",
       "      <td>[batik, ciamis, memiliki, motif, sederhana, po...</td>\n",
       "      <td>batik ciamis memiliki motif sederhana pola bun...</td>\n",
       "    </tr>\n",
       "    <tr>\n",
       "      <th>6</th>\n",
       "      <td>Batik Garutan</td>\n",
       "      <td>Batik Garutan memiliki motif bunga, daun, atau...</td>\n",
       "      <td>batik-garutan</td>\n",
       "      <td>batik-garutan.jpg</td>\n",
       "      <td>batik garutan memiliki motif bunga, daun, atau...</td>\n",
       "      <td>batik garutan memiliki motif bunga daun atau b...</td>\n",
       "      <td>[batik, garutan, memiliki, motif, bunga, daun,...</td>\n",
       "      <td>[batik, garutan, memiliki, motif, bunga, daun,...</td>\n",
       "      <td>[batik, garutan, memiliki, motif, bunga, daun,...</td>\n",
       "      <td>batik garutan memiliki motif bunga daun burung...</td>\n",
       "    </tr>\n",
       "    <tr>\n",
       "      <th>7</th>\n",
       "      <td>Batik Gentongan</td>\n",
       "      <td>Batik Gentongan memiliki motif bunga besar den...</td>\n",
       "      <td>batik-gentongan</td>\n",
       "      <td>batik-gentongan.jpg</td>\n",
       "      <td>batik gentongan memiliki motif bunga besar den...</td>\n",
       "      <td>batik gentongan memiliki motif bunga besar den...</td>\n",
       "      <td>[batik, gentongan, memiliki, motif, bunga, bes...</td>\n",
       "      <td>[batik, gentongan, memiliki, motif, bunga, war...</td>\n",
       "      <td>[batik, gentongan, memiliki, motif, bunga, war...</td>\n",
       "      <td>batik gentongan memiliki motif bunga warna men...</td>\n",
       "    </tr>\n",
       "    <tr>\n",
       "      <th>8</th>\n",
       "      <td>Batik Kawung</td>\n",
       "      <td>Batik Kawung memiliki motif lingkaran geometri...</td>\n",
       "      <td>batik-kawung</td>\n",
       "      <td>batik-kawung.jpg</td>\n",
       "      <td>batik kawung memiliki motif lingkaran geometri...</td>\n",
       "      <td>batik kawung memiliki motif lingkaran geometri...</td>\n",
       "      <td>[batik, kawung, memiliki, motif, lingkaran, ge...</td>\n",
       "      <td>[batik, kawung, memiliki, motif, lingkaran, ge...</td>\n",
       "      <td>[batik, kawung, memiliki, motif, lingkaran, ge...</td>\n",
       "      <td>batik kawung memiliki motif lingkaran geometri...</td>\n",
       "    </tr>\n",
       "    <tr>\n",
       "      <th>9</th>\n",
       "      <td>Batik Keraton</td>\n",
       "      <td>Batik Keraton memiliki motif klasik seperti Pa...</td>\n",
       "      <td>batik-keraton</td>\n",
       "      <td>batik-keraton.jpg</td>\n",
       "      <td>batik keraton memiliki motif klasik seperti pa...</td>\n",
       "      <td>batik keraton memiliki motif klasik seperti pa...</td>\n",
       "      <td>[batik, keraton, memiliki, motif, klasik, sepe...</td>\n",
       "      <td>[batik, keraton, memiliki, motif, klasik, para...</td>\n",
       "      <td>[batik, keraton, memiliki, motif, klasik, para...</td>\n",
       "      <td>batik keraton memiliki motif klasik parang saw...</td>\n",
       "    </tr>\n",
       "    <tr>\n",
       "      <th>10</th>\n",
       "      <td>Batik Lasem</td>\n",
       "      <td>Batik Lasem didominasi warna merah cerah khas ...</td>\n",
       "      <td>batik-lasem</td>\n",
       "      <td>batik-lasem.jpg</td>\n",
       "      <td>batik lasem didominasi warna merah cerah khas ...</td>\n",
       "      <td>batik lasem didominasi warna merah cerah khas ...</td>\n",
       "      <td>[batik, lasem, didominasi, warna, merah, cerah...</td>\n",
       "      <td>[batik, lasem, didominasi, warna, merah, cerah...</td>\n",
       "      <td>[batik, lasem, didominasi, warna, merah, cerah...</td>\n",
       "      <td>batik lasem didominasi warna merah cerah khas ...</td>\n",
       "    </tr>\n",
       "    <tr>\n",
       "      <th>11</th>\n",
       "      <td>Batik Megamendung</td>\n",
       "      <td>Batik Megamendung memiliki motif awan bergrada...</td>\n",
       "      <td>batik-megamendung</td>\n",
       "      <td>batik-megamendung.jpg</td>\n",
       "      <td>batik megamendung memiliki motif awan bergrada...</td>\n",
       "      <td>batik megamendung memiliki motif awan bergrada...</td>\n",
       "      <td>[batik, megamendung, memiliki, motif, awan, be...</td>\n",
       "      <td>[batik, megamendung, memiliki, motif, awan, be...</td>\n",
       "      <td>[batik, megamendung, memiliki, motif, awan, be...</td>\n",
       "      <td>batik megamendung memiliki motif awan bergrada...</td>\n",
       "    </tr>\n",
       "    <tr>\n",
       "      <th>12</th>\n",
       "      <td>Batik Parang</td>\n",
       "      <td>Batik Parang memiliki motif garis melengkung m...</td>\n",
       "      <td>batik-parang</td>\n",
       "      <td>batik-parang.jpg</td>\n",
       "      <td>batik parang memiliki motif garis melengkung m...</td>\n",
       "      <td>batik parang memiliki motif garis melengkung m...</td>\n",
       "      <td>[batik, parang, memiliki, motif, garis, meleng...</td>\n",
       "      <td>[batik, parang, memiliki, motif, garis, meleng...</td>\n",
       "      <td>[batik, parang, memiliki, motif, gari, melengk...</td>\n",
       "      <td>batik parang memiliki motif gari melengkung me...</td>\n",
       "    </tr>\n",
       "    <tr>\n",
       "      <th>13</th>\n",
       "      <td>Batik Pekalongan</td>\n",
       "      <td>Batik Pekalongan memiliki pola flora dan fauna...</td>\n",
       "      <td>batik-pekalongan</td>\n",
       "      <td>batik-pekalongan.jpg</td>\n",
       "      <td>batik pekalongan memiliki pola flora dan fauna...</td>\n",
       "      <td>batik pekalongan memiliki pola flora dan fauna...</td>\n",
       "      <td>[batik, pekalongan, memiliki, pola, flora, dan...</td>\n",
       "      <td>[batik, pekalongan, memiliki, pola, flora, fau...</td>\n",
       "      <td>[batik, pekalongan, memiliki, pola, flora, fau...</td>\n",
       "      <td>batik pekalongan memiliki pola flora fauna war...</td>\n",
       "    </tr>\n",
       "    <tr>\n",
       "      <th>14</th>\n",
       "      <td>Batik Priangan</td>\n",
       "      <td>Batik Priangan memiliki pola bunga kecil dan d...</td>\n",
       "      <td>batik-priangan</td>\n",
       "      <td>batik-priangan.jpg</td>\n",
       "      <td>batik priangan memiliki pola bunga kecil dan d...</td>\n",
       "      <td>batik priangan memiliki pola bunga kecil dan d...</td>\n",
       "      <td>[batik, priangan, memiliki, pola, bunga, kecil...</td>\n",
       "      <td>[batik, priangan, memiliki, pola, bunga, dedau...</td>\n",
       "      <td>[batik, priangan, memiliki, pola, bunga, dedau...</td>\n",
       "      <td>batik priangan memiliki pola bunga dedaunan wa...</td>\n",
       "    </tr>\n",
       "    <tr>\n",
       "      <th>15</th>\n",
       "      <td>Batik Sekar</td>\n",
       "      <td>Batik Sekar memiliki pola bunga yang indah dan...</td>\n",
       "      <td>batik-sekar</td>\n",
       "      <td>batik-sekar.jpg</td>\n",
       "      <td>batik sekar memiliki pola bunga yang indah dan...</td>\n",
       "      <td>batik sekar memiliki pola bunga yang indah dan...</td>\n",
       "      <td>[batik, sekar, memiliki, pola, bunga, yang, in...</td>\n",
       "      <td>[batik, sekar, memiliki, pola, bunga, indah, e...</td>\n",
       "      <td>[batik, sekar, memiliki, pola, bunga, indah, e...</td>\n",
       "      <td>batik sekar memiliki pola bunga indah elegan w...</td>\n",
       "    </tr>\n",
       "    <tr>\n",
       "      <th>16</th>\n",
       "      <td>Batik Sidoluhur</td>\n",
       "      <td>Batik Sidoluhur memiliki motif klasik dengan p...</td>\n",
       "      <td>batik-sidoluhur</td>\n",
       "      <td>batik-sidoluhur.jpg</td>\n",
       "      <td>batik sidoluhur memiliki motif klasik dengan p...</td>\n",
       "      <td>batik sidoluhur memiliki motif klasik dengan p...</td>\n",
       "      <td>[batik, sidoluhur, memiliki, motif, klasik, de...</td>\n",
       "      <td>[batik, sidoluhur, memiliki, motif, klasik, po...</td>\n",
       "      <td>[batik, sidoluhur, memiliki, motif, klasik, po...</td>\n",
       "      <td>batik sidoluhur memiliki motif klasik pola geo...</td>\n",
       "    </tr>\n",
       "    <tr>\n",
       "      <th>17</th>\n",
       "      <td>Batik Sidomukti</td>\n",
       "      <td>Batik Sidomukti memiliki pola bunga dan geomet...</td>\n",
       "      <td>batik-sidomukti</td>\n",
       "      <td>batik-sidomukti.jpg</td>\n",
       "      <td>batik sidomukti memiliki pola bunga dan geomet...</td>\n",
       "      <td>batik sidomukti memiliki pola bunga dan geomet...</td>\n",
       "      <td>[batik, sidomukti, memiliki, pola, bunga, dan,...</td>\n",
       "      <td>[batik, sidomukti, memiliki, pola, bunga, geom...</td>\n",
       "      <td>[batik, sidomukti, memiliki, pola, bunga, geom...</td>\n",
       "      <td>batik sidomukti memiliki pola bunga geometris ...</td>\n",
       "    </tr>\n",
       "    <tr>\n",
       "      <th>18</th>\n",
       "      <td>Batik Sogan</td>\n",
       "      <td>Batik Sogan memiliki pola klasik dengan warna ...</td>\n",
       "      <td>batik-sogan</td>\n",
       "      <td>batik-sogan.jpg</td>\n",
       "      <td>batik sogan memiliki pola klasik dengan warna ...</td>\n",
       "      <td>batik sogan memiliki pola klasik dengan warna ...</td>\n",
       "      <td>[batik, sogan, memiliki, pola, klasik, dengan,...</td>\n",
       "      <td>[batik, sogan, memiliki, pola, klasik, warna, ...</td>\n",
       "      <td>[batik, sogan, memiliki, pola, klasik, warna, ...</td>\n",
       "      <td>batik sogan memiliki pola klasik warna cokelat...</td>\n",
       "    </tr>\n",
       "    <tr>\n",
       "      <th>19</th>\n",
       "      <td>Batik Tambal</td>\n",
       "      <td>Batik Tambal memiliki pola tambalan kecil-keci...</td>\n",
       "      <td>batik-tambal</td>\n",
       "      <td>batik-tambal.jpg</td>\n",
       "      <td>batik tambal memiliki pola tambalan kecil-keci...</td>\n",
       "      <td>batik tambal memiliki pola tambalan kecilkecil...</td>\n",
       "      <td>[batik, tambal, memiliki, pola, tambalan, keci...</td>\n",
       "      <td>[batik, tambal, memiliki, pola, tambalan, keci...</td>\n",
       "      <td>[batik, tambal, memiliki, pola, tambalan, keci...</td>\n",
       "      <td>batik tambal memiliki pola tambalan kecilkecil...</td>\n",
       "    </tr>\n",
       "  </tbody>\n",
       "</table>\n",
       "</div>"
      ],
      "text/plain": [
       "                 Nama                                          Deskripsi  \\\n",
       "0          Batik Bali  Batik Bali memiliki motif rumit yang terinspir...   \n",
       "1        Batik Betawi  Batik Betawi memiliki motif geometris sederhan...   \n",
       "2         Batik Celup  Batik Celup memiliki pola abstrak dengan grada...   \n",
       "3   Batik Cendrawasih  Batik Cendrawasih menampilkan motif burung cen...   \n",
       "4        Batik Ceplok  Batik Ceplok memiliki pola geometris berulang ...   \n",
       "5        Batik Ciamis  Batik Ciamis memiliki motif sederhana dengan p...   \n",
       "6       Batik Garutan  Batik Garutan memiliki motif bunga, daun, atau...   \n",
       "7     Batik Gentongan  Batik Gentongan memiliki motif bunga besar den...   \n",
       "8        Batik Kawung  Batik Kawung memiliki motif lingkaran geometri...   \n",
       "9       Batik Keraton  Batik Keraton memiliki motif klasik seperti Pa...   \n",
       "10        Batik Lasem  Batik Lasem didominasi warna merah cerah khas ...   \n",
       "11  Batik Megamendung  Batik Megamendung memiliki motif awan bergrada...   \n",
       "12       Batik Parang  Batik Parang memiliki motif garis melengkung m...   \n",
       "13   Batik Pekalongan  Batik Pekalongan memiliki pola flora dan fauna...   \n",
       "14     Batik Priangan  Batik Priangan memiliki pola bunga kecil dan d...   \n",
       "15        Batik Sekar  Batik Sekar memiliki pola bunga yang indah dan...   \n",
       "16    Batik Sidoluhur  Batik Sidoluhur memiliki motif klasik dengan p...   \n",
       "17    Batik Sidomukti  Batik Sidomukti memiliki pola bunga dan geomet...   \n",
       "18        Batik Sogan  Batik Sogan memiliki pola klasik dengan warna ...   \n",
       "19       Batik Tambal  Batik Tambal memiliki pola tambalan kecil-keci...   \n",
       "\n",
       "          Path Folder            Path Gambar  \\\n",
       "0          batik-bali         batik-bali.jpg   \n",
       "1        batik-betawi       batik-betawi.jpg   \n",
       "2         batik-celup        batik-celup.jpg   \n",
       "3   batik-cendrawasih  batik-cendrawasih.jpg   \n",
       "4        batik-ceplok       batik-ceplok.jpg   \n",
       "5        batik-ciamis       batik-ciamis.jpg   \n",
       "6       batik-garutan      batik-garutan.jpg   \n",
       "7     batik-gentongan    batik-gentongan.jpg   \n",
       "8        batik-kawung       batik-kawung.jpg   \n",
       "9       batik-keraton      batik-keraton.jpg   \n",
       "10        batik-lasem        batik-lasem.jpg   \n",
       "11  batik-megamendung  batik-megamendung.jpg   \n",
       "12       batik-parang       batik-parang.jpg   \n",
       "13   batik-pekalongan   batik-pekalongan.jpg   \n",
       "14     batik-priangan     batik-priangan.jpg   \n",
       "15        batik-sekar        batik-sekar.jpg   \n",
       "16    batik-sidoluhur    batik-sidoluhur.jpg   \n",
       "17    batik-sidomukti    batik-sidomukti.jpg   \n",
       "18        batik-sogan        batik-sogan.jpg   \n",
       "19       batik-tambal       batik-tambal.jpg   \n",
       "\n",
       "                                Deskripsi_casefolding  \\\n",
       "0   batik bali memiliki motif rumit yang terinspir...   \n",
       "1   batik betawi memiliki motif geometris sederhan...   \n",
       "2   batik celup memiliki pola abstrak dengan grada...   \n",
       "3   batik cendrawasih menampilkan motif burung cen...   \n",
       "4   batik ceplok memiliki pola geometris berulang ...   \n",
       "5   batik ciamis memiliki motif sederhana dengan p...   \n",
       "6   batik garutan memiliki motif bunga, daun, atau...   \n",
       "7   batik gentongan memiliki motif bunga besar den...   \n",
       "8   batik kawung memiliki motif lingkaran geometri...   \n",
       "9   batik keraton memiliki motif klasik seperti pa...   \n",
       "10  batik lasem didominasi warna merah cerah khas ...   \n",
       "11  batik megamendung memiliki motif awan bergrada...   \n",
       "12  batik parang memiliki motif garis melengkung m...   \n",
       "13  batik pekalongan memiliki pola flora dan fauna...   \n",
       "14  batik priangan memiliki pola bunga kecil dan d...   \n",
       "15  batik sekar memiliki pola bunga yang indah dan...   \n",
       "16  batik sidoluhur memiliki motif klasik dengan p...   \n",
       "17  batik sidomukti memiliki pola bunga dan geomet...   \n",
       "18  batik sogan memiliki pola klasik dengan warna ...   \n",
       "19  batik tambal memiliki pola tambalan kecil-keci...   \n",
       "\n",
       "                                      Deskripsi_clean  \\\n",
       "0   batik bali memiliki motif rumit yang terinspir...   \n",
       "1   batik betawi memiliki motif geometris sederhan...   \n",
       "2   batik celup memiliki pola abstrak dengan grada...   \n",
       "3   batik cendrawasih menampilkan motif burung cen...   \n",
       "4   batik ceplok memiliki pola geometris berulang ...   \n",
       "5   batik ciamis memiliki motif sederhana dengan p...   \n",
       "6   batik garutan memiliki motif bunga daun atau b...   \n",
       "7   batik gentongan memiliki motif bunga besar den...   \n",
       "8   batik kawung memiliki motif lingkaran geometri...   \n",
       "9   batik keraton memiliki motif klasik seperti pa...   \n",
       "10  batik lasem didominasi warna merah cerah khas ...   \n",
       "11  batik megamendung memiliki motif awan bergrada...   \n",
       "12  batik parang memiliki motif garis melengkung m...   \n",
       "13  batik pekalongan memiliki pola flora dan fauna...   \n",
       "14  batik priangan memiliki pola bunga kecil dan d...   \n",
       "15  batik sekar memiliki pola bunga yang indah dan...   \n",
       "16  batik sidoluhur memiliki motif klasik dengan p...   \n",
       "17  batik sidomukti memiliki pola bunga dan geomet...   \n",
       "18  batik sogan memiliki pola klasik dengan warna ...   \n",
       "19  batik tambal memiliki pola tambalan kecilkecil...   \n",
       "\n",
       "                                            tokenized  \\\n",
       "0   [batik, bali, memiliki, motif, rumit, yang, te...   \n",
       "1   [batik, betawi, memiliki, motif, geometris, se...   \n",
       "2   [batik, celup, memiliki, pola, abstrak, dengan...   \n",
       "3   [batik, cendrawasih, menampilkan, motif, burun...   \n",
       "4   [batik, ceplok, memiliki, pola, geometris, ber...   \n",
       "5   [batik, ciamis, memiliki, motif, sederhana, de...   \n",
       "6   [batik, garutan, memiliki, motif, bunga, daun,...   \n",
       "7   [batik, gentongan, memiliki, motif, bunga, bes...   \n",
       "8   [batik, kawung, memiliki, motif, lingkaran, ge...   \n",
       "9   [batik, keraton, memiliki, motif, klasik, sepe...   \n",
       "10  [batik, lasem, didominasi, warna, merah, cerah...   \n",
       "11  [batik, megamendung, memiliki, motif, awan, be...   \n",
       "12  [batik, parang, memiliki, motif, garis, meleng...   \n",
       "13  [batik, pekalongan, memiliki, pola, flora, dan...   \n",
       "14  [batik, priangan, memiliki, pola, bunga, kecil...   \n",
       "15  [batik, sekar, memiliki, pola, bunga, yang, in...   \n",
       "16  [batik, sidoluhur, memiliki, motif, klasik, de...   \n",
       "17  [batik, sidomukti, memiliki, pola, bunga, dan,...   \n",
       "18  [batik, sogan, memiliki, pola, klasik, dengan,...   \n",
       "19  [batik, tambal, memiliki, pola, tambalan, keci...   \n",
       "\n",
       "                                         stop_removed  \\\n",
       "0   [batik, bali, memiliki, motif, rumit, terinspi...   \n",
       "1   [batik, betawi, memiliki, motif, geometris, se...   \n",
       "2   [batik, celup, memiliki, pola, abstrak, gradas...   \n",
       "3   [batik, cendrawasih, menampilkan, motif, burun...   \n",
       "4   [batik, ceplok, memiliki, pola, geometris, ber...   \n",
       "5   [batik, ciamis, memiliki, motif, sederhana, po...   \n",
       "6   [batik, garutan, memiliki, motif, bunga, daun,...   \n",
       "7   [batik, gentongan, memiliki, motif, bunga, war...   \n",
       "8   [batik, kawung, memiliki, motif, lingkaran, ge...   \n",
       "9   [batik, keraton, memiliki, motif, klasik, para...   \n",
       "10  [batik, lasem, didominasi, warna, merah, cerah...   \n",
       "11  [batik, megamendung, memiliki, motif, awan, be...   \n",
       "12  [batik, parang, memiliki, motif, garis, meleng...   \n",
       "13  [batik, pekalongan, memiliki, pola, flora, fau...   \n",
       "14  [batik, priangan, memiliki, pola, bunga, dedau...   \n",
       "15  [batik, sekar, memiliki, pola, bunga, indah, e...   \n",
       "16  [batik, sidoluhur, memiliki, motif, klasik, po...   \n",
       "17  [batik, sidomukti, memiliki, pola, bunga, geom...   \n",
       "18  [batik, sogan, memiliki, pola, klasik, warna, ...   \n",
       "19  [batik, tambal, memiliki, pola, tambalan, keci...   \n",
       "\n",
       "                                           lemmatized  \\\n",
       "0   [batik, bali, memiliki, motif, rumit, terinspi...   \n",
       "1   [batik, betawi, memiliki, motif, geometris, se...   \n",
       "2   [batik, celup, memiliki, pola, abstrak, gradas...   \n",
       "3   [batik, cendrawasih, menampilkan, motif, burun...   \n",
       "4   [batik, ceplok, memiliki, pola, geometris, ber...   \n",
       "5   [batik, ciamis, memiliki, motif, sederhana, po...   \n",
       "6   [batik, garutan, memiliki, motif, bunga, daun,...   \n",
       "7   [batik, gentongan, memiliki, motif, bunga, war...   \n",
       "8   [batik, kawung, memiliki, motif, lingkaran, ge...   \n",
       "9   [batik, keraton, memiliki, motif, klasik, para...   \n",
       "10  [batik, lasem, didominasi, warna, merah, cerah...   \n",
       "11  [batik, megamendung, memiliki, motif, awan, be...   \n",
       "12  [batik, parang, memiliki, motif, gari, melengk...   \n",
       "13  [batik, pekalongan, memiliki, pola, flora, fau...   \n",
       "14  [batik, priangan, memiliki, pola, bunga, dedau...   \n",
       "15  [batik, sekar, memiliki, pola, bunga, indah, e...   \n",
       "16  [batik, sidoluhur, memiliki, motif, klasik, po...   \n",
       "17  [batik, sidomukti, memiliki, pola, bunga, geom...   \n",
       "18  [batik, sogan, memiliki, pola, klasik, warna, ...   \n",
       "19  [batik, tambal, memiliki, pola, tambalan, keci...   \n",
       "\n",
       "                                        preprocessing  \n",
       "0   batik bali memiliki motif rumit terinspirasi b...  \n",
       "1   batik betawi memiliki motif geometris sederhan...  \n",
       "2   batik celup memiliki pola abstrak gradasi warn...  \n",
       "3   batik cendrawasih menampilkan motif burung cen...  \n",
       "4   batik ceplok memiliki pola geometris berulang ...  \n",
       "5   batik ciamis memiliki motif sederhana pola bun...  \n",
       "6   batik garutan memiliki motif bunga daun burung...  \n",
       "7   batik gentongan memiliki motif bunga warna men...  \n",
       "8   batik kawung memiliki motif lingkaran geometri...  \n",
       "9   batik keraton memiliki motif klasik parang saw...  \n",
       "10  batik lasem didominasi warna merah cerah khas ...  \n",
       "11  batik megamendung memiliki motif awan bergrada...  \n",
       "12  batik parang memiliki motif gari melengkung me...  \n",
       "13  batik pekalongan memiliki pola flora fauna war...  \n",
       "14  batik priangan memiliki pola bunga dedaunan wa...  \n",
       "15  batik sekar memiliki pola bunga indah elegan w...  \n",
       "16  batik sidoluhur memiliki motif klasik pola geo...  \n",
       "17  batik sidomukti memiliki pola bunga geometris ...  \n",
       "18  batik sogan memiliki pola klasik warna cokelat...  \n",
       "19  batik tambal memiliki pola tambalan kecilkecil...  "
      ]
     },
     "execution_count": 28,
     "metadata": {},
     "output_type": "execute_result"
    }
   ],
   "source": [
    "df"
   ]
  },
  {
   "cell_type": "markdown",
   "metadata": {},
   "source": [
    "## Save Dataset Text Pre-processing"
   ]
  },
  {
   "cell_type": "code",
   "execution_count": 29,
   "metadata": {},
   "outputs": [],
   "source": [
    "df.to_csv('../../datasets/in-procces/data_text_batik_processed.csv', index=False)"
   ]
  },
  {
   "cell_type": "markdown",
   "metadata": {},
   "source": [
    "# Feature Extraction"
   ]
  },
  {
   "cell_type": "markdown",
   "metadata": {},
   "source": [
    "## Load Tokenizer & Model"
   ]
  },
  {
   "cell_type": "code",
   "execution_count": 30,
   "metadata": {},
   "outputs": [
    {
     "name": "stderr",
     "output_type": "stream",
     "text": [
      "2025-02-21 06:35:39.375954: I tensorflow/core/platform/cpu_feature_guard.cc:210] This TensorFlow binary is optimized to use available CPU instructions in performance-critical operations.\n",
      "To enable the following instructions: AVX2 FMA, in other operations, rebuild TensorFlow with the appropriate compiler flags.\n"
     ]
    },
    {
     "data": {
      "text/plain": [
       "BertModel(\n",
       "  (embeddings): BertEmbeddings(\n",
       "    (word_embeddings): Embedding(50000, 768, padding_idx=0)\n",
       "    (position_embeddings): Embedding(512, 768)\n",
       "    (token_type_embeddings): Embedding(2, 768)\n",
       "    (LayerNorm): LayerNorm((768,), eps=1e-12, elementwise_affine=True)\n",
       "    (dropout): Dropout(p=0.1, inplace=False)\n",
       "  )\n",
       "  (encoder): BertEncoder(\n",
       "    (layer): ModuleList(\n",
       "      (0-11): 12 x BertLayer(\n",
       "        (attention): BertAttention(\n",
       "          (self): BertSdpaSelfAttention(\n",
       "            (query): Linear(in_features=768, out_features=768, bias=True)\n",
       "            (key): Linear(in_features=768, out_features=768, bias=True)\n",
       "            (value): Linear(in_features=768, out_features=768, bias=True)\n",
       "            (dropout): Dropout(p=0.1, inplace=False)\n",
       "          )\n",
       "          (output): BertSelfOutput(\n",
       "            (dense): Linear(in_features=768, out_features=768, bias=True)\n",
       "            (LayerNorm): LayerNorm((768,), eps=1e-12, elementwise_affine=True)\n",
       "            (dropout): Dropout(p=0.1, inplace=False)\n",
       "          )\n",
       "        )\n",
       "        (intermediate): BertIntermediate(\n",
       "          (dense): Linear(in_features=768, out_features=3072, bias=True)\n",
       "          (intermediate_act_fn): GELUActivation()\n",
       "        )\n",
       "        (output): BertOutput(\n",
       "          (dense): Linear(in_features=3072, out_features=768, bias=True)\n",
       "          (LayerNorm): LayerNorm((768,), eps=1e-12, elementwise_affine=True)\n",
       "          (dropout): Dropout(p=0.1, inplace=False)\n",
       "        )\n",
       "      )\n",
       "    )\n",
       "  )\n",
       "  (pooler): BertPooler(\n",
       "    (dense): Linear(in_features=768, out_features=768, bias=True)\n",
       "    (activation): Tanh()\n",
       "  )\n",
       ")"
      ]
     },
     "execution_count": 30,
     "metadata": {},
     "output_type": "execute_result"
    }
   ],
   "source": [
    "tokenizer = AutoTokenizer.from_pretrained(\"indobenchmark/indobert-base-p2\")\n",
    "model = AutoModel.from_pretrained(\"indobenchmark/indobert-base-p2\")\n",
    "model.eval()"
   ]
  },
  {
   "cell_type": "code",
   "execution_count": 31,
   "metadata": {},
   "outputs": [
    {
     "data": {
      "text/plain": [
       "Linear(in_features=768, out_features=256, bias=True)"
      ]
     },
     "execution_count": 31,
     "metadata": {},
     "output_type": "execute_result"
    }
   ],
   "source": [
    "projection = nn.Linear(768, 256)\n",
    "projection.eval()"
   ]
  },
  {
   "cell_type": "code",
   "execution_count": 32,
   "metadata": {},
   "outputs": [],
   "source": [
    "def get_text_embedding(text, model, tokenizer, projection, max_length=256):\n",
    "    # Tangani kasus teks kosong\n",
    "    if not text or str(text).strip() == \"\":\n",
    "        return np.zeros(256)\n",
    "    \n",
    "    # Tokenisasi dengan padding dan truncation\n",
    "    inputs = tokenizer(\n",
    "        text,\n",
    "        return_tensors=\"pt\",\n",
    "        max_length=max_length,\n",
    "        truncation=True,\n",
    "        padding=\"max_length\"\n",
    "    )\n",
    "    \n",
    "    with torch.no_grad():\n",
    "        outputs = model(**inputs)\n",
    "        # Ambil hidden state terakhir\n",
    "        last_hidden_state = outputs.last_hidden_state  # [1, seq_len, 768]\n",
    "        # Lakukan average pooling untuk mendapatkan vektor [768]\n",
    "        embedding = last_hidden_state.mean(dim=1)       # [1, 768]\n",
    "        # Proyeksikan ke 256 dimensi\n",
    "        projected_embedding = projection(embedding)     # [1, 256]\n",
    "        # Detach dan konversi ke NumPy\n",
    "        projected_embedding = projected_embedding.squeeze().detach().numpy()\n",
    "        \n",
    "    return projected_embedding"
   ]
  },
  {
   "cell_type": "markdown",
   "metadata": {},
   "source": [
    "## Import Preprocessed Dataset"
   ]
  },
  {
   "cell_type": "code",
   "execution_count": 33,
   "metadata": {},
   "outputs": [],
   "source": [
    "df_fe = pd.read_csv('../../datasets/in-procces/data_text_batik_processed.csv')"
   ]
  },
  {
   "cell_type": "code",
   "execution_count": 34,
   "metadata": {},
   "outputs": [
    {
     "data": {
      "text/plain": [
       "'batik megamendung memiliki motif awan bergradasi warna biru putih merah melambangkan kesejukan ketenangan batik warisan budaya cirebon jawa barat'"
      ]
     },
     "execution_count": 34,
     "metadata": {},
     "output_type": "execute_result"
    }
   ],
   "source": [
    "df_fe.iloc[11]['preprocessing']"
   ]
  },
  {
   "cell_type": "markdown",
   "metadata": {},
   "source": [
    "## Embedding Extraction"
   ]
  },
  {
   "cell_type": "code",
   "execution_count": 35,
   "metadata": {},
   "outputs": [],
   "source": [
    "df_fe['preprocessing_embedding'] = df_fe['preprocessing'].apply(lambda x: get_text_embedding(str(x), model, tokenizer, projection).tolist())"
   ]
  },
  {
   "cell_type": "code",
   "execution_count": 36,
   "metadata": {},
   "outputs": [
    {
     "data": {
      "text/plain": [
       "(20, 256)"
      ]
     },
     "execution_count": 36,
     "metadata": {},
     "output_type": "execute_result"
    }
   ],
   "source": [
    "np.vstack(df_fe['preprocessing_embedding']).shape\n"
   ]
  },
  {
   "cell_type": "markdown",
   "metadata": {},
   "source": [
    "## Save Embedding Extraction"
   ]
  },
  {
   "cell_type": "code",
   "execution_count": 38,
   "metadata": {},
   "outputs": [],
   "source": [
    "df_fe.to_csv('../../datasets/in-procces/data_text_batik_embed.csv', index=False)"
   ]
  },
  {
   "cell_type": "markdown",
   "metadata": {},
   "source": [
    "## Save Model with Projection"
   ]
  },
  {
   "cell_type": "code",
   "execution_count": 39,
   "metadata": {},
   "outputs": [],
   "source": [
    "checkpoint = {\n",
    "    'bert_model': model.state_dict(),\n",
    "    'projection': projection.state_dict()\n",
    "}"
   ]
  },
  {
   "cell_type": "code",
   "execution_count": 40,
   "metadata": {},
   "outputs": [],
   "source": [
    "torch.save(checkpoint, \"../../models/indobert-p2-projection256.pth\")"
   ]
  },
  {
   "cell_type": "code",
   "execution_count": 41,
   "metadata": {},
   "outputs": [
    {
     "data": {
      "text/plain": [
       "Linear(in_features=768, out_features=256, bias=True)"
      ]
     },
     "execution_count": 41,
     "metadata": {},
     "output_type": "execute_result"
    }
   ],
   "source": [
    "checkpoint = torch.load('../../models/indobert-p2-projection256.pth')\n",
    "\n",
    "model.load_state_dict(checkpoint['bert_model'])\n",
    "projection.load_state_dict(checkpoint['projection'])\n",
    "\n",
    "model.eval()\n",
    "projection.eval()"
   ]
  },
  {
   "cell_type": "markdown",
   "metadata": {},
   "source": [
    "# Visualization"
   ]
  },
  {
   "cell_type": "code",
   "execution_count": 53,
   "metadata": {},
   "outputs": [],
   "source": [
    "df_vi = pd.read_csv('../../datasets/in-procces/data_text_batik_embed.csv')"
   ]
  },
  {
   "cell_type": "code",
   "execution_count": 54,
   "metadata": {},
   "outputs": [
    {
     "data": {
      "text/html": [
       "<div>\n",
       "<style scoped>\n",
       "    .dataframe tbody tr th:only-of-type {\n",
       "        vertical-align: middle;\n",
       "    }\n",
       "\n",
       "    .dataframe tbody tr th {\n",
       "        vertical-align: top;\n",
       "    }\n",
       "\n",
       "    .dataframe thead th {\n",
       "        text-align: right;\n",
       "    }\n",
       "</style>\n",
       "<table border=\"1\" class=\"dataframe\">\n",
       "  <thead>\n",
       "    <tr style=\"text-align: right;\">\n",
       "      <th></th>\n",
       "      <th>Nama</th>\n",
       "      <th>Deskripsi</th>\n",
       "      <th>Path Folder</th>\n",
       "      <th>Path Gambar</th>\n",
       "      <th>Deskripsi_casefolding</th>\n",
       "      <th>Deskripsi_clean</th>\n",
       "      <th>tokenized</th>\n",
       "      <th>stop_removed</th>\n",
       "      <th>lemmatized</th>\n",
       "      <th>preprocessing</th>\n",
       "      <th>preprocessing_embedding</th>\n",
       "    </tr>\n",
       "  </thead>\n",
       "  <tbody>\n",
       "    <tr>\n",
       "      <th>0</th>\n",
       "      <td>Batik Bali</td>\n",
       "      <td>Batik Bali memiliki motif rumit yang terinspir...</td>\n",
       "      <td>batik-bali</td>\n",
       "      <td>batik-bali.jpg</td>\n",
       "      <td>batik bali memiliki motif rumit yang terinspir...</td>\n",
       "      <td>batik bali memiliki motif rumit yang terinspir...</td>\n",
       "      <td>['batik', 'bali', 'memiliki', 'motif', 'rumit'...</td>\n",
       "      <td>['batik', 'bali', 'memiliki', 'motif', 'rumit'...</td>\n",
       "      <td>['batik', 'bali', 'memiliki', 'motif', 'rumit'...</td>\n",
       "      <td>batik bali memiliki motif rumit terinspirasi b...</td>\n",
       "      <td>[0.3322688043117523, 0.2934962511062622, 0.148...</td>\n",
       "    </tr>\n",
       "    <tr>\n",
       "      <th>1</th>\n",
       "      <td>Batik Betawi</td>\n",
       "      <td>Batik Betawi memiliki motif geometris sederhan...</td>\n",
       "      <td>batik-betawi</td>\n",
       "      <td>batik-betawi.jpg</td>\n",
       "      <td>batik betawi memiliki motif geometris sederhan...</td>\n",
       "      <td>batik betawi memiliki motif geometris sederhan...</td>\n",
       "      <td>['batik', 'betawi', 'memiliki', 'motif', 'geom...</td>\n",
       "      <td>['batik', 'betawi', 'memiliki', 'motif', 'geom...</td>\n",
       "      <td>['batik', 'betawi', 'memiliki', 'motif', 'geom...</td>\n",
       "      <td>batik betawi memiliki motif geometris sederhan...</td>\n",
       "      <td>[0.07265201956033707, 0.2657928168773651, 0.19...</td>\n",
       "    </tr>\n",
       "    <tr>\n",
       "      <th>2</th>\n",
       "      <td>Batik Celup</td>\n",
       "      <td>Batik Celup memiliki pola abstrak dengan grada...</td>\n",
       "      <td>batik-celup</td>\n",
       "      <td>batik-celup.jpg</td>\n",
       "      <td>batik celup memiliki pola abstrak dengan grada...</td>\n",
       "      <td>batik celup memiliki pola abstrak dengan grada...</td>\n",
       "      <td>['batik', 'celup', 'memiliki', 'pola', 'abstra...</td>\n",
       "      <td>['batik', 'celup', 'memiliki', 'pola', 'abstra...</td>\n",
       "      <td>['batik', 'celup', 'memiliki', 'pola', 'abstra...</td>\n",
       "      <td>batik celup memiliki pola abstrak gradasi warn...</td>\n",
       "      <td>[0.013769574463367462, 0.3355376422405243, 0.0...</td>\n",
       "    </tr>\n",
       "    <tr>\n",
       "      <th>3</th>\n",
       "      <td>Batik Cendrawasih</td>\n",
       "      <td>Batik Cendrawasih menampilkan motif burung cen...</td>\n",
       "      <td>batik-cendrawasih</td>\n",
       "      <td>batik-cendrawasih.jpg</td>\n",
       "      <td>batik cendrawasih menampilkan motif burung cen...</td>\n",
       "      <td>batik cendrawasih menampilkan motif burung cen...</td>\n",
       "      <td>['batik', 'cendrawasih', 'menampilkan', 'motif...</td>\n",
       "      <td>['batik', 'cendrawasih', 'menampilkan', 'motif...</td>\n",
       "      <td>['batik', 'cendrawasih', 'menampilkan', 'motif...</td>\n",
       "      <td>batik cendrawasih menampilkan motif burung cen...</td>\n",
       "      <td>[0.7157406210899353, 0.7801889181137085, -0.01...</td>\n",
       "    </tr>\n",
       "    <tr>\n",
       "      <th>4</th>\n",
       "      <td>Batik Ceplok</td>\n",
       "      <td>Batik Ceplok memiliki pola geometris berulang ...</td>\n",
       "      <td>batik-ceplok</td>\n",
       "      <td>batik-ceplok.jpg</td>\n",
       "      <td>batik ceplok memiliki pola geometris berulang ...</td>\n",
       "      <td>batik ceplok memiliki pola geometris berulang ...</td>\n",
       "      <td>['batik', 'ceplok', 'memiliki', 'pola', 'geome...</td>\n",
       "      <td>['batik', 'ceplok', 'memiliki', 'pola', 'geome...</td>\n",
       "      <td>['batik', 'ceplok', 'memiliki', 'pola', 'geome...</td>\n",
       "      <td>batik ceplok memiliki pola geometris berulang ...</td>\n",
       "      <td>[-0.05024304240942001, 0.3212023377418518, 0.0...</td>\n",
       "    </tr>\n",
       "    <tr>\n",
       "      <th>5</th>\n",
       "      <td>Batik Ciamis</td>\n",
       "      <td>Batik Ciamis memiliki motif sederhana dengan p...</td>\n",
       "      <td>batik-ciamis</td>\n",
       "      <td>batik-ciamis.jpg</td>\n",
       "      <td>batik ciamis memiliki motif sederhana dengan p...</td>\n",
       "      <td>batik ciamis memiliki motif sederhana dengan p...</td>\n",
       "      <td>['batik', 'ciamis', 'memiliki', 'motif', 'sede...</td>\n",
       "      <td>['batik', 'ciamis', 'memiliki', 'motif', 'sede...</td>\n",
       "      <td>['batik', 'ciamis', 'memiliki', 'motif', 'sede...</td>\n",
       "      <td>batik ciamis memiliki motif sederhana pola bun...</td>\n",
       "      <td>[0.01742059737443924, 0.254853755235672, -0.23...</td>\n",
       "    </tr>\n",
       "    <tr>\n",
       "      <th>6</th>\n",
       "      <td>Batik Garutan</td>\n",
       "      <td>Batik Garutan memiliki motif bunga, daun, atau...</td>\n",
       "      <td>batik-garutan</td>\n",
       "      <td>batik-garutan.jpg</td>\n",
       "      <td>batik garutan memiliki motif bunga, daun, atau...</td>\n",
       "      <td>batik garutan memiliki motif bunga daun atau b...</td>\n",
       "      <td>['batik', 'garutan', 'memiliki', 'motif', 'bun...</td>\n",
       "      <td>['batik', 'garutan', 'memiliki', 'motif', 'bun...</td>\n",
       "      <td>['batik', 'garutan', 'memiliki', 'motif', 'bun...</td>\n",
       "      <td>batik garutan memiliki motif bunga daun burung...</td>\n",
       "      <td>[0.15656530857086182, 0.6932697296142578, -0.3...</td>\n",
       "    </tr>\n",
       "    <tr>\n",
       "      <th>7</th>\n",
       "      <td>Batik Gentongan</td>\n",
       "      <td>Batik Gentongan memiliki motif bunga besar den...</td>\n",
       "      <td>batik-gentongan</td>\n",
       "      <td>batik-gentongan.jpg</td>\n",
       "      <td>batik gentongan memiliki motif bunga besar den...</td>\n",
       "      <td>batik gentongan memiliki motif bunga besar den...</td>\n",
       "      <td>['batik', 'gentongan', 'memiliki', 'motif', 'b...</td>\n",
       "      <td>['batik', 'gentongan', 'memiliki', 'motif', 'b...</td>\n",
       "      <td>['batik', 'gentongan', 'memiliki', 'motif', 'b...</td>\n",
       "      <td>batik gentongan memiliki motif bunga warna men...</td>\n",
       "      <td>[0.34450066089630127, 0.3650816082954407, 0.04...</td>\n",
       "    </tr>\n",
       "    <tr>\n",
       "      <th>8</th>\n",
       "      <td>Batik Kawung</td>\n",
       "      <td>Batik Kawung memiliki motif lingkaran geometri...</td>\n",
       "      <td>batik-kawung</td>\n",
       "      <td>batik-kawung.jpg</td>\n",
       "      <td>batik kawung memiliki motif lingkaran geometri...</td>\n",
       "      <td>batik kawung memiliki motif lingkaran geometri...</td>\n",
       "      <td>['batik', 'kawung', 'memiliki', 'motif', 'ling...</td>\n",
       "      <td>['batik', 'kawung', 'memiliki', 'motif', 'ling...</td>\n",
       "      <td>['batik', 'kawung', 'memiliki', 'motif', 'ling...</td>\n",
       "      <td>batik kawung memiliki motif lingkaran geometri...</td>\n",
       "      <td>[0.114462710916996, 0.36451849341392517, 0.241...</td>\n",
       "    </tr>\n",
       "    <tr>\n",
       "      <th>9</th>\n",
       "      <td>Batik Keraton</td>\n",
       "      <td>Batik Keraton memiliki motif klasik seperti Pa...</td>\n",
       "      <td>batik-keraton</td>\n",
       "      <td>batik-keraton.jpg</td>\n",
       "      <td>batik keraton memiliki motif klasik seperti pa...</td>\n",
       "      <td>batik keraton memiliki motif klasik seperti pa...</td>\n",
       "      <td>['batik', 'keraton', 'memiliki', 'motif', 'kla...</td>\n",
       "      <td>['batik', 'keraton', 'memiliki', 'motif', 'kla...</td>\n",
       "      <td>['batik', 'keraton', 'memiliki', 'motif', 'kla...</td>\n",
       "      <td>batik keraton memiliki motif klasik parang saw...</td>\n",
       "      <td>[-0.220091313123703, 0.7498683929443359, -0.06...</td>\n",
       "    </tr>\n",
       "    <tr>\n",
       "      <th>10</th>\n",
       "      <td>Batik Lasem</td>\n",
       "      <td>Batik Lasem didominasi warna merah cerah khas ...</td>\n",
       "      <td>batik-lasem</td>\n",
       "      <td>batik-lasem.jpg</td>\n",
       "      <td>batik lasem didominasi warna merah cerah khas ...</td>\n",
       "      <td>batik lasem didominasi warna merah cerah khas ...</td>\n",
       "      <td>['batik', 'lasem', 'didominasi', 'warna', 'mer...</td>\n",
       "      <td>['batik', 'lasem', 'didominasi', 'warna', 'mer...</td>\n",
       "      <td>['batik', 'lasem', 'didominasi', 'warna', 'mer...</td>\n",
       "      <td>batik lasem didominasi warna merah cerah khas ...</td>\n",
       "      <td>[-0.06592390686273575, 0.29436537623405457, 0....</td>\n",
       "    </tr>\n",
       "    <tr>\n",
       "      <th>11</th>\n",
       "      <td>Batik Megamendung</td>\n",
       "      <td>Batik Megamendung memiliki motif awan bergrada...</td>\n",
       "      <td>batik-megamendung</td>\n",
       "      <td>batik-megamendung.jpg</td>\n",
       "      <td>batik megamendung memiliki motif awan bergrada...</td>\n",
       "      <td>batik megamendung memiliki motif awan bergrada...</td>\n",
       "      <td>['batik', 'megamendung', 'memiliki', 'motif', ...</td>\n",
       "      <td>['batik', 'megamendung', 'memiliki', 'motif', ...</td>\n",
       "      <td>['batik', 'megamendung', 'memiliki', 'motif', ...</td>\n",
       "      <td>batik megamendung memiliki motif awan bergrada...</td>\n",
       "      <td>[0.20374679565429688, 0.35712116956710815, 0.0...</td>\n",
       "    </tr>\n",
       "    <tr>\n",
       "      <th>12</th>\n",
       "      <td>Batik Parang</td>\n",
       "      <td>Batik Parang memiliki motif garis melengkung m...</td>\n",
       "      <td>batik-parang</td>\n",
       "      <td>batik-parang.jpg</td>\n",
       "      <td>batik parang memiliki motif garis melengkung m...</td>\n",
       "      <td>batik parang memiliki motif garis melengkung m...</td>\n",
       "      <td>['batik', 'parang', 'memiliki', 'motif', 'gari...</td>\n",
       "      <td>['batik', 'parang', 'memiliki', 'motif', 'gari...</td>\n",
       "      <td>['batik', 'parang', 'memiliki', 'motif', 'gari...</td>\n",
       "      <td>batik parang memiliki motif gari melengkung me...</td>\n",
       "      <td>[0.09339701384305954, 0.3592895567417145, 0.18...</td>\n",
       "    </tr>\n",
       "    <tr>\n",
       "      <th>13</th>\n",
       "      <td>Batik Pekalongan</td>\n",
       "      <td>Batik Pekalongan memiliki pola flora dan fauna...</td>\n",
       "      <td>batik-pekalongan</td>\n",
       "      <td>batik-pekalongan.jpg</td>\n",
       "      <td>batik pekalongan memiliki pola flora dan fauna...</td>\n",
       "      <td>batik pekalongan memiliki pola flora dan fauna...</td>\n",
       "      <td>['batik', 'pekalongan', 'memiliki', 'pola', 'f...</td>\n",
       "      <td>['batik', 'pekalongan', 'memiliki', 'pola', 'f...</td>\n",
       "      <td>['batik', 'pekalongan', 'memiliki', 'pola', 'f...</td>\n",
       "      <td>batik pekalongan memiliki pola flora fauna war...</td>\n",
       "      <td>[0.23771709203720093, 0.44194066524505615, -0....</td>\n",
       "    </tr>\n",
       "    <tr>\n",
       "      <th>14</th>\n",
       "      <td>Batik Priangan</td>\n",
       "      <td>Batik Priangan memiliki pola bunga kecil dan d...</td>\n",
       "      <td>batik-priangan</td>\n",
       "      <td>batik-priangan.jpg</td>\n",
       "      <td>batik priangan memiliki pola bunga kecil dan d...</td>\n",
       "      <td>batik priangan memiliki pola bunga kecil dan d...</td>\n",
       "      <td>['batik', 'priangan', 'memiliki', 'pola', 'bun...</td>\n",
       "      <td>['batik', 'priangan', 'memiliki', 'pola', 'bun...</td>\n",
       "      <td>['batik', 'priangan', 'memiliki', 'pola', 'bun...</td>\n",
       "      <td>batik priangan memiliki pola bunga dedaunan wa...</td>\n",
       "      <td>[0.05289473384618759, 0.1907866895198822, -0.2...</td>\n",
       "    </tr>\n",
       "    <tr>\n",
       "      <th>15</th>\n",
       "      <td>Batik Sekar</td>\n",
       "      <td>Batik Sekar memiliki pola bunga yang indah dan...</td>\n",
       "      <td>batik-sekar</td>\n",
       "      <td>batik-sekar.jpg</td>\n",
       "      <td>batik sekar memiliki pola bunga yang indah dan...</td>\n",
       "      <td>batik sekar memiliki pola bunga yang indah dan...</td>\n",
       "      <td>['batik', 'sekar', 'memiliki', 'pola', 'bunga'...</td>\n",
       "      <td>['batik', 'sekar', 'memiliki', 'pola', 'bunga'...</td>\n",
       "      <td>['batik', 'sekar', 'memiliki', 'pola', 'bunga'...</td>\n",
       "      <td>batik sekar memiliki pola bunga indah elegan w...</td>\n",
       "      <td>[-0.24569997191429138, 0.02884397655725479, -0...</td>\n",
       "    </tr>\n",
       "    <tr>\n",
       "      <th>16</th>\n",
       "      <td>Batik Sidoluhur</td>\n",
       "      <td>Batik Sidoluhur memiliki motif klasik dengan p...</td>\n",
       "      <td>batik-sidoluhur</td>\n",
       "      <td>batik-sidoluhur.jpg</td>\n",
       "      <td>batik sidoluhur memiliki motif klasik dengan p...</td>\n",
       "      <td>batik sidoluhur memiliki motif klasik dengan p...</td>\n",
       "      <td>['batik', 'sidoluhur', 'memiliki', 'motif', 'k...</td>\n",
       "      <td>['batik', 'sidoluhur', 'memiliki', 'motif', 'k...</td>\n",
       "      <td>['batik', 'sidoluhur', 'memiliki', 'motif', 'k...</td>\n",
       "      <td>batik sidoluhur memiliki motif klasik pola geo...</td>\n",
       "      <td>[-0.2639467120170593, 0.3463176190853119, -0.0...</td>\n",
       "    </tr>\n",
       "    <tr>\n",
       "      <th>17</th>\n",
       "      <td>Batik Sidomukti</td>\n",
       "      <td>Batik Sidomukti memiliki pola bunga dan geomet...</td>\n",
       "      <td>batik-sidomukti</td>\n",
       "      <td>batik-sidomukti.jpg</td>\n",
       "      <td>batik sidomukti memiliki pola bunga dan geomet...</td>\n",
       "      <td>batik sidomukti memiliki pola bunga dan geomet...</td>\n",
       "      <td>['batik', 'sidomukti', 'memiliki', 'pola', 'bu...</td>\n",
       "      <td>['batik', 'sidomukti', 'memiliki', 'pola', 'bu...</td>\n",
       "      <td>['batik', 'sidomukti', 'memiliki', 'pola', 'bu...</td>\n",
       "      <td>batik sidomukti memiliki pola bunga geometris ...</td>\n",
       "      <td>[-0.02079232782125473, 0.6647354364395142, -0....</td>\n",
       "    </tr>\n",
       "    <tr>\n",
       "      <th>18</th>\n",
       "      <td>Batik Sogan</td>\n",
       "      <td>Batik Sogan memiliki pola klasik dengan warna ...</td>\n",
       "      <td>batik-sogan</td>\n",
       "      <td>batik-sogan.jpg</td>\n",
       "      <td>batik sogan memiliki pola klasik dengan warna ...</td>\n",
       "      <td>batik sogan memiliki pola klasik dengan warna ...</td>\n",
       "      <td>['batik', 'sogan', 'memiliki', 'pola', 'klasik...</td>\n",
       "      <td>['batik', 'sogan', 'memiliki', 'pola', 'klasik...</td>\n",
       "      <td>['batik', 'sogan', 'memiliki', 'pola', 'klasik...</td>\n",
       "      <td>batik sogan memiliki pola klasik warna cokelat...</td>\n",
       "      <td>[-0.08652328699827194, 0.46692630648612976, 0....</td>\n",
       "    </tr>\n",
       "    <tr>\n",
       "      <th>19</th>\n",
       "      <td>Batik Tambal</td>\n",
       "      <td>Batik Tambal memiliki pola tambalan kecil-keci...</td>\n",
       "      <td>batik-tambal</td>\n",
       "      <td>batik-tambal.jpg</td>\n",
       "      <td>batik tambal memiliki pola tambalan kecil-keci...</td>\n",
       "      <td>batik tambal memiliki pola tambalan kecilkecil...</td>\n",
       "      <td>['batik', 'tambal', 'memiliki', 'pola', 'tamba...</td>\n",
       "      <td>['batik', 'tambal', 'memiliki', 'pola', 'tamba...</td>\n",
       "      <td>['batik', 'tambal', 'memiliki', 'pola', 'tamba...</td>\n",
       "      <td>batik tambal memiliki pola tambalan kecilkecil...</td>\n",
       "      <td>[0.06720561534166336, 0.1414370834827423, 0.03...</td>\n",
       "    </tr>\n",
       "  </tbody>\n",
       "</table>\n",
       "</div>"
      ],
      "text/plain": [
       "                 Nama                                          Deskripsi  \\\n",
       "0          Batik Bali  Batik Bali memiliki motif rumit yang terinspir...   \n",
       "1        Batik Betawi  Batik Betawi memiliki motif geometris sederhan...   \n",
       "2         Batik Celup  Batik Celup memiliki pola abstrak dengan grada...   \n",
       "3   Batik Cendrawasih  Batik Cendrawasih menampilkan motif burung cen...   \n",
       "4        Batik Ceplok  Batik Ceplok memiliki pola geometris berulang ...   \n",
       "5        Batik Ciamis  Batik Ciamis memiliki motif sederhana dengan p...   \n",
       "6       Batik Garutan  Batik Garutan memiliki motif bunga, daun, atau...   \n",
       "7     Batik Gentongan  Batik Gentongan memiliki motif bunga besar den...   \n",
       "8        Batik Kawung  Batik Kawung memiliki motif lingkaran geometri...   \n",
       "9       Batik Keraton  Batik Keraton memiliki motif klasik seperti Pa...   \n",
       "10        Batik Lasem  Batik Lasem didominasi warna merah cerah khas ...   \n",
       "11  Batik Megamendung  Batik Megamendung memiliki motif awan bergrada...   \n",
       "12       Batik Parang  Batik Parang memiliki motif garis melengkung m...   \n",
       "13   Batik Pekalongan  Batik Pekalongan memiliki pola flora dan fauna...   \n",
       "14     Batik Priangan  Batik Priangan memiliki pola bunga kecil dan d...   \n",
       "15        Batik Sekar  Batik Sekar memiliki pola bunga yang indah dan...   \n",
       "16    Batik Sidoluhur  Batik Sidoluhur memiliki motif klasik dengan p...   \n",
       "17    Batik Sidomukti  Batik Sidomukti memiliki pola bunga dan geomet...   \n",
       "18        Batik Sogan  Batik Sogan memiliki pola klasik dengan warna ...   \n",
       "19       Batik Tambal  Batik Tambal memiliki pola tambalan kecil-keci...   \n",
       "\n",
       "          Path Folder            Path Gambar  \\\n",
       "0          batik-bali         batik-bali.jpg   \n",
       "1        batik-betawi       batik-betawi.jpg   \n",
       "2         batik-celup        batik-celup.jpg   \n",
       "3   batik-cendrawasih  batik-cendrawasih.jpg   \n",
       "4        batik-ceplok       batik-ceplok.jpg   \n",
       "5        batik-ciamis       batik-ciamis.jpg   \n",
       "6       batik-garutan      batik-garutan.jpg   \n",
       "7     batik-gentongan    batik-gentongan.jpg   \n",
       "8        batik-kawung       batik-kawung.jpg   \n",
       "9       batik-keraton      batik-keraton.jpg   \n",
       "10        batik-lasem        batik-lasem.jpg   \n",
       "11  batik-megamendung  batik-megamendung.jpg   \n",
       "12       batik-parang       batik-parang.jpg   \n",
       "13   batik-pekalongan   batik-pekalongan.jpg   \n",
       "14     batik-priangan     batik-priangan.jpg   \n",
       "15        batik-sekar        batik-sekar.jpg   \n",
       "16    batik-sidoluhur    batik-sidoluhur.jpg   \n",
       "17    batik-sidomukti    batik-sidomukti.jpg   \n",
       "18        batik-sogan        batik-sogan.jpg   \n",
       "19       batik-tambal       batik-tambal.jpg   \n",
       "\n",
       "                                Deskripsi_casefolding  \\\n",
       "0   batik bali memiliki motif rumit yang terinspir...   \n",
       "1   batik betawi memiliki motif geometris sederhan...   \n",
       "2   batik celup memiliki pola abstrak dengan grada...   \n",
       "3   batik cendrawasih menampilkan motif burung cen...   \n",
       "4   batik ceplok memiliki pola geometris berulang ...   \n",
       "5   batik ciamis memiliki motif sederhana dengan p...   \n",
       "6   batik garutan memiliki motif bunga, daun, atau...   \n",
       "7   batik gentongan memiliki motif bunga besar den...   \n",
       "8   batik kawung memiliki motif lingkaran geometri...   \n",
       "9   batik keraton memiliki motif klasik seperti pa...   \n",
       "10  batik lasem didominasi warna merah cerah khas ...   \n",
       "11  batik megamendung memiliki motif awan bergrada...   \n",
       "12  batik parang memiliki motif garis melengkung m...   \n",
       "13  batik pekalongan memiliki pola flora dan fauna...   \n",
       "14  batik priangan memiliki pola bunga kecil dan d...   \n",
       "15  batik sekar memiliki pola bunga yang indah dan...   \n",
       "16  batik sidoluhur memiliki motif klasik dengan p...   \n",
       "17  batik sidomukti memiliki pola bunga dan geomet...   \n",
       "18  batik sogan memiliki pola klasik dengan warna ...   \n",
       "19  batik tambal memiliki pola tambalan kecil-keci...   \n",
       "\n",
       "                                      Deskripsi_clean  \\\n",
       "0   batik bali memiliki motif rumit yang terinspir...   \n",
       "1   batik betawi memiliki motif geometris sederhan...   \n",
       "2   batik celup memiliki pola abstrak dengan grada...   \n",
       "3   batik cendrawasih menampilkan motif burung cen...   \n",
       "4   batik ceplok memiliki pola geometris berulang ...   \n",
       "5   batik ciamis memiliki motif sederhana dengan p...   \n",
       "6   batik garutan memiliki motif bunga daun atau b...   \n",
       "7   batik gentongan memiliki motif bunga besar den...   \n",
       "8   batik kawung memiliki motif lingkaran geometri...   \n",
       "9   batik keraton memiliki motif klasik seperti pa...   \n",
       "10  batik lasem didominasi warna merah cerah khas ...   \n",
       "11  batik megamendung memiliki motif awan bergrada...   \n",
       "12  batik parang memiliki motif garis melengkung m...   \n",
       "13  batik pekalongan memiliki pola flora dan fauna...   \n",
       "14  batik priangan memiliki pola bunga kecil dan d...   \n",
       "15  batik sekar memiliki pola bunga yang indah dan...   \n",
       "16  batik sidoluhur memiliki motif klasik dengan p...   \n",
       "17  batik sidomukti memiliki pola bunga dan geomet...   \n",
       "18  batik sogan memiliki pola klasik dengan warna ...   \n",
       "19  batik tambal memiliki pola tambalan kecilkecil...   \n",
       "\n",
       "                                            tokenized  \\\n",
       "0   ['batik', 'bali', 'memiliki', 'motif', 'rumit'...   \n",
       "1   ['batik', 'betawi', 'memiliki', 'motif', 'geom...   \n",
       "2   ['batik', 'celup', 'memiliki', 'pola', 'abstra...   \n",
       "3   ['batik', 'cendrawasih', 'menampilkan', 'motif...   \n",
       "4   ['batik', 'ceplok', 'memiliki', 'pola', 'geome...   \n",
       "5   ['batik', 'ciamis', 'memiliki', 'motif', 'sede...   \n",
       "6   ['batik', 'garutan', 'memiliki', 'motif', 'bun...   \n",
       "7   ['batik', 'gentongan', 'memiliki', 'motif', 'b...   \n",
       "8   ['batik', 'kawung', 'memiliki', 'motif', 'ling...   \n",
       "9   ['batik', 'keraton', 'memiliki', 'motif', 'kla...   \n",
       "10  ['batik', 'lasem', 'didominasi', 'warna', 'mer...   \n",
       "11  ['batik', 'megamendung', 'memiliki', 'motif', ...   \n",
       "12  ['batik', 'parang', 'memiliki', 'motif', 'gari...   \n",
       "13  ['batik', 'pekalongan', 'memiliki', 'pola', 'f...   \n",
       "14  ['batik', 'priangan', 'memiliki', 'pola', 'bun...   \n",
       "15  ['batik', 'sekar', 'memiliki', 'pola', 'bunga'...   \n",
       "16  ['batik', 'sidoluhur', 'memiliki', 'motif', 'k...   \n",
       "17  ['batik', 'sidomukti', 'memiliki', 'pola', 'bu...   \n",
       "18  ['batik', 'sogan', 'memiliki', 'pola', 'klasik...   \n",
       "19  ['batik', 'tambal', 'memiliki', 'pola', 'tamba...   \n",
       "\n",
       "                                         stop_removed  \\\n",
       "0   ['batik', 'bali', 'memiliki', 'motif', 'rumit'...   \n",
       "1   ['batik', 'betawi', 'memiliki', 'motif', 'geom...   \n",
       "2   ['batik', 'celup', 'memiliki', 'pola', 'abstra...   \n",
       "3   ['batik', 'cendrawasih', 'menampilkan', 'motif...   \n",
       "4   ['batik', 'ceplok', 'memiliki', 'pola', 'geome...   \n",
       "5   ['batik', 'ciamis', 'memiliki', 'motif', 'sede...   \n",
       "6   ['batik', 'garutan', 'memiliki', 'motif', 'bun...   \n",
       "7   ['batik', 'gentongan', 'memiliki', 'motif', 'b...   \n",
       "8   ['batik', 'kawung', 'memiliki', 'motif', 'ling...   \n",
       "9   ['batik', 'keraton', 'memiliki', 'motif', 'kla...   \n",
       "10  ['batik', 'lasem', 'didominasi', 'warna', 'mer...   \n",
       "11  ['batik', 'megamendung', 'memiliki', 'motif', ...   \n",
       "12  ['batik', 'parang', 'memiliki', 'motif', 'gari...   \n",
       "13  ['batik', 'pekalongan', 'memiliki', 'pola', 'f...   \n",
       "14  ['batik', 'priangan', 'memiliki', 'pola', 'bun...   \n",
       "15  ['batik', 'sekar', 'memiliki', 'pola', 'bunga'...   \n",
       "16  ['batik', 'sidoluhur', 'memiliki', 'motif', 'k...   \n",
       "17  ['batik', 'sidomukti', 'memiliki', 'pola', 'bu...   \n",
       "18  ['batik', 'sogan', 'memiliki', 'pola', 'klasik...   \n",
       "19  ['batik', 'tambal', 'memiliki', 'pola', 'tamba...   \n",
       "\n",
       "                                           lemmatized  \\\n",
       "0   ['batik', 'bali', 'memiliki', 'motif', 'rumit'...   \n",
       "1   ['batik', 'betawi', 'memiliki', 'motif', 'geom...   \n",
       "2   ['batik', 'celup', 'memiliki', 'pola', 'abstra...   \n",
       "3   ['batik', 'cendrawasih', 'menampilkan', 'motif...   \n",
       "4   ['batik', 'ceplok', 'memiliki', 'pola', 'geome...   \n",
       "5   ['batik', 'ciamis', 'memiliki', 'motif', 'sede...   \n",
       "6   ['batik', 'garutan', 'memiliki', 'motif', 'bun...   \n",
       "7   ['batik', 'gentongan', 'memiliki', 'motif', 'b...   \n",
       "8   ['batik', 'kawung', 'memiliki', 'motif', 'ling...   \n",
       "9   ['batik', 'keraton', 'memiliki', 'motif', 'kla...   \n",
       "10  ['batik', 'lasem', 'didominasi', 'warna', 'mer...   \n",
       "11  ['batik', 'megamendung', 'memiliki', 'motif', ...   \n",
       "12  ['batik', 'parang', 'memiliki', 'motif', 'gari...   \n",
       "13  ['batik', 'pekalongan', 'memiliki', 'pola', 'f...   \n",
       "14  ['batik', 'priangan', 'memiliki', 'pola', 'bun...   \n",
       "15  ['batik', 'sekar', 'memiliki', 'pola', 'bunga'...   \n",
       "16  ['batik', 'sidoluhur', 'memiliki', 'motif', 'k...   \n",
       "17  ['batik', 'sidomukti', 'memiliki', 'pola', 'bu...   \n",
       "18  ['batik', 'sogan', 'memiliki', 'pola', 'klasik...   \n",
       "19  ['batik', 'tambal', 'memiliki', 'pola', 'tamba...   \n",
       "\n",
       "                                        preprocessing  \\\n",
       "0   batik bali memiliki motif rumit terinspirasi b...   \n",
       "1   batik betawi memiliki motif geometris sederhan...   \n",
       "2   batik celup memiliki pola abstrak gradasi warn...   \n",
       "3   batik cendrawasih menampilkan motif burung cen...   \n",
       "4   batik ceplok memiliki pola geometris berulang ...   \n",
       "5   batik ciamis memiliki motif sederhana pola bun...   \n",
       "6   batik garutan memiliki motif bunga daun burung...   \n",
       "7   batik gentongan memiliki motif bunga warna men...   \n",
       "8   batik kawung memiliki motif lingkaran geometri...   \n",
       "9   batik keraton memiliki motif klasik parang saw...   \n",
       "10  batik lasem didominasi warna merah cerah khas ...   \n",
       "11  batik megamendung memiliki motif awan bergrada...   \n",
       "12  batik parang memiliki motif gari melengkung me...   \n",
       "13  batik pekalongan memiliki pola flora fauna war...   \n",
       "14  batik priangan memiliki pola bunga dedaunan wa...   \n",
       "15  batik sekar memiliki pola bunga indah elegan w...   \n",
       "16  batik sidoluhur memiliki motif klasik pola geo...   \n",
       "17  batik sidomukti memiliki pola bunga geometris ...   \n",
       "18  batik sogan memiliki pola klasik warna cokelat...   \n",
       "19  batik tambal memiliki pola tambalan kecilkecil...   \n",
       "\n",
       "                              preprocessing_embedding  \n",
       "0   [0.3322688043117523, 0.2934962511062622, 0.148...  \n",
       "1   [0.07265201956033707, 0.2657928168773651, 0.19...  \n",
       "2   [0.013769574463367462, 0.3355376422405243, 0.0...  \n",
       "3   [0.7157406210899353, 0.7801889181137085, -0.01...  \n",
       "4   [-0.05024304240942001, 0.3212023377418518, 0.0...  \n",
       "5   [0.01742059737443924, 0.254853755235672, -0.23...  \n",
       "6   [0.15656530857086182, 0.6932697296142578, -0.3...  \n",
       "7   [0.34450066089630127, 0.3650816082954407, 0.04...  \n",
       "8   [0.114462710916996, 0.36451849341392517, 0.241...  \n",
       "9   [-0.220091313123703, 0.7498683929443359, -0.06...  \n",
       "10  [-0.06592390686273575, 0.29436537623405457, 0....  \n",
       "11  [0.20374679565429688, 0.35712116956710815, 0.0...  \n",
       "12  [0.09339701384305954, 0.3592895567417145, 0.18...  \n",
       "13  [0.23771709203720093, 0.44194066524505615, -0....  \n",
       "14  [0.05289473384618759, 0.1907866895198822, -0.2...  \n",
       "15  [-0.24569997191429138, 0.02884397655725479, -0...  \n",
       "16  [-0.2639467120170593, 0.3463176190853119, -0.0...  \n",
       "17  [-0.02079232782125473, 0.6647354364395142, -0....  \n",
       "18  [-0.08652328699827194, 0.46692630648612976, 0....  \n",
       "19  [0.06720561534166336, 0.1414370834827423, 0.03...  "
      ]
     },
     "execution_count": 54,
     "metadata": {},
     "output_type": "execute_result"
    }
   ],
   "source": [
    "df_vi"
   ]
  },
  {
   "cell_type": "code",
   "execution_count": 46,
   "metadata": {},
   "outputs": [],
   "source": [
    "def parse_embedding(x):\n",
    "    return np.array(ast.literal_eval(x))"
   ]
  },
  {
   "cell_type": "code",
   "execution_count": 86,
   "metadata": {},
   "outputs": [],
   "source": [
    "embeddings = df_vi['preprocessing_embedding'].apply(parse_embedding)\n",
    "embeddings_array = np.vstack(embeddings.values)"
   ]
  },
  {
   "cell_type": "code",
   "execution_count": 87,
   "metadata": {},
   "outputs": [],
   "source": [
    "pca_2d = PCA(n_components=2)\n",
    "embeddings_2d = pca_2d.fit_transform(embeddings_array)"
   ]
  },
  {
   "cell_type": "code",
   "execution_count": 89,
   "metadata": {},
   "outputs": [
    {
     "data": {
      "application/vnd.plotly.v1+json": {
       "config": {
        "plotlyServerURL": "https://plot.ly"
       },
       "data": [
        {
         "hovertemplate": "Nama=%{text}<br>Komponen Utama 1=%{x}<br>Komponen Utama 2=%{y}<extra></extra>",
         "legendgroup": "Batik Bali",
         "marker": {
          "color": "#636efa",
          "line": {
           "color": "DarkSlateGrey",
           "width": 1
          },
          "opacity": 0.8,
          "size": 12,
          "symbol": "circle"
         },
         "mode": "markers+text",
         "name": "Batik Bali",
         "orientation": "v",
         "showlegend": true,
         "text": [
          "Batik Bali"
         ],
         "textposition": "top center",
         "type": "scatter",
         "x": [
          -0.8978385717977447
         ],
         "xaxis": "x",
         "y": [
          0.5470287091602133
         ],
         "yaxis": "y"
        },
        {
         "hovertemplate": "Nama=%{text}<br>Komponen Utama 1=%{x}<br>Komponen Utama 2=%{y}<extra></extra>",
         "legendgroup": "Batik Betawi",
         "marker": {
          "color": "#EF553B",
          "line": {
           "color": "DarkSlateGrey",
           "width": 1
          },
          "opacity": 0.8,
          "size": 12,
          "symbol": "circle"
         },
         "mode": "markers+text",
         "name": "Batik Betawi",
         "orientation": "v",
         "showlegend": true,
         "text": [
          "Batik Betawi"
         ],
         "textposition": "top center",
         "type": "scatter",
         "x": [
          -1.199447630030519
         ],
         "xaxis": "x",
         "y": [
          -0.9401054558863673
         ],
         "yaxis": "y"
        },
        {
         "hovertemplate": "Nama=%{text}<br>Komponen Utama 1=%{x}<br>Komponen Utama 2=%{y}<extra></extra>",
         "legendgroup": "Batik Celup",
         "marker": {
          "color": "#00cc96",
          "line": {
           "color": "DarkSlateGrey",
           "width": 1
          },
          "opacity": 0.8,
          "size": 12,
          "symbol": "circle"
         },
         "mode": "markers+text",
         "name": "Batik Celup",
         "orientation": "v",
         "showlegend": true,
         "text": [
          "Batik Celup"
         ],
         "textposition": "top center",
         "type": "scatter",
         "x": [
          -1.6758376042579033
         ],
         "xaxis": "x",
         "y": [
          -0.6414899504994866
         ],
         "yaxis": "y"
        },
        {
         "hovertemplate": "Nama=%{text}<br>Komponen Utama 1=%{x}<br>Komponen Utama 2=%{y}<extra></extra>",
         "legendgroup": "Batik Cendrawasih",
         "marker": {
          "color": "#ab63fa",
          "line": {
           "color": "DarkSlateGrey",
           "width": 1
          },
          "opacity": 0.8,
          "size": 12,
          "symbol": "circle"
         },
         "mode": "markers+text",
         "name": "Batik Cendrawasih",
         "orientation": "v",
         "showlegend": true,
         "text": [
          "Batik Cendrawasih"
         ],
         "textposition": "top center",
         "type": "scatter",
         "x": [
          -2.943157192589179
         ],
         "xaxis": "x",
         "y": [
          -0.2515548683889007
         ],
         "yaxis": "y"
        },
        {
         "hovertemplate": "Nama=%{text}<br>Komponen Utama 1=%{x}<br>Komponen Utama 2=%{y}<extra></extra>",
         "legendgroup": "Batik Ceplok",
         "marker": {
          "color": "#FFA15A",
          "line": {
           "color": "DarkSlateGrey",
           "width": 1
          },
          "opacity": 0.8,
          "size": 12,
          "symbol": "circle"
         },
         "mode": "markers+text",
         "name": "Batik Ceplok",
         "orientation": "v",
         "showlegend": true,
         "text": [
          "Batik Ceplok"
         ],
         "textposition": "top center",
         "type": "scatter",
         "x": [
          -1.0456834480356085
         ],
         "xaxis": "x",
         "y": [
          -0.5003296666920315
         ],
         "yaxis": "y"
        },
        {
         "hovertemplate": "Nama=%{text}<br>Komponen Utama 1=%{x}<br>Komponen Utama 2=%{y}<extra></extra>",
         "legendgroup": "Batik Ciamis",
         "marker": {
          "color": "#19d3f3",
          "line": {
           "color": "DarkSlateGrey",
           "width": 1
          },
          "opacity": 0.8,
          "size": 12,
          "symbol": "circle"
         },
         "mode": "markers+text",
         "name": "Batik Ciamis",
         "orientation": "v",
         "showlegend": true,
         "text": [
          "Batik Ciamis"
         ],
         "textposition": "top center",
         "type": "scatter",
         "x": [
          0.9684701661954619
         ],
         "xaxis": "x",
         "y": [
          2.250149168349369
         ],
         "yaxis": "y"
        },
        {
         "hovertemplate": "Nama=%{text}<br>Komponen Utama 1=%{x}<br>Komponen Utama 2=%{y}<extra></extra>",
         "legendgroup": "Batik Garutan",
         "marker": {
          "color": "#FF6692",
          "line": {
           "color": "DarkSlateGrey",
           "width": 1
          },
          "opacity": 0.8,
          "size": 12,
          "symbol": "circle"
         },
         "mode": "markers+text",
         "name": "Batik Garutan",
         "orientation": "v",
         "showlegend": true,
         "text": [
          "Batik Garutan"
         ],
         "textposition": "top center",
         "type": "scatter",
         "x": [
          0.45506748924605306
         ],
         "xaxis": "x",
         "y": [
          2.6120543276765287
         ],
         "yaxis": "y"
        },
        {
         "hovertemplate": "Nama=%{text}<br>Komponen Utama 1=%{x}<br>Komponen Utama 2=%{y}<extra></extra>",
         "legendgroup": "Batik Gentongan",
         "marker": {
          "color": "#B6E880",
          "line": {
           "color": "DarkSlateGrey",
           "width": 1
          },
          "opacity": 0.8,
          "size": 12,
          "symbol": "circle"
         },
         "mode": "markers+text",
         "name": "Batik Gentongan",
         "orientation": "v",
         "showlegend": true,
         "text": [
          "Batik Gentongan"
         ],
         "textposition": "top center",
         "type": "scatter",
         "x": [
          -1.002613725600259
         ],
         "xaxis": "x",
         "y": [
          0.5427633225251369
         ],
         "yaxis": "y"
        },
        {
         "hovertemplate": "Nama=%{text}<br>Komponen Utama 1=%{x}<br>Komponen Utama 2=%{y}<extra></extra>",
         "legendgroup": "Batik Kawung",
         "marker": {
          "color": "#FF97FF",
          "line": {
           "color": "DarkSlateGrey",
           "width": 1
          },
          "opacity": 0.8,
          "size": 12,
          "symbol": "circle"
         },
         "mode": "markers+text",
         "name": "Batik Kawung",
         "orientation": "v",
         "showlegend": true,
         "text": [
          "Batik Kawung"
         ],
         "textposition": "top center",
         "type": "scatter",
         "x": [
          -1.044616941458669
         ],
         "xaxis": "x",
         "y": [
          -0.7365632579628345
         ],
         "yaxis": "y"
        },
        {
         "hovertemplate": "Nama=%{text}<br>Komponen Utama 1=%{x}<br>Komponen Utama 2=%{y}<extra></extra>",
         "legendgroup": "Batik Keraton",
         "marker": {
          "color": "#FECB52",
          "line": {
           "color": "DarkSlateGrey",
           "width": 1
          },
          "opacity": 0.8,
          "size": 12,
          "symbol": "circle"
         },
         "mode": "markers+text",
         "name": "Batik Keraton",
         "orientation": "v",
         "showlegend": true,
         "text": [
          "Batik Keraton"
         ],
         "textposition": "top center",
         "type": "scatter",
         "x": [
          1.6862254033626574
         ],
         "xaxis": "x",
         "y": [
          -1.079393353228131
         ],
         "yaxis": "y"
        },
        {
         "hovertemplate": "Nama=%{text}<br>Komponen Utama 1=%{x}<br>Komponen Utama 2=%{y}<extra></extra>",
         "legendgroup": "Batik Lasem",
         "marker": {
          "color": "#636efa",
          "line": {
           "color": "DarkSlateGrey",
           "width": 1
          },
          "opacity": 0.8,
          "size": 12,
          "symbol": "circle"
         },
         "mode": "markers+text",
         "name": "Batik Lasem",
         "orientation": "v",
         "showlegend": true,
         "text": [
          "Batik Lasem"
         ],
         "textposition": "top center",
         "type": "scatter",
         "x": [
          -0.6002293506812633
         ],
         "xaxis": "x",
         "y": [
          -1.128205989471991
         ],
         "yaxis": "y"
        },
        {
         "hovertemplate": "Nama=%{text}<br>Komponen Utama 1=%{x}<br>Komponen Utama 2=%{y}<extra></extra>",
         "legendgroup": "Batik Megamendung",
         "marker": {
          "color": "#EF553B",
          "line": {
           "color": "DarkSlateGrey",
           "width": 1
          },
          "opacity": 0.8,
          "size": 12,
          "symbol": "circle"
         },
         "mode": "markers+text",
         "name": "Batik Megamendung",
         "orientation": "v",
         "showlegend": true,
         "text": [
          "Batik Megamendung"
         ],
         "textposition": "top center",
         "type": "scatter",
         "x": [
          -0.6001537695752707
         ],
         "xaxis": "x",
         "y": [
          1.2561857325549246
         ],
         "yaxis": "y"
        },
        {
         "hovertemplate": "Nama=%{text}<br>Komponen Utama 1=%{x}<br>Komponen Utama 2=%{y}<extra></extra>",
         "legendgroup": "Batik Parang",
         "marker": {
          "color": "#00cc96",
          "line": {
           "color": "DarkSlateGrey",
           "width": 1
          },
          "opacity": 0.8,
          "size": 12,
          "symbol": "circle"
         },
         "mode": "markers+text",
         "name": "Batik Parang",
         "orientation": "v",
         "showlegend": true,
         "text": [
          "Batik Parang"
         ],
         "textposition": "top center",
         "type": "scatter",
         "x": [
          1.671854540829209
         ],
         "xaxis": "x",
         "y": [
          -1.3745105206023758
         ],
         "yaxis": "y"
        },
        {
         "hovertemplate": "Nama=%{text}<br>Komponen Utama 1=%{x}<br>Komponen Utama 2=%{y}<extra></extra>",
         "legendgroup": "Batik Pekalongan",
         "marker": {
          "color": "#ab63fa",
          "line": {
           "color": "DarkSlateGrey",
           "width": 1
          },
          "opacity": 0.8,
          "size": 12,
          "symbol": "circle"
         },
         "mode": "markers+text",
         "name": "Batik Pekalongan",
         "orientation": "v",
         "showlegend": true,
         "text": [
          "Batik Pekalongan"
         ],
         "textposition": "top center",
         "type": "scatter",
         "x": [
          0.9295247068397657
         ],
         "xaxis": "x",
         "y": [
          0.44903529414535065
         ],
         "yaxis": "y"
        },
        {
         "hovertemplate": "Nama=%{text}<br>Komponen Utama 1=%{x}<br>Komponen Utama 2=%{y}<extra></extra>",
         "legendgroup": "Batik Priangan",
         "marker": {
          "color": "#FFA15A",
          "line": {
           "color": "DarkSlateGrey",
           "width": 1
          },
          "opacity": 0.8,
          "size": 12,
          "symbol": "circle"
         },
         "mode": "markers+text",
         "name": "Batik Priangan",
         "orientation": "v",
         "showlegend": true,
         "text": [
          "Batik Priangan"
         ],
         "textposition": "top center",
         "type": "scatter",
         "x": [
          -0.22595162753039047
         ],
         "xaxis": "x",
         "y": [
          1.7901101259917247
         ],
         "yaxis": "y"
        },
        {
         "hovertemplate": "Nama=%{text}<br>Komponen Utama 1=%{x}<br>Komponen Utama 2=%{y}<extra></extra>",
         "legendgroup": "Batik Sekar",
         "marker": {
          "color": "#19d3f3",
          "line": {
           "color": "DarkSlateGrey",
           "width": 1
          },
          "opacity": 0.8,
          "size": 12,
          "symbol": "circle"
         },
         "mode": "markers+text",
         "name": "Batik Sekar",
         "orientation": "v",
         "showlegend": true,
         "text": [
          "Batik Sekar"
         ],
         "textposition": "top center",
         "type": "scatter",
         "x": [
          1.354306972643304
         ],
         "xaxis": "x",
         "y": [
          0.03920404628678624
         ],
         "yaxis": "y"
        },
        {
         "hovertemplate": "Nama=%{text}<br>Komponen Utama 1=%{x}<br>Komponen Utama 2=%{y}<extra></extra>",
         "legendgroup": "Batik Sidoluhur",
         "marker": {
          "color": "#FF6692",
          "line": {
           "color": "DarkSlateGrey",
           "width": 1
          },
          "opacity": 0.8,
          "size": 12,
          "symbol": "circle"
         },
         "mode": "markers+text",
         "name": "Batik Sidoluhur",
         "orientation": "v",
         "showlegend": true,
         "text": [
          "Batik Sidoluhur"
         ],
         "textposition": "top center",
         "type": "scatter",
         "x": [
          1.544232013758427
         ],
         "xaxis": "x",
         "y": [
          -0.29755648738978674
         ],
         "yaxis": "y"
        },
        {
         "hovertemplate": "Nama=%{text}<br>Komponen Utama 1=%{x}<br>Komponen Utama 2=%{y}<extra></extra>",
         "legendgroup": "Batik Sidomukti",
         "marker": {
          "color": "#B6E880",
          "line": {
           "color": "DarkSlateGrey",
           "width": 1
          },
          "opacity": 0.8,
          "size": 12,
          "symbol": "circle"
         },
         "mode": "markers+text",
         "name": "Batik Sidomukti",
         "orientation": "v",
         "showlegend": true,
         "text": [
          "Batik Sidomukti"
         ],
         "textposition": "top center",
         "type": "scatter",
         "x": [
          2.0073061459822426
         ],
         "xaxis": "x",
         "y": [
          -0.6986361321746907
         ],
         "yaxis": "y"
        },
        {
         "hovertemplate": "Nama=%{text}<br>Komponen Utama 1=%{x}<br>Komponen Utama 2=%{y}<extra></extra>",
         "legendgroup": "Batik Sogan",
         "marker": {
          "color": "#FF97FF",
          "line": {
           "color": "DarkSlateGrey",
           "width": 1
          },
          "opacity": 0.8,
          "size": 12,
          "symbol": "circle"
         },
         "mode": "markers+text",
         "name": "Batik Sogan",
         "orientation": "v",
         "showlegend": true,
         "text": [
          "Batik Sogan"
         ],
         "textposition": "top center",
         "type": "scatter",
         "x": [
          -0.0063891207210029785
         ],
         "xaxis": "x",
         "y": [
          -0.9048572401897429
         ],
         "yaxis": "y"
        },
        {
         "hovertemplate": "Nama=%{text}<br>Komponen Utama 1=%{x}<br>Komponen Utama 2=%{y}<extra></extra>",
         "legendgroup": "Batik Tambal",
         "marker": {
          "color": "#FECB52",
          "line": {
           "color": "DarkSlateGrey",
           "width": 1
          },
          "opacity": 0.8,
          "size": 12,
          "symbol": "circle"
         },
         "mode": "markers+text",
         "name": "Batik Tambal",
         "orientation": "v",
         "showlegend": true,
         "text": [
          "Batik Tambal"
         ],
         "textposition": "top center",
         "type": "scatter",
         "x": [
          0.6249315434206921
         ],
         "xaxis": "x",
         "y": [
          -0.9333278042036968
         ],
         "yaxis": "y"
        }
       ],
       "layout": {
        "height": 700,
        "legend": {
         "title": {
          "text": "Nama"
         },
         "tracegroupgap": 0
        },
        "template": {
         "data": {
          "bar": [
           {
            "error_x": {
             "color": "#2a3f5f"
            },
            "error_y": {
             "color": "#2a3f5f"
            },
            "marker": {
             "line": {
              "color": "#E5ECF6",
              "width": 0.5
             },
             "pattern": {
              "fillmode": "overlay",
              "size": 10,
              "solidity": 0.2
             }
            },
            "type": "bar"
           }
          ],
          "barpolar": [
           {
            "marker": {
             "line": {
              "color": "#E5ECF6",
              "width": 0.5
             },
             "pattern": {
              "fillmode": "overlay",
              "size": 10,
              "solidity": 0.2
             }
            },
            "type": "barpolar"
           }
          ],
          "carpet": [
           {
            "aaxis": {
             "endlinecolor": "#2a3f5f",
             "gridcolor": "white",
             "linecolor": "white",
             "minorgridcolor": "white",
             "startlinecolor": "#2a3f5f"
            },
            "baxis": {
             "endlinecolor": "#2a3f5f",
             "gridcolor": "white",
             "linecolor": "white",
             "minorgridcolor": "white",
             "startlinecolor": "#2a3f5f"
            },
            "type": "carpet"
           }
          ],
          "choropleth": [
           {
            "colorbar": {
             "outlinewidth": 0,
             "ticks": ""
            },
            "type": "choropleth"
           }
          ],
          "contour": [
           {
            "colorbar": {
             "outlinewidth": 0,
             "ticks": ""
            },
            "colorscale": [
             [
              0,
              "#0d0887"
             ],
             [
              0.1111111111111111,
              "#46039f"
             ],
             [
              0.2222222222222222,
              "#7201a8"
             ],
             [
              0.3333333333333333,
              "#9c179e"
             ],
             [
              0.4444444444444444,
              "#bd3786"
             ],
             [
              0.5555555555555556,
              "#d8576b"
             ],
             [
              0.6666666666666666,
              "#ed7953"
             ],
             [
              0.7777777777777778,
              "#fb9f3a"
             ],
             [
              0.8888888888888888,
              "#fdca26"
             ],
             [
              1,
              "#f0f921"
             ]
            ],
            "type": "contour"
           }
          ],
          "contourcarpet": [
           {
            "colorbar": {
             "outlinewidth": 0,
             "ticks": ""
            },
            "type": "contourcarpet"
           }
          ],
          "heatmap": [
           {
            "colorbar": {
             "outlinewidth": 0,
             "ticks": ""
            },
            "colorscale": [
             [
              0,
              "#0d0887"
             ],
             [
              0.1111111111111111,
              "#46039f"
             ],
             [
              0.2222222222222222,
              "#7201a8"
             ],
             [
              0.3333333333333333,
              "#9c179e"
             ],
             [
              0.4444444444444444,
              "#bd3786"
             ],
             [
              0.5555555555555556,
              "#d8576b"
             ],
             [
              0.6666666666666666,
              "#ed7953"
             ],
             [
              0.7777777777777778,
              "#fb9f3a"
             ],
             [
              0.8888888888888888,
              "#fdca26"
             ],
             [
              1,
              "#f0f921"
             ]
            ],
            "type": "heatmap"
           }
          ],
          "heatmapgl": [
           {
            "colorbar": {
             "outlinewidth": 0,
             "ticks": ""
            },
            "colorscale": [
             [
              0,
              "#0d0887"
             ],
             [
              0.1111111111111111,
              "#46039f"
             ],
             [
              0.2222222222222222,
              "#7201a8"
             ],
             [
              0.3333333333333333,
              "#9c179e"
             ],
             [
              0.4444444444444444,
              "#bd3786"
             ],
             [
              0.5555555555555556,
              "#d8576b"
             ],
             [
              0.6666666666666666,
              "#ed7953"
             ],
             [
              0.7777777777777778,
              "#fb9f3a"
             ],
             [
              0.8888888888888888,
              "#fdca26"
             ],
             [
              1,
              "#f0f921"
             ]
            ],
            "type": "heatmapgl"
           }
          ],
          "histogram": [
           {
            "marker": {
             "pattern": {
              "fillmode": "overlay",
              "size": 10,
              "solidity": 0.2
             }
            },
            "type": "histogram"
           }
          ],
          "histogram2d": [
           {
            "colorbar": {
             "outlinewidth": 0,
             "ticks": ""
            },
            "colorscale": [
             [
              0,
              "#0d0887"
             ],
             [
              0.1111111111111111,
              "#46039f"
             ],
             [
              0.2222222222222222,
              "#7201a8"
             ],
             [
              0.3333333333333333,
              "#9c179e"
             ],
             [
              0.4444444444444444,
              "#bd3786"
             ],
             [
              0.5555555555555556,
              "#d8576b"
             ],
             [
              0.6666666666666666,
              "#ed7953"
             ],
             [
              0.7777777777777778,
              "#fb9f3a"
             ],
             [
              0.8888888888888888,
              "#fdca26"
             ],
             [
              1,
              "#f0f921"
             ]
            ],
            "type": "histogram2d"
           }
          ],
          "histogram2dcontour": [
           {
            "colorbar": {
             "outlinewidth": 0,
             "ticks": ""
            },
            "colorscale": [
             [
              0,
              "#0d0887"
             ],
             [
              0.1111111111111111,
              "#46039f"
             ],
             [
              0.2222222222222222,
              "#7201a8"
             ],
             [
              0.3333333333333333,
              "#9c179e"
             ],
             [
              0.4444444444444444,
              "#bd3786"
             ],
             [
              0.5555555555555556,
              "#d8576b"
             ],
             [
              0.6666666666666666,
              "#ed7953"
             ],
             [
              0.7777777777777778,
              "#fb9f3a"
             ],
             [
              0.8888888888888888,
              "#fdca26"
             ],
             [
              1,
              "#f0f921"
             ]
            ],
            "type": "histogram2dcontour"
           }
          ],
          "mesh3d": [
           {
            "colorbar": {
             "outlinewidth": 0,
             "ticks": ""
            },
            "type": "mesh3d"
           }
          ],
          "parcoords": [
           {
            "line": {
             "colorbar": {
              "outlinewidth": 0,
              "ticks": ""
             }
            },
            "type": "parcoords"
           }
          ],
          "pie": [
           {
            "automargin": true,
            "type": "pie"
           }
          ],
          "scatter": [
           {
            "fillpattern": {
             "fillmode": "overlay",
             "size": 10,
             "solidity": 0.2
            },
            "type": "scatter"
           }
          ],
          "scatter3d": [
           {
            "line": {
             "colorbar": {
              "outlinewidth": 0,
              "ticks": ""
             }
            },
            "marker": {
             "colorbar": {
              "outlinewidth": 0,
              "ticks": ""
             }
            },
            "type": "scatter3d"
           }
          ],
          "scattercarpet": [
           {
            "marker": {
             "colorbar": {
              "outlinewidth": 0,
              "ticks": ""
             }
            },
            "type": "scattercarpet"
           }
          ],
          "scattergeo": [
           {
            "marker": {
             "colorbar": {
              "outlinewidth": 0,
              "ticks": ""
             }
            },
            "type": "scattergeo"
           }
          ],
          "scattergl": [
           {
            "marker": {
             "colorbar": {
              "outlinewidth": 0,
              "ticks": ""
             }
            },
            "type": "scattergl"
           }
          ],
          "scattermapbox": [
           {
            "marker": {
             "colorbar": {
              "outlinewidth": 0,
              "ticks": ""
             }
            },
            "type": "scattermapbox"
           }
          ],
          "scatterpolar": [
           {
            "marker": {
             "colorbar": {
              "outlinewidth": 0,
              "ticks": ""
             }
            },
            "type": "scatterpolar"
           }
          ],
          "scatterpolargl": [
           {
            "marker": {
             "colorbar": {
              "outlinewidth": 0,
              "ticks": ""
             }
            },
            "type": "scatterpolargl"
           }
          ],
          "scatterternary": [
           {
            "marker": {
             "colorbar": {
              "outlinewidth": 0,
              "ticks": ""
             }
            },
            "type": "scatterternary"
           }
          ],
          "surface": [
           {
            "colorbar": {
             "outlinewidth": 0,
             "ticks": ""
            },
            "colorscale": [
             [
              0,
              "#0d0887"
             ],
             [
              0.1111111111111111,
              "#46039f"
             ],
             [
              0.2222222222222222,
              "#7201a8"
             ],
             [
              0.3333333333333333,
              "#9c179e"
             ],
             [
              0.4444444444444444,
              "#bd3786"
             ],
             [
              0.5555555555555556,
              "#d8576b"
             ],
             [
              0.6666666666666666,
              "#ed7953"
             ],
             [
              0.7777777777777778,
              "#fb9f3a"
             ],
             [
              0.8888888888888888,
              "#fdca26"
             ],
             [
              1,
              "#f0f921"
             ]
            ],
            "type": "surface"
           }
          ],
          "table": [
           {
            "cells": {
             "fill": {
              "color": "#EBF0F8"
             },
             "line": {
              "color": "white"
             }
            },
            "header": {
             "fill": {
              "color": "#C8D4E3"
             },
             "line": {
              "color": "white"
             }
            },
            "type": "table"
           }
          ]
         },
         "layout": {
          "annotationdefaults": {
           "arrowcolor": "#2a3f5f",
           "arrowhead": 0,
           "arrowwidth": 1
          },
          "autotypenumbers": "strict",
          "coloraxis": {
           "colorbar": {
            "outlinewidth": 0,
            "ticks": ""
           }
          },
          "colorscale": {
           "diverging": [
            [
             0,
             "#8e0152"
            ],
            [
             0.1,
             "#c51b7d"
            ],
            [
             0.2,
             "#de77ae"
            ],
            [
             0.3,
             "#f1b6da"
            ],
            [
             0.4,
             "#fde0ef"
            ],
            [
             0.5,
             "#f7f7f7"
            ],
            [
             0.6,
             "#e6f5d0"
            ],
            [
             0.7,
             "#b8e186"
            ],
            [
             0.8,
             "#7fbc41"
            ],
            [
             0.9,
             "#4d9221"
            ],
            [
             1,
             "#276419"
            ]
           ],
           "sequential": [
            [
             0,
             "#0d0887"
            ],
            [
             0.1111111111111111,
             "#46039f"
            ],
            [
             0.2222222222222222,
             "#7201a8"
            ],
            [
             0.3333333333333333,
             "#9c179e"
            ],
            [
             0.4444444444444444,
             "#bd3786"
            ],
            [
             0.5555555555555556,
             "#d8576b"
            ],
            [
             0.6666666666666666,
             "#ed7953"
            ],
            [
             0.7777777777777778,
             "#fb9f3a"
            ],
            [
             0.8888888888888888,
             "#fdca26"
            ],
            [
             1,
             "#f0f921"
            ]
           ],
           "sequentialminus": [
            [
             0,
             "#0d0887"
            ],
            [
             0.1111111111111111,
             "#46039f"
            ],
            [
             0.2222222222222222,
             "#7201a8"
            ],
            [
             0.3333333333333333,
             "#9c179e"
            ],
            [
             0.4444444444444444,
             "#bd3786"
            ],
            [
             0.5555555555555556,
             "#d8576b"
            ],
            [
             0.6666666666666666,
             "#ed7953"
            ],
            [
             0.7777777777777778,
             "#fb9f3a"
            ],
            [
             0.8888888888888888,
             "#fdca26"
            ],
            [
             1,
             "#f0f921"
            ]
           ]
          },
          "colorway": [
           "#636efa",
           "#EF553B",
           "#00cc96",
           "#ab63fa",
           "#FFA15A",
           "#19d3f3",
           "#FF6692",
           "#B6E880",
           "#FF97FF",
           "#FECB52"
          ],
          "font": {
           "color": "#2a3f5f"
          },
          "geo": {
           "bgcolor": "white",
           "lakecolor": "white",
           "landcolor": "#E5ECF6",
           "showlakes": true,
           "showland": true,
           "subunitcolor": "white"
          },
          "hoverlabel": {
           "align": "left"
          },
          "hovermode": "closest",
          "mapbox": {
           "style": "light"
          },
          "paper_bgcolor": "white",
          "plot_bgcolor": "#E5ECF6",
          "polar": {
           "angularaxis": {
            "gridcolor": "white",
            "linecolor": "white",
            "ticks": ""
           },
           "bgcolor": "#E5ECF6",
           "radialaxis": {
            "gridcolor": "white",
            "linecolor": "white",
            "ticks": ""
           }
          },
          "scene": {
           "xaxis": {
            "backgroundcolor": "#E5ECF6",
            "gridcolor": "white",
            "gridwidth": 2,
            "linecolor": "white",
            "showbackground": true,
            "ticks": "",
            "zerolinecolor": "white"
           },
           "yaxis": {
            "backgroundcolor": "#E5ECF6",
            "gridcolor": "white",
            "gridwidth": 2,
            "linecolor": "white",
            "showbackground": true,
            "ticks": "",
            "zerolinecolor": "white"
           },
           "zaxis": {
            "backgroundcolor": "#E5ECF6",
            "gridcolor": "white",
            "gridwidth": 2,
            "linecolor": "white",
            "showbackground": true,
            "ticks": "",
            "zerolinecolor": "white"
           }
          },
          "shapedefaults": {
           "line": {
            "color": "#2a3f5f"
           }
          },
          "ternary": {
           "aaxis": {
            "gridcolor": "white",
            "linecolor": "white",
            "ticks": ""
           },
           "baxis": {
            "gridcolor": "white",
            "linecolor": "white",
            "ticks": ""
           },
           "bgcolor": "#E5ECF6",
           "caxis": {
            "gridcolor": "white",
            "linecolor": "white",
            "ticks": ""
           }
          },
          "title": {
           "x": 0.05
          },
          "xaxis": {
           "automargin": true,
           "gridcolor": "white",
           "linecolor": "white",
           "ticks": "",
           "title": {
            "standoff": 15
           },
           "zerolinecolor": "white",
           "zerolinewidth": 2
          },
          "yaxis": {
           "automargin": true,
           "gridcolor": "white",
           "linecolor": "white",
           "ticks": "",
           "title": {
            "standoff": 15
           },
           "zerolinecolor": "white",
           "zerolinewidth": 2
          }
         }
        },
        "title": {
         "text": "Visualisasi 2D Embedding dengan Label Nama Batik (PCA)"
        },
        "width": 900,
        "xaxis": {
         "anchor": "y",
         "domain": [
          0,
          1
         ],
         "title": {
          "text": "Komponen Utama 1"
         }
        },
        "yaxis": {
         "anchor": "x",
         "domain": [
          0,
          1
         ],
         "title": {
          "text": "Komponen Utama 2"
         }
        }
       }
      }
     },
     "metadata": {},
     "output_type": "display_data"
    }
   ],
   "source": [
    "df_vi['PCA1'] = embeddings_2d[:, 0]\n",
    "df_vi['PCA2'] = embeddings_2d[:, 1]\n",
    "\n",
    "# Buat visualisasi dengan Plotly Express\n",
    "fig = px.scatter(\n",
    "    df_vi, \n",
    "    x='PCA1', \n",
    "    y='PCA2', \n",
    "    text='Nama',  # Label setiap titik dengan nama batik\n",
    "    color='Nama',  # Warna berbeda untuk setiap jenis batik\n",
    "    title=\"Visualisasi 2D Embedding dengan Label Nama Batik (PCA)\",\n",
    "    labels={'PCA1': \"Komponen Utama 1\", 'PCA2': \"Komponen Utama 2\"},\n",
    "    width=900,  # Lebar plot\n",
    "    height=700  # Tinggi plot\n",
    ")\n",
    "\n",
    "# Tambahkan label titik\n",
    "fig.update_traces(textposition='top center', marker=dict(size=12, opacity=0.8, line=dict(width=1, color='DarkSlateGrey')))\n",
    "\n",
    "# Tampilkan plot interaktif\n",
    "fig.show()"
   ]
  }
 ],
 "metadata": {
  "kernelspec": {
   "display_name": "Python 3",
   "language": "python",
   "name": "python3"
  },
  "language_info": {
   "codemirror_mode": {
    "name": "ipython",
    "version": 3
   },
   "file_extension": ".py",
   "mimetype": "text/x-python",
   "name": "python",
   "nbconvert_exporter": "python",
   "pygments_lexer": "ipython3",
   "version": "3.11.9"
  }
 },
 "nbformat": 4,
 "nbformat_minor": 2
}
