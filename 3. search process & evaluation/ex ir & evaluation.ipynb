{
 "cells": [
  {
   "cell_type": "code",
   "execution_count": 4,
   "metadata": {},
   "outputs": [],
   "source": [
    "import json\n",
    "import numpy as np"
   ]
  },
  {
   "cell_type": "code",
   "execution_count": 6,
   "metadata": {},
   "outputs": [],
   "source": [
    "# Fungsi untuk memuat file JSON\n",
    "def load_json(path):\n",
    "    with open(path, 'r') as f:\n",
    "        return json.load(f)\n",
    "\n",
    "# Muat multimodal features yang sudah disimpan\n",
    "multimodal_path = \"../2. agregation embed/multimodal_features.json\"  # sesuaikan path-nya\n",
    "multimodal_features = load_json(multimodal_path)"
   ]
  },
  {
   "cell_type": "code",
   "execution_count": 7,
   "metadata": {},
   "outputs": [],
   "source": [
    "db_features = {name: np.array(vec) for name, vec in multimodal_features.items()}"
   ]
  },
  {
   "cell_type": "code",
   "execution_count": 8,
   "metadata": {},
   "outputs": [],
   "source": [
    "# Fungsi untuk menghitung cosine similarity antara dua vektor\n",
    "def cosine_similarity(vec1, vec2):\n",
    "    norm1 = np.linalg.norm(vec1)\n",
    "    norm2 = np.linalg.norm(vec2)\n",
    "    if norm1 == 0 or norm2 == 0:\n",
    "        return 0.0\n",
    "    return np.dot(vec1, vec2) / (norm1 * norm2)"
   ]
  },
  {
   "cell_type": "code",
   "execution_count": 11,
   "metadata": {},
   "outputs": [],
   "source": [
    "# Fungsi dummy untuk menghasilkan embedding dari query teks\n",
    "def get_text_embedding(query_text):\n",
    "    # Di sini, sebagai contoh, kita menghasilkan vektor acak berdimensi 256.\n",
    "    # Gantilah fungsi ini dengan pemrosesan teks menggunakan model NLP yang sesuai.\n",
    "    return (np.random.rand(256) - 0.5).astype(np.float32)"
   ]
  },
  {
   "cell_type": "code",
   "execution_count": 12,
   "metadata": {},
   "outputs": [],
   "source": [
    "# Fungsi dummy untuk menghasilkan embedding dari query gambar\n",
    "def get_image_embedding(query_image_path):\n",
    "    # Di sini, sebagai contoh, kita menghasilkan vektor acak berdimensi 256.\n",
    "    # Gantilah dengan pipeline ekstraksi fitur gambar (misalnya, CNN + pooling).\n",
    "    return (np.random.rand(256) - 0.5).astype(np.float32)\n",
    "\n"
   ]
  },
  {
   "cell_type": "code",
   "execution_count": 13,
   "metadata": {},
   "outputs": [],
   "source": [
    "# Fungsi untuk menggabungkan embedding teks dan gambar (misalnya, melalui konkatenasi)\n",
    "def fuse_embeddings(text_emb, image_emb):\n",
    "    return np.concatenate([text_emb, image_emb], axis=0)"
   ]
  },
  {
   "cell_type": "code",
   "execution_count": 16,
   "metadata": {},
   "outputs": [],
   "source": [
    "# Proses input query dari user\n",
    "query_type = input(\"Masukkan tipe query (text, image, both): \").strip().lower()"
   ]
  },
  {
   "cell_type": "code",
   "execution_count": 22,
   "metadata": {},
   "outputs": [
    {
     "name": "stdout",
     "output_type": "stream",
     "text": [
      "\n",
      "Top 5 hasil pencarian berdasarkan similarity:\n",
      "1. Batik Cendrawasih - Similarity: -0.0069\n",
      "2. Batik Priangan - Similarity: -0.0085\n",
      "3. Batik Pekalongan - Similarity: -0.0087\n",
      "4. Batik Megamendung - Similarity: -0.0189\n",
      "5. Batik Sidoluhur - Similarity: -0.0242\n"
     ]
    }
   ],
   "source": [
    "if query_type == \"text\":\n",
    "    query_text = input(\"Masukkan query teks: \")\n",
    "    text_emb = get_text_embedding(query_text)\n",
    "    # Untuk memastikan dimensi query sama dengan database multimodal (512),\n",
    "    # kita gabungkan dengan vektor nol untuk placeholder gambar.\n",
    "    zero_image_emb = np.zeros_like(text_emb)  # vektor nol 256-dimensi\n",
    "    query_embedding = fuse_embeddings(text_emb, zero_image_emb)\n",
    "elif query_type == \"image\":\n",
    "    query_image_path = input(\"Masukkan path gambar query: \")\n",
    "    query_embedding = get_image_embedding(query_image_path)\n",
    "    # Jika database menggunakan multimodal embedding (512-dimensi),\n",
    "    # kita bisa menggabungkan dengan vektor nol untuk placeholder teks.\n",
    "    zero_text_emb = np.zeros_like(query_embedding)\n",
    "    query_embedding = fuse_embeddings(zero_text_emb, query_embedding)\n",
    "elif query_type == \"both\":\n",
    "    query_text = input(\"Masukkan query teks: \")\n",
    "    query_image_path = input(\"Masukkan path gambar query: \")\n",
    "    text_emb = get_text_embedding(query_text)\n",
    "    image_emb = get_image_embedding(query_image_path)\n",
    "    query_embedding = fuse_embeddings(text_emb, image_emb)\n",
    "else:\n",
    "    print(\"Tipe query tidak valid.\")\n",
    "    query_embedding = None\n",
    "\n",
    "# Proses IR jika query_embedding valid\n",
    "if query_embedding is not None:\n",
    "    similarities = {}\n",
    "    for name, emb in db_features.items():\n",
    "        sim = cosine_similarity(query_embedding, emb)\n",
    "        similarities[name] = sim\n",
    "\n",
    "    # Urutkan hasil berdasarkan similarity tertinggi\n",
    "    sorted_results = sorted(similarities.items(), key=lambda x: x[1], reverse=True)\n",
    "    \n",
    "    top_k = 5\n",
    "    print(f\"\\nTop {top_k} hasil pencarian berdasarkan similarity:\")\n",
    "    for i, (name, sim) in enumerate(sorted_results[:top_k]):\n",
    "        print(f\"{i+1}. {name} - Similarity: {sim:.4f}\")"
   ]
  }
 ],
 "metadata": {
  "kernelspec": {
   "display_name": "Python 3",
   "language": "python",
   "name": "python3"
  },
  "language_info": {
   "codemirror_mode": {
    "name": "ipython",
    "version": 3
   },
   "file_extension": ".py",
   "mimetype": "text/x-python",
   "name": "python",
   "nbconvert_exporter": "python",
   "pygments_lexer": "ipython3",
   "version": "3.11.9"
  }
 },
 "nbformat": 4,
 "nbformat_minor": 2
}
