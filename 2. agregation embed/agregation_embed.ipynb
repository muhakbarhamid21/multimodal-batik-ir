{
 "cells": [
  {
   "cell_type": "markdown",
   "metadata": {},
   "source": [
    "# Import Library"
   ]
  },
  {
   "cell_type": "code",
   "execution_count": 37,
   "metadata": {},
   "outputs": [],
   "source": [
    "import numpy as np\n",
    "import pandas as pd\n",
    "import ast\n",
    "import plotly.express as px"
   ]
  },
  {
   "cell_type": "code",
   "execution_count": 43,
   "metadata": {},
   "outputs": [],
   "source": [
    "from sklearn.decomposition import PCA"
   ]
  },
  {
   "cell_type": "markdown",
   "metadata": {},
   "source": [
    "# Import & Init Dataset Multimodal"
   ]
  },
  {
   "cell_type": "code",
   "execution_count": 7,
   "metadata": {},
   "outputs": [],
   "source": [
    "df_text = pd.read_csv('../datasets/in-procces/data_text_batik_embed.csv')\n",
    "df_image = pd.read_csv('../datasets/in-procces/data_image_batik_embed_aggregation.csv')"
   ]
  },
  {
   "cell_type": "code",
   "execution_count": 8,
   "metadata": {},
   "outputs": [
    {
     "data": {
      "text/html": [
       "<div>\n",
       "<style scoped>\n",
       "    .dataframe tbody tr th:only-of-type {\n",
       "        vertical-align: middle;\n",
       "    }\n",
       "\n",
       "    .dataframe tbody tr th {\n",
       "        vertical-align: top;\n",
       "    }\n",
       "\n",
       "    .dataframe thead th {\n",
       "        text-align: right;\n",
       "    }\n",
       "</style>\n",
       "<table border=\"1\" class=\"dataframe\">\n",
       "  <thead>\n",
       "    <tr style=\"text-align: right;\">\n",
       "      <th></th>\n",
       "      <th>Nama</th>\n",
       "      <th>Deskripsi</th>\n",
       "      <th>Path Folder</th>\n",
       "      <th>Path Gambar</th>\n",
       "      <th>Deskripsi_casefolding</th>\n",
       "      <th>Deskripsi_clean</th>\n",
       "      <th>tokenized</th>\n",
       "      <th>stop_removed</th>\n",
       "      <th>lemmatized</th>\n",
       "      <th>preprocessing</th>\n",
       "      <th>preprocessing_embedding</th>\n",
       "    </tr>\n",
       "  </thead>\n",
       "  <tbody>\n",
       "    <tr>\n",
       "      <th>0</th>\n",
       "      <td>Batik Bali</td>\n",
       "      <td>Batik Bali memiliki motif rumit yang terinspir...</td>\n",
       "      <td>batik-bali</td>\n",
       "      <td>batik-bali.jpg</td>\n",
       "      <td>batik bali memiliki motif rumit yang terinspir...</td>\n",
       "      <td>batik bali memiliki motif rumit yang terinspir...</td>\n",
       "      <td>['batik', 'bali', 'memiliki', 'motif', 'rumit'...</td>\n",
       "      <td>['batik', 'bali', 'memiliki', 'motif', 'rumit'...</td>\n",
       "      <td>['batik', 'bali', 'memiliki', 'motif', 'rumit'...</td>\n",
       "      <td>batik bali memiliki motif rumit terinspirasi b...</td>\n",
       "      <td>[0.3322688043117523, 0.2934962511062622, 0.148...</td>\n",
       "    </tr>\n",
       "    <tr>\n",
       "      <th>1</th>\n",
       "      <td>Batik Betawi</td>\n",
       "      <td>Batik Betawi memiliki motif geometris sederhan...</td>\n",
       "      <td>batik-betawi</td>\n",
       "      <td>batik-betawi.jpg</td>\n",
       "      <td>batik betawi memiliki motif geometris sederhan...</td>\n",
       "      <td>batik betawi memiliki motif geometris sederhan...</td>\n",
       "      <td>['batik', 'betawi', 'memiliki', 'motif', 'geom...</td>\n",
       "      <td>['batik', 'betawi', 'memiliki', 'motif', 'geom...</td>\n",
       "      <td>['batik', 'betawi', 'memiliki', 'motif', 'geom...</td>\n",
       "      <td>batik betawi memiliki motif geometris sederhan...</td>\n",
       "      <td>[0.07265201956033707, 0.2657928168773651, 0.19...</td>\n",
       "    </tr>\n",
       "    <tr>\n",
       "      <th>2</th>\n",
       "      <td>Batik Celup</td>\n",
       "      <td>Batik Celup memiliki pola abstrak dengan grada...</td>\n",
       "      <td>batik-celup</td>\n",
       "      <td>batik-celup.jpg</td>\n",
       "      <td>batik celup memiliki pola abstrak dengan grada...</td>\n",
       "      <td>batik celup memiliki pola abstrak dengan grada...</td>\n",
       "      <td>['batik', 'celup', 'memiliki', 'pola', 'abstra...</td>\n",
       "      <td>['batik', 'celup', 'memiliki', 'pola', 'abstra...</td>\n",
       "      <td>['batik', 'celup', 'memiliki', 'pola', 'abstra...</td>\n",
       "      <td>batik celup memiliki pola abstrak gradasi warn...</td>\n",
       "      <td>[0.013769574463367462, 0.3355376422405243, 0.0...</td>\n",
       "    </tr>\n",
       "    <tr>\n",
       "      <th>3</th>\n",
       "      <td>Batik Cendrawasih</td>\n",
       "      <td>Batik Cendrawasih menampilkan motif burung cen...</td>\n",
       "      <td>batik-cendrawasih</td>\n",
       "      <td>batik-cendrawasih.jpg</td>\n",
       "      <td>batik cendrawasih menampilkan motif burung cen...</td>\n",
       "      <td>batik cendrawasih menampilkan motif burung cen...</td>\n",
       "      <td>['batik', 'cendrawasih', 'menampilkan', 'motif...</td>\n",
       "      <td>['batik', 'cendrawasih', 'menampilkan', 'motif...</td>\n",
       "      <td>['batik', 'cendrawasih', 'menampilkan', 'motif...</td>\n",
       "      <td>batik cendrawasih menampilkan motif burung cen...</td>\n",
       "      <td>[0.7157406210899353, 0.7801889181137085, -0.01...</td>\n",
       "    </tr>\n",
       "    <tr>\n",
       "      <th>4</th>\n",
       "      <td>Batik Ceplok</td>\n",
       "      <td>Batik Ceplok memiliki pola geometris berulang ...</td>\n",
       "      <td>batik-ceplok</td>\n",
       "      <td>batik-ceplok.jpg</td>\n",
       "      <td>batik ceplok memiliki pola geometris berulang ...</td>\n",
       "      <td>batik ceplok memiliki pola geometris berulang ...</td>\n",
       "      <td>['batik', 'ceplok', 'memiliki', 'pola', 'geome...</td>\n",
       "      <td>['batik', 'ceplok', 'memiliki', 'pola', 'geome...</td>\n",
       "      <td>['batik', 'ceplok', 'memiliki', 'pola', 'geome...</td>\n",
       "      <td>batik ceplok memiliki pola geometris berulang ...</td>\n",
       "      <td>[-0.05024304240942001, 0.3212023377418518, 0.0...</td>\n",
       "    </tr>\n",
       "    <tr>\n",
       "      <th>5</th>\n",
       "      <td>Batik Ciamis</td>\n",
       "      <td>Batik Ciamis memiliki motif sederhana dengan p...</td>\n",
       "      <td>batik-ciamis</td>\n",
       "      <td>batik-ciamis.jpg</td>\n",
       "      <td>batik ciamis memiliki motif sederhana dengan p...</td>\n",
       "      <td>batik ciamis memiliki motif sederhana dengan p...</td>\n",
       "      <td>['batik', 'ciamis', 'memiliki', 'motif', 'sede...</td>\n",
       "      <td>['batik', 'ciamis', 'memiliki', 'motif', 'sede...</td>\n",
       "      <td>['batik', 'ciamis', 'memiliki', 'motif', 'sede...</td>\n",
       "      <td>batik ciamis memiliki motif sederhana pola bun...</td>\n",
       "      <td>[0.01742059737443924, 0.254853755235672, -0.23...</td>\n",
       "    </tr>\n",
       "    <tr>\n",
       "      <th>6</th>\n",
       "      <td>Batik Garutan</td>\n",
       "      <td>Batik Garutan memiliki motif bunga, daun, atau...</td>\n",
       "      <td>batik-garutan</td>\n",
       "      <td>batik-garutan.jpg</td>\n",
       "      <td>batik garutan memiliki motif bunga, daun, atau...</td>\n",
       "      <td>batik garutan memiliki motif bunga daun atau b...</td>\n",
       "      <td>['batik', 'garutan', 'memiliki', 'motif', 'bun...</td>\n",
       "      <td>['batik', 'garutan', 'memiliki', 'motif', 'bun...</td>\n",
       "      <td>['batik', 'garutan', 'memiliki', 'motif', 'bun...</td>\n",
       "      <td>batik garutan memiliki motif bunga daun burung...</td>\n",
       "      <td>[0.15656530857086182, 0.6932697296142578, -0.3...</td>\n",
       "    </tr>\n",
       "    <tr>\n",
       "      <th>7</th>\n",
       "      <td>Batik Gentongan</td>\n",
       "      <td>Batik Gentongan memiliki motif bunga besar den...</td>\n",
       "      <td>batik-gentongan</td>\n",
       "      <td>batik-gentongan.jpg</td>\n",
       "      <td>batik gentongan memiliki motif bunga besar den...</td>\n",
       "      <td>batik gentongan memiliki motif bunga besar den...</td>\n",
       "      <td>['batik', 'gentongan', 'memiliki', 'motif', 'b...</td>\n",
       "      <td>['batik', 'gentongan', 'memiliki', 'motif', 'b...</td>\n",
       "      <td>['batik', 'gentongan', 'memiliki', 'motif', 'b...</td>\n",
       "      <td>batik gentongan memiliki motif bunga warna men...</td>\n",
       "      <td>[0.34450066089630127, 0.3650816082954407, 0.04...</td>\n",
       "    </tr>\n",
       "    <tr>\n",
       "      <th>8</th>\n",
       "      <td>Batik Kawung</td>\n",
       "      <td>Batik Kawung memiliki motif lingkaran geometri...</td>\n",
       "      <td>batik-kawung</td>\n",
       "      <td>batik-kawung.jpg</td>\n",
       "      <td>batik kawung memiliki motif lingkaran geometri...</td>\n",
       "      <td>batik kawung memiliki motif lingkaran geometri...</td>\n",
       "      <td>['batik', 'kawung', 'memiliki', 'motif', 'ling...</td>\n",
       "      <td>['batik', 'kawung', 'memiliki', 'motif', 'ling...</td>\n",
       "      <td>['batik', 'kawung', 'memiliki', 'motif', 'ling...</td>\n",
       "      <td>batik kawung memiliki motif lingkaran geometri...</td>\n",
       "      <td>[0.114462710916996, 0.36451849341392517, 0.241...</td>\n",
       "    </tr>\n",
       "    <tr>\n",
       "      <th>9</th>\n",
       "      <td>Batik Keraton</td>\n",
       "      <td>Batik Keraton memiliki motif klasik seperti Pa...</td>\n",
       "      <td>batik-keraton</td>\n",
       "      <td>batik-keraton.jpg</td>\n",
       "      <td>batik keraton memiliki motif klasik seperti pa...</td>\n",
       "      <td>batik keraton memiliki motif klasik seperti pa...</td>\n",
       "      <td>['batik', 'keraton', 'memiliki', 'motif', 'kla...</td>\n",
       "      <td>['batik', 'keraton', 'memiliki', 'motif', 'kla...</td>\n",
       "      <td>['batik', 'keraton', 'memiliki', 'motif', 'kla...</td>\n",
       "      <td>batik keraton memiliki motif klasik parang saw...</td>\n",
       "      <td>[-0.220091313123703, 0.7498683929443359, -0.06...</td>\n",
       "    </tr>\n",
       "    <tr>\n",
       "      <th>10</th>\n",
       "      <td>Batik Lasem</td>\n",
       "      <td>Batik Lasem didominasi warna merah cerah khas ...</td>\n",
       "      <td>batik-lasem</td>\n",
       "      <td>batik-lasem.jpg</td>\n",
       "      <td>batik lasem didominasi warna merah cerah khas ...</td>\n",
       "      <td>batik lasem didominasi warna merah cerah khas ...</td>\n",
       "      <td>['batik', 'lasem', 'didominasi', 'warna', 'mer...</td>\n",
       "      <td>['batik', 'lasem', 'didominasi', 'warna', 'mer...</td>\n",
       "      <td>['batik', 'lasem', 'didominasi', 'warna', 'mer...</td>\n",
       "      <td>batik lasem didominasi warna merah cerah khas ...</td>\n",
       "      <td>[-0.06592390686273575, 0.29436537623405457, 0....</td>\n",
       "    </tr>\n",
       "    <tr>\n",
       "      <th>11</th>\n",
       "      <td>Batik Megamendung</td>\n",
       "      <td>Batik Megamendung memiliki motif awan bergrada...</td>\n",
       "      <td>batik-megamendung</td>\n",
       "      <td>batik-megamendung.jpg</td>\n",
       "      <td>batik megamendung memiliki motif awan bergrada...</td>\n",
       "      <td>batik megamendung memiliki motif awan bergrada...</td>\n",
       "      <td>['batik', 'megamendung', 'memiliki', 'motif', ...</td>\n",
       "      <td>['batik', 'megamendung', 'memiliki', 'motif', ...</td>\n",
       "      <td>['batik', 'megamendung', 'memiliki', 'motif', ...</td>\n",
       "      <td>batik megamendung memiliki motif awan bergrada...</td>\n",
       "      <td>[0.20374679565429688, 0.35712116956710815, 0.0...</td>\n",
       "    </tr>\n",
       "    <tr>\n",
       "      <th>12</th>\n",
       "      <td>Batik Parang</td>\n",
       "      <td>Batik Parang memiliki motif garis melengkung m...</td>\n",
       "      <td>batik-parang</td>\n",
       "      <td>batik-parang.jpg</td>\n",
       "      <td>batik parang memiliki motif garis melengkung m...</td>\n",
       "      <td>batik parang memiliki motif garis melengkung m...</td>\n",
       "      <td>['batik', 'parang', 'memiliki', 'motif', 'gari...</td>\n",
       "      <td>['batik', 'parang', 'memiliki', 'motif', 'gari...</td>\n",
       "      <td>['batik', 'parang', 'memiliki', 'motif', 'gari...</td>\n",
       "      <td>batik parang memiliki motif gari melengkung me...</td>\n",
       "      <td>[0.09339701384305954, 0.3592895567417145, 0.18...</td>\n",
       "    </tr>\n",
       "    <tr>\n",
       "      <th>13</th>\n",
       "      <td>Batik Pekalongan</td>\n",
       "      <td>Batik Pekalongan memiliki pola flora dan fauna...</td>\n",
       "      <td>batik-pekalongan</td>\n",
       "      <td>batik-pekalongan.jpg</td>\n",
       "      <td>batik pekalongan memiliki pola flora dan fauna...</td>\n",
       "      <td>batik pekalongan memiliki pola flora dan fauna...</td>\n",
       "      <td>['batik', 'pekalongan', 'memiliki', 'pola', 'f...</td>\n",
       "      <td>['batik', 'pekalongan', 'memiliki', 'pola', 'f...</td>\n",
       "      <td>['batik', 'pekalongan', 'memiliki', 'pola', 'f...</td>\n",
       "      <td>batik pekalongan memiliki pola flora fauna war...</td>\n",
       "      <td>[0.23771709203720093, 0.44194066524505615, -0....</td>\n",
       "    </tr>\n",
       "    <tr>\n",
       "      <th>14</th>\n",
       "      <td>Batik Priangan</td>\n",
       "      <td>Batik Priangan memiliki pola bunga kecil dan d...</td>\n",
       "      <td>batik-priangan</td>\n",
       "      <td>batik-priangan.jpg</td>\n",
       "      <td>batik priangan memiliki pola bunga kecil dan d...</td>\n",
       "      <td>batik priangan memiliki pola bunga kecil dan d...</td>\n",
       "      <td>['batik', 'priangan', 'memiliki', 'pola', 'bun...</td>\n",
       "      <td>['batik', 'priangan', 'memiliki', 'pola', 'bun...</td>\n",
       "      <td>['batik', 'priangan', 'memiliki', 'pola', 'bun...</td>\n",
       "      <td>batik priangan memiliki pola bunga dedaunan wa...</td>\n",
       "      <td>[0.05289473384618759, 0.1907866895198822, -0.2...</td>\n",
       "    </tr>\n",
       "    <tr>\n",
       "      <th>15</th>\n",
       "      <td>Batik Sekar</td>\n",
       "      <td>Batik Sekar memiliki pola bunga yang indah dan...</td>\n",
       "      <td>batik-sekar</td>\n",
       "      <td>batik-sekar.jpg</td>\n",
       "      <td>batik sekar memiliki pola bunga yang indah dan...</td>\n",
       "      <td>batik sekar memiliki pola bunga yang indah dan...</td>\n",
       "      <td>['batik', 'sekar', 'memiliki', 'pola', 'bunga'...</td>\n",
       "      <td>['batik', 'sekar', 'memiliki', 'pola', 'bunga'...</td>\n",
       "      <td>['batik', 'sekar', 'memiliki', 'pola', 'bunga'...</td>\n",
       "      <td>batik sekar memiliki pola bunga indah elegan w...</td>\n",
       "      <td>[-0.24569997191429138, 0.02884397655725479, -0...</td>\n",
       "    </tr>\n",
       "    <tr>\n",
       "      <th>16</th>\n",
       "      <td>Batik Sidoluhur</td>\n",
       "      <td>Batik Sidoluhur memiliki motif klasik dengan p...</td>\n",
       "      <td>batik-sidoluhur</td>\n",
       "      <td>batik-sidoluhur.jpg</td>\n",
       "      <td>batik sidoluhur memiliki motif klasik dengan p...</td>\n",
       "      <td>batik sidoluhur memiliki motif klasik dengan p...</td>\n",
       "      <td>['batik', 'sidoluhur', 'memiliki', 'motif', 'k...</td>\n",
       "      <td>['batik', 'sidoluhur', 'memiliki', 'motif', 'k...</td>\n",
       "      <td>['batik', 'sidoluhur', 'memiliki', 'motif', 'k...</td>\n",
       "      <td>batik sidoluhur memiliki motif klasik pola geo...</td>\n",
       "      <td>[-0.2639467120170593, 0.3463176190853119, -0.0...</td>\n",
       "    </tr>\n",
       "    <tr>\n",
       "      <th>17</th>\n",
       "      <td>Batik Sidomukti</td>\n",
       "      <td>Batik Sidomukti memiliki pola bunga dan geomet...</td>\n",
       "      <td>batik-sidomukti</td>\n",
       "      <td>batik-sidomukti.jpg</td>\n",
       "      <td>batik sidomukti memiliki pola bunga dan geomet...</td>\n",
       "      <td>batik sidomukti memiliki pola bunga dan geomet...</td>\n",
       "      <td>['batik', 'sidomukti', 'memiliki', 'pola', 'bu...</td>\n",
       "      <td>['batik', 'sidomukti', 'memiliki', 'pola', 'bu...</td>\n",
       "      <td>['batik', 'sidomukti', 'memiliki', 'pola', 'bu...</td>\n",
       "      <td>batik sidomukti memiliki pola bunga geometris ...</td>\n",
       "      <td>[-0.02079232782125473, 0.6647354364395142, -0....</td>\n",
       "    </tr>\n",
       "    <tr>\n",
       "      <th>18</th>\n",
       "      <td>Batik Sogan</td>\n",
       "      <td>Batik Sogan memiliki pola klasik dengan warna ...</td>\n",
       "      <td>batik-sogan</td>\n",
       "      <td>batik-sogan.jpg</td>\n",
       "      <td>batik sogan memiliki pola klasik dengan warna ...</td>\n",
       "      <td>batik sogan memiliki pola klasik dengan warna ...</td>\n",
       "      <td>['batik', 'sogan', 'memiliki', 'pola', 'klasik...</td>\n",
       "      <td>['batik', 'sogan', 'memiliki', 'pola', 'klasik...</td>\n",
       "      <td>['batik', 'sogan', 'memiliki', 'pola', 'klasik...</td>\n",
       "      <td>batik sogan memiliki pola klasik warna cokelat...</td>\n",
       "      <td>[-0.08652328699827194, 0.46692630648612976, 0....</td>\n",
       "    </tr>\n",
       "    <tr>\n",
       "      <th>19</th>\n",
       "      <td>Batik Tambal</td>\n",
       "      <td>Batik Tambal memiliki pola tambalan kecil-keci...</td>\n",
       "      <td>batik-tambal</td>\n",
       "      <td>batik-tambal.jpg</td>\n",
       "      <td>batik tambal memiliki pola tambalan kecil-keci...</td>\n",
       "      <td>batik tambal memiliki pola tambalan kecilkecil...</td>\n",
       "      <td>['batik', 'tambal', 'memiliki', 'pola', 'tamba...</td>\n",
       "      <td>['batik', 'tambal', 'memiliki', 'pola', 'tamba...</td>\n",
       "      <td>['batik', 'tambal', 'memiliki', 'pola', 'tamba...</td>\n",
       "      <td>batik tambal memiliki pola tambalan kecilkecil...</td>\n",
       "      <td>[0.06720561534166336, 0.1414370834827423, 0.03...</td>\n",
       "    </tr>\n",
       "  </tbody>\n",
       "</table>\n",
       "</div>"
      ],
      "text/plain": [
       "                 Nama                                          Deskripsi  \\\n",
       "0          Batik Bali  Batik Bali memiliki motif rumit yang terinspir...   \n",
       "1        Batik Betawi  Batik Betawi memiliki motif geometris sederhan...   \n",
       "2         Batik Celup  Batik Celup memiliki pola abstrak dengan grada...   \n",
       "3   Batik Cendrawasih  Batik Cendrawasih menampilkan motif burung cen...   \n",
       "4        Batik Ceplok  Batik Ceplok memiliki pola geometris berulang ...   \n",
       "5        Batik Ciamis  Batik Ciamis memiliki motif sederhana dengan p...   \n",
       "6       Batik Garutan  Batik Garutan memiliki motif bunga, daun, atau...   \n",
       "7     Batik Gentongan  Batik Gentongan memiliki motif bunga besar den...   \n",
       "8        Batik Kawung  Batik Kawung memiliki motif lingkaran geometri...   \n",
       "9       Batik Keraton  Batik Keraton memiliki motif klasik seperti Pa...   \n",
       "10        Batik Lasem  Batik Lasem didominasi warna merah cerah khas ...   \n",
       "11  Batik Megamendung  Batik Megamendung memiliki motif awan bergrada...   \n",
       "12       Batik Parang  Batik Parang memiliki motif garis melengkung m...   \n",
       "13   Batik Pekalongan  Batik Pekalongan memiliki pola flora dan fauna...   \n",
       "14     Batik Priangan  Batik Priangan memiliki pola bunga kecil dan d...   \n",
       "15        Batik Sekar  Batik Sekar memiliki pola bunga yang indah dan...   \n",
       "16    Batik Sidoluhur  Batik Sidoluhur memiliki motif klasik dengan p...   \n",
       "17    Batik Sidomukti  Batik Sidomukti memiliki pola bunga dan geomet...   \n",
       "18        Batik Sogan  Batik Sogan memiliki pola klasik dengan warna ...   \n",
       "19       Batik Tambal  Batik Tambal memiliki pola tambalan kecil-keci...   \n",
       "\n",
       "          Path Folder            Path Gambar  \\\n",
       "0          batik-bali         batik-bali.jpg   \n",
       "1        batik-betawi       batik-betawi.jpg   \n",
       "2         batik-celup        batik-celup.jpg   \n",
       "3   batik-cendrawasih  batik-cendrawasih.jpg   \n",
       "4        batik-ceplok       batik-ceplok.jpg   \n",
       "5        batik-ciamis       batik-ciamis.jpg   \n",
       "6       batik-garutan      batik-garutan.jpg   \n",
       "7     batik-gentongan    batik-gentongan.jpg   \n",
       "8        batik-kawung       batik-kawung.jpg   \n",
       "9       batik-keraton      batik-keraton.jpg   \n",
       "10        batik-lasem        batik-lasem.jpg   \n",
       "11  batik-megamendung  batik-megamendung.jpg   \n",
       "12       batik-parang       batik-parang.jpg   \n",
       "13   batik-pekalongan   batik-pekalongan.jpg   \n",
       "14     batik-priangan     batik-priangan.jpg   \n",
       "15        batik-sekar        batik-sekar.jpg   \n",
       "16    batik-sidoluhur    batik-sidoluhur.jpg   \n",
       "17    batik-sidomukti    batik-sidomukti.jpg   \n",
       "18        batik-sogan        batik-sogan.jpg   \n",
       "19       batik-tambal       batik-tambal.jpg   \n",
       "\n",
       "                                Deskripsi_casefolding  \\\n",
       "0   batik bali memiliki motif rumit yang terinspir...   \n",
       "1   batik betawi memiliki motif geometris sederhan...   \n",
       "2   batik celup memiliki pola abstrak dengan grada...   \n",
       "3   batik cendrawasih menampilkan motif burung cen...   \n",
       "4   batik ceplok memiliki pola geometris berulang ...   \n",
       "5   batik ciamis memiliki motif sederhana dengan p...   \n",
       "6   batik garutan memiliki motif bunga, daun, atau...   \n",
       "7   batik gentongan memiliki motif bunga besar den...   \n",
       "8   batik kawung memiliki motif lingkaran geometri...   \n",
       "9   batik keraton memiliki motif klasik seperti pa...   \n",
       "10  batik lasem didominasi warna merah cerah khas ...   \n",
       "11  batik megamendung memiliki motif awan bergrada...   \n",
       "12  batik parang memiliki motif garis melengkung m...   \n",
       "13  batik pekalongan memiliki pola flora dan fauna...   \n",
       "14  batik priangan memiliki pola bunga kecil dan d...   \n",
       "15  batik sekar memiliki pola bunga yang indah dan...   \n",
       "16  batik sidoluhur memiliki motif klasik dengan p...   \n",
       "17  batik sidomukti memiliki pola bunga dan geomet...   \n",
       "18  batik sogan memiliki pola klasik dengan warna ...   \n",
       "19  batik tambal memiliki pola tambalan kecil-keci...   \n",
       "\n",
       "                                      Deskripsi_clean  \\\n",
       "0   batik bali memiliki motif rumit yang terinspir...   \n",
       "1   batik betawi memiliki motif geometris sederhan...   \n",
       "2   batik celup memiliki pola abstrak dengan grada...   \n",
       "3   batik cendrawasih menampilkan motif burung cen...   \n",
       "4   batik ceplok memiliki pola geometris berulang ...   \n",
       "5   batik ciamis memiliki motif sederhana dengan p...   \n",
       "6   batik garutan memiliki motif bunga daun atau b...   \n",
       "7   batik gentongan memiliki motif bunga besar den...   \n",
       "8   batik kawung memiliki motif lingkaran geometri...   \n",
       "9   batik keraton memiliki motif klasik seperti pa...   \n",
       "10  batik lasem didominasi warna merah cerah khas ...   \n",
       "11  batik megamendung memiliki motif awan bergrada...   \n",
       "12  batik parang memiliki motif garis melengkung m...   \n",
       "13  batik pekalongan memiliki pola flora dan fauna...   \n",
       "14  batik priangan memiliki pola bunga kecil dan d...   \n",
       "15  batik sekar memiliki pola bunga yang indah dan...   \n",
       "16  batik sidoluhur memiliki motif klasik dengan p...   \n",
       "17  batik sidomukti memiliki pola bunga dan geomet...   \n",
       "18  batik sogan memiliki pola klasik dengan warna ...   \n",
       "19  batik tambal memiliki pola tambalan kecilkecil...   \n",
       "\n",
       "                                            tokenized  \\\n",
       "0   ['batik', 'bali', 'memiliki', 'motif', 'rumit'...   \n",
       "1   ['batik', 'betawi', 'memiliki', 'motif', 'geom...   \n",
       "2   ['batik', 'celup', 'memiliki', 'pola', 'abstra...   \n",
       "3   ['batik', 'cendrawasih', 'menampilkan', 'motif...   \n",
       "4   ['batik', 'ceplok', 'memiliki', 'pola', 'geome...   \n",
       "5   ['batik', 'ciamis', 'memiliki', 'motif', 'sede...   \n",
       "6   ['batik', 'garutan', 'memiliki', 'motif', 'bun...   \n",
       "7   ['batik', 'gentongan', 'memiliki', 'motif', 'b...   \n",
       "8   ['batik', 'kawung', 'memiliki', 'motif', 'ling...   \n",
       "9   ['batik', 'keraton', 'memiliki', 'motif', 'kla...   \n",
       "10  ['batik', 'lasem', 'didominasi', 'warna', 'mer...   \n",
       "11  ['batik', 'megamendung', 'memiliki', 'motif', ...   \n",
       "12  ['batik', 'parang', 'memiliki', 'motif', 'gari...   \n",
       "13  ['batik', 'pekalongan', 'memiliki', 'pola', 'f...   \n",
       "14  ['batik', 'priangan', 'memiliki', 'pola', 'bun...   \n",
       "15  ['batik', 'sekar', 'memiliki', 'pola', 'bunga'...   \n",
       "16  ['batik', 'sidoluhur', 'memiliki', 'motif', 'k...   \n",
       "17  ['batik', 'sidomukti', 'memiliki', 'pola', 'bu...   \n",
       "18  ['batik', 'sogan', 'memiliki', 'pola', 'klasik...   \n",
       "19  ['batik', 'tambal', 'memiliki', 'pola', 'tamba...   \n",
       "\n",
       "                                         stop_removed  \\\n",
       "0   ['batik', 'bali', 'memiliki', 'motif', 'rumit'...   \n",
       "1   ['batik', 'betawi', 'memiliki', 'motif', 'geom...   \n",
       "2   ['batik', 'celup', 'memiliki', 'pola', 'abstra...   \n",
       "3   ['batik', 'cendrawasih', 'menampilkan', 'motif...   \n",
       "4   ['batik', 'ceplok', 'memiliki', 'pola', 'geome...   \n",
       "5   ['batik', 'ciamis', 'memiliki', 'motif', 'sede...   \n",
       "6   ['batik', 'garutan', 'memiliki', 'motif', 'bun...   \n",
       "7   ['batik', 'gentongan', 'memiliki', 'motif', 'b...   \n",
       "8   ['batik', 'kawung', 'memiliki', 'motif', 'ling...   \n",
       "9   ['batik', 'keraton', 'memiliki', 'motif', 'kla...   \n",
       "10  ['batik', 'lasem', 'didominasi', 'warna', 'mer...   \n",
       "11  ['batik', 'megamendung', 'memiliki', 'motif', ...   \n",
       "12  ['batik', 'parang', 'memiliki', 'motif', 'gari...   \n",
       "13  ['batik', 'pekalongan', 'memiliki', 'pola', 'f...   \n",
       "14  ['batik', 'priangan', 'memiliki', 'pola', 'bun...   \n",
       "15  ['batik', 'sekar', 'memiliki', 'pola', 'bunga'...   \n",
       "16  ['batik', 'sidoluhur', 'memiliki', 'motif', 'k...   \n",
       "17  ['batik', 'sidomukti', 'memiliki', 'pola', 'bu...   \n",
       "18  ['batik', 'sogan', 'memiliki', 'pola', 'klasik...   \n",
       "19  ['batik', 'tambal', 'memiliki', 'pola', 'tamba...   \n",
       "\n",
       "                                           lemmatized  \\\n",
       "0   ['batik', 'bali', 'memiliki', 'motif', 'rumit'...   \n",
       "1   ['batik', 'betawi', 'memiliki', 'motif', 'geom...   \n",
       "2   ['batik', 'celup', 'memiliki', 'pola', 'abstra...   \n",
       "3   ['batik', 'cendrawasih', 'menampilkan', 'motif...   \n",
       "4   ['batik', 'ceplok', 'memiliki', 'pola', 'geome...   \n",
       "5   ['batik', 'ciamis', 'memiliki', 'motif', 'sede...   \n",
       "6   ['batik', 'garutan', 'memiliki', 'motif', 'bun...   \n",
       "7   ['batik', 'gentongan', 'memiliki', 'motif', 'b...   \n",
       "8   ['batik', 'kawung', 'memiliki', 'motif', 'ling...   \n",
       "9   ['batik', 'keraton', 'memiliki', 'motif', 'kla...   \n",
       "10  ['batik', 'lasem', 'didominasi', 'warna', 'mer...   \n",
       "11  ['batik', 'megamendung', 'memiliki', 'motif', ...   \n",
       "12  ['batik', 'parang', 'memiliki', 'motif', 'gari...   \n",
       "13  ['batik', 'pekalongan', 'memiliki', 'pola', 'f...   \n",
       "14  ['batik', 'priangan', 'memiliki', 'pola', 'bun...   \n",
       "15  ['batik', 'sekar', 'memiliki', 'pola', 'bunga'...   \n",
       "16  ['batik', 'sidoluhur', 'memiliki', 'motif', 'k...   \n",
       "17  ['batik', 'sidomukti', 'memiliki', 'pola', 'bu...   \n",
       "18  ['batik', 'sogan', 'memiliki', 'pola', 'klasik...   \n",
       "19  ['batik', 'tambal', 'memiliki', 'pola', 'tamba...   \n",
       "\n",
       "                                        preprocessing  \\\n",
       "0   batik bali memiliki motif rumit terinspirasi b...   \n",
       "1   batik betawi memiliki motif geometris sederhan...   \n",
       "2   batik celup memiliki pola abstrak gradasi warn...   \n",
       "3   batik cendrawasih menampilkan motif burung cen...   \n",
       "4   batik ceplok memiliki pola geometris berulang ...   \n",
       "5   batik ciamis memiliki motif sederhana pola bun...   \n",
       "6   batik garutan memiliki motif bunga daun burung...   \n",
       "7   batik gentongan memiliki motif bunga warna men...   \n",
       "8   batik kawung memiliki motif lingkaran geometri...   \n",
       "9   batik keraton memiliki motif klasik parang saw...   \n",
       "10  batik lasem didominasi warna merah cerah khas ...   \n",
       "11  batik megamendung memiliki motif awan bergrada...   \n",
       "12  batik parang memiliki motif gari melengkung me...   \n",
       "13  batik pekalongan memiliki pola flora fauna war...   \n",
       "14  batik priangan memiliki pola bunga dedaunan wa...   \n",
       "15  batik sekar memiliki pola bunga indah elegan w...   \n",
       "16  batik sidoluhur memiliki motif klasik pola geo...   \n",
       "17  batik sidomukti memiliki pola bunga geometris ...   \n",
       "18  batik sogan memiliki pola klasik warna cokelat...   \n",
       "19  batik tambal memiliki pola tambalan kecilkecil...   \n",
       "\n",
       "                              preprocessing_embedding  \n",
       "0   [0.3322688043117523, 0.2934962511062622, 0.148...  \n",
       "1   [0.07265201956033707, 0.2657928168773651, 0.19...  \n",
       "2   [0.013769574463367462, 0.3355376422405243, 0.0...  \n",
       "3   [0.7157406210899353, 0.7801889181137085, -0.01...  \n",
       "4   [-0.05024304240942001, 0.3212023377418518, 0.0...  \n",
       "5   [0.01742059737443924, 0.254853755235672, -0.23...  \n",
       "6   [0.15656530857086182, 0.6932697296142578, -0.3...  \n",
       "7   [0.34450066089630127, 0.3650816082954407, 0.04...  \n",
       "8   [0.114462710916996, 0.36451849341392517, 0.241...  \n",
       "9   [-0.220091313123703, 0.7498683929443359, -0.06...  \n",
       "10  [-0.06592390686273575, 0.29436537623405457, 0....  \n",
       "11  [0.20374679565429688, 0.35712116956710815, 0.0...  \n",
       "12  [0.09339701384305954, 0.3592895567417145, 0.18...  \n",
       "13  [0.23771709203720093, 0.44194066524505615, -0....  \n",
       "14  [0.05289473384618759, 0.1907866895198822, -0.2...  \n",
       "15  [-0.24569997191429138, 0.02884397655725479, -0...  \n",
       "16  [-0.2639467120170593, 0.3463176190853119, -0.0...  \n",
       "17  [-0.02079232782125473, 0.6647354364395142, -0....  \n",
       "18  [-0.08652328699827194, 0.46692630648612976, 0....  \n",
       "19  [0.06720561534166336, 0.1414370834827423, 0.03...  "
      ]
     },
     "execution_count": 8,
     "metadata": {},
     "output_type": "execute_result"
    }
   ],
   "source": [
    "df_text"
   ]
  },
  {
   "cell_type": "code",
   "execution_count": 9,
   "metadata": {},
   "outputs": [
    {
     "data": {
      "text/html": [
       "<div>\n",
       "<style scoped>\n",
       "    .dataframe tbody tr th:only-of-type {\n",
       "        vertical-align: middle;\n",
       "    }\n",
       "\n",
       "    .dataframe tbody tr th {\n",
       "        vertical-align: top;\n",
       "    }\n",
       "\n",
       "    .dataframe thead th {\n",
       "        text-align: right;\n",
       "    }\n",
       "</style>\n",
       "<table border=\"1\" class=\"dataframe\">\n",
       "  <thead>\n",
       "    <tr style=\"text-align: right;\">\n",
       "      <th></th>\n",
       "      <th>Nama</th>\n",
       "      <th>preprocessing_embedding</th>\n",
       "    </tr>\n",
       "  </thead>\n",
       "  <tbody>\n",
       "    <tr>\n",
       "      <th>0</th>\n",
       "      <td>Batik Bali</td>\n",
       "      <td>[0.0, 0.0, 0.5472957, 0.4215742, 0.0, 0.0, 0.0...</td>\n",
       "    </tr>\n",
       "    <tr>\n",
       "      <th>1</th>\n",
       "      <td>Batik Betawi</td>\n",
       "      <td>[0.0, 0.0, 0.6672203, 0.40276045, 0.0, 0.0, 0....</td>\n",
       "    </tr>\n",
       "    <tr>\n",
       "      <th>2</th>\n",
       "      <td>Batik Celup</td>\n",
       "      <td>[0.0, 0.0, 0.79459745, 0.39430383, 0.0, 0.0, 0...</td>\n",
       "    </tr>\n",
       "    <tr>\n",
       "      <th>3</th>\n",
       "      <td>Batik Cendrawasih</td>\n",
       "      <td>[0.0, 0.0, 0.75223184, 0.25352657, 0.0, 0.0, 0...</td>\n",
       "    </tr>\n",
       "    <tr>\n",
       "      <th>4</th>\n",
       "      <td>Batik Ceplok</td>\n",
       "      <td>[0.0004699176, 0.0, 0.6311944, 0.42550611, 0.0...</td>\n",
       "    </tr>\n",
       "    <tr>\n",
       "      <th>5</th>\n",
       "      <td>Batik Ciamis</td>\n",
       "      <td>[0.0, 0.0, 0.6932021, 0.36210075, 0.0, 0.0, 8....</td>\n",
       "    </tr>\n",
       "    <tr>\n",
       "      <th>6</th>\n",
       "      <td>Batik Garutan</td>\n",
       "      <td>[0.0, 0.0, 0.5868656, 0.40083218, 0.0, 0.0, 0....</td>\n",
       "    </tr>\n",
       "    <tr>\n",
       "      <th>7</th>\n",
       "      <td>Batik Gentongan</td>\n",
       "      <td>[0.0, 0.0, 0.6754523, 0.37115434, 0.0, 0.0, 0....</td>\n",
       "    </tr>\n",
       "    <tr>\n",
       "      <th>8</th>\n",
       "      <td>Batik Kawung</td>\n",
       "      <td>[0.010028688, 0.0, 0.17821598, 0.7098277, 0.0,...</td>\n",
       "    </tr>\n",
       "    <tr>\n",
       "      <th>9</th>\n",
       "      <td>Batik Keraton</td>\n",
       "      <td>[0.00027843774, 0.0, 0.3422289, 0.5955038, 0.0...</td>\n",
       "    </tr>\n",
       "    <tr>\n",
       "      <th>10</th>\n",
       "      <td>Batik Lasem</td>\n",
       "      <td>[0.0, 0.0, 0.7561231, 0.34163225, 0.0, 0.0, 0....</td>\n",
       "    </tr>\n",
       "    <tr>\n",
       "      <th>11</th>\n",
       "      <td>Batik Megamendung</td>\n",
       "      <td>[0.01054469, 0.0, 0.11762799, 0.64604723, 0.0,...</td>\n",
       "    </tr>\n",
       "    <tr>\n",
       "      <th>12</th>\n",
       "      <td>Batik Parang</td>\n",
       "      <td>[0.00034279638, 0.0, 0.3473972, 0.63084286, 0....</td>\n",
       "    </tr>\n",
       "    <tr>\n",
       "      <th>13</th>\n",
       "      <td>Batik Pekalongan</td>\n",
       "      <td>[0.0, 0.0, 0.56265455, 0.38499564, 0.0, 0.0, 0...</td>\n",
       "    </tr>\n",
       "    <tr>\n",
       "      <th>14</th>\n",
       "      <td>Batik Priangan</td>\n",
       "      <td>[0.0, 0.0, 0.6487553, 0.35312605, 0.0, 0.0, 0....</td>\n",
       "    </tr>\n",
       "    <tr>\n",
       "      <th>15</th>\n",
       "      <td>Batik Sekar</td>\n",
       "      <td>[0.0, 0.0, 0.77888364, 0.22079211, 0.0, 0.0, 0...</td>\n",
       "    </tr>\n",
       "    <tr>\n",
       "      <th>16</th>\n",
       "      <td>Batik Sidoluhur</td>\n",
       "      <td>[0.0, 0.0, 0.64312387, 0.33181974, 0.0, 0.0, 0...</td>\n",
       "    </tr>\n",
       "    <tr>\n",
       "      <th>17</th>\n",
       "      <td>Batik Sidomukti</td>\n",
       "      <td>[0.0, 0.0, 0.7539357, 0.2293929, 0.0, 0.0, 0.0...</td>\n",
       "    </tr>\n",
       "    <tr>\n",
       "      <th>18</th>\n",
       "      <td>Batik Sogan</td>\n",
       "      <td>[0.0, 0.0, 0.68964076, 0.30894235, 0.0, 0.0, 0...</td>\n",
       "    </tr>\n",
       "    <tr>\n",
       "      <th>19</th>\n",
       "      <td>Batik Tambal</td>\n",
       "      <td>[0.0, 0.0, 0.6715081, 0.3345668, 0.0, 0.0, 0.0...</td>\n",
       "    </tr>\n",
       "  </tbody>\n",
       "</table>\n",
       "</div>"
      ],
      "text/plain": [
       "                 Nama                            preprocessing_embedding\n",
       "0          Batik Bali  [0.0, 0.0, 0.5472957, 0.4215742, 0.0, 0.0, 0.0...\n",
       "1        Batik Betawi  [0.0, 0.0, 0.6672203, 0.40276045, 0.0, 0.0, 0....\n",
       "2         Batik Celup  [0.0, 0.0, 0.79459745, 0.39430383, 0.0, 0.0, 0...\n",
       "3   Batik Cendrawasih  [0.0, 0.0, 0.75223184, 0.25352657, 0.0, 0.0, 0...\n",
       "4        Batik Ceplok  [0.0004699176, 0.0, 0.6311944, 0.42550611, 0.0...\n",
       "5        Batik Ciamis  [0.0, 0.0, 0.6932021, 0.36210075, 0.0, 0.0, 8....\n",
       "6       Batik Garutan  [0.0, 0.0, 0.5868656, 0.40083218, 0.0, 0.0, 0....\n",
       "7     Batik Gentongan  [0.0, 0.0, 0.6754523, 0.37115434, 0.0, 0.0, 0....\n",
       "8        Batik Kawung  [0.010028688, 0.0, 0.17821598, 0.7098277, 0.0,...\n",
       "9       Batik Keraton  [0.00027843774, 0.0, 0.3422289, 0.5955038, 0.0...\n",
       "10        Batik Lasem  [0.0, 0.0, 0.7561231, 0.34163225, 0.0, 0.0, 0....\n",
       "11  Batik Megamendung  [0.01054469, 0.0, 0.11762799, 0.64604723, 0.0,...\n",
       "12       Batik Parang  [0.00034279638, 0.0, 0.3473972, 0.63084286, 0....\n",
       "13   Batik Pekalongan  [0.0, 0.0, 0.56265455, 0.38499564, 0.0, 0.0, 0...\n",
       "14     Batik Priangan  [0.0, 0.0, 0.6487553, 0.35312605, 0.0, 0.0, 0....\n",
       "15        Batik Sekar  [0.0, 0.0, 0.77888364, 0.22079211, 0.0, 0.0, 0...\n",
       "16    Batik Sidoluhur  [0.0, 0.0, 0.64312387, 0.33181974, 0.0, 0.0, 0...\n",
       "17    Batik Sidomukti  [0.0, 0.0, 0.7539357, 0.2293929, 0.0, 0.0, 0.0...\n",
       "18        Batik Sogan  [0.0, 0.0, 0.68964076, 0.30894235, 0.0, 0.0, 0...\n",
       "19       Batik Tambal  [0.0, 0.0, 0.6715081, 0.3345668, 0.0, 0.0, 0.0..."
      ]
     },
     "execution_count": 9,
     "metadata": {},
     "output_type": "execute_result"
    }
   ],
   "source": [
    "df_image"
   ]
  },
  {
   "cell_type": "code",
   "execution_count": 18,
   "metadata": {},
   "outputs": [
    {
     "name": "stdout",
     "output_type": "stream",
     "text": [
      "<class 'pandas.core.frame.DataFrame'>\n",
      "RangeIndex: 20 entries, 0 to 19\n",
      "Data columns (total 11 columns):\n",
      " #   Column                   Non-Null Count  Dtype \n",
      "---  ------                   --------------  ----- \n",
      " 0   Nama                     20 non-null     object\n",
      " 1   Deskripsi                20 non-null     object\n",
      " 2   Path Folder              20 non-null     object\n",
      " 3    Path Gambar             20 non-null     object\n",
      " 4   Deskripsi_casefolding    20 non-null     object\n",
      " 5   Deskripsi_clean          20 non-null     object\n",
      " 6   tokenized                20 non-null     object\n",
      " 7   stop_removed             20 non-null     object\n",
      " 8   lemmatized               20 non-null     object\n",
      " 9   preprocessing            20 non-null     object\n",
      " 10  preprocessing_embedding  20 non-null     object\n",
      "dtypes: object(11)\n",
      "memory usage: 1.8+ KB\n"
     ]
    }
   ],
   "source": [
    "df_text.info()"
   ]
  },
  {
   "cell_type": "code",
   "execution_count": 23,
   "metadata": {},
   "outputs": [
    {
     "name": "stdout",
     "output_type": "stream",
     "text": [
      "['Nama', 'Deskripsi', 'Path Folder', ' Path Gambar', 'Deskripsi_casefolding', 'Deskripsi_clean', 'tokenized', 'stop_removed', 'lemmatized', 'preprocessing', 'preprocessing_embedding']\n"
     ]
    }
   ],
   "source": [
    "print(df_text.columns.tolist())"
   ]
  },
  {
   "cell_type": "code",
   "execution_count": 25,
   "metadata": {},
   "outputs": [
    {
     "name": "stdout",
     "output_type": "stream",
     "text": [
      "['Nama', 'preprocessing_embedding']\n"
     ]
    }
   ],
   "source": [
    "print(df_image.columns.tolist())"
   ]
  },
  {
   "cell_type": "code",
   "execution_count": 22,
   "metadata": {},
   "outputs": [
    {
     "name": "stdout",
     "output_type": "stream",
     "text": [
      "<class 'pandas.core.frame.DataFrame'>\n",
      "RangeIndex: 20 entries, 0 to 19\n",
      "Data columns (total 2 columns):\n",
      " #   Column                   Non-Null Count  Dtype \n",
      "---  ------                   --------------  ----- \n",
      " 0   Nama                     20 non-null     object\n",
      " 1   preprocessing_embedding  20 non-null     object\n",
      "dtypes: object(2)\n",
      "memory usage: 452.0+ bytes\n"
     ]
    }
   ],
   "source": [
    "df_image.info()"
   ]
  },
  {
   "cell_type": "code",
   "execution_count": 26,
   "metadata": {},
   "outputs": [],
   "source": [
    "df_multimodal = pd.DataFrame({\n",
    "  'Nama Batik': df_text['Nama'],\n",
    "  'Deskripsi Batik': df_text['Deskripsi'],\n",
    "  'Path Gambar': df_text[' Path Gambar'],\n",
    "  'Embed Text': df_text['preprocessing_embedding'],\n",
    "  'Nama Batik Gambar': df_image['Nama'],\n",
    "  'Embed Image': df_image['preprocessing_embedding']\n",
    "})"
   ]
  },
  {
   "cell_type": "code",
   "execution_count": 27,
   "metadata": {},
   "outputs": [
    {
     "data": {
      "text/html": [
       "<div>\n",
       "<style scoped>\n",
       "    .dataframe tbody tr th:only-of-type {\n",
       "        vertical-align: middle;\n",
       "    }\n",
       "\n",
       "    .dataframe tbody tr th {\n",
       "        vertical-align: top;\n",
       "    }\n",
       "\n",
       "    .dataframe thead th {\n",
       "        text-align: right;\n",
       "    }\n",
       "</style>\n",
       "<table border=\"1\" class=\"dataframe\">\n",
       "  <thead>\n",
       "    <tr style=\"text-align: right;\">\n",
       "      <th></th>\n",
       "      <th>Nama Batik</th>\n",
       "      <th>Deskripsi Batik</th>\n",
       "      <th>Path Gambar</th>\n",
       "      <th>Embed Text</th>\n",
       "      <th>Nama Batik Gambar</th>\n",
       "      <th>Embed Image</th>\n",
       "    </tr>\n",
       "  </thead>\n",
       "  <tbody>\n",
       "    <tr>\n",
       "      <th>0</th>\n",
       "      <td>Batik Bali</td>\n",
       "      <td>Batik Bali memiliki motif rumit yang terinspir...</td>\n",
       "      <td>batik-bali.jpg</td>\n",
       "      <td>[0.3322688043117523, 0.2934962511062622, 0.148...</td>\n",
       "      <td>Batik Bali</td>\n",
       "      <td>[0.0, 0.0, 0.5472957, 0.4215742, 0.0, 0.0, 0.0...</td>\n",
       "    </tr>\n",
       "    <tr>\n",
       "      <th>1</th>\n",
       "      <td>Batik Betawi</td>\n",
       "      <td>Batik Betawi memiliki motif geometris sederhan...</td>\n",
       "      <td>batik-betawi.jpg</td>\n",
       "      <td>[0.07265201956033707, 0.2657928168773651, 0.19...</td>\n",
       "      <td>Batik Betawi</td>\n",
       "      <td>[0.0, 0.0, 0.6672203, 0.40276045, 0.0, 0.0, 0....</td>\n",
       "    </tr>\n",
       "    <tr>\n",
       "      <th>2</th>\n",
       "      <td>Batik Celup</td>\n",
       "      <td>Batik Celup memiliki pola abstrak dengan grada...</td>\n",
       "      <td>batik-celup.jpg</td>\n",
       "      <td>[0.013769574463367462, 0.3355376422405243, 0.0...</td>\n",
       "      <td>Batik Celup</td>\n",
       "      <td>[0.0, 0.0, 0.79459745, 0.39430383, 0.0, 0.0, 0...</td>\n",
       "    </tr>\n",
       "    <tr>\n",
       "      <th>3</th>\n",
       "      <td>Batik Cendrawasih</td>\n",
       "      <td>Batik Cendrawasih menampilkan motif burung cen...</td>\n",
       "      <td>batik-cendrawasih.jpg</td>\n",
       "      <td>[0.7157406210899353, 0.7801889181137085, -0.01...</td>\n",
       "      <td>Batik Cendrawasih</td>\n",
       "      <td>[0.0, 0.0, 0.75223184, 0.25352657, 0.0, 0.0, 0...</td>\n",
       "    </tr>\n",
       "    <tr>\n",
       "      <th>4</th>\n",
       "      <td>Batik Ceplok</td>\n",
       "      <td>Batik Ceplok memiliki pola geometris berulang ...</td>\n",
       "      <td>batik-ceplok.jpg</td>\n",
       "      <td>[-0.05024304240942001, 0.3212023377418518, 0.0...</td>\n",
       "      <td>Batik Ceplok</td>\n",
       "      <td>[0.0004699176, 0.0, 0.6311944, 0.42550611, 0.0...</td>\n",
       "    </tr>\n",
       "    <tr>\n",
       "      <th>5</th>\n",
       "      <td>Batik Ciamis</td>\n",
       "      <td>Batik Ciamis memiliki motif sederhana dengan p...</td>\n",
       "      <td>batik-ciamis.jpg</td>\n",
       "      <td>[0.01742059737443924, 0.254853755235672, -0.23...</td>\n",
       "      <td>Batik Ciamis</td>\n",
       "      <td>[0.0, 0.0, 0.6932021, 0.36210075, 0.0, 0.0, 8....</td>\n",
       "    </tr>\n",
       "    <tr>\n",
       "      <th>6</th>\n",
       "      <td>Batik Garutan</td>\n",
       "      <td>Batik Garutan memiliki motif bunga, daun, atau...</td>\n",
       "      <td>batik-garutan.jpg</td>\n",
       "      <td>[0.15656530857086182, 0.6932697296142578, -0.3...</td>\n",
       "      <td>Batik Garutan</td>\n",
       "      <td>[0.0, 0.0, 0.5868656, 0.40083218, 0.0, 0.0, 0....</td>\n",
       "    </tr>\n",
       "    <tr>\n",
       "      <th>7</th>\n",
       "      <td>Batik Gentongan</td>\n",
       "      <td>Batik Gentongan memiliki motif bunga besar den...</td>\n",
       "      <td>batik-gentongan.jpg</td>\n",
       "      <td>[0.34450066089630127, 0.3650816082954407, 0.04...</td>\n",
       "      <td>Batik Gentongan</td>\n",
       "      <td>[0.0, 0.0, 0.6754523, 0.37115434, 0.0, 0.0, 0....</td>\n",
       "    </tr>\n",
       "    <tr>\n",
       "      <th>8</th>\n",
       "      <td>Batik Kawung</td>\n",
       "      <td>Batik Kawung memiliki motif lingkaran geometri...</td>\n",
       "      <td>batik-kawung.jpg</td>\n",
       "      <td>[0.114462710916996, 0.36451849341392517, 0.241...</td>\n",
       "      <td>Batik Kawung</td>\n",
       "      <td>[0.010028688, 0.0, 0.17821598, 0.7098277, 0.0,...</td>\n",
       "    </tr>\n",
       "    <tr>\n",
       "      <th>9</th>\n",
       "      <td>Batik Keraton</td>\n",
       "      <td>Batik Keraton memiliki motif klasik seperti Pa...</td>\n",
       "      <td>batik-keraton.jpg</td>\n",
       "      <td>[-0.220091313123703, 0.7498683929443359, -0.06...</td>\n",
       "      <td>Batik Keraton</td>\n",
       "      <td>[0.00027843774, 0.0, 0.3422289, 0.5955038, 0.0...</td>\n",
       "    </tr>\n",
       "    <tr>\n",
       "      <th>10</th>\n",
       "      <td>Batik Lasem</td>\n",
       "      <td>Batik Lasem didominasi warna merah cerah khas ...</td>\n",
       "      <td>batik-lasem.jpg</td>\n",
       "      <td>[-0.06592390686273575, 0.29436537623405457, 0....</td>\n",
       "      <td>Batik Lasem</td>\n",
       "      <td>[0.0, 0.0, 0.7561231, 0.34163225, 0.0, 0.0, 0....</td>\n",
       "    </tr>\n",
       "    <tr>\n",
       "      <th>11</th>\n",
       "      <td>Batik Megamendung</td>\n",
       "      <td>Batik Megamendung memiliki motif awan bergrada...</td>\n",
       "      <td>batik-megamendung.jpg</td>\n",
       "      <td>[0.20374679565429688, 0.35712116956710815, 0.0...</td>\n",
       "      <td>Batik Megamendung</td>\n",
       "      <td>[0.01054469, 0.0, 0.11762799, 0.64604723, 0.0,...</td>\n",
       "    </tr>\n",
       "    <tr>\n",
       "      <th>12</th>\n",
       "      <td>Batik Parang</td>\n",
       "      <td>Batik Parang memiliki motif garis melengkung m...</td>\n",
       "      <td>batik-parang.jpg</td>\n",
       "      <td>[0.09339701384305954, 0.3592895567417145, 0.18...</td>\n",
       "      <td>Batik Parang</td>\n",
       "      <td>[0.00034279638, 0.0, 0.3473972, 0.63084286, 0....</td>\n",
       "    </tr>\n",
       "    <tr>\n",
       "      <th>13</th>\n",
       "      <td>Batik Pekalongan</td>\n",
       "      <td>Batik Pekalongan memiliki pola flora dan fauna...</td>\n",
       "      <td>batik-pekalongan.jpg</td>\n",
       "      <td>[0.23771709203720093, 0.44194066524505615, -0....</td>\n",
       "      <td>Batik Pekalongan</td>\n",
       "      <td>[0.0, 0.0, 0.56265455, 0.38499564, 0.0, 0.0, 0...</td>\n",
       "    </tr>\n",
       "    <tr>\n",
       "      <th>14</th>\n",
       "      <td>Batik Priangan</td>\n",
       "      <td>Batik Priangan memiliki pola bunga kecil dan d...</td>\n",
       "      <td>batik-priangan.jpg</td>\n",
       "      <td>[0.05289473384618759, 0.1907866895198822, -0.2...</td>\n",
       "      <td>Batik Priangan</td>\n",
       "      <td>[0.0, 0.0, 0.6487553, 0.35312605, 0.0, 0.0, 0....</td>\n",
       "    </tr>\n",
       "    <tr>\n",
       "      <th>15</th>\n",
       "      <td>Batik Sekar</td>\n",
       "      <td>Batik Sekar memiliki pola bunga yang indah dan...</td>\n",
       "      <td>batik-sekar.jpg</td>\n",
       "      <td>[-0.24569997191429138, 0.02884397655725479, -0...</td>\n",
       "      <td>Batik Sekar</td>\n",
       "      <td>[0.0, 0.0, 0.77888364, 0.22079211, 0.0, 0.0, 0...</td>\n",
       "    </tr>\n",
       "    <tr>\n",
       "      <th>16</th>\n",
       "      <td>Batik Sidoluhur</td>\n",
       "      <td>Batik Sidoluhur memiliki motif klasik dengan p...</td>\n",
       "      <td>batik-sidoluhur.jpg</td>\n",
       "      <td>[-0.2639467120170593, 0.3463176190853119, -0.0...</td>\n",
       "      <td>Batik Sidoluhur</td>\n",
       "      <td>[0.0, 0.0, 0.64312387, 0.33181974, 0.0, 0.0, 0...</td>\n",
       "    </tr>\n",
       "    <tr>\n",
       "      <th>17</th>\n",
       "      <td>Batik Sidomukti</td>\n",
       "      <td>Batik Sidomukti memiliki pola bunga dan geomet...</td>\n",
       "      <td>batik-sidomukti.jpg</td>\n",
       "      <td>[-0.02079232782125473, 0.6647354364395142, -0....</td>\n",
       "      <td>Batik Sidomukti</td>\n",
       "      <td>[0.0, 0.0, 0.7539357, 0.2293929, 0.0, 0.0, 0.0...</td>\n",
       "    </tr>\n",
       "    <tr>\n",
       "      <th>18</th>\n",
       "      <td>Batik Sogan</td>\n",
       "      <td>Batik Sogan memiliki pola klasik dengan warna ...</td>\n",
       "      <td>batik-sogan.jpg</td>\n",
       "      <td>[-0.08652328699827194, 0.46692630648612976, 0....</td>\n",
       "      <td>Batik Sogan</td>\n",
       "      <td>[0.0, 0.0, 0.68964076, 0.30894235, 0.0, 0.0, 0...</td>\n",
       "    </tr>\n",
       "    <tr>\n",
       "      <th>19</th>\n",
       "      <td>Batik Tambal</td>\n",
       "      <td>Batik Tambal memiliki pola tambalan kecil-keci...</td>\n",
       "      <td>batik-tambal.jpg</td>\n",
       "      <td>[0.06720561534166336, 0.1414370834827423, 0.03...</td>\n",
       "      <td>Batik Tambal</td>\n",
       "      <td>[0.0, 0.0, 0.6715081, 0.3345668, 0.0, 0.0, 0.0...</td>\n",
       "    </tr>\n",
       "  </tbody>\n",
       "</table>\n",
       "</div>"
      ],
      "text/plain": [
       "           Nama Batik                                    Deskripsi Batik  \\\n",
       "0          Batik Bali  Batik Bali memiliki motif rumit yang terinspir...   \n",
       "1        Batik Betawi  Batik Betawi memiliki motif geometris sederhan...   \n",
       "2         Batik Celup  Batik Celup memiliki pola abstrak dengan grada...   \n",
       "3   Batik Cendrawasih  Batik Cendrawasih menampilkan motif burung cen...   \n",
       "4        Batik Ceplok  Batik Ceplok memiliki pola geometris berulang ...   \n",
       "5        Batik Ciamis  Batik Ciamis memiliki motif sederhana dengan p...   \n",
       "6       Batik Garutan  Batik Garutan memiliki motif bunga, daun, atau...   \n",
       "7     Batik Gentongan  Batik Gentongan memiliki motif bunga besar den...   \n",
       "8        Batik Kawung  Batik Kawung memiliki motif lingkaran geometri...   \n",
       "9       Batik Keraton  Batik Keraton memiliki motif klasik seperti Pa...   \n",
       "10        Batik Lasem  Batik Lasem didominasi warna merah cerah khas ...   \n",
       "11  Batik Megamendung  Batik Megamendung memiliki motif awan bergrada...   \n",
       "12       Batik Parang  Batik Parang memiliki motif garis melengkung m...   \n",
       "13   Batik Pekalongan  Batik Pekalongan memiliki pola flora dan fauna...   \n",
       "14     Batik Priangan  Batik Priangan memiliki pola bunga kecil dan d...   \n",
       "15        Batik Sekar  Batik Sekar memiliki pola bunga yang indah dan...   \n",
       "16    Batik Sidoluhur  Batik Sidoluhur memiliki motif klasik dengan p...   \n",
       "17    Batik Sidomukti  Batik Sidomukti memiliki pola bunga dan geomet...   \n",
       "18        Batik Sogan  Batik Sogan memiliki pola klasik dengan warna ...   \n",
       "19       Batik Tambal  Batik Tambal memiliki pola tambalan kecil-keci...   \n",
       "\n",
       "              Path Gambar                                         Embed Text  \\\n",
       "0          batik-bali.jpg  [0.3322688043117523, 0.2934962511062622, 0.148...   \n",
       "1        batik-betawi.jpg  [0.07265201956033707, 0.2657928168773651, 0.19...   \n",
       "2         batik-celup.jpg  [0.013769574463367462, 0.3355376422405243, 0.0...   \n",
       "3   batik-cendrawasih.jpg  [0.7157406210899353, 0.7801889181137085, -0.01...   \n",
       "4        batik-ceplok.jpg  [-0.05024304240942001, 0.3212023377418518, 0.0...   \n",
       "5        batik-ciamis.jpg  [0.01742059737443924, 0.254853755235672, -0.23...   \n",
       "6       batik-garutan.jpg  [0.15656530857086182, 0.6932697296142578, -0.3...   \n",
       "7     batik-gentongan.jpg  [0.34450066089630127, 0.3650816082954407, 0.04...   \n",
       "8        batik-kawung.jpg  [0.114462710916996, 0.36451849341392517, 0.241...   \n",
       "9       batik-keraton.jpg  [-0.220091313123703, 0.7498683929443359, -0.06...   \n",
       "10        batik-lasem.jpg  [-0.06592390686273575, 0.29436537623405457, 0....   \n",
       "11  batik-megamendung.jpg  [0.20374679565429688, 0.35712116956710815, 0.0...   \n",
       "12       batik-parang.jpg  [0.09339701384305954, 0.3592895567417145, 0.18...   \n",
       "13   batik-pekalongan.jpg  [0.23771709203720093, 0.44194066524505615, -0....   \n",
       "14     batik-priangan.jpg  [0.05289473384618759, 0.1907866895198822, -0.2...   \n",
       "15        batik-sekar.jpg  [-0.24569997191429138, 0.02884397655725479, -0...   \n",
       "16    batik-sidoluhur.jpg  [-0.2639467120170593, 0.3463176190853119, -0.0...   \n",
       "17    batik-sidomukti.jpg  [-0.02079232782125473, 0.6647354364395142, -0....   \n",
       "18        batik-sogan.jpg  [-0.08652328699827194, 0.46692630648612976, 0....   \n",
       "19       batik-tambal.jpg  [0.06720561534166336, 0.1414370834827423, 0.03...   \n",
       "\n",
       "    Nama Batik Gambar                                        Embed Image  \n",
       "0          Batik Bali  [0.0, 0.0, 0.5472957, 0.4215742, 0.0, 0.0, 0.0...  \n",
       "1        Batik Betawi  [0.0, 0.0, 0.6672203, 0.40276045, 0.0, 0.0, 0....  \n",
       "2         Batik Celup  [0.0, 0.0, 0.79459745, 0.39430383, 0.0, 0.0, 0...  \n",
       "3   Batik Cendrawasih  [0.0, 0.0, 0.75223184, 0.25352657, 0.0, 0.0, 0...  \n",
       "4        Batik Ceplok  [0.0004699176, 0.0, 0.6311944, 0.42550611, 0.0...  \n",
       "5        Batik Ciamis  [0.0, 0.0, 0.6932021, 0.36210075, 0.0, 0.0, 8....  \n",
       "6       Batik Garutan  [0.0, 0.0, 0.5868656, 0.40083218, 0.0, 0.0, 0....  \n",
       "7     Batik Gentongan  [0.0, 0.0, 0.6754523, 0.37115434, 0.0, 0.0, 0....  \n",
       "8        Batik Kawung  [0.010028688, 0.0, 0.17821598, 0.7098277, 0.0,...  \n",
       "9       Batik Keraton  [0.00027843774, 0.0, 0.3422289, 0.5955038, 0.0...  \n",
       "10        Batik Lasem  [0.0, 0.0, 0.7561231, 0.34163225, 0.0, 0.0, 0....  \n",
       "11  Batik Megamendung  [0.01054469, 0.0, 0.11762799, 0.64604723, 0.0,...  \n",
       "12       Batik Parang  [0.00034279638, 0.0, 0.3473972, 0.63084286, 0....  \n",
       "13   Batik Pekalongan  [0.0, 0.0, 0.56265455, 0.38499564, 0.0, 0.0, 0...  \n",
       "14     Batik Priangan  [0.0, 0.0, 0.6487553, 0.35312605, 0.0, 0.0, 0....  \n",
       "15        Batik Sekar  [0.0, 0.0, 0.77888364, 0.22079211, 0.0, 0.0, 0...  \n",
       "16    Batik Sidoluhur  [0.0, 0.0, 0.64312387, 0.33181974, 0.0, 0.0, 0...  \n",
       "17    Batik Sidomukti  [0.0, 0.0, 0.7539357, 0.2293929, 0.0, 0.0, 0.0...  \n",
       "18        Batik Sogan  [0.0, 0.0, 0.68964076, 0.30894235, 0.0, 0.0, 0...  \n",
       "19       Batik Tambal  [0.0, 0.0, 0.6715081, 0.3345668, 0.0, 0.0, 0.0...  "
      ]
     },
     "execution_count": 27,
     "metadata": {},
     "output_type": "execute_result"
    }
   ],
   "source": [
    "df_multimodal"
   ]
  },
  {
   "cell_type": "code",
   "execution_count": null,
   "metadata": {},
   "outputs": [],
   "source": [
    "df_multimodal = df_multimodal.drop(columns=['Nama Batik Gambar'])"
   ]
  },
  {
   "cell_type": "code",
   "execution_count": 29,
   "metadata": {},
   "outputs": [
    {
     "data": {
      "text/html": [
       "<div>\n",
       "<style scoped>\n",
       "    .dataframe tbody tr th:only-of-type {\n",
       "        vertical-align: middle;\n",
       "    }\n",
       "\n",
       "    .dataframe tbody tr th {\n",
       "        vertical-align: top;\n",
       "    }\n",
       "\n",
       "    .dataframe thead th {\n",
       "        text-align: right;\n",
       "    }\n",
       "</style>\n",
       "<table border=\"1\" class=\"dataframe\">\n",
       "  <thead>\n",
       "    <tr style=\"text-align: right;\">\n",
       "      <th></th>\n",
       "      <th>Nama Batik</th>\n",
       "      <th>Deskripsi Batik</th>\n",
       "      <th>Path Gambar</th>\n",
       "      <th>Embed Text</th>\n",
       "      <th>Embed Image</th>\n",
       "    </tr>\n",
       "  </thead>\n",
       "  <tbody>\n",
       "    <tr>\n",
       "      <th>0</th>\n",
       "      <td>Batik Bali</td>\n",
       "      <td>Batik Bali memiliki motif rumit yang terinspir...</td>\n",
       "      <td>batik-bali.jpg</td>\n",
       "      <td>[0.3322688043117523, 0.2934962511062622, 0.148...</td>\n",
       "      <td>[0.0, 0.0, 0.5472957, 0.4215742, 0.0, 0.0, 0.0...</td>\n",
       "    </tr>\n",
       "    <tr>\n",
       "      <th>1</th>\n",
       "      <td>Batik Betawi</td>\n",
       "      <td>Batik Betawi memiliki motif geometris sederhan...</td>\n",
       "      <td>batik-betawi.jpg</td>\n",
       "      <td>[0.07265201956033707, 0.2657928168773651, 0.19...</td>\n",
       "      <td>[0.0, 0.0, 0.6672203, 0.40276045, 0.0, 0.0, 0....</td>\n",
       "    </tr>\n",
       "    <tr>\n",
       "      <th>2</th>\n",
       "      <td>Batik Celup</td>\n",
       "      <td>Batik Celup memiliki pola abstrak dengan grada...</td>\n",
       "      <td>batik-celup.jpg</td>\n",
       "      <td>[0.013769574463367462, 0.3355376422405243, 0.0...</td>\n",
       "      <td>[0.0, 0.0, 0.79459745, 0.39430383, 0.0, 0.0, 0...</td>\n",
       "    </tr>\n",
       "    <tr>\n",
       "      <th>3</th>\n",
       "      <td>Batik Cendrawasih</td>\n",
       "      <td>Batik Cendrawasih menampilkan motif burung cen...</td>\n",
       "      <td>batik-cendrawasih.jpg</td>\n",
       "      <td>[0.7157406210899353, 0.7801889181137085, -0.01...</td>\n",
       "      <td>[0.0, 0.0, 0.75223184, 0.25352657, 0.0, 0.0, 0...</td>\n",
       "    </tr>\n",
       "    <tr>\n",
       "      <th>4</th>\n",
       "      <td>Batik Ceplok</td>\n",
       "      <td>Batik Ceplok memiliki pola geometris berulang ...</td>\n",
       "      <td>batik-ceplok.jpg</td>\n",
       "      <td>[-0.05024304240942001, 0.3212023377418518, 0.0...</td>\n",
       "      <td>[0.0004699176, 0.0, 0.6311944, 0.42550611, 0.0...</td>\n",
       "    </tr>\n",
       "    <tr>\n",
       "      <th>5</th>\n",
       "      <td>Batik Ciamis</td>\n",
       "      <td>Batik Ciamis memiliki motif sederhana dengan p...</td>\n",
       "      <td>batik-ciamis.jpg</td>\n",
       "      <td>[0.01742059737443924, 0.254853755235672, -0.23...</td>\n",
       "      <td>[0.0, 0.0, 0.6932021, 0.36210075, 0.0, 0.0, 8....</td>\n",
       "    </tr>\n",
       "    <tr>\n",
       "      <th>6</th>\n",
       "      <td>Batik Garutan</td>\n",
       "      <td>Batik Garutan memiliki motif bunga, daun, atau...</td>\n",
       "      <td>batik-garutan.jpg</td>\n",
       "      <td>[0.15656530857086182, 0.6932697296142578, -0.3...</td>\n",
       "      <td>[0.0, 0.0, 0.5868656, 0.40083218, 0.0, 0.0, 0....</td>\n",
       "    </tr>\n",
       "    <tr>\n",
       "      <th>7</th>\n",
       "      <td>Batik Gentongan</td>\n",
       "      <td>Batik Gentongan memiliki motif bunga besar den...</td>\n",
       "      <td>batik-gentongan.jpg</td>\n",
       "      <td>[0.34450066089630127, 0.3650816082954407, 0.04...</td>\n",
       "      <td>[0.0, 0.0, 0.6754523, 0.37115434, 0.0, 0.0, 0....</td>\n",
       "    </tr>\n",
       "    <tr>\n",
       "      <th>8</th>\n",
       "      <td>Batik Kawung</td>\n",
       "      <td>Batik Kawung memiliki motif lingkaran geometri...</td>\n",
       "      <td>batik-kawung.jpg</td>\n",
       "      <td>[0.114462710916996, 0.36451849341392517, 0.241...</td>\n",
       "      <td>[0.010028688, 0.0, 0.17821598, 0.7098277, 0.0,...</td>\n",
       "    </tr>\n",
       "    <tr>\n",
       "      <th>9</th>\n",
       "      <td>Batik Keraton</td>\n",
       "      <td>Batik Keraton memiliki motif klasik seperti Pa...</td>\n",
       "      <td>batik-keraton.jpg</td>\n",
       "      <td>[-0.220091313123703, 0.7498683929443359, -0.06...</td>\n",
       "      <td>[0.00027843774, 0.0, 0.3422289, 0.5955038, 0.0...</td>\n",
       "    </tr>\n",
       "    <tr>\n",
       "      <th>10</th>\n",
       "      <td>Batik Lasem</td>\n",
       "      <td>Batik Lasem didominasi warna merah cerah khas ...</td>\n",
       "      <td>batik-lasem.jpg</td>\n",
       "      <td>[-0.06592390686273575, 0.29436537623405457, 0....</td>\n",
       "      <td>[0.0, 0.0, 0.7561231, 0.34163225, 0.0, 0.0, 0....</td>\n",
       "    </tr>\n",
       "    <tr>\n",
       "      <th>11</th>\n",
       "      <td>Batik Megamendung</td>\n",
       "      <td>Batik Megamendung memiliki motif awan bergrada...</td>\n",
       "      <td>batik-megamendung.jpg</td>\n",
       "      <td>[0.20374679565429688, 0.35712116956710815, 0.0...</td>\n",
       "      <td>[0.01054469, 0.0, 0.11762799, 0.64604723, 0.0,...</td>\n",
       "    </tr>\n",
       "    <tr>\n",
       "      <th>12</th>\n",
       "      <td>Batik Parang</td>\n",
       "      <td>Batik Parang memiliki motif garis melengkung m...</td>\n",
       "      <td>batik-parang.jpg</td>\n",
       "      <td>[0.09339701384305954, 0.3592895567417145, 0.18...</td>\n",
       "      <td>[0.00034279638, 0.0, 0.3473972, 0.63084286, 0....</td>\n",
       "    </tr>\n",
       "    <tr>\n",
       "      <th>13</th>\n",
       "      <td>Batik Pekalongan</td>\n",
       "      <td>Batik Pekalongan memiliki pola flora dan fauna...</td>\n",
       "      <td>batik-pekalongan.jpg</td>\n",
       "      <td>[0.23771709203720093, 0.44194066524505615, -0....</td>\n",
       "      <td>[0.0, 0.0, 0.56265455, 0.38499564, 0.0, 0.0, 0...</td>\n",
       "    </tr>\n",
       "    <tr>\n",
       "      <th>14</th>\n",
       "      <td>Batik Priangan</td>\n",
       "      <td>Batik Priangan memiliki pola bunga kecil dan d...</td>\n",
       "      <td>batik-priangan.jpg</td>\n",
       "      <td>[0.05289473384618759, 0.1907866895198822, -0.2...</td>\n",
       "      <td>[0.0, 0.0, 0.6487553, 0.35312605, 0.0, 0.0, 0....</td>\n",
       "    </tr>\n",
       "    <tr>\n",
       "      <th>15</th>\n",
       "      <td>Batik Sekar</td>\n",
       "      <td>Batik Sekar memiliki pola bunga yang indah dan...</td>\n",
       "      <td>batik-sekar.jpg</td>\n",
       "      <td>[-0.24569997191429138, 0.02884397655725479, -0...</td>\n",
       "      <td>[0.0, 0.0, 0.77888364, 0.22079211, 0.0, 0.0, 0...</td>\n",
       "    </tr>\n",
       "    <tr>\n",
       "      <th>16</th>\n",
       "      <td>Batik Sidoluhur</td>\n",
       "      <td>Batik Sidoluhur memiliki motif klasik dengan p...</td>\n",
       "      <td>batik-sidoluhur.jpg</td>\n",
       "      <td>[-0.2639467120170593, 0.3463176190853119, -0.0...</td>\n",
       "      <td>[0.0, 0.0, 0.64312387, 0.33181974, 0.0, 0.0, 0...</td>\n",
       "    </tr>\n",
       "    <tr>\n",
       "      <th>17</th>\n",
       "      <td>Batik Sidomukti</td>\n",
       "      <td>Batik Sidomukti memiliki pola bunga dan geomet...</td>\n",
       "      <td>batik-sidomukti.jpg</td>\n",
       "      <td>[-0.02079232782125473, 0.6647354364395142, -0....</td>\n",
       "      <td>[0.0, 0.0, 0.7539357, 0.2293929, 0.0, 0.0, 0.0...</td>\n",
       "    </tr>\n",
       "    <tr>\n",
       "      <th>18</th>\n",
       "      <td>Batik Sogan</td>\n",
       "      <td>Batik Sogan memiliki pola klasik dengan warna ...</td>\n",
       "      <td>batik-sogan.jpg</td>\n",
       "      <td>[-0.08652328699827194, 0.46692630648612976, 0....</td>\n",
       "      <td>[0.0, 0.0, 0.68964076, 0.30894235, 0.0, 0.0, 0...</td>\n",
       "    </tr>\n",
       "    <tr>\n",
       "      <th>19</th>\n",
       "      <td>Batik Tambal</td>\n",
       "      <td>Batik Tambal memiliki pola tambalan kecil-keci...</td>\n",
       "      <td>batik-tambal.jpg</td>\n",
       "      <td>[0.06720561534166336, 0.1414370834827423, 0.03...</td>\n",
       "      <td>[0.0, 0.0, 0.6715081, 0.3345668, 0.0, 0.0, 0.0...</td>\n",
       "    </tr>\n",
       "  </tbody>\n",
       "</table>\n",
       "</div>"
      ],
      "text/plain": [
       "           Nama Batik                                    Deskripsi Batik  \\\n",
       "0          Batik Bali  Batik Bali memiliki motif rumit yang terinspir...   \n",
       "1        Batik Betawi  Batik Betawi memiliki motif geometris sederhan...   \n",
       "2         Batik Celup  Batik Celup memiliki pola abstrak dengan grada...   \n",
       "3   Batik Cendrawasih  Batik Cendrawasih menampilkan motif burung cen...   \n",
       "4        Batik Ceplok  Batik Ceplok memiliki pola geometris berulang ...   \n",
       "5        Batik Ciamis  Batik Ciamis memiliki motif sederhana dengan p...   \n",
       "6       Batik Garutan  Batik Garutan memiliki motif bunga, daun, atau...   \n",
       "7     Batik Gentongan  Batik Gentongan memiliki motif bunga besar den...   \n",
       "8        Batik Kawung  Batik Kawung memiliki motif lingkaran geometri...   \n",
       "9       Batik Keraton  Batik Keraton memiliki motif klasik seperti Pa...   \n",
       "10        Batik Lasem  Batik Lasem didominasi warna merah cerah khas ...   \n",
       "11  Batik Megamendung  Batik Megamendung memiliki motif awan bergrada...   \n",
       "12       Batik Parang  Batik Parang memiliki motif garis melengkung m...   \n",
       "13   Batik Pekalongan  Batik Pekalongan memiliki pola flora dan fauna...   \n",
       "14     Batik Priangan  Batik Priangan memiliki pola bunga kecil dan d...   \n",
       "15        Batik Sekar  Batik Sekar memiliki pola bunga yang indah dan...   \n",
       "16    Batik Sidoluhur  Batik Sidoluhur memiliki motif klasik dengan p...   \n",
       "17    Batik Sidomukti  Batik Sidomukti memiliki pola bunga dan geomet...   \n",
       "18        Batik Sogan  Batik Sogan memiliki pola klasik dengan warna ...   \n",
       "19       Batik Tambal  Batik Tambal memiliki pola tambalan kecil-keci...   \n",
       "\n",
       "              Path Gambar                                         Embed Text  \\\n",
       "0          batik-bali.jpg  [0.3322688043117523, 0.2934962511062622, 0.148...   \n",
       "1        batik-betawi.jpg  [0.07265201956033707, 0.2657928168773651, 0.19...   \n",
       "2         batik-celup.jpg  [0.013769574463367462, 0.3355376422405243, 0.0...   \n",
       "3   batik-cendrawasih.jpg  [0.7157406210899353, 0.7801889181137085, -0.01...   \n",
       "4        batik-ceplok.jpg  [-0.05024304240942001, 0.3212023377418518, 0.0...   \n",
       "5        batik-ciamis.jpg  [0.01742059737443924, 0.254853755235672, -0.23...   \n",
       "6       batik-garutan.jpg  [0.15656530857086182, 0.6932697296142578, -0.3...   \n",
       "7     batik-gentongan.jpg  [0.34450066089630127, 0.3650816082954407, 0.04...   \n",
       "8        batik-kawung.jpg  [0.114462710916996, 0.36451849341392517, 0.241...   \n",
       "9       batik-keraton.jpg  [-0.220091313123703, 0.7498683929443359, -0.06...   \n",
       "10        batik-lasem.jpg  [-0.06592390686273575, 0.29436537623405457, 0....   \n",
       "11  batik-megamendung.jpg  [0.20374679565429688, 0.35712116956710815, 0.0...   \n",
       "12       batik-parang.jpg  [0.09339701384305954, 0.3592895567417145, 0.18...   \n",
       "13   batik-pekalongan.jpg  [0.23771709203720093, 0.44194066524505615, -0....   \n",
       "14     batik-priangan.jpg  [0.05289473384618759, 0.1907866895198822, -0.2...   \n",
       "15        batik-sekar.jpg  [-0.24569997191429138, 0.02884397655725479, -0...   \n",
       "16    batik-sidoluhur.jpg  [-0.2639467120170593, 0.3463176190853119, -0.0...   \n",
       "17    batik-sidomukti.jpg  [-0.02079232782125473, 0.6647354364395142, -0....   \n",
       "18        batik-sogan.jpg  [-0.08652328699827194, 0.46692630648612976, 0....   \n",
       "19       batik-tambal.jpg  [0.06720561534166336, 0.1414370834827423, 0.03...   \n",
       "\n",
       "                                          Embed Image  \n",
       "0   [0.0, 0.0, 0.5472957, 0.4215742, 0.0, 0.0, 0.0...  \n",
       "1   [0.0, 0.0, 0.6672203, 0.40276045, 0.0, 0.0, 0....  \n",
       "2   [0.0, 0.0, 0.79459745, 0.39430383, 0.0, 0.0, 0...  \n",
       "3   [0.0, 0.0, 0.75223184, 0.25352657, 0.0, 0.0, 0...  \n",
       "4   [0.0004699176, 0.0, 0.6311944, 0.42550611, 0.0...  \n",
       "5   [0.0, 0.0, 0.6932021, 0.36210075, 0.0, 0.0, 8....  \n",
       "6   [0.0, 0.0, 0.5868656, 0.40083218, 0.0, 0.0, 0....  \n",
       "7   [0.0, 0.0, 0.6754523, 0.37115434, 0.0, 0.0, 0....  \n",
       "8   [0.010028688, 0.0, 0.17821598, 0.7098277, 0.0,...  \n",
       "9   [0.00027843774, 0.0, 0.3422289, 0.5955038, 0.0...  \n",
       "10  [0.0, 0.0, 0.7561231, 0.34163225, 0.0, 0.0, 0....  \n",
       "11  [0.01054469, 0.0, 0.11762799, 0.64604723, 0.0,...  \n",
       "12  [0.00034279638, 0.0, 0.3473972, 0.63084286, 0....  \n",
       "13  [0.0, 0.0, 0.56265455, 0.38499564, 0.0, 0.0, 0...  \n",
       "14  [0.0, 0.0, 0.6487553, 0.35312605, 0.0, 0.0, 0....  \n",
       "15  [0.0, 0.0, 0.77888364, 0.22079211, 0.0, 0.0, 0...  \n",
       "16  [0.0, 0.0, 0.64312387, 0.33181974, 0.0, 0.0, 0...  \n",
       "17  [0.0, 0.0, 0.7539357, 0.2293929, 0.0, 0.0, 0.0...  \n",
       "18  [0.0, 0.0, 0.68964076, 0.30894235, 0.0, 0.0, 0...  \n",
       "19  [0.0, 0.0, 0.6715081, 0.3345668, 0.0, 0.0, 0.0...  "
      ]
     },
     "execution_count": 29,
     "metadata": {},
     "output_type": "execute_result"
    }
   ],
   "source": [
    "df_multimodal"
   ]
  },
  {
   "cell_type": "code",
   "execution_count": 30,
   "metadata": {},
   "outputs": [
    {
     "name": "stdout",
     "output_type": "stream",
     "text": [
      "<class 'pandas.core.frame.DataFrame'>\n",
      "RangeIndex: 20 entries, 0 to 19\n",
      "Data columns (total 5 columns):\n",
      " #   Column           Non-Null Count  Dtype \n",
      "---  ------           --------------  ----- \n",
      " 0   Nama Batik       20 non-null     object\n",
      " 1   Deskripsi Batik  20 non-null     object\n",
      " 2   Path Gambar      20 non-null     object\n",
      " 3   Embed Text       20 non-null     object\n",
      " 4   Embed Image      20 non-null     object\n",
      "dtypes: object(5)\n",
      "memory usage: 932.0+ bytes\n"
     ]
    }
   ],
   "source": [
    "df_multimodal.info()"
   ]
  },
  {
   "cell_type": "markdown",
   "metadata": {},
   "source": [
    "# Merging Text and Image Embedding Into Multimodal Embedding"
   ]
  },
  {
   "cell_type": "code",
   "execution_count": 33,
   "metadata": {},
   "outputs": [],
   "source": [
    "# Konversi string embedding kembali ke NumPy array\n",
    "df_multimodal[\"Embed Text\"] = df_multimodal[\"Embed Text\"].apply(lambda x: np.array(ast.literal_eval(x)))\n",
    "df_multimodal[\"Embed Image\"] = df_multimodal[\"Embed Image\"].apply(lambda x: np.array(ast.literal_eval(x)))"
   ]
  },
  {
   "cell_type": "code",
   "execution_count": 34,
   "metadata": {},
   "outputs": [],
   "source": [
    "# Concatenate embedding teks & gambar\n",
    "df_multimodal[\"Embed Multimodal\"] = df_multimodal.apply(lambda row: np.concatenate((row[\"Embed Text\"], row[\"Embed Image\"])).tolist(), axis=1)"
   ]
  },
  {
   "cell_type": "code",
   "execution_count": 35,
   "metadata": {},
   "outputs": [
    {
     "data": {
      "text/html": [
       "<div>\n",
       "<style scoped>\n",
       "    .dataframe tbody tr th:only-of-type {\n",
       "        vertical-align: middle;\n",
       "    }\n",
       "\n",
       "    .dataframe tbody tr th {\n",
       "        vertical-align: top;\n",
       "    }\n",
       "\n",
       "    .dataframe thead th {\n",
       "        text-align: right;\n",
       "    }\n",
       "</style>\n",
       "<table border=\"1\" class=\"dataframe\">\n",
       "  <thead>\n",
       "    <tr style=\"text-align: right;\">\n",
       "      <th></th>\n",
       "      <th>Nama Batik</th>\n",
       "      <th>Deskripsi Batik</th>\n",
       "      <th>Path Gambar</th>\n",
       "      <th>Embed Text</th>\n",
       "      <th>Embed Image</th>\n",
       "      <th>Embed Multimodal</th>\n",
       "    </tr>\n",
       "  </thead>\n",
       "  <tbody>\n",
       "    <tr>\n",
       "      <th>0</th>\n",
       "      <td>Batik Bali</td>\n",
       "      <td>Batik Bali memiliki motif rumit yang terinspir...</td>\n",
       "      <td>batik-bali.jpg</td>\n",
       "      <td>[0.3322688043117523, 0.2934962511062622, 0.148...</td>\n",
       "      <td>[0.0, 0.0, 0.5472957, 0.4215742, 0.0, 0.0, 0.0...</td>\n",
       "      <td>[0.3322688043117523, 0.2934962511062622, 0.148...</td>\n",
       "    </tr>\n",
       "    <tr>\n",
       "      <th>1</th>\n",
       "      <td>Batik Betawi</td>\n",
       "      <td>Batik Betawi memiliki motif geometris sederhan...</td>\n",
       "      <td>batik-betawi.jpg</td>\n",
       "      <td>[0.07265201956033707, 0.2657928168773651, 0.19...</td>\n",
       "      <td>[0.0, 0.0, 0.6672203, 0.40276045, 0.0, 0.0, 0....</td>\n",
       "      <td>[0.07265201956033707, 0.2657928168773651, 0.19...</td>\n",
       "    </tr>\n",
       "    <tr>\n",
       "      <th>2</th>\n",
       "      <td>Batik Celup</td>\n",
       "      <td>Batik Celup memiliki pola abstrak dengan grada...</td>\n",
       "      <td>batik-celup.jpg</td>\n",
       "      <td>[0.013769574463367462, 0.3355376422405243, 0.0...</td>\n",
       "      <td>[0.0, 0.0, 0.79459745, 0.39430383, 0.0, 0.0, 0...</td>\n",
       "      <td>[0.013769574463367462, 0.3355376422405243, 0.0...</td>\n",
       "    </tr>\n",
       "    <tr>\n",
       "      <th>3</th>\n",
       "      <td>Batik Cendrawasih</td>\n",
       "      <td>Batik Cendrawasih menampilkan motif burung cen...</td>\n",
       "      <td>batik-cendrawasih.jpg</td>\n",
       "      <td>[0.7157406210899353, 0.7801889181137085, -0.01...</td>\n",
       "      <td>[0.0, 0.0, 0.75223184, 0.25352657, 0.0, 0.0, 0...</td>\n",
       "      <td>[0.7157406210899353, 0.7801889181137085, -0.01...</td>\n",
       "    </tr>\n",
       "    <tr>\n",
       "      <th>4</th>\n",
       "      <td>Batik Ceplok</td>\n",
       "      <td>Batik Ceplok memiliki pola geometris berulang ...</td>\n",
       "      <td>batik-ceplok.jpg</td>\n",
       "      <td>[-0.05024304240942001, 0.3212023377418518, 0.0...</td>\n",
       "      <td>[0.0004699176, 0.0, 0.6311944, 0.42550611, 0.0...</td>\n",
       "      <td>[-0.05024304240942001, 0.3212023377418518, 0.0...</td>\n",
       "    </tr>\n",
       "    <tr>\n",
       "      <th>5</th>\n",
       "      <td>Batik Ciamis</td>\n",
       "      <td>Batik Ciamis memiliki motif sederhana dengan p...</td>\n",
       "      <td>batik-ciamis.jpg</td>\n",
       "      <td>[0.01742059737443924, 0.254853755235672, -0.23...</td>\n",
       "      <td>[0.0, 0.0, 0.6932021, 0.36210075, 0.0, 0.0, 8....</td>\n",
       "      <td>[0.01742059737443924, 0.254853755235672, -0.23...</td>\n",
       "    </tr>\n",
       "    <tr>\n",
       "      <th>6</th>\n",
       "      <td>Batik Garutan</td>\n",
       "      <td>Batik Garutan memiliki motif bunga, daun, atau...</td>\n",
       "      <td>batik-garutan.jpg</td>\n",
       "      <td>[0.15656530857086182, 0.6932697296142578, -0.3...</td>\n",
       "      <td>[0.0, 0.0, 0.5868656, 0.40083218, 0.0, 0.0, 0....</td>\n",
       "      <td>[0.15656530857086182, 0.6932697296142578, -0.3...</td>\n",
       "    </tr>\n",
       "    <tr>\n",
       "      <th>7</th>\n",
       "      <td>Batik Gentongan</td>\n",
       "      <td>Batik Gentongan memiliki motif bunga besar den...</td>\n",
       "      <td>batik-gentongan.jpg</td>\n",
       "      <td>[0.34450066089630127, 0.3650816082954407, 0.04...</td>\n",
       "      <td>[0.0, 0.0, 0.6754523, 0.37115434, 0.0, 0.0, 0....</td>\n",
       "      <td>[0.34450066089630127, 0.3650816082954407, 0.04...</td>\n",
       "    </tr>\n",
       "    <tr>\n",
       "      <th>8</th>\n",
       "      <td>Batik Kawung</td>\n",
       "      <td>Batik Kawung memiliki motif lingkaran geometri...</td>\n",
       "      <td>batik-kawung.jpg</td>\n",
       "      <td>[0.114462710916996, 0.36451849341392517, 0.241...</td>\n",
       "      <td>[0.010028688, 0.0, 0.17821598, 0.7098277, 0.0,...</td>\n",
       "      <td>[0.114462710916996, 0.36451849341392517, 0.241...</td>\n",
       "    </tr>\n",
       "    <tr>\n",
       "      <th>9</th>\n",
       "      <td>Batik Keraton</td>\n",
       "      <td>Batik Keraton memiliki motif klasik seperti Pa...</td>\n",
       "      <td>batik-keraton.jpg</td>\n",
       "      <td>[-0.220091313123703, 0.7498683929443359, -0.06...</td>\n",
       "      <td>[0.00027843774, 0.0, 0.3422289, 0.5955038, 0.0...</td>\n",
       "      <td>[-0.220091313123703, 0.7498683929443359, -0.06...</td>\n",
       "    </tr>\n",
       "    <tr>\n",
       "      <th>10</th>\n",
       "      <td>Batik Lasem</td>\n",
       "      <td>Batik Lasem didominasi warna merah cerah khas ...</td>\n",
       "      <td>batik-lasem.jpg</td>\n",
       "      <td>[-0.06592390686273575, 0.29436537623405457, 0....</td>\n",
       "      <td>[0.0, 0.0, 0.7561231, 0.34163225, 0.0, 0.0, 0....</td>\n",
       "      <td>[-0.06592390686273575, 0.29436537623405457, 0....</td>\n",
       "    </tr>\n",
       "    <tr>\n",
       "      <th>11</th>\n",
       "      <td>Batik Megamendung</td>\n",
       "      <td>Batik Megamendung memiliki motif awan bergrada...</td>\n",
       "      <td>batik-megamendung.jpg</td>\n",
       "      <td>[0.20374679565429688, 0.35712116956710815, 0.0...</td>\n",
       "      <td>[0.01054469, 0.0, 0.11762799, 0.64604723, 0.0,...</td>\n",
       "      <td>[0.20374679565429688, 0.35712116956710815, 0.0...</td>\n",
       "    </tr>\n",
       "    <tr>\n",
       "      <th>12</th>\n",
       "      <td>Batik Parang</td>\n",
       "      <td>Batik Parang memiliki motif garis melengkung m...</td>\n",
       "      <td>batik-parang.jpg</td>\n",
       "      <td>[0.09339701384305954, 0.3592895567417145, 0.18...</td>\n",
       "      <td>[0.00034279638, 0.0, 0.3473972, 0.63084286, 0....</td>\n",
       "      <td>[0.09339701384305954, 0.3592895567417145, 0.18...</td>\n",
       "    </tr>\n",
       "    <tr>\n",
       "      <th>13</th>\n",
       "      <td>Batik Pekalongan</td>\n",
       "      <td>Batik Pekalongan memiliki pola flora dan fauna...</td>\n",
       "      <td>batik-pekalongan.jpg</td>\n",
       "      <td>[0.23771709203720093, 0.44194066524505615, -0....</td>\n",
       "      <td>[0.0, 0.0, 0.56265455, 0.38499564, 0.0, 0.0, 0...</td>\n",
       "      <td>[0.23771709203720093, 0.44194066524505615, -0....</td>\n",
       "    </tr>\n",
       "    <tr>\n",
       "      <th>14</th>\n",
       "      <td>Batik Priangan</td>\n",
       "      <td>Batik Priangan memiliki pola bunga kecil dan d...</td>\n",
       "      <td>batik-priangan.jpg</td>\n",
       "      <td>[0.05289473384618759, 0.1907866895198822, -0.2...</td>\n",
       "      <td>[0.0, 0.0, 0.6487553, 0.35312605, 0.0, 0.0, 0....</td>\n",
       "      <td>[0.05289473384618759, 0.1907866895198822, -0.2...</td>\n",
       "    </tr>\n",
       "    <tr>\n",
       "      <th>15</th>\n",
       "      <td>Batik Sekar</td>\n",
       "      <td>Batik Sekar memiliki pola bunga yang indah dan...</td>\n",
       "      <td>batik-sekar.jpg</td>\n",
       "      <td>[-0.24569997191429138, 0.02884397655725479, -0...</td>\n",
       "      <td>[0.0, 0.0, 0.77888364, 0.22079211, 0.0, 0.0, 0...</td>\n",
       "      <td>[-0.24569997191429138, 0.02884397655725479, -0...</td>\n",
       "    </tr>\n",
       "    <tr>\n",
       "      <th>16</th>\n",
       "      <td>Batik Sidoluhur</td>\n",
       "      <td>Batik Sidoluhur memiliki motif klasik dengan p...</td>\n",
       "      <td>batik-sidoluhur.jpg</td>\n",
       "      <td>[-0.2639467120170593, 0.3463176190853119, -0.0...</td>\n",
       "      <td>[0.0, 0.0, 0.64312387, 0.33181974, 0.0, 0.0, 0...</td>\n",
       "      <td>[-0.2639467120170593, 0.3463176190853119, -0.0...</td>\n",
       "    </tr>\n",
       "    <tr>\n",
       "      <th>17</th>\n",
       "      <td>Batik Sidomukti</td>\n",
       "      <td>Batik Sidomukti memiliki pola bunga dan geomet...</td>\n",
       "      <td>batik-sidomukti.jpg</td>\n",
       "      <td>[-0.02079232782125473, 0.6647354364395142, -0....</td>\n",
       "      <td>[0.0, 0.0, 0.7539357, 0.2293929, 0.0, 0.0, 0.0...</td>\n",
       "      <td>[-0.02079232782125473, 0.6647354364395142, -0....</td>\n",
       "    </tr>\n",
       "    <tr>\n",
       "      <th>18</th>\n",
       "      <td>Batik Sogan</td>\n",
       "      <td>Batik Sogan memiliki pola klasik dengan warna ...</td>\n",
       "      <td>batik-sogan.jpg</td>\n",
       "      <td>[-0.08652328699827194, 0.46692630648612976, 0....</td>\n",
       "      <td>[0.0, 0.0, 0.68964076, 0.30894235, 0.0, 0.0, 0...</td>\n",
       "      <td>[-0.08652328699827194, 0.46692630648612976, 0....</td>\n",
       "    </tr>\n",
       "    <tr>\n",
       "      <th>19</th>\n",
       "      <td>Batik Tambal</td>\n",
       "      <td>Batik Tambal memiliki pola tambalan kecil-keci...</td>\n",
       "      <td>batik-tambal.jpg</td>\n",
       "      <td>[0.06720561534166336, 0.1414370834827423, 0.03...</td>\n",
       "      <td>[0.0, 0.0, 0.6715081, 0.3345668, 0.0, 0.0, 0.0...</td>\n",
       "      <td>[0.06720561534166336, 0.1414370834827423, 0.03...</td>\n",
       "    </tr>\n",
       "  </tbody>\n",
       "</table>\n",
       "</div>"
      ],
      "text/plain": [
       "           Nama Batik                                    Deskripsi Batik  \\\n",
       "0          Batik Bali  Batik Bali memiliki motif rumit yang terinspir...   \n",
       "1        Batik Betawi  Batik Betawi memiliki motif geometris sederhan...   \n",
       "2         Batik Celup  Batik Celup memiliki pola abstrak dengan grada...   \n",
       "3   Batik Cendrawasih  Batik Cendrawasih menampilkan motif burung cen...   \n",
       "4        Batik Ceplok  Batik Ceplok memiliki pola geometris berulang ...   \n",
       "5        Batik Ciamis  Batik Ciamis memiliki motif sederhana dengan p...   \n",
       "6       Batik Garutan  Batik Garutan memiliki motif bunga, daun, atau...   \n",
       "7     Batik Gentongan  Batik Gentongan memiliki motif bunga besar den...   \n",
       "8        Batik Kawung  Batik Kawung memiliki motif lingkaran geometri...   \n",
       "9       Batik Keraton  Batik Keraton memiliki motif klasik seperti Pa...   \n",
       "10        Batik Lasem  Batik Lasem didominasi warna merah cerah khas ...   \n",
       "11  Batik Megamendung  Batik Megamendung memiliki motif awan bergrada...   \n",
       "12       Batik Parang  Batik Parang memiliki motif garis melengkung m...   \n",
       "13   Batik Pekalongan  Batik Pekalongan memiliki pola flora dan fauna...   \n",
       "14     Batik Priangan  Batik Priangan memiliki pola bunga kecil dan d...   \n",
       "15        Batik Sekar  Batik Sekar memiliki pola bunga yang indah dan...   \n",
       "16    Batik Sidoluhur  Batik Sidoluhur memiliki motif klasik dengan p...   \n",
       "17    Batik Sidomukti  Batik Sidomukti memiliki pola bunga dan geomet...   \n",
       "18        Batik Sogan  Batik Sogan memiliki pola klasik dengan warna ...   \n",
       "19       Batik Tambal  Batik Tambal memiliki pola tambalan kecil-keci...   \n",
       "\n",
       "              Path Gambar                                         Embed Text  \\\n",
       "0          batik-bali.jpg  [0.3322688043117523, 0.2934962511062622, 0.148...   \n",
       "1        batik-betawi.jpg  [0.07265201956033707, 0.2657928168773651, 0.19...   \n",
       "2         batik-celup.jpg  [0.013769574463367462, 0.3355376422405243, 0.0...   \n",
       "3   batik-cendrawasih.jpg  [0.7157406210899353, 0.7801889181137085, -0.01...   \n",
       "4        batik-ceplok.jpg  [-0.05024304240942001, 0.3212023377418518, 0.0...   \n",
       "5        batik-ciamis.jpg  [0.01742059737443924, 0.254853755235672, -0.23...   \n",
       "6       batik-garutan.jpg  [0.15656530857086182, 0.6932697296142578, -0.3...   \n",
       "7     batik-gentongan.jpg  [0.34450066089630127, 0.3650816082954407, 0.04...   \n",
       "8        batik-kawung.jpg  [0.114462710916996, 0.36451849341392517, 0.241...   \n",
       "9       batik-keraton.jpg  [-0.220091313123703, 0.7498683929443359, -0.06...   \n",
       "10        batik-lasem.jpg  [-0.06592390686273575, 0.29436537623405457, 0....   \n",
       "11  batik-megamendung.jpg  [0.20374679565429688, 0.35712116956710815, 0.0...   \n",
       "12       batik-parang.jpg  [0.09339701384305954, 0.3592895567417145, 0.18...   \n",
       "13   batik-pekalongan.jpg  [0.23771709203720093, 0.44194066524505615, -0....   \n",
       "14     batik-priangan.jpg  [0.05289473384618759, 0.1907866895198822, -0.2...   \n",
       "15        batik-sekar.jpg  [-0.24569997191429138, 0.02884397655725479, -0...   \n",
       "16    batik-sidoluhur.jpg  [-0.2639467120170593, 0.3463176190853119, -0.0...   \n",
       "17    batik-sidomukti.jpg  [-0.02079232782125473, 0.6647354364395142, -0....   \n",
       "18        batik-sogan.jpg  [-0.08652328699827194, 0.46692630648612976, 0....   \n",
       "19       batik-tambal.jpg  [0.06720561534166336, 0.1414370834827423, 0.03...   \n",
       "\n",
       "                                          Embed Image  \\\n",
       "0   [0.0, 0.0, 0.5472957, 0.4215742, 0.0, 0.0, 0.0...   \n",
       "1   [0.0, 0.0, 0.6672203, 0.40276045, 0.0, 0.0, 0....   \n",
       "2   [0.0, 0.0, 0.79459745, 0.39430383, 0.0, 0.0, 0...   \n",
       "3   [0.0, 0.0, 0.75223184, 0.25352657, 0.0, 0.0, 0...   \n",
       "4   [0.0004699176, 0.0, 0.6311944, 0.42550611, 0.0...   \n",
       "5   [0.0, 0.0, 0.6932021, 0.36210075, 0.0, 0.0, 8....   \n",
       "6   [0.0, 0.0, 0.5868656, 0.40083218, 0.0, 0.0, 0....   \n",
       "7   [0.0, 0.0, 0.6754523, 0.37115434, 0.0, 0.0, 0....   \n",
       "8   [0.010028688, 0.0, 0.17821598, 0.7098277, 0.0,...   \n",
       "9   [0.00027843774, 0.0, 0.3422289, 0.5955038, 0.0...   \n",
       "10  [0.0, 0.0, 0.7561231, 0.34163225, 0.0, 0.0, 0....   \n",
       "11  [0.01054469, 0.0, 0.11762799, 0.64604723, 0.0,...   \n",
       "12  [0.00034279638, 0.0, 0.3473972, 0.63084286, 0....   \n",
       "13  [0.0, 0.0, 0.56265455, 0.38499564, 0.0, 0.0, 0...   \n",
       "14  [0.0, 0.0, 0.6487553, 0.35312605, 0.0, 0.0, 0....   \n",
       "15  [0.0, 0.0, 0.77888364, 0.22079211, 0.0, 0.0, 0...   \n",
       "16  [0.0, 0.0, 0.64312387, 0.33181974, 0.0, 0.0, 0...   \n",
       "17  [0.0, 0.0, 0.7539357, 0.2293929, 0.0, 0.0, 0.0...   \n",
       "18  [0.0, 0.0, 0.68964076, 0.30894235, 0.0, 0.0, 0...   \n",
       "19  [0.0, 0.0, 0.6715081, 0.3345668, 0.0, 0.0, 0.0...   \n",
       "\n",
       "                                     Embed Multimodal  \n",
       "0   [0.3322688043117523, 0.2934962511062622, 0.148...  \n",
       "1   [0.07265201956033707, 0.2657928168773651, 0.19...  \n",
       "2   [0.013769574463367462, 0.3355376422405243, 0.0...  \n",
       "3   [0.7157406210899353, 0.7801889181137085, -0.01...  \n",
       "4   [-0.05024304240942001, 0.3212023377418518, 0.0...  \n",
       "5   [0.01742059737443924, 0.254853755235672, -0.23...  \n",
       "6   [0.15656530857086182, 0.6932697296142578, -0.3...  \n",
       "7   [0.34450066089630127, 0.3650816082954407, 0.04...  \n",
       "8   [0.114462710916996, 0.36451849341392517, 0.241...  \n",
       "9   [-0.220091313123703, 0.7498683929443359, -0.06...  \n",
       "10  [-0.06592390686273575, 0.29436537623405457, 0....  \n",
       "11  [0.20374679565429688, 0.35712116956710815, 0.0...  \n",
       "12  [0.09339701384305954, 0.3592895567417145, 0.18...  \n",
       "13  [0.23771709203720093, 0.44194066524505615, -0....  \n",
       "14  [0.05289473384618759, 0.1907866895198822, -0.2...  \n",
       "15  [-0.24569997191429138, 0.02884397655725479, -0...  \n",
       "16  [-0.2639467120170593, 0.3463176190853119, -0.0...  \n",
       "17  [-0.02079232782125473, 0.6647354364395142, -0....  \n",
       "18  [-0.08652328699827194, 0.46692630648612976, 0....  \n",
       "19  [0.06720561534166336, 0.1414370834827423, 0.03...  "
      ]
     },
     "execution_count": 35,
     "metadata": {},
     "output_type": "execute_result"
    }
   ],
   "source": [
    "df_multimodal"
   ]
  },
  {
   "cell_type": "code",
   "execution_count": 36,
   "metadata": {},
   "outputs": [],
   "source": [
    "df_multimodal.to_csv('../datasets/in-procces/data_multimodal_batik_embed.csv', index=False)"
   ]
  },
  {
   "cell_type": "markdown",
   "metadata": {},
   "source": [
    "# Visualization"
   ]
  },
  {
   "cell_type": "code",
   "execution_count": 38,
   "metadata": {},
   "outputs": [],
   "source": [
    "df_vi = pd.read_csv('../datasets/in-procces/data_multimodal_batik_embed.csv')"
   ]
  },
  {
   "cell_type": "code",
   "execution_count": 39,
   "metadata": {},
   "outputs": [
    {
     "data": {
      "text/html": [
       "<div>\n",
       "<style scoped>\n",
       "    .dataframe tbody tr th:only-of-type {\n",
       "        vertical-align: middle;\n",
       "    }\n",
       "\n",
       "    .dataframe tbody tr th {\n",
       "        vertical-align: top;\n",
       "    }\n",
       "\n",
       "    .dataframe thead th {\n",
       "        text-align: right;\n",
       "    }\n",
       "</style>\n",
       "<table border=\"1\" class=\"dataframe\">\n",
       "  <thead>\n",
       "    <tr style=\"text-align: right;\">\n",
       "      <th></th>\n",
       "      <th>Nama Batik</th>\n",
       "      <th>Deskripsi Batik</th>\n",
       "      <th>Path Gambar</th>\n",
       "      <th>Embed Text</th>\n",
       "      <th>Embed Image</th>\n",
       "      <th>Embed Multimodal</th>\n",
       "    </tr>\n",
       "  </thead>\n",
       "  <tbody>\n",
       "    <tr>\n",
       "      <th>0</th>\n",
       "      <td>Batik Bali</td>\n",
       "      <td>Batik Bali memiliki motif rumit yang terinspir...</td>\n",
       "      <td>batik-bali.jpg</td>\n",
       "      <td>[ 3.32268804e-01  2.93496251e-01  1.48342341e-...</td>\n",
       "      <td>[0.00000000e+00 0.00000000e+00 5.47295700e-01 ...</td>\n",
       "      <td>[0.3322688043117523, 0.2934962511062622, 0.148...</td>\n",
       "    </tr>\n",
       "    <tr>\n",
       "      <th>1</th>\n",
       "      <td>Batik Betawi</td>\n",
       "      <td>Batik Betawi memiliki motif geometris sederhan...</td>\n",
       "      <td>batik-betawi.jpg</td>\n",
       "      <td>[ 7.26520196e-02  2.65792817e-01  1.96553916e-...</td>\n",
       "      <td>[0.00000000e+00 0.00000000e+00 6.67220300e-01 ...</td>\n",
       "      <td>[0.07265201956033707, 0.2657928168773651, 0.19...</td>\n",
       "    </tr>\n",
       "    <tr>\n",
       "      <th>2</th>\n",
       "      <td>Batik Celup</td>\n",
       "      <td>Batik Celup memiliki pola abstrak dengan grada...</td>\n",
       "      <td>batik-celup.jpg</td>\n",
       "      <td>[ 0.01376957  0.33553764  0.04269094 -0.049090...</td>\n",
       "      <td>[0.00000000e+00 0.00000000e+00 7.94597450e-01 ...</td>\n",
       "      <td>[0.013769574463367462, 0.3355376422405243, 0.0...</td>\n",
       "    </tr>\n",
       "    <tr>\n",
       "      <th>3</th>\n",
       "      <td>Batik Cendrawasih</td>\n",
       "      <td>Batik Cendrawasih menampilkan motif burung cen...</td>\n",
       "      <td>batik-cendrawasih.jpg</td>\n",
       "      <td>[ 0.71574062  0.78018892 -0.01139943 -0.816979...</td>\n",
       "      <td>[0.00000000e+00 0.00000000e+00 7.52231840e-01 ...</td>\n",
       "      <td>[0.7157406210899353, 0.7801889181137085, -0.01...</td>\n",
       "    </tr>\n",
       "    <tr>\n",
       "      <th>4</th>\n",
       "      <td>Batik Ceplok</td>\n",
       "      <td>Batik Ceplok memiliki pola geometris berulang ...</td>\n",
       "      <td>batik-ceplok.jpg</td>\n",
       "      <td>[-0.05024304  0.32120234  0.06117225 -0.551637...</td>\n",
       "      <td>[4.69917600e-04 0.00000000e+00 6.31194400e-01 ...</td>\n",
       "      <td>[-0.05024304240942001, 0.3212023377418518, 0.0...</td>\n",
       "    </tr>\n",
       "    <tr>\n",
       "      <th>5</th>\n",
       "      <td>Batik Ciamis</td>\n",
       "      <td>Batik Ciamis memiliki motif sederhana dengan p...</td>\n",
       "      <td>batik-ciamis.jpg</td>\n",
       "      <td>[ 0.0174206   0.25485376 -0.23872581 -0.692812...</td>\n",
       "      <td>[0.0000000e+00 0.0000000e+00 6.9320210e-01 3.6...</td>\n",
       "      <td>[0.01742059737443924, 0.254853755235672, -0.23...</td>\n",
       "    </tr>\n",
       "    <tr>\n",
       "      <th>6</th>\n",
       "      <td>Batik Garutan</td>\n",
       "      <td>Batik Garutan memiliki motif bunga, daun, atau...</td>\n",
       "      <td>batik-garutan.jpg</td>\n",
       "      <td>[ 1.56565309e-01  6.93269730e-01 -3.31953585e-...</td>\n",
       "      <td>[0.00000000e+00 0.00000000e+00 5.86865600e-01 ...</td>\n",
       "      <td>[0.15656530857086182, 0.6932697296142578, -0.3...</td>\n",
       "    </tr>\n",
       "    <tr>\n",
       "      <th>7</th>\n",
       "      <td>Batik Gentongan</td>\n",
       "      <td>Batik Gentongan memiliki motif bunga besar den...</td>\n",
       "      <td>batik-gentongan.jpg</td>\n",
       "      <td>[ 3.44500661e-01  3.65081608e-01  4.05727550e-...</td>\n",
       "      <td>[0.0000000e+00 0.0000000e+00 6.7545230e-01 3.7...</td>\n",
       "      <td>[0.34450066089630127, 0.3650816082954407, 0.04...</td>\n",
       "    </tr>\n",
       "    <tr>\n",
       "      <th>8</th>\n",
       "      <td>Batik Kawung</td>\n",
       "      <td>Batik Kawung memiliki motif lingkaran geometri...</td>\n",
       "      <td>batik-kawung.jpg</td>\n",
       "      <td>[ 0.11446271  0.36451849  0.24182886 -0.478211...</td>\n",
       "      <td>[1.00286880e-02 0.00000000e+00 1.78215980e-01 ...</td>\n",
       "      <td>[0.114462710916996, 0.36451849341392517, 0.241...</td>\n",
       "    </tr>\n",
       "    <tr>\n",
       "      <th>9</th>\n",
       "      <td>Batik Keraton</td>\n",
       "      <td>Batik Keraton memiliki motif klasik seperti Pa...</td>\n",
       "      <td>batik-keraton.jpg</td>\n",
       "      <td>[-2.20091313e-01  7.49868393e-01 -6.93595037e-...</td>\n",
       "      <td>[2.7843774e-04 0.0000000e+00 3.4222890e-01 5.9...</td>\n",
       "      <td>[-0.220091313123703, 0.7498683929443359, -0.06...</td>\n",
       "    </tr>\n",
       "    <tr>\n",
       "      <th>10</th>\n",
       "      <td>Batik Lasem</td>\n",
       "      <td>Batik Lasem didominasi warna merah cerah khas ...</td>\n",
       "      <td>batik-lasem.jpg</td>\n",
       "      <td>[-6.59239069e-02  2.94365376e-01  4.84534130e-...</td>\n",
       "      <td>[0.00000000e+00 0.00000000e+00 7.56123100e-01 ...</td>\n",
       "      <td>[-0.06592390686273575, 0.29436537623405457, 0....</td>\n",
       "    </tr>\n",
       "    <tr>\n",
       "      <th>11</th>\n",
       "      <td>Batik Megamendung</td>\n",
       "      <td>Batik Megamendung memiliki motif awan bergrada...</td>\n",
       "      <td>batik-megamendung.jpg</td>\n",
       "      <td>[ 0.2037468   0.35712117  0.05028512 -0.813992...</td>\n",
       "      <td>[1.05446900e-02 0.00000000e+00 1.17627990e-01 ...</td>\n",
       "      <td>[0.20374679565429688, 0.35712116956710815, 0.0...</td>\n",
       "    </tr>\n",
       "    <tr>\n",
       "      <th>12</th>\n",
       "      <td>Batik Parang</td>\n",
       "      <td>Batik Parang memiliki motif garis melengkung m...</td>\n",
       "      <td>batik-parang.jpg</td>\n",
       "      <td>[ 9.33970138e-02  3.59289557e-01  1.82517409e-...</td>\n",
       "      <td>[3.42796380e-04 0.00000000e+00 3.47397200e-01 ...</td>\n",
       "      <td>[0.09339701384305954, 0.3592895567417145, 0.18...</td>\n",
       "    </tr>\n",
       "    <tr>\n",
       "      <th>13</th>\n",
       "      <td>Batik Pekalongan</td>\n",
       "      <td>Batik Pekalongan memiliki pola flora dan fauna...</td>\n",
       "      <td>batik-pekalongan.jpg</td>\n",
       "      <td>[ 2.37717092e-01  4.41940665e-01 -1.56663656e-...</td>\n",
       "      <td>[0.00000000e+00 0.00000000e+00 5.62654550e-01 ...</td>\n",
       "      <td>[0.23771709203720093, 0.44194066524505615, -0....</td>\n",
       "    </tr>\n",
       "    <tr>\n",
       "      <th>14</th>\n",
       "      <td>Batik Priangan</td>\n",
       "      <td>Batik Priangan memiliki pola bunga kecil dan d...</td>\n",
       "      <td>batik-priangan.jpg</td>\n",
       "      <td>[ 0.05289473  0.19078669 -0.23653811 -0.362667...</td>\n",
       "      <td>[0.00000000e+00 0.00000000e+00 6.48755300e-01 ...</td>\n",
       "      <td>[0.05289473384618759, 0.1907866895198822, -0.2...</td>\n",
       "    </tr>\n",
       "    <tr>\n",
       "      <th>15</th>\n",
       "      <td>Batik Sekar</td>\n",
       "      <td>Batik Sekar memiliki pola bunga yang indah dan...</td>\n",
       "      <td>batik-sekar.jpg</td>\n",
       "      <td>[-2.45699972e-01  2.88439766e-02 -1.20998524e-...</td>\n",
       "      <td>[0.0000000e+00 0.0000000e+00 7.7888364e-01 2.2...</td>\n",
       "      <td>[-0.24569997191429138, 0.02884397655725479, -0...</td>\n",
       "    </tr>\n",
       "    <tr>\n",
       "      <th>16</th>\n",
       "      <td>Batik Sidoluhur</td>\n",
       "      <td>Batik Sidoluhur memiliki motif klasik dengan p...</td>\n",
       "      <td>batik-sidoluhur.jpg</td>\n",
       "      <td>[-2.63946712e-01  3.46317619e-01 -7.61742368e-...</td>\n",
       "      <td>[0.0000000e+00 0.0000000e+00 6.4312387e-01 3.3...</td>\n",
       "      <td>[-0.2639467120170593, 0.3463176190853119, -0.0...</td>\n",
       "    </tr>\n",
       "    <tr>\n",
       "      <th>17</th>\n",
       "      <td>Batik Sidomukti</td>\n",
       "      <td>Batik Sidomukti memiliki pola bunga dan geomet...</td>\n",
       "      <td>batik-sidomukti.jpg</td>\n",
       "      <td>[-2.07923278e-02  6.64735436e-01 -1.29630744e-...</td>\n",
       "      <td>[0.00000000e+00 0.00000000e+00 7.53935700e-01 ...</td>\n",
       "      <td>[-0.02079232782125473, 0.6647354364395142, -0....</td>\n",
       "    </tr>\n",
       "    <tr>\n",
       "      <th>18</th>\n",
       "      <td>Batik Sogan</td>\n",
       "      <td>Batik Sogan memiliki pola klasik dengan warna ...</td>\n",
       "      <td>batik-sogan.jpg</td>\n",
       "      <td>[-8.65232870e-02  4.66926306e-01  2.78898239e-...</td>\n",
       "      <td>[0.00000000e+00 0.00000000e+00 6.89640760e-01 ...</td>\n",
       "      <td>[-0.08652328699827194, 0.46692630648612976, 0....</td>\n",
       "    </tr>\n",
       "    <tr>\n",
       "      <th>19</th>\n",
       "      <td>Batik Tambal</td>\n",
       "      <td>Batik Tambal memiliki pola tambalan kecil-keci...</td>\n",
       "      <td>batik-tambal.jpg</td>\n",
       "      <td>[ 0.06720562  0.14143708  0.03902018 -0.408118...</td>\n",
       "      <td>[0.00000000e+00 0.00000000e+00 6.71508100e-01 ...</td>\n",
       "      <td>[0.06720561534166336, 0.1414370834827423, 0.03...</td>\n",
       "    </tr>\n",
       "  </tbody>\n",
       "</table>\n",
       "</div>"
      ],
      "text/plain": [
       "           Nama Batik                                    Deskripsi Batik  \\\n",
       "0          Batik Bali  Batik Bali memiliki motif rumit yang terinspir...   \n",
       "1        Batik Betawi  Batik Betawi memiliki motif geometris sederhan...   \n",
       "2         Batik Celup  Batik Celup memiliki pola abstrak dengan grada...   \n",
       "3   Batik Cendrawasih  Batik Cendrawasih menampilkan motif burung cen...   \n",
       "4        Batik Ceplok  Batik Ceplok memiliki pola geometris berulang ...   \n",
       "5        Batik Ciamis  Batik Ciamis memiliki motif sederhana dengan p...   \n",
       "6       Batik Garutan  Batik Garutan memiliki motif bunga, daun, atau...   \n",
       "7     Batik Gentongan  Batik Gentongan memiliki motif bunga besar den...   \n",
       "8        Batik Kawung  Batik Kawung memiliki motif lingkaran geometri...   \n",
       "9       Batik Keraton  Batik Keraton memiliki motif klasik seperti Pa...   \n",
       "10        Batik Lasem  Batik Lasem didominasi warna merah cerah khas ...   \n",
       "11  Batik Megamendung  Batik Megamendung memiliki motif awan bergrada...   \n",
       "12       Batik Parang  Batik Parang memiliki motif garis melengkung m...   \n",
       "13   Batik Pekalongan  Batik Pekalongan memiliki pola flora dan fauna...   \n",
       "14     Batik Priangan  Batik Priangan memiliki pola bunga kecil dan d...   \n",
       "15        Batik Sekar  Batik Sekar memiliki pola bunga yang indah dan...   \n",
       "16    Batik Sidoluhur  Batik Sidoluhur memiliki motif klasik dengan p...   \n",
       "17    Batik Sidomukti  Batik Sidomukti memiliki pola bunga dan geomet...   \n",
       "18        Batik Sogan  Batik Sogan memiliki pola klasik dengan warna ...   \n",
       "19       Batik Tambal  Batik Tambal memiliki pola tambalan kecil-keci...   \n",
       "\n",
       "              Path Gambar                                         Embed Text  \\\n",
       "0          batik-bali.jpg  [ 3.32268804e-01  2.93496251e-01  1.48342341e-...   \n",
       "1        batik-betawi.jpg  [ 7.26520196e-02  2.65792817e-01  1.96553916e-...   \n",
       "2         batik-celup.jpg  [ 0.01376957  0.33553764  0.04269094 -0.049090...   \n",
       "3   batik-cendrawasih.jpg  [ 0.71574062  0.78018892 -0.01139943 -0.816979...   \n",
       "4        batik-ceplok.jpg  [-0.05024304  0.32120234  0.06117225 -0.551637...   \n",
       "5        batik-ciamis.jpg  [ 0.0174206   0.25485376 -0.23872581 -0.692812...   \n",
       "6       batik-garutan.jpg  [ 1.56565309e-01  6.93269730e-01 -3.31953585e-...   \n",
       "7     batik-gentongan.jpg  [ 3.44500661e-01  3.65081608e-01  4.05727550e-...   \n",
       "8        batik-kawung.jpg  [ 0.11446271  0.36451849  0.24182886 -0.478211...   \n",
       "9       batik-keraton.jpg  [-2.20091313e-01  7.49868393e-01 -6.93595037e-...   \n",
       "10        batik-lasem.jpg  [-6.59239069e-02  2.94365376e-01  4.84534130e-...   \n",
       "11  batik-megamendung.jpg  [ 0.2037468   0.35712117  0.05028512 -0.813992...   \n",
       "12       batik-parang.jpg  [ 9.33970138e-02  3.59289557e-01  1.82517409e-...   \n",
       "13   batik-pekalongan.jpg  [ 2.37717092e-01  4.41940665e-01 -1.56663656e-...   \n",
       "14     batik-priangan.jpg  [ 0.05289473  0.19078669 -0.23653811 -0.362667...   \n",
       "15        batik-sekar.jpg  [-2.45699972e-01  2.88439766e-02 -1.20998524e-...   \n",
       "16    batik-sidoluhur.jpg  [-2.63946712e-01  3.46317619e-01 -7.61742368e-...   \n",
       "17    batik-sidomukti.jpg  [-2.07923278e-02  6.64735436e-01 -1.29630744e-...   \n",
       "18        batik-sogan.jpg  [-8.65232870e-02  4.66926306e-01  2.78898239e-...   \n",
       "19       batik-tambal.jpg  [ 0.06720562  0.14143708  0.03902018 -0.408118...   \n",
       "\n",
       "                                          Embed Image  \\\n",
       "0   [0.00000000e+00 0.00000000e+00 5.47295700e-01 ...   \n",
       "1   [0.00000000e+00 0.00000000e+00 6.67220300e-01 ...   \n",
       "2   [0.00000000e+00 0.00000000e+00 7.94597450e-01 ...   \n",
       "3   [0.00000000e+00 0.00000000e+00 7.52231840e-01 ...   \n",
       "4   [4.69917600e-04 0.00000000e+00 6.31194400e-01 ...   \n",
       "5   [0.0000000e+00 0.0000000e+00 6.9320210e-01 3.6...   \n",
       "6   [0.00000000e+00 0.00000000e+00 5.86865600e-01 ...   \n",
       "7   [0.0000000e+00 0.0000000e+00 6.7545230e-01 3.7...   \n",
       "8   [1.00286880e-02 0.00000000e+00 1.78215980e-01 ...   \n",
       "9   [2.7843774e-04 0.0000000e+00 3.4222890e-01 5.9...   \n",
       "10  [0.00000000e+00 0.00000000e+00 7.56123100e-01 ...   \n",
       "11  [1.05446900e-02 0.00000000e+00 1.17627990e-01 ...   \n",
       "12  [3.42796380e-04 0.00000000e+00 3.47397200e-01 ...   \n",
       "13  [0.00000000e+00 0.00000000e+00 5.62654550e-01 ...   \n",
       "14  [0.00000000e+00 0.00000000e+00 6.48755300e-01 ...   \n",
       "15  [0.0000000e+00 0.0000000e+00 7.7888364e-01 2.2...   \n",
       "16  [0.0000000e+00 0.0000000e+00 6.4312387e-01 3.3...   \n",
       "17  [0.00000000e+00 0.00000000e+00 7.53935700e-01 ...   \n",
       "18  [0.00000000e+00 0.00000000e+00 6.89640760e-01 ...   \n",
       "19  [0.00000000e+00 0.00000000e+00 6.71508100e-01 ...   \n",
       "\n",
       "                                     Embed Multimodal  \n",
       "0   [0.3322688043117523, 0.2934962511062622, 0.148...  \n",
       "1   [0.07265201956033707, 0.2657928168773651, 0.19...  \n",
       "2   [0.013769574463367462, 0.3355376422405243, 0.0...  \n",
       "3   [0.7157406210899353, 0.7801889181137085, -0.01...  \n",
       "4   [-0.05024304240942001, 0.3212023377418518, 0.0...  \n",
       "5   [0.01742059737443924, 0.254853755235672, -0.23...  \n",
       "6   [0.15656530857086182, 0.6932697296142578, -0.3...  \n",
       "7   [0.34450066089630127, 0.3650816082954407, 0.04...  \n",
       "8   [0.114462710916996, 0.36451849341392517, 0.241...  \n",
       "9   [-0.220091313123703, 0.7498683929443359, -0.06...  \n",
       "10  [-0.06592390686273575, 0.29436537623405457, 0....  \n",
       "11  [0.20374679565429688, 0.35712116956710815, 0.0...  \n",
       "12  [0.09339701384305954, 0.3592895567417145, 0.18...  \n",
       "13  [0.23771709203720093, 0.44194066524505615, -0....  \n",
       "14  [0.05289473384618759, 0.1907866895198822, -0.2...  \n",
       "15  [-0.24569997191429138, 0.02884397655725479, -0...  \n",
       "16  [-0.2639467120170593, 0.3463176190853119, -0.0...  \n",
       "17  [-0.02079232782125473, 0.6647354364395142, -0....  \n",
       "18  [-0.08652328699827194, 0.46692630648612976, 0....  \n",
       "19  [0.06720561534166336, 0.1414370834827423, 0.03...  "
      ]
     },
     "execution_count": 39,
     "metadata": {},
     "output_type": "execute_result"
    }
   ],
   "source": [
    "df_vi"
   ]
  },
  {
   "cell_type": "code",
   "execution_count": 40,
   "metadata": {},
   "outputs": [],
   "source": [
    "def parse_embedding(x):\n",
    "    return np.array(ast.literal_eval(x))"
   ]
  },
  {
   "cell_type": "code",
   "execution_count": 41,
   "metadata": {},
   "outputs": [],
   "source": [
    "embeddings = df_vi['Embed Multimodal'].apply(parse_embedding)\n",
    "embeddings_array = np.vstack(embeddings.values)"
   ]
  },
  {
   "cell_type": "code",
   "execution_count": 44,
   "metadata": {},
   "outputs": [],
   "source": [
    "pca_2d = PCA(n_components=2)\n",
    "embeddings_2d = pca_2d.fit_transform(embeddings_array)"
   ]
  },
  {
   "cell_type": "code",
   "execution_count": 46,
   "metadata": {},
   "outputs": [
    {
     "data": {
      "application/vnd.plotly.v1+json": {
       "config": {
        "plotlyServerURL": "https://plot.ly"
       },
       "data": [
        {
         "hovertemplate": "Nama Batik=%{text}<br>Komponen Utama 1=%{x}<br>Komponen Utama 2=%{y}<extra></extra>",
         "legendgroup": "Batik Bali",
         "marker": {
          "color": "#636efa",
          "line": {
           "color": "DarkSlateGrey",
           "width": 1
          },
          "opacity": 0.8,
          "size": 12,
          "symbol": "circle"
         },
         "mode": "markers+text",
         "name": "Batik Bali",
         "orientation": "v",
         "showlegend": true,
         "text": [
          "Batik Bali"
         ],
         "textposition": "top center",
         "type": "scatter",
         "x": [
          0.2188153612441057
         ],
         "xaxis": "x",
         "y": [
          -0.8424779674276477
         ],
         "yaxis": "y"
        },
        {
         "hovertemplate": "Nama Batik=%{text}<br>Komponen Utama 1=%{x}<br>Komponen Utama 2=%{y}<extra></extra>",
         "legendgroup": "Batik Betawi",
         "marker": {
          "color": "#EF553B",
          "line": {
           "color": "DarkSlateGrey",
           "width": 1
          },
          "opacity": 0.8,
          "size": 12,
          "symbol": "circle"
         },
         "mode": "markers+text",
         "name": "Batik Betawi",
         "orientation": "v",
         "showlegend": true,
         "text": [
          "Batik Betawi"
         ],
         "textposition": "top center",
         "type": "scatter",
         "x": [
          0.7350295960009523
         ],
         "xaxis": "x",
         "y": [
          -1.0835882017090601
         ],
         "yaxis": "y"
        },
        {
         "hovertemplate": "Nama Batik=%{text}<br>Komponen Utama 1=%{x}<br>Komponen Utama 2=%{y}<extra></extra>",
         "legendgroup": "Batik Celup",
         "marker": {
          "color": "#00cc96",
          "line": {
           "color": "DarkSlateGrey",
           "width": 1
          },
          "opacity": 0.8,
          "size": 12,
          "symbol": "circle"
         },
         "mode": "markers+text",
         "name": "Batik Celup",
         "orientation": "v",
         "showlegend": true,
         "text": [
          "Batik Celup"
         ],
         "textposition": "top center",
         "type": "scatter",
         "x": [
          1.7251507607983625
         ],
         "xaxis": "x",
         "y": [
          -1.380991472483436
         ],
         "yaxis": "y"
        },
        {
         "hovertemplate": "Nama Batik=%{text}<br>Komponen Utama 1=%{x}<br>Komponen Utama 2=%{y}<extra></extra>",
         "legendgroup": "Batik Cendrawasih",
         "marker": {
          "color": "#ab63fa",
          "line": {
           "color": "DarkSlateGrey",
           "width": 1
          },
          "opacity": 0.8,
          "size": 12,
          "symbol": "circle"
         },
         "mode": "markers+text",
         "name": "Batik Cendrawasih",
         "orientation": "v",
         "showlegend": true,
         "text": [
          "Batik Cendrawasih"
         ],
         "textposition": "top center",
         "type": "scatter",
         "x": [
          1.9701791651693104
         ],
         "xaxis": "x",
         "y": [
          -2.576887438684315
         ],
         "yaxis": "y"
        },
        {
         "hovertemplate": "Nama Batik=%{text}<br>Komponen Utama 1=%{x}<br>Komponen Utama 2=%{y}<extra></extra>",
         "legendgroup": "Batik Ceplok",
         "marker": {
          "color": "#FFA15A",
          "line": {
           "color": "DarkSlateGrey",
           "width": 1
          },
          "opacity": 0.8,
          "size": 12,
          "symbol": "circle"
         },
         "mode": "markers+text",
         "name": "Batik Ceplok",
         "orientation": "v",
         "showlegend": true,
         "text": [
          "Batik Ceplok"
         ],
         "textposition": "top center",
         "type": "scatter",
         "x": [
          0.01445034187992023
         ],
         "xaxis": "x",
         "y": [
          -1.0926090919187905
         ],
         "yaxis": "y"
        },
        {
         "hovertemplate": "Nama Batik=%{text}<br>Komponen Utama 1=%{x}<br>Komponen Utama 2=%{y}<extra></extra>",
         "legendgroup": "Batik Ciamis",
         "marker": {
          "color": "#19d3f3",
          "line": {
           "color": "DarkSlateGrey",
           "width": 1
          },
          "opacity": 0.8,
          "size": 12,
          "symbol": "circle"
         },
         "mode": "markers+text",
         "name": "Batik Ciamis",
         "orientation": "v",
         "showlegend": true,
         "text": [
          "Batik Ciamis"
         ],
         "textposition": "top center",
         "type": "scatter",
         "x": [
          0.49680412264670976
         ],
         "xaxis": "x",
         "y": [
          1.0881950681679642
         ],
         "yaxis": "y"
        },
        {
         "hovertemplate": "Nama Batik=%{text}<br>Komponen Utama 1=%{x}<br>Komponen Utama 2=%{y}<extra></extra>",
         "legendgroup": "Batik Garutan",
         "marker": {
          "color": "#FF6692",
          "line": {
           "color": "DarkSlateGrey",
           "width": 1
          },
          "opacity": 0.8,
          "size": 12,
          "symbol": "circle"
         },
         "mode": "markers+text",
         "name": "Batik Garutan",
         "orientation": "v",
         "showlegend": true,
         "text": [
          "Batik Garutan"
         ],
         "textposition": "top center",
         "type": "scatter",
         "x": [
          -0.023625899983779293
         ],
         "xaxis": "x",
         "y": [
          0.4670893394369113
         ],
         "yaxis": "y"
        },
        {
         "hovertemplate": "Nama Batik=%{text}<br>Komponen Utama 1=%{x}<br>Komponen Utama 2=%{y}<extra></extra>",
         "legendgroup": "Batik Gentongan",
         "marker": {
          "color": "#B6E880",
          "line": {
           "color": "DarkSlateGrey",
           "width": 1
          },
          "opacity": 0.8,
          "size": 12,
          "symbol": "circle"
         },
         "mode": "markers+text",
         "name": "Batik Gentongan",
         "orientation": "v",
         "showlegend": true,
         "text": [
          "Batik Gentongan"
         ],
         "textposition": "top center",
         "type": "scatter",
         "x": [
          0.3450411865877263
         ],
         "xaxis": "x",
         "y": [
          -0.9805016013900396
         ],
         "yaxis": "y"
        },
        {
         "hovertemplate": "Nama Batik=%{text}<br>Komponen Utama 1=%{x}<br>Komponen Utama 2=%{y}<extra></extra>",
         "legendgroup": "Batik Kawung",
         "marker": {
          "color": "#FF97FF",
          "line": {
           "color": "DarkSlateGrey",
           "width": 1
          },
          "opacity": 0.8,
          "size": 12,
          "symbol": "circle"
         },
         "mode": "markers+text",
         "name": "Batik Kawung",
         "orientation": "v",
         "showlegend": true,
         "text": [
          "Batik Kawung"
         ],
         "textposition": "top center",
         "type": "scatter",
         "x": [
          -2.904803479964122
         ],
         "xaxis": "x",
         "y": [
          -1.648207946919572
         ],
         "yaxis": "y"
        },
        {
         "hovertemplate": "Nama Batik=%{text}<br>Komponen Utama 1=%{x}<br>Komponen Utama 2=%{y}<extra></extra>",
         "legendgroup": "Batik Keraton",
         "marker": {
          "color": "#FECB52",
          "line": {
           "color": "DarkSlateGrey",
           "width": 1
          },
          "opacity": 0.8,
          "size": 12,
          "symbol": "circle"
         },
         "mode": "markers+text",
         "name": "Batik Keraton",
         "orientation": "v",
         "showlegend": true,
         "text": [
          "Batik Keraton"
         ],
         "textposition": "top center",
         "type": "scatter",
         "x": [
          -1.884286650602906
         ],
         "xaxis": "x",
         "y": [
          1.3406369073491313
         ],
         "yaxis": "y"
        },
        {
         "hovertemplate": "Nama Batik=%{text}<br>Komponen Utama 1=%{x}<br>Komponen Utama 2=%{y}<extra></extra>",
         "legendgroup": "Batik Lasem",
         "marker": {
          "color": "#636efa",
          "line": {
           "color": "DarkSlateGrey",
           "width": 1
          },
          "opacity": 0.8,
          "size": 12,
          "symbol": "circle"
         },
         "mode": "markers+text",
         "name": "Batik Lasem",
         "orientation": "v",
         "showlegend": true,
         "text": [
          "Batik Lasem"
         ],
         "textposition": "top center",
         "type": "scatter",
         "x": [
          1.1883870604564937
         ],
         "xaxis": "x",
         "y": [
          -0.38009446534189256
         ],
         "yaxis": "y"
        },
        {
         "hovertemplate": "Nama Batik=%{text}<br>Komponen Utama 1=%{x}<br>Komponen Utama 2=%{y}<extra></extra>",
         "legendgroup": "Batik Megamendung",
         "marker": {
          "color": "#EF553B",
          "line": {
           "color": "DarkSlateGrey",
           "width": 1
          },
          "opacity": 0.8,
          "size": 12,
          "symbol": "circle"
         },
         "mode": "markers+text",
         "name": "Batik Megamendung",
         "orientation": "v",
         "showlegend": true,
         "text": [
          "Batik Megamendung"
         ],
         "textposition": "top center",
         "type": "scatter",
         "x": [
          -3.2152580294775426
         ],
         "xaxis": "x",
         "y": [
          -1.2525921992157498
         ],
         "yaxis": "y"
        },
        {
         "hovertemplate": "Nama Batik=%{text}<br>Komponen Utama 1=%{x}<br>Komponen Utama 2=%{y}<extra></extra>",
         "legendgroup": "Batik Parang",
         "marker": {
          "color": "#00cc96",
          "line": {
           "color": "DarkSlateGrey",
           "width": 1
          },
          "opacity": 0.8,
          "size": 12,
          "symbol": "circle"
         },
         "mode": "markers+text",
         "name": "Batik Parang",
         "orientation": "v",
         "showlegend": true,
         "text": [
          "Batik Parang"
         ],
         "textposition": "top center",
         "type": "scatter",
         "x": [
          -2.334013592211085
         ],
         "xaxis": "x",
         "y": [
          1.2424897276327664
         ],
         "yaxis": "y"
        },
        {
         "hovertemplate": "Nama Batik=%{text}<br>Komponen Utama 1=%{x}<br>Komponen Utama 2=%{y}<extra></extra>",
         "legendgroup": "Batik Pekalongan",
         "marker": {
          "color": "#ab63fa",
          "line": {
           "color": "DarkSlateGrey",
           "width": 1
          },
          "opacity": 0.8,
          "size": 12,
          "symbol": "circle"
         },
         "mode": "markers+text",
         "name": "Batik Pekalongan",
         "orientation": "v",
         "showlegend": true,
         "text": [
          "Batik Pekalongan"
         ],
         "textposition": "top center",
         "type": "scatter",
         "x": [
          0.5254276885729603
         ],
         "xaxis": "x",
         "y": [
          1.099829089457286
         ],
         "yaxis": "y"
        },
        {
         "hovertemplate": "Nama Batik=%{text}<br>Komponen Utama 1=%{x}<br>Komponen Utama 2=%{y}<extra></extra>",
         "legendgroup": "Batik Priangan",
         "marker": {
          "color": "#FFA15A",
          "line": {
           "color": "DarkSlateGrey",
           "width": 1
          },
          "opacity": 0.8,
          "size": 12,
          "symbol": "circle"
         },
         "mode": "markers+text",
         "name": "Batik Priangan",
         "orientation": "v",
         "showlegend": true,
         "text": [
          "Batik Priangan"
         ],
         "textposition": "top center",
         "type": "scatter",
         "x": [
          0.2078874851613908
         ],
         "xaxis": "x",
         "y": [
          -0.2108268753038126
         ],
         "yaxis": "y"
        },
        {
         "hovertemplate": "Nama Batik=%{text}<br>Komponen Utama 1=%{x}<br>Komponen Utama 2=%{y}<extra></extra>",
         "legendgroup": "Batik Sekar",
         "marker": {
          "color": "#19d3f3",
          "line": {
           "color": "DarkSlateGrey",
           "width": 1
          },
          "opacity": 0.8,
          "size": 12,
          "symbol": "circle"
         },
         "mode": "markers+text",
         "name": "Batik Sekar",
         "orientation": "v",
         "showlegend": true,
         "text": [
          "Batik Sekar"
         ],
         "textposition": "top center",
         "type": "scatter",
         "x": [
          1.1972744996288032
         ],
         "xaxis": "x",
         "y": [
          1.6167982344133085
         ],
         "yaxis": "y"
        },
        {
         "hovertemplate": "Nama Batik=%{text}<br>Komponen Utama 1=%{x}<br>Komponen Utama 2=%{y}<extra></extra>",
         "legendgroup": "Batik Sidoluhur",
         "marker": {
          "color": "#FF6692",
          "line": {
           "color": "DarkSlateGrey",
           "width": 1
          },
          "opacity": 0.8,
          "size": 12,
          "symbol": "circle"
         },
         "mode": "markers+text",
         "name": "Batik Sidoluhur",
         "orientation": "v",
         "showlegend": true,
         "text": [
          "Batik Sidoluhur"
         ],
         "textposition": "top center",
         "type": "scatter",
         "x": [
          0.5619629200275564
         ],
         "xaxis": "x",
         "y": [
          1.7108326832859988
         ],
         "yaxis": "y"
        },
        {
         "hovertemplate": "Nama Batik=%{text}<br>Komponen Utama 1=%{x}<br>Komponen Utama 2=%{y}<extra></extra>",
         "legendgroup": "Batik Sidomukti",
         "marker": {
          "color": "#B6E880",
          "line": {
           "color": "DarkSlateGrey",
           "width": 1
          },
          "opacity": 0.8,
          "size": 12,
          "symbol": "circle"
         },
         "mode": "markers+text",
         "name": "Batik Sidomukti",
         "orientation": "v",
         "showlegend": true,
         "text": [
          "Batik Sidomukti"
         ],
         "textposition": "top center",
         "type": "scatter",
         "x": [
          0.7642035105332816
         ],
         "xaxis": "x",
         "y": [
          2.2044348474679722
         ],
         "yaxis": "y"
        },
        {
         "hovertemplate": "Nama Batik=%{text}<br>Komponen Utama 1=%{x}<br>Komponen Utama 2=%{y}<extra></extra>",
         "legendgroup": "Batik Sogan",
         "marker": {
          "color": "#FF97FF",
          "line": {
           "color": "DarkSlateGrey",
           "width": 1
          },
          "opacity": 0.8,
          "size": 12,
          "symbol": "circle"
         },
         "mode": "markers+text",
         "name": "Batik Sogan",
         "orientation": "v",
         "showlegend": true,
         "text": [
          "Batik Sogan"
         ],
         "textposition": "top center",
         "type": "scatter",
         "x": [
          0.10117993457640904
         ],
         "xaxis": "x",
         "y": [
          -0.005090218923302128
         ],
         "yaxis": "y"
        },
        {
         "hovertemplate": "Nama Batik=%{text}<br>Komponen Utama 1=%{x}<br>Komponen Utama 2=%{y}<extra></extra>",
         "legendgroup": "Batik Tambal",
         "marker": {
          "color": "#FECB52",
          "line": {
           "color": "DarkSlateGrey",
           "width": 1
          },
          "opacity": 0.8,
          "size": 12,
          "symbol": "circle"
         },
         "mode": "markers+text",
         "name": "Batik Tambal",
         "orientation": "v",
         "showlegend": true,
         "text": [
          "Batik Tambal"
         ],
         "textposition": "top center",
         "type": "scatter",
         "x": [
          0.31019401895545257
         ],
         "xaxis": "x",
         "y": [
          0.6835615821062794
         ],
         "yaxis": "y"
        }
       ],
       "layout": {
        "height": 700,
        "legend": {
         "title": {
          "text": "Nama Batik"
         },
         "tracegroupgap": 0
        },
        "template": {
         "data": {
          "bar": [
           {
            "error_x": {
             "color": "#2a3f5f"
            },
            "error_y": {
             "color": "#2a3f5f"
            },
            "marker": {
             "line": {
              "color": "#E5ECF6",
              "width": 0.5
             },
             "pattern": {
              "fillmode": "overlay",
              "size": 10,
              "solidity": 0.2
             }
            },
            "type": "bar"
           }
          ],
          "barpolar": [
           {
            "marker": {
             "line": {
              "color": "#E5ECF6",
              "width": 0.5
             },
             "pattern": {
              "fillmode": "overlay",
              "size": 10,
              "solidity": 0.2
             }
            },
            "type": "barpolar"
           }
          ],
          "carpet": [
           {
            "aaxis": {
             "endlinecolor": "#2a3f5f",
             "gridcolor": "white",
             "linecolor": "white",
             "minorgridcolor": "white",
             "startlinecolor": "#2a3f5f"
            },
            "baxis": {
             "endlinecolor": "#2a3f5f",
             "gridcolor": "white",
             "linecolor": "white",
             "minorgridcolor": "white",
             "startlinecolor": "#2a3f5f"
            },
            "type": "carpet"
           }
          ],
          "choropleth": [
           {
            "colorbar": {
             "outlinewidth": 0,
             "ticks": ""
            },
            "type": "choropleth"
           }
          ],
          "contour": [
           {
            "colorbar": {
             "outlinewidth": 0,
             "ticks": ""
            },
            "colorscale": [
             [
              0,
              "#0d0887"
             ],
             [
              0.1111111111111111,
              "#46039f"
             ],
             [
              0.2222222222222222,
              "#7201a8"
             ],
             [
              0.3333333333333333,
              "#9c179e"
             ],
             [
              0.4444444444444444,
              "#bd3786"
             ],
             [
              0.5555555555555556,
              "#d8576b"
             ],
             [
              0.6666666666666666,
              "#ed7953"
             ],
             [
              0.7777777777777778,
              "#fb9f3a"
             ],
             [
              0.8888888888888888,
              "#fdca26"
             ],
             [
              1,
              "#f0f921"
             ]
            ],
            "type": "contour"
           }
          ],
          "contourcarpet": [
           {
            "colorbar": {
             "outlinewidth": 0,
             "ticks": ""
            },
            "type": "contourcarpet"
           }
          ],
          "heatmap": [
           {
            "colorbar": {
             "outlinewidth": 0,
             "ticks": ""
            },
            "colorscale": [
             [
              0,
              "#0d0887"
             ],
             [
              0.1111111111111111,
              "#46039f"
             ],
             [
              0.2222222222222222,
              "#7201a8"
             ],
             [
              0.3333333333333333,
              "#9c179e"
             ],
             [
              0.4444444444444444,
              "#bd3786"
             ],
             [
              0.5555555555555556,
              "#d8576b"
             ],
             [
              0.6666666666666666,
              "#ed7953"
             ],
             [
              0.7777777777777778,
              "#fb9f3a"
             ],
             [
              0.8888888888888888,
              "#fdca26"
             ],
             [
              1,
              "#f0f921"
             ]
            ],
            "type": "heatmap"
           }
          ],
          "heatmapgl": [
           {
            "colorbar": {
             "outlinewidth": 0,
             "ticks": ""
            },
            "colorscale": [
             [
              0,
              "#0d0887"
             ],
             [
              0.1111111111111111,
              "#46039f"
             ],
             [
              0.2222222222222222,
              "#7201a8"
             ],
             [
              0.3333333333333333,
              "#9c179e"
             ],
             [
              0.4444444444444444,
              "#bd3786"
             ],
             [
              0.5555555555555556,
              "#d8576b"
             ],
             [
              0.6666666666666666,
              "#ed7953"
             ],
             [
              0.7777777777777778,
              "#fb9f3a"
             ],
             [
              0.8888888888888888,
              "#fdca26"
             ],
             [
              1,
              "#f0f921"
             ]
            ],
            "type": "heatmapgl"
           }
          ],
          "histogram": [
           {
            "marker": {
             "pattern": {
              "fillmode": "overlay",
              "size": 10,
              "solidity": 0.2
             }
            },
            "type": "histogram"
           }
          ],
          "histogram2d": [
           {
            "colorbar": {
             "outlinewidth": 0,
             "ticks": ""
            },
            "colorscale": [
             [
              0,
              "#0d0887"
             ],
             [
              0.1111111111111111,
              "#46039f"
             ],
             [
              0.2222222222222222,
              "#7201a8"
             ],
             [
              0.3333333333333333,
              "#9c179e"
             ],
             [
              0.4444444444444444,
              "#bd3786"
             ],
             [
              0.5555555555555556,
              "#d8576b"
             ],
             [
              0.6666666666666666,
              "#ed7953"
             ],
             [
              0.7777777777777778,
              "#fb9f3a"
             ],
             [
              0.8888888888888888,
              "#fdca26"
             ],
             [
              1,
              "#f0f921"
             ]
            ],
            "type": "histogram2d"
           }
          ],
          "histogram2dcontour": [
           {
            "colorbar": {
             "outlinewidth": 0,
             "ticks": ""
            },
            "colorscale": [
             [
              0,
              "#0d0887"
             ],
             [
              0.1111111111111111,
              "#46039f"
             ],
             [
              0.2222222222222222,
              "#7201a8"
             ],
             [
              0.3333333333333333,
              "#9c179e"
             ],
             [
              0.4444444444444444,
              "#bd3786"
             ],
             [
              0.5555555555555556,
              "#d8576b"
             ],
             [
              0.6666666666666666,
              "#ed7953"
             ],
             [
              0.7777777777777778,
              "#fb9f3a"
             ],
             [
              0.8888888888888888,
              "#fdca26"
             ],
             [
              1,
              "#f0f921"
             ]
            ],
            "type": "histogram2dcontour"
           }
          ],
          "mesh3d": [
           {
            "colorbar": {
             "outlinewidth": 0,
             "ticks": ""
            },
            "type": "mesh3d"
           }
          ],
          "parcoords": [
           {
            "line": {
             "colorbar": {
              "outlinewidth": 0,
              "ticks": ""
             }
            },
            "type": "parcoords"
           }
          ],
          "pie": [
           {
            "automargin": true,
            "type": "pie"
           }
          ],
          "scatter": [
           {
            "fillpattern": {
             "fillmode": "overlay",
             "size": 10,
             "solidity": 0.2
            },
            "type": "scatter"
           }
          ],
          "scatter3d": [
           {
            "line": {
             "colorbar": {
              "outlinewidth": 0,
              "ticks": ""
             }
            },
            "marker": {
             "colorbar": {
              "outlinewidth": 0,
              "ticks": ""
             }
            },
            "type": "scatter3d"
           }
          ],
          "scattercarpet": [
           {
            "marker": {
             "colorbar": {
              "outlinewidth": 0,
              "ticks": ""
             }
            },
            "type": "scattercarpet"
           }
          ],
          "scattergeo": [
           {
            "marker": {
             "colorbar": {
              "outlinewidth": 0,
              "ticks": ""
             }
            },
            "type": "scattergeo"
           }
          ],
          "scattergl": [
           {
            "marker": {
             "colorbar": {
              "outlinewidth": 0,
              "ticks": ""
             }
            },
            "type": "scattergl"
           }
          ],
          "scattermapbox": [
           {
            "marker": {
             "colorbar": {
              "outlinewidth": 0,
              "ticks": ""
             }
            },
            "type": "scattermapbox"
           }
          ],
          "scatterpolar": [
           {
            "marker": {
             "colorbar": {
              "outlinewidth": 0,
              "ticks": ""
             }
            },
            "type": "scatterpolar"
           }
          ],
          "scatterpolargl": [
           {
            "marker": {
             "colorbar": {
              "outlinewidth": 0,
              "ticks": ""
             }
            },
            "type": "scatterpolargl"
           }
          ],
          "scatterternary": [
           {
            "marker": {
             "colorbar": {
              "outlinewidth": 0,
              "ticks": ""
             }
            },
            "type": "scatterternary"
           }
          ],
          "surface": [
           {
            "colorbar": {
             "outlinewidth": 0,
             "ticks": ""
            },
            "colorscale": [
             [
              0,
              "#0d0887"
             ],
             [
              0.1111111111111111,
              "#46039f"
             ],
             [
              0.2222222222222222,
              "#7201a8"
             ],
             [
              0.3333333333333333,
              "#9c179e"
             ],
             [
              0.4444444444444444,
              "#bd3786"
             ],
             [
              0.5555555555555556,
              "#d8576b"
             ],
             [
              0.6666666666666666,
              "#ed7953"
             ],
             [
              0.7777777777777778,
              "#fb9f3a"
             ],
             [
              0.8888888888888888,
              "#fdca26"
             ],
             [
              1,
              "#f0f921"
             ]
            ],
            "type": "surface"
           }
          ],
          "table": [
           {
            "cells": {
             "fill": {
              "color": "#EBF0F8"
             },
             "line": {
              "color": "white"
             }
            },
            "header": {
             "fill": {
              "color": "#C8D4E3"
             },
             "line": {
              "color": "white"
             }
            },
            "type": "table"
           }
          ]
         },
         "layout": {
          "annotationdefaults": {
           "arrowcolor": "#2a3f5f",
           "arrowhead": 0,
           "arrowwidth": 1
          },
          "autotypenumbers": "strict",
          "coloraxis": {
           "colorbar": {
            "outlinewidth": 0,
            "ticks": ""
           }
          },
          "colorscale": {
           "diverging": [
            [
             0,
             "#8e0152"
            ],
            [
             0.1,
             "#c51b7d"
            ],
            [
             0.2,
             "#de77ae"
            ],
            [
             0.3,
             "#f1b6da"
            ],
            [
             0.4,
             "#fde0ef"
            ],
            [
             0.5,
             "#f7f7f7"
            ],
            [
             0.6,
             "#e6f5d0"
            ],
            [
             0.7,
             "#b8e186"
            ],
            [
             0.8,
             "#7fbc41"
            ],
            [
             0.9,
             "#4d9221"
            ],
            [
             1,
             "#276419"
            ]
           ],
           "sequential": [
            [
             0,
             "#0d0887"
            ],
            [
             0.1111111111111111,
             "#46039f"
            ],
            [
             0.2222222222222222,
             "#7201a8"
            ],
            [
             0.3333333333333333,
             "#9c179e"
            ],
            [
             0.4444444444444444,
             "#bd3786"
            ],
            [
             0.5555555555555556,
             "#d8576b"
            ],
            [
             0.6666666666666666,
             "#ed7953"
            ],
            [
             0.7777777777777778,
             "#fb9f3a"
            ],
            [
             0.8888888888888888,
             "#fdca26"
            ],
            [
             1,
             "#f0f921"
            ]
           ],
           "sequentialminus": [
            [
             0,
             "#0d0887"
            ],
            [
             0.1111111111111111,
             "#46039f"
            ],
            [
             0.2222222222222222,
             "#7201a8"
            ],
            [
             0.3333333333333333,
             "#9c179e"
            ],
            [
             0.4444444444444444,
             "#bd3786"
            ],
            [
             0.5555555555555556,
             "#d8576b"
            ],
            [
             0.6666666666666666,
             "#ed7953"
            ],
            [
             0.7777777777777778,
             "#fb9f3a"
            ],
            [
             0.8888888888888888,
             "#fdca26"
            ],
            [
             1,
             "#f0f921"
            ]
           ]
          },
          "colorway": [
           "#636efa",
           "#EF553B",
           "#00cc96",
           "#ab63fa",
           "#FFA15A",
           "#19d3f3",
           "#FF6692",
           "#B6E880",
           "#FF97FF",
           "#FECB52"
          ],
          "font": {
           "color": "#2a3f5f"
          },
          "geo": {
           "bgcolor": "white",
           "lakecolor": "white",
           "landcolor": "#E5ECF6",
           "showlakes": true,
           "showland": true,
           "subunitcolor": "white"
          },
          "hoverlabel": {
           "align": "left"
          },
          "hovermode": "closest",
          "mapbox": {
           "style": "light"
          },
          "paper_bgcolor": "white",
          "plot_bgcolor": "#E5ECF6",
          "polar": {
           "angularaxis": {
            "gridcolor": "white",
            "linecolor": "white",
            "ticks": ""
           },
           "bgcolor": "#E5ECF6",
           "radialaxis": {
            "gridcolor": "white",
            "linecolor": "white",
            "ticks": ""
           }
          },
          "scene": {
           "xaxis": {
            "backgroundcolor": "#E5ECF6",
            "gridcolor": "white",
            "gridwidth": 2,
            "linecolor": "white",
            "showbackground": true,
            "ticks": "",
            "zerolinecolor": "white"
           },
           "yaxis": {
            "backgroundcolor": "#E5ECF6",
            "gridcolor": "white",
            "gridwidth": 2,
            "linecolor": "white",
            "showbackground": true,
            "ticks": "",
            "zerolinecolor": "white"
           },
           "zaxis": {
            "backgroundcolor": "#E5ECF6",
            "gridcolor": "white",
            "gridwidth": 2,
            "linecolor": "white",
            "showbackground": true,
            "ticks": "",
            "zerolinecolor": "white"
           }
          },
          "shapedefaults": {
           "line": {
            "color": "#2a3f5f"
           }
          },
          "ternary": {
           "aaxis": {
            "gridcolor": "white",
            "linecolor": "white",
            "ticks": ""
           },
           "baxis": {
            "gridcolor": "white",
            "linecolor": "white",
            "ticks": ""
           },
           "bgcolor": "#E5ECF6",
           "caxis": {
            "gridcolor": "white",
            "linecolor": "white",
            "ticks": ""
           }
          },
          "title": {
           "x": 0.05
          },
          "xaxis": {
           "automargin": true,
           "gridcolor": "white",
           "linecolor": "white",
           "ticks": "",
           "title": {
            "standoff": 15
           },
           "zerolinecolor": "white",
           "zerolinewidth": 2
          },
          "yaxis": {
           "automargin": true,
           "gridcolor": "white",
           "linecolor": "white",
           "ticks": "",
           "title": {
            "standoff": 15
           },
           "zerolinecolor": "white",
           "zerolinewidth": 2
          }
         }
        },
        "title": {
         "text": "Visualisasi 2D Embedding dengan Label Nama Batik (PCA)"
        },
        "width": 900,
        "xaxis": {
         "anchor": "y",
         "domain": [
          0,
          1
         ],
         "title": {
          "text": "Komponen Utama 1"
         }
        },
        "yaxis": {
         "anchor": "x",
         "domain": [
          0,
          1
         ],
         "title": {
          "text": "Komponen Utama 2"
         }
        }
       }
      }
     },
     "metadata": {},
     "output_type": "display_data"
    }
   ],
   "source": [
    "df_vi['PCA1'] = embeddings_2d[:, 0]\n",
    "df_vi['PCA2'] = embeddings_2d[:, 1]\n",
    "\n",
    "# Buat visualisasi dengan Plotly Express\n",
    "fig = px.scatter(\n",
    "    df_vi, \n",
    "    x='PCA1', \n",
    "    y='PCA2', \n",
    "    text='Nama Batik',  # Label setiap titik dengan nama batik\n",
    "    color='Nama Batik',  # Warna berbeda untuk setiap jenis batik\n",
    "    title=\"Visualisasi 2D Embedding dengan Label Nama Batik (PCA)\",\n",
    "    labels={'PCA1': \"Komponen Utama 1\", 'PCA2': \"Komponen Utama 2\"},\n",
    "    width=900,  # Lebar plot\n",
    "    height=700  # Tinggi plot\n",
    ")\n",
    "\n",
    "# Tambahkan label titik\n",
    "fig.update_traces(textposition='top center', marker=dict(size=12, opacity=0.8, line=dict(width=1, color='DarkSlateGrey')))\n",
    "\n",
    "# Tampilkan plot interaktif\n",
    "fig.show()"
   ]
  }
 ],
 "metadata": {
  "kernelspec": {
   "display_name": "Python 3",
   "language": "python",
   "name": "python3"
  },
  "language_info": {
   "codemirror_mode": {
    "name": "ipython",
    "version": 3
   },
   "file_extension": ".py",
   "mimetype": "text/x-python",
   "name": "python",
   "nbconvert_exporter": "python",
   "pygments_lexer": "ipython3",
   "version": "3.11.9"
  }
 },
 "nbformat": 4,
 "nbformat_minor": 2
}
