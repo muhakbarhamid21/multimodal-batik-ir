{
 "cells": [
  {
   "cell_type": "code",
   "execution_count": null,
   "metadata": {},
   "outputs": [],
   "source": [
    "import json\n",
    "import numpy as np\n",
    "\n",
    "# Fungsi untuk membaca file JSON\n",
    "def load_json(path):\n",
    "    with open(path, 'r') as f:\n",
    "        return json.load(f)\n",
    "\n",
    "# Path file (sesuaikan dengan struktur direktori Anda)\n",
    "text_embed_path = \"1. pre-processing & feature extraction/text/text_embeddings_output.json\"\n",
    "image_embed_path = \"1. pre-processing & feature extraction/image/aggregated_features.json\"\n",
    "\n",
    "# Baca kedua file JSON\n",
    "text_data = load_json(text_embed_path)          # Misal: list of dict\n",
    "image_data = load_json(image_embed_path)         # Misal: dictionary { \"batik-bali\": [ ... ], ... }\n",
    "\n",
    "# Misalnya text_data adalah list dictionary dengan masing-masing item memiliki kolom:\n",
    "# \"Path Folder\" (misal \"batik-bali\") dan \"nama_embedding\" (list angka)\n",
    "# Kita asumsikan image_data sudah menggunakan kunci yang sama seperti nilai \"Path Folder\" di text_data.\n",
    "\n",
    "multimodal_features = {}\n",
    "\n",
    "# Loop melalui setiap item di text_data\n",
    "for item in text_data:\n",
    "    # Gunakan \"Path Folder\" sebagai kunci untuk menggabungkan embedding\n",
    "    folder_key = item.get(\"Path Folder\", \"\").strip().lower()  # misal \"batik-bali\"\n",
    "    text_embed = item.get(\"nama_embedding\", None)\n",
    "    \n",
    "    # Pastikan text embedding ada dan key ditemukan pada image_data\n",
    "    if text_embed is not None and folder_key in image_data:\n",
    "        image_embed = image_data[folder_key]  # image embedding sebagai list angka\n",
    "        \n",
    "        # Konversi ke NumPy array untuk konkatenasi\n",
    "        text_arr = np.array(text_embed)\n",
    "        image_arr = np.array(image_embed)\n",
    "        \n",
    "        # Misalnya kita ingin menggabungkan dengan cara konkatenasi\n",
    "        multimodal_arr = np.concatenate([text_arr, image_arr], axis=0)\n",
    "        \n",
    "        # Simpan hasil (bisa menggunakan nama batik atau key folder)\n",
    "        batik_name = item.get(\"Nama\", folder_key)\n",
    "        multimodal_features[batik_name] = multimodal_arr.tolist()\n",
    "    else:\n",
    "        print(f\"Kunci '{folder_key}' tidak ditemukan di file image embedding atau text embedding hilang.\")\n",
    "\n",
    "# Simpan hasil multimodal ke file JSON baru\n",
    "output_path = \"multimodal_features.json\"\n",
    "with open(output_path, 'w') as f:\n",
    "    json.dump(multimodal_features, f)\n",
    "\n",
    "print(f\"Multimodal embedding telah disimpan di {output_path}.\")\n"
   ]
  }
 ],
 "metadata": {
  "kernelspec": {
   "display_name": "Python 3",
   "language": "python",
   "name": "python3"
  },
  "language_info": {
   "name": "python",
   "version": "3.11.9"
  }
 },
 "nbformat": 4,
 "nbformat_minor": 2
}
