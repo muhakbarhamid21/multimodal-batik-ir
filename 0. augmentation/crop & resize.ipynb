{
 "cells": [
  {
   "cell_type": "code",
   "execution_count": 7,
   "metadata": {},
   "outputs": [],
   "source": [
    "from PIL import Image\n",
    "import os"
   ]
  },
  {
   "cell_type": "code",
   "execution_count": 9,
   "metadata": {},
   "outputs": [],
   "source": [
    "folder_path='../datasets/final-data/p'"
   ]
  },
  {
   "cell_type": "code",
   "execution_count": 10,
   "metadata": {},
   "outputs": [
    {
     "name": "stdout",
     "output_type": "stream",
     "text": [
      "batik-lasem.jpg: (700, 394)\n",
      "batik-priangan.jpg: (1600, 1200)\n",
      "batik-pekalongan.jpg: (1600, 1199)\n",
      "batik-sekar.jpg: (1000, 1333)\n",
      "batik-sidoluhur.jpg: (2844, 2778)\n",
      "batik-keraton.jpg: (2661, 1884)\n",
      "batik-ceplok.jpg: (341, 306)\n",
      "batik-kawung.jpg: (1756, 1140)\n",
      "batik-sogan.jpg: (1200, 1200)\n",
      "batik-gentongan.jpg: (1599, 1077)\n",
      "batik-garutan.jpg: (800, 800)\n",
      "batik-tambal.jpg: (1740, 970)\n",
      "batik-sidomukti.jpg: (695, 720)\n",
      "batik-megamendung.jpg: (1280, 960)\n",
      "batik-celup.jpg: (500, 375)\n",
      "batik-bali.jpg: (1280, 960)\n",
      "batik-betawi.jpg: (640, 432)\n",
      "batik-ciamis.jpg: (2536, 1572)\n",
      "batik-cendrawasih.jpg: (604, 959)\n",
      "batik-parang.jpg: (1024, 1024)\n"
     ]
    }
   ],
   "source": [
    "for file_name in os.listdir(folder_path):\n",
    "    file_path = os.path.join(folder_path, file_name)\n",
    "\n",
    "    try:\n",
    "        with Image.open(file_path) as img:\n",
    "            print(f\"{file_name}: {img.size}\")\n",
    "    except Exception as e:\n",
    "        print(f\"Skipping {file_name}: {e}\")"
   ]
  },
  {
   "cell_type": "code",
   "execution_count": 12,
   "metadata": {},
   "outputs": [],
   "source": [
    "output_path = \"../datasets/final-data/processed\"\n",
    "os.makedirs(output_path, exist_ok=True)"
   ]
  },
  {
   "cell_type": "code",
   "execution_count": 15,
   "metadata": {},
   "outputs": [],
   "source": [
    "def crop_and_resize(image_path, output_path):\n",
    "    with Image.open(image_path) as img:\n",
    "        img = img.convert(\"RGB\")\n",
    "        \n",
    "        width, height = img.size\n",
    "        \n",
    "        min_side = min(width, height)\n",
    "        \n",
    "        left = (width - min_side) / 2\n",
    "        top = (height - min_side) / 2\n",
    "        right = (width + min_side) / 2\n",
    "        bottom = (height + min_side) / 2\n",
    "        \n",
    "        img_cropped = img.crop((left, top, right, bottom))\n",
    "        \n",
    "        img_resized = img_cropped.resize((300, 300))\n",
    "        \n",
    "        output_file = os.path.join(output_path, os.path.basename(image_path))\n",
    "        img_resized.save(output_file, format=\"JPEG\")\n",
    "        print(f\"Processed {output_file}\")"
   ]
  },
  {
   "cell_type": "code",
   "execution_count": null,
   "metadata": {},
   "outputs": [
    {
     "name": "stdout",
     "output_type": "stream",
     "text": [
      "Processed ../datasets/final-data/processed/batik-lasem.jpg\n",
      "Processed ../datasets/final-data/processed/batik-priangan.jpg\n",
      "Processed ../datasets/final-data/processed/batik-pekalongan.jpg\n",
      "Processed ../datasets/final-data/processed/batik-sekar.jpg\n",
      "Processed ../datasets/final-data/processed/batik-sidoluhur.jpg\n",
      "Processed ../datasets/final-data/processed/batik-keraton.jpg\n",
      "Processed ../datasets/final-data/processed/batik-ceplok.jpg\n",
      "Processed ../datasets/final-data/processed/batik-kawung.jpg\n",
      "Processed ../datasets/final-data/processed/batik-sogan.jpg\n",
      "Processed ../datasets/final-data/processed/batik-gentongan.jpg\n",
      "Processed ../datasets/final-data/processed/batik-garutan.jpg\n",
      "Processed ../datasets/final-data/processed/batik-tambal.jpg\n",
      "Processed ../datasets/final-data/processed/batik-sidomukti.jpg\n",
      "Processed ../datasets/final-data/processed/batik-megamendung.jpg\n",
      "Processed ../datasets/final-data/processed/batik-celup.jpg\n",
      "Processed ../datasets/final-data/processed/batik-bali.jpg\n",
      "Processed ../datasets/final-data/processed/batik-betawi.jpg\n",
      "Processed ../datasets/final-data/processed/batik-ciamis.jpg\n",
      "Processed ../datasets/final-data/processed/batik-cendrawasih.jpg\n",
      "Processed ../datasets/final-data/processed/batik-parang.jpg\n"
     ]
    }
   ],
   "source": [
    "for file_name in os.listdir(folder_path):\n",
    "    file_path = os.path.join(folder_path, file_name)\n",
    "    try:\n",
    "        crop_and_resize(file_path, output_path)\n",
    "    except Exception as e:\n",
    "        print(f\"Skipping {file_name}: {e}\")"
   ]
  }
 ],
 "metadata": {
  "kernelspec": {
   "display_name": "Python 3",
   "language": "python",
   "name": "python3"
  },
  "language_info": {
   "codemirror_mode": {
    "name": "ipython",
    "version": 3
   },
   "file_extension": ".py",
   "mimetype": "text/x-python",
   "name": "python",
   "nbconvert_exporter": "python",
   "pygments_lexer": "ipython3",
   "version": "3.11.9"
  }
 },
 "nbformat": 4,
 "nbformat_minor": 2
}
