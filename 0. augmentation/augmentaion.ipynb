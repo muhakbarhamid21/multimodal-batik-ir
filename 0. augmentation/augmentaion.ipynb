{
 "cells": [
  {
   "cell_type": "code",
   "execution_count": 12,
   "metadata": {},
   "outputs": [],
   "source": [
    "import os\n",
    "import cv2"
   ]
  },
  {
   "cell_type": "code",
   "execution_count": 13,
   "metadata": {},
   "outputs": [],
   "source": [
    "# Fungsi untuk rotasi\n",
    "def rotate_image(image, angle):\n",
    "    (h, w) = image.shape[:2]\n",
    "    center = (w // 2, h // 2)\n",
    "    matrix = cv2.getRotationMatrix2D(center, angle, 1.0)\n",
    "    rotated = cv2.warpAffine(image, matrix, (w, h))\n",
    "    return rotated"
   ]
  },
  {
   "cell_type": "code",
   "execution_count": 14,
   "metadata": {},
   "outputs": [],
   "source": [
    "# Fungsi untuk flip\n",
    "def flip_image(image, flip_code):\n",
    "    return cv2.flip(image, flip_code)"
   ]
  },
  {
   "cell_type": "code",
   "execution_count": 17,
   "metadata": {},
   "outputs": [],
   "source": [
    "input_folder = \"../datasets/final-data/\"\n",
    "output_folder = \"../datasets/final-data/\"\n",
    "os.makedirs(output_folder, exist_ok=True)"
   ]
  },
  {
   "cell_type": "code",
   "execution_count": null,
   "metadata": {},
   "outputs": [
    {
     "name": "stdout",
     "output_type": "stream",
     "text": [
      "Proses augmentasi selesai. Hasil disimpan di folder: ../datasets/final-data/\n"
     ]
    }
   ],
   "source": [
    "for folder_name in os.listdir(input_folder):\n",
    "    folder_path = os.path.join(input_folder, folder_name)\n",
    "    \n",
    "    if os.path.isdir(folder_path):\n",
    "        output_subfolder = os.path.join(output_folder, folder_name)\n",
    "        os.makedirs(output_subfolder, exist_ok=True)\n",
    "        \n",
    "        for file_name in os.listdir(folder_path):\n",
    "            if file_name.endswith((\".jpg\", \".png\", \".jpeg\")):\n",
    "                file_path = os.path.join(folder_path, file_name)\n",
    "                \n",
    "                try:\n",
    "                    image = cv2.imread(file_path)\n",
    "                    \n",
    "                    if image is None:\n",
    "                        raise ValueError(f\"Gambar tidak dapat dibaca: {file_path}\")\n",
    "\n",
    "                    for angle in [-30, -15, 15, 30]:\n",
    "                        try:\n",
    "                            rotated = rotate_image(image, angle)\n",
    "                            rotated_name = f\"{os.path.splitext(file_name)[0]}_rotated_{angle}.jpg\"\n",
    "                            cv2.imwrite(os.path.join(output_subfolder, rotated_name), rotated)\n",
    "                        except Exception as e:\n",
    "                            print(f\"Error saat rotasi {angle}° pada gambar {file_path}: {e}\")\n",
    "                    \n",
    "                    try:\n",
    "                        flipped_h = flip_image(image, 1)\n",
    "                        flipped_h_name = f\"{os.path.splitext(file_name)[0]}_flipped_h.jpg\"\n",
    "                        cv2.imwrite(os.path.join(output_subfolder, flipped_h_name), flipped_h)\n",
    "                    except Exception as e:\n",
    "                        print(f\"Error saat flip horizontal pada gambar {file_path}: {e}\")\n",
    "                    \n",
    "                    try:\n",
    "                        flipped_v = flip_image(image, 0)\n",
    "                        flipped_v_name = f\"{os.path.splitext(file_name)[0]}_flipped_v.jpg\"\n",
    "                        cv2.imwrite(os.path.join(output_subfolder, flipped_v_name), flipped_v)\n",
    "                    except Exception as e:\n",
    "                        print(f\"Error saat flip vertikal pada gambar {file_path}: {e}\")\n",
    "                \n",
    "                except Exception as e:\n",
    "                    print(f\"Error saat memproses gambar {file_path}: {e}\")\n",
    "\n",
    "print(\"Proses augmentasi selesai. Hasil disimpan di folder:\", output_folder)"
   ]
  }
 ],
 "metadata": {
  "kernelspec": {
   "display_name": "Python 3",
   "language": "python",
   "name": "python3"
  },
  "language_info": {
   "codemirror_mode": {
    "name": "ipython",
    "version": 3
   },
   "file_extension": ".py",
   "mimetype": "text/x-python",
   "name": "python",
   "nbconvert_exporter": "python",
   "pygments_lexer": "ipython3",
   "version": "3.11.9"
  }
 },
 "nbformat": 4,
 "nbformat_minor": 2
}
